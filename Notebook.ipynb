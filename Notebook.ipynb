{
 "cells": [
  {
   "cell_type": "markdown",
   "metadata": {},
   "source": [
    "# Business Understanding\n",
    "\n",
    "## Background\n",
    "My company is looking to get into movie creation using their newly created movie studio. \n",
    "\n",
    "## Business Goals\n",
    "The primary focus of this data science project is to analyze and assess features that contribute to a movie's return on investment in order to make an informed decision regarding what features of movie creation my company should invest in.\n",
    "\n",
    "## Business Success Criteria\n",
    "The success of this project will be measured by providing three well-supported recommendations on the most cost efficient movie features (actors, directots, genre, marketing cost, movie rating (G, PG, PG-13, etc.)) to invest in. For this project, the most \"cost efficient\" features are measured by their return on investment which is defined as 100% times the total revenue divided by the initial investment of the film."
   ]
  },
  {
   "cell_type": "markdown",
   "metadata": {},
   "source": [
    "# Data Understanding\n",
    "\n",
    "Data on movies is collected by a variety of different sources. For this project, I used data from the following sources:\n",
    "- Box Office Mojo's \"Movie Gross\" dataset\n",
    "    - This dataset includes 5 features and 3387 observations. Each entry in the dataset represents a different movie title. Additional information is included about each entry, such as the production studio, the domestic gross box office, the foreign gross box office, and the release year.\n",
    "    \n",
    "    \n",
    "- Rotten Tomatoes \"Movie Info\" dataset\n",
    "    - This dataset includes 12 features and 1560 observations/entries where each entry in the dataset represents a different movie. Even though the movie title is not included, each entry has an associated unique ID. Additional information is included about each entry, such as a synopsis, the movie rating, genre(s), director, writer, and runtime.\n",
    "    \n",
    "    \n",
    "- Rotten Tomatoes \"Movie Reviews\" dataset\n",
    "    - This dataset includes 8 features and 54432 observations/entries, where each entry in the dataset represents a different review left by a movie critic. Each entry contains an ID which refers to the movie the review is about. In addition to the review, other information for each entry includes a rating (out of 5), the critic's name, the publisher, and the date the review was left. \n",
    "\n",
    "\n",
    "- The Movie DB's \"Movies\" dataset\n",
    "    - This dataset includes 10 features and 26517 observations. Each entry in the dataset represents a different movie. For each entry information is included about the movie's genre, original language, popularity score, and number of votes. \n",
    "    \n",
    "    \n",
    "- The Numbers' \"movie_budgets\" dataset\n",
    "    - This dataset includes 6 features and 5782 observations. Each entry in the dataset represents a different movie. For each entry, information is included about the movie's release data, production budget, domestic gross box office, and worldwide gross box office.\n",
    "    \n",
    "    \n",
    "- IMDB's film database\n",
    "    - This database includes 8 tables. Its entity-related diagram (ERD) is shown below.  "
   ]
  },
  {
   "cell_type": "code",
   "execution_count": 1,
   "metadata": {},
   "outputs": [],
   "source": [
    "import pandas as pd\n",
    "import numpy as np\n",
    "import matplotlib.pyplot as plt\n",
    "import seaborn as sns\n",
    "import sqlite3"
   ]
  },
  {
   "cell_type": "code",
   "execution_count": 2,
   "metadata": {},
   "outputs": [
    {
     "name": "stdout",
     "output_type": "stream",
     "text": [
      "<class 'pandas.core.frame.DataFrame'>\n",
      "RangeIndex: 5782 entries, 0 to 5781\n",
      "Data columns (total 6 columns):\n",
      " #   Column             Non-Null Count  Dtype \n",
      "---  ------             --------------  ----- \n",
      " 0   id                 5782 non-null   int64 \n",
      " 1   release_date       5782 non-null   object\n",
      " 2   movie              5782 non-null   object\n",
      " 3   production_budget  5782 non-null   object\n",
      " 4   domestic_gross     5782 non-null   object\n",
      " 5   worldwide_gross    5782 non-null   object\n",
      "dtypes: int64(1), object(5)\n",
      "memory usage: 271.2+ KB\n"
     ]
    }
   ],
   "source": [
    "budgets = pd.read_csv('zippedData/tn.movie_budgets.csv.gz')\n",
    "budgets.info()"
   ]
  },
  {
   "cell_type": "code",
   "execution_count": 3,
   "metadata": {},
   "outputs": [],
   "source": [
    "#setting up connection to database\n",
    "\n",
    "conn = sqlite3.connect('im.db')\n",
    "cur = conn.cursor()"
   ]
  },
  {
   "cell_type": "code",
   "execution_count": 4,
   "metadata": {},
   "outputs": [
    {
     "data": {
      "text/html": [
       "<div>\n",
       "<style scoped>\n",
       "    .dataframe tbody tr th:only-of-type {\n",
       "        vertical-align: middle;\n",
       "    }\n",
       "\n",
       "    .dataframe tbody tr th {\n",
       "        vertical-align: top;\n",
       "    }\n",
       "\n",
       "    .dataframe thead th {\n",
       "        text-align: right;\n",
       "    }\n",
       "</style>\n",
       "<table border=\"1\" class=\"dataframe\">\n",
       "  <thead>\n",
       "    <tr style=\"text-align: right;\">\n",
       "      <th></th>\n",
       "      <th>name</th>\n",
       "    </tr>\n",
       "  </thead>\n",
       "  <tbody>\n",
       "    <tr>\n",
       "      <th>0</th>\n",
       "      <td>movie_basics</td>\n",
       "    </tr>\n",
       "    <tr>\n",
       "      <th>1</th>\n",
       "      <td>directors</td>\n",
       "    </tr>\n",
       "    <tr>\n",
       "      <th>2</th>\n",
       "      <td>known_for</td>\n",
       "    </tr>\n",
       "    <tr>\n",
       "      <th>3</th>\n",
       "      <td>movie_akas</td>\n",
       "    </tr>\n",
       "    <tr>\n",
       "      <th>4</th>\n",
       "      <td>movie_ratings</td>\n",
       "    </tr>\n",
       "    <tr>\n",
       "      <th>5</th>\n",
       "      <td>persons</td>\n",
       "    </tr>\n",
       "    <tr>\n",
       "      <th>6</th>\n",
       "      <td>principals</td>\n",
       "    </tr>\n",
       "    <tr>\n",
       "      <th>7</th>\n",
       "      <td>writers</td>\n",
       "    </tr>\n",
       "  </tbody>\n",
       "</table>\n",
       "</div>"
      ],
      "text/plain": [
       "            name\n",
       "0   movie_basics\n",
       "1      directors\n",
       "2      known_for\n",
       "3     movie_akas\n",
       "4  movie_ratings\n",
       "5        persons\n",
       "6     principals\n",
       "7        writers"
      ]
     },
     "execution_count": 4,
     "metadata": {},
     "output_type": "execute_result"
    }
   ],
   "source": [
    "# creating a dataframe with a list of all tables in the database\n",
    "\n",
    "db_tables = pd.read_sql(\"\"\"\n",
    "\n",
    "SELECT name\n",
    "FROM sqlite_master\n",
    "WHERE type = 'table';\n",
    "\n",
    "\"\"\", conn)\n",
    "\n",
    "db_tables"
   ]
  },
  {
   "cell_type": "code",
   "execution_count": 5,
   "metadata": {},
   "outputs": [
    {
     "data": {
      "text/plain": [
       "{'movie_basics': 146144,\n",
       " 'directors': 291174,\n",
       " 'known_for': 1638260,\n",
       " 'movie_akas': 331703,\n",
       " 'movie_ratings': 73856,\n",
       " 'persons': 606648,\n",
       " 'principals': 1028186,\n",
       " 'writers': 255873}"
      ]
     },
     "execution_count": 5,
     "metadata": {},
     "output_type": "execute_result"
    }
   ],
   "source": [
    "# prints the name of each table in the database with the count of rows in each table\n",
    "\n",
    "table_names = list(db_tables['name'])\n",
    "\n",
    "tables = {key: None for key in table_names}\n",
    "\n",
    "for table_name in tables.keys():\n",
    "    query = f\"SELECT COUNT(*) AS num_rows FROM {table_name}\"\n",
    "    tables[table_name] = conn.execute(query).fetchone()[0]\n",
    "    \n",
    "tables"
   ]
  },
  {
   "cell_type": "code",
   "execution_count": 6,
   "metadata": {},
   "outputs": [
    {
     "name": "stdout",
     "output_type": "stream",
     "text": [
      "<class 'pandas.core.frame.DataFrame'>\n",
      "RangeIndex: 146144 entries, 0 to 146143\n",
      "Data columns (total 6 columns):\n",
      " #   Column           Non-Null Count   Dtype  \n",
      "---  ------           --------------   -----  \n",
      " 0   movie_id         146144 non-null  object \n",
      " 1   primary_title    146144 non-null  object \n",
      " 2   original_title   146123 non-null  object \n",
      " 3   start_year       146144 non-null  int64  \n",
      " 4   runtime_minutes  114405 non-null  float64\n",
      " 5   genres           140736 non-null  object \n",
      "dtypes: float64(1), int64(1), object(4)\n",
      "memory usage: 6.7+ MB\n"
     ]
    }
   ],
   "source": [
    "movie_basics = pd.read_sql(\"\"\"\n",
    "\n",
    "SELECT * \n",
    "FROM movie_basics\n",
    "\n",
    "\"\"\", conn)\n",
    "\n",
    "movie_basics.info()"
   ]
  },
  {
   "cell_type": "code",
   "execution_count": 7,
   "metadata": {},
   "outputs": [
    {
     "data": {
      "image/png": "[encoded data removed]",
      "text/plain": [
       "<Figure size 1296x432 with 2 Axes>"
      ]
     },
     "metadata": {
      "needs_background": "light"
     },
     "output_type": "display_data"
    }
   ],
   "source": [
    "fig, ax = plt.subplots(nrows = 1, ncols = 2, figsize = (18, 6))\n",
    "movie_basics.hist(ax = ax, bins = 25);\n",
    "#sns.histplot(movie_basics['runtime_minutes'], bins = 30);"
   ]
  },
  {
   "cell_type": "code",
   "execution_count": 8,
   "metadata": {},
   "outputs": [
    {
     "name": "stdout",
     "output_type": "stream",
     "text": [
      "<class 'pandas.core.frame.DataFrame'>\n",
      "RangeIndex: 1028186 entries, 0 to 1028185\n",
      "Data columns (total 6 columns):\n",
      " #   Column      Non-Null Count    Dtype \n",
      "---  ------      --------------    ----- \n",
      " 0   movie_id    1028186 non-null  object\n",
      " 1   ordering    1028186 non-null  int64 \n",
      " 2   person_id   1028186 non-null  object\n",
      " 3   category    1028186 non-null  object\n",
      " 4   job         177684 non-null   object\n",
      " 5   characters  393360 non-null   object\n",
      "dtypes: int64(1), object(5)\n",
      "memory usage: 47.1+ MB\n"
     ]
    }
   ],
   "source": [
    "principals = pd.read_sql(\"\"\"\n",
    "\n",
    "SELECT *\n",
    "FROM principals\n",
    "\"\"\", conn)\n",
    "\n",
    "principals.info()"
   ]
  },
  {
   "cell_type": "code",
   "execution_count": 9,
   "metadata": {},
   "outputs": [
    {
     "name": "stdout",
     "output_type": "stream",
     "text": [
      "<class 'pandas.core.frame.DataFrame'>\n",
      "RangeIndex: 606648 entries, 0 to 606647\n",
      "Data columns (total 5 columns):\n",
      " #   Column              Non-Null Count   Dtype  \n",
      "---  ------              --------------   -----  \n",
      " 0   person_id           606648 non-null  object \n",
      " 1   primary_name        606648 non-null  object \n",
      " 2   birth_year          82736 non-null   float64\n",
      " 3   death_year          6783 non-null    float64\n",
      " 4   primary_profession  555308 non-null  object \n",
      "dtypes: float64(2), object(3)\n",
      "memory usage: 23.1+ MB\n"
     ]
    }
   ],
   "source": [
    "persons = pd.read_sql(\"\"\"\n",
    "\n",
    "SELECT *\n",
    "FROM persons\n",
    "\"\"\", conn)\n",
    "\n",
    "persons.info()"
   ]
  },
  {
   "cell_type": "markdown",
   "metadata": {},
   "source": [
    "## Data Preparation"
   ]
  },
  {
   "cell_type": "code",
   "execution_count": 10,
   "metadata": {},
   "outputs": [
    {
     "data": {
      "text/html": [
       "<div>\n",
       "<style scoped>\n",
       "    .dataframe tbody tr th:only-of-type {\n",
       "        vertical-align: middle;\n",
       "    }\n",
       "\n",
       "    .dataframe tbody tr th {\n",
       "        vertical-align: top;\n",
       "    }\n",
       "\n",
       "    .dataframe thead th {\n",
       "        text-align: right;\n",
       "    }\n",
       "</style>\n",
       "<table border=\"1\" class=\"dataframe\">\n",
       "  <thead>\n",
       "    <tr style=\"text-align: right;\">\n",
       "      <th></th>\n",
       "      <th>id</th>\n",
       "      <th>release_date</th>\n",
       "      <th>movie</th>\n",
       "      <th>production_budget</th>\n",
       "      <th>domestic_gross</th>\n",
       "      <th>worldwide_gross</th>\n",
       "    </tr>\n",
       "  </thead>\n",
       "  <tbody>\n",
       "    <tr>\n",
       "      <th>0</th>\n",
       "      <td>1</td>\n",
       "      <td>Dec 18, 2009</td>\n",
       "      <td>Avatar</td>\n",
       "      <td>$425,000,000</td>\n",
       "      <td>$760,507,625</td>\n",
       "      <td>$2,776,345,279</td>\n",
       "    </tr>\n",
       "    <tr>\n",
       "      <th>1</th>\n",
       "      <td>2</td>\n",
       "      <td>May 20, 2011</td>\n",
       "      <td>Pirates of the Caribbean: On Stranger Tides</td>\n",
       "      <td>$410,600,000</td>\n",
       "      <td>$241,063,875</td>\n",
       "      <td>$1,045,663,875</td>\n",
       "    </tr>\n",
       "    <tr>\n",
       "      <th>2</th>\n",
       "      <td>3</td>\n",
       "      <td>Jun 7, 2019</td>\n",
       "      <td>Dark Phoenix</td>\n",
       "      <td>$350,000,000</td>\n",
       "      <td>$42,762,350</td>\n",
       "      <td>$149,762,350</td>\n",
       "    </tr>\n",
       "    <tr>\n",
       "      <th>3</th>\n",
       "      <td>4</td>\n",
       "      <td>May 1, 2015</td>\n",
       "      <td>Avengers: Age of Ultron</td>\n",
       "      <td>$330,600,000</td>\n",
       "      <td>$459,005,868</td>\n",
       "      <td>$1,403,013,963</td>\n",
       "    </tr>\n",
       "    <tr>\n",
       "      <th>4</th>\n",
       "      <td>5</td>\n",
       "      <td>Dec 15, 2017</td>\n",
       "      <td>Star Wars Ep. VIII: The Last Jedi</td>\n",
       "      <td>$317,000,000</td>\n",
       "      <td>$620,181,382</td>\n",
       "      <td>$1,316,721,747</td>\n",
       "    </tr>\n",
       "  </tbody>\n",
       "</table>\n",
       "</div>"
      ],
      "text/plain": [
       "   id  release_date                                        movie  \\\n",
       "0   1  Dec 18, 2009                                       Avatar   \n",
       "1   2  May 20, 2011  Pirates of the Caribbean: On Stranger Tides   \n",
       "2   3   Jun 7, 2019                                 Dark Phoenix   \n",
       "3   4   May 1, 2015                      Avengers: Age of Ultron   \n",
       "4   5  Dec 15, 2017            Star Wars Ep. VIII: The Last Jedi   \n",
       "\n",
       "  production_budget domestic_gross worldwide_gross  \n",
       "0      $425,000,000   $760,507,625  $2,776,345,279  \n",
       "1      $410,600,000   $241,063,875  $1,045,663,875  \n",
       "2      $350,000,000    $42,762,350    $149,762,350  \n",
       "3      $330,600,000   $459,005,868  $1,403,013,963  \n",
       "4      $317,000,000   $620,181,382  $1,316,721,747  "
      ]
     },
     "execution_count": 10,
     "metadata": {},
     "output_type": "execute_result"
    }
   ],
   "source": [
    "budgets.head()"
   ]
  },
  {
   "cell_type": "code",
   "execution_count": 11,
   "metadata": {},
   "outputs": [],
   "source": [
    "# defining columns to format\n",
    "\n",
    "budget_cols = ['production_budget', 'domestic_gross', 'worldwide_gross']"
   ]
  },
  {
   "cell_type": "code",
   "execution_count": 12,
   "metadata": {},
   "outputs": [],
   "source": [
    "# formatting budget columns by removing the $\n",
    "\n",
    "for col in budget_cols:\n",
    "     budgets[col] = budgets[col].str.replace('$', '')\n",
    "        \n",
    "        \n",
    "# formatting budget columns by removing commas\n",
    "\n",
    "for col in budget_cols:\n",
    "     budgets[col] = budgets[col].str.replace(',', '')"
   ]
  },
  {
   "cell_type": "code",
   "execution_count": 13,
   "metadata": {},
   "outputs": [],
   "source": [
    "# changing dtype of budget and gross columns to int\n",
    "\n",
    "for col in budget_cols:\n",
    "     budgets[col] = budgets[col].astype(float)"
   ]
  },
  {
   "cell_type": "code",
   "execution_count": 14,
   "metadata": {},
   "outputs": [],
   "source": [
    "#converting dollar amounts to amounts that are easier to read\n",
    "\n",
    "for col in budget_cols:\n",
    "    budgets[col] = round(budgets[col]/1000000, 3)"
   ]
  },
  {
   "cell_type": "code",
   "execution_count": 15,
   "metadata": {},
   "outputs": [],
   "source": [
    "# renaming columns to include dollar sign\n",
    "budgets.rename(columns={'production_budget': 'production_budget (millions of $)', 'domestic_gross': 'domestic_gross (millions of $)', 'worldwide_gross' : 'worldwide_gross (millions of $)'}, inplace=True)\n"
   ]
  },
  {
   "cell_type": "code",
   "execution_count": 16,
   "metadata": {},
   "outputs": [
    {
     "data": {
      "text/html": [
       "<div>\n",
       "<style scoped>\n",
       "    .dataframe tbody tr th:only-of-type {\n",
       "        vertical-align: middle;\n",
       "    }\n",
       "\n",
       "    .dataframe tbody tr th {\n",
       "        vertical-align: top;\n",
       "    }\n",
       "\n",
       "    .dataframe thead th {\n",
       "        text-align: right;\n",
       "    }\n",
       "</style>\n",
       "<table border=\"1\" class=\"dataframe\">\n",
       "  <thead>\n",
       "    <tr style=\"text-align: right;\">\n",
       "      <th></th>\n",
       "      <th>id</th>\n",
       "      <th>release_date</th>\n",
       "      <th>movie</th>\n",
       "      <th>production_budget (millions of $)</th>\n",
       "      <th>domestic_gross (millions of $)</th>\n",
       "      <th>worldwide_gross (millions of $)</th>\n",
       "    </tr>\n",
       "  </thead>\n",
       "  <tbody>\n",
       "    <tr>\n",
       "      <th>0</th>\n",
       "      <td>1</td>\n",
       "      <td>Dec 18, 2009</td>\n",
       "      <td>Avatar</td>\n",
       "      <td>425.0</td>\n",
       "      <td>760.508</td>\n",
       "      <td>2776.345</td>\n",
       "    </tr>\n",
       "    <tr>\n",
       "      <th>1</th>\n",
       "      <td>2</td>\n",
       "      <td>May 20, 2011</td>\n",
       "      <td>Pirates of the Caribbean: On Stranger Tides</td>\n",
       "      <td>410.6</td>\n",
       "      <td>241.064</td>\n",
       "      <td>1045.664</td>\n",
       "    </tr>\n",
       "    <tr>\n",
       "      <th>2</th>\n",
       "      <td>3</td>\n",
       "      <td>Jun 7, 2019</td>\n",
       "      <td>Dark Phoenix</td>\n",
       "      <td>350.0</td>\n",
       "      <td>42.762</td>\n",
       "      <td>149.762</td>\n",
       "    </tr>\n",
       "    <tr>\n",
       "      <th>3</th>\n",
       "      <td>4</td>\n",
       "      <td>May 1, 2015</td>\n",
       "      <td>Avengers: Age of Ultron</td>\n",
       "      <td>330.6</td>\n",
       "      <td>459.006</td>\n",
       "      <td>1403.014</td>\n",
       "    </tr>\n",
       "    <tr>\n",
       "      <th>4</th>\n",
       "      <td>5</td>\n",
       "      <td>Dec 15, 2017</td>\n",
       "      <td>Star Wars Ep. VIII: The Last Jedi</td>\n",
       "      <td>317.0</td>\n",
       "      <td>620.181</td>\n",
       "      <td>1316.722</td>\n",
       "    </tr>\n",
       "  </tbody>\n",
       "</table>\n",
       "</div>"
      ],
      "text/plain": [
       "   id  release_date                                        movie  \\\n",
       "0   1  Dec 18, 2009                                       Avatar   \n",
       "1   2  May 20, 2011  Pirates of the Caribbean: On Stranger Tides   \n",
       "2   3   Jun 7, 2019                                 Dark Phoenix   \n",
       "3   4   May 1, 2015                      Avengers: Age of Ultron   \n",
       "4   5  Dec 15, 2017            Star Wars Ep. VIII: The Last Jedi   \n",
       "\n",
       "   production_budget (millions of $)  domestic_gross (millions of $)  \\\n",
       "0                              425.0                         760.508   \n",
       "1                              410.6                         241.064   \n",
       "2                              350.0                          42.762   \n",
       "3                              330.6                         459.006   \n",
       "4                              317.0                         620.181   \n",
       "\n",
       "   worldwide_gross (millions of $)  \n",
       "0                         2776.345  \n",
       "1                         1045.664  \n",
       "2                          149.762  \n",
       "3                         1403.014  \n",
       "4                         1316.722  "
      ]
     },
     "execution_count": 16,
     "metadata": {},
     "output_type": "execute_result"
    }
   ],
   "source": [
    "budgets.head()"
   ]
  },
  {
   "cell_type": "code",
   "execution_count": 17,
   "metadata": {},
   "outputs": [
    {
     "name": "stdout",
     "output_type": "stream",
     "text": [
      "<class 'pandas.core.frame.DataFrame'>\n",
      "RangeIndex: 5782 entries, 0 to 5781\n",
      "Data columns (total 6 columns):\n",
      " #   Column                             Non-Null Count  Dtype  \n",
      "---  ------                             --------------  -----  \n",
      " 0   id                                 5782 non-null   int64  \n",
      " 1   release_date                       5782 non-null   object \n",
      " 2   movie                              5782 non-null   object \n",
      " 3   production_budget (millions of $)  5782 non-null   float64\n",
      " 4   domestic_gross (millions of $)     5782 non-null   float64\n",
      " 5   worldwide_gross (millions of $)    5782 non-null   float64\n",
      "dtypes: float64(3), int64(1), object(2)\n",
      "memory usage: 271.2+ KB\n"
     ]
    }
   ],
   "source": [
    "budgets.info()"
   ]
  },
  {
   "cell_type": "code",
   "execution_count": 18,
   "metadata": {},
   "outputs": [],
   "source": [
    "# calculating the return on investment for each film and creating a column to hold this information\n",
    "\n",
    "budgets['roi (%)'] = round(((budgets['domestic_gross (millions of $)'] + budgets['worldwide_gross (millions of $)'] - budgets['production_budget (millions of $)'])/ \n",
    "                budgets['production_budget (millions of $)']) * 100, 3)"
   ]
  },
  {
   "cell_type": "code",
   "execution_count": 19,
   "metadata": {},
   "outputs": [
    {
     "data": {
      "text/plain": [
       "4      58\n",
       "53     58\n",
       "61     58\n",
       "65     58\n",
       "69     58\n",
       "       ..\n",
       "85     57\n",
       "100    57\n",
       "96     57\n",
       "92     57\n",
       "97     57\n",
       "Name: id, Length: 100, dtype: int64"
      ]
     },
     "execution_count": 19,
     "metadata": {},
     "output_type": "execute_result"
    }
   ],
   "source": [
    "budgets['id'].value_counts()"
   ]
  },
  {
   "cell_type": "code",
   "execution_count": 20,
   "metadata": {},
   "outputs": [
    {
     "data": {
      "text/html": [
       "<div>\n",
       "<style scoped>\n",
       "    .dataframe tbody tr th:only-of-type {\n",
       "        vertical-align: middle;\n",
       "    }\n",
       "\n",
       "    .dataframe tbody tr th {\n",
       "        vertical-align: top;\n",
       "    }\n",
       "\n",
       "    .dataframe thead th {\n",
       "        text-align: right;\n",
       "    }\n",
       "</style>\n",
       "<table border=\"1\" class=\"dataframe\">\n",
       "  <thead>\n",
       "    <tr style=\"text-align: right;\">\n",
       "      <th></th>\n",
       "      <th>id</th>\n",
       "      <th>release_date</th>\n",
       "      <th>movie</th>\n",
       "      <th>production_budget (millions of $)</th>\n",
       "      <th>domestic_gross (millions of $)</th>\n",
       "      <th>worldwide_gross (millions of $)</th>\n",
       "      <th>roi (%)</th>\n",
       "    </tr>\n",
       "  </thead>\n",
       "  <tbody>\n",
       "    <tr>\n",
       "      <th>3</th>\n",
       "      <td>4</td>\n",
       "      <td>May 1, 2015</td>\n",
       "      <td>Avengers: Age of Ultron</td>\n",
       "      <td>330.6</td>\n",
       "      <td>459.006</td>\n",
       "      <td>1403.014</td>\n",
       "      <td>463.224</td>\n",
       "    </tr>\n",
       "    <tr>\n",
       "      <th>103</th>\n",
       "      <td>4</td>\n",
       "      <td>Mar 27, 2009</td>\n",
       "      <td>Monsters vs. Aliens</td>\n",
       "      <td>175.0</td>\n",
       "      <td>198.352</td>\n",
       "      <td>381.687</td>\n",
       "      <td>231.451</td>\n",
       "    </tr>\n",
       "    <tr>\n",
       "      <th>203</th>\n",
       "      <td>4</td>\n",
       "      <td>Jul 15, 2016</td>\n",
       "      <td>Ghostbusters</td>\n",
       "      <td>144.0</td>\n",
       "      <td>128.351</td>\n",
       "      <td>229.009</td>\n",
       "      <td>148.167</td>\n",
       "    </tr>\n",
       "    <tr>\n",
       "      <th>303</th>\n",
       "      <td>4</td>\n",
       "      <td>May 19, 1999</td>\n",
       "      <td>Star Wars Ep. I: The Phantom Menace</td>\n",
       "      <td>115.0</td>\n",
       "      <td>474.545</td>\n",
       "      <td>1027.045</td>\n",
       "      <td>1205.730</td>\n",
       "    </tr>\n",
       "    <tr>\n",
       "      <th>403</th>\n",
       "      <td>4</td>\n",
       "      <td>Dec 14, 2018</td>\n",
       "      <td>Mortal Engines</td>\n",
       "      <td>100.0</td>\n",
       "      <td>15.951</td>\n",
       "      <td>85.287</td>\n",
       "      <td>1.238</td>\n",
       "    </tr>\n",
       "    <tr>\n",
       "      <th>503</th>\n",
       "      <td>4</td>\n",
       "      <td>Sep 29, 2006</td>\n",
       "      <td>Open Season</td>\n",
       "      <td>85.0</td>\n",
       "      <td>85.105</td>\n",
       "      <td>191.932</td>\n",
       "      <td>225.926</td>\n",
       "    </tr>\n",
       "    <tr>\n",
       "      <th>603</th>\n",
       "      <td>4</td>\n",
       "      <td>Dec 25, 1997</td>\n",
       "      <td>The Postman</td>\n",
       "      <td>80.0</td>\n",
       "      <td>17.651</td>\n",
       "      <td>20.841</td>\n",
       "      <td>-51.885</td>\n",
       "    </tr>\n",
       "    <tr>\n",
       "      <th>703</th>\n",
       "      <td>4</td>\n",
       "      <td>Aug 8, 2003</td>\n",
       "      <td>S.W.A.T.</td>\n",
       "      <td>70.0</td>\n",
       "      <td>116.878</td>\n",
       "      <td>207.155</td>\n",
       "      <td>362.904</td>\n",
       "    </tr>\n",
       "    <tr>\n",
       "      <th>803</th>\n",
       "      <td>4</td>\n",
       "      <td>Sep 14, 2012</td>\n",
       "      <td>Resident Evil: Retribution</td>\n",
       "      <td>65.0</td>\n",
       "      <td>42.346</td>\n",
       "      <td>240.648</td>\n",
       "      <td>335.375</td>\n",
       "    </tr>\n",
       "    <tr>\n",
       "      <th>903</th>\n",
       "      <td>4</td>\n",
       "      <td>Jan 11, 2013</td>\n",
       "      <td>Gangster Squad</td>\n",
       "      <td>60.0</td>\n",
       "      <td>46.001</td>\n",
       "      <td>104.101</td>\n",
       "      <td>150.170</td>\n",
       "    </tr>\n",
       "    <tr>\n",
       "      <th>1003</th>\n",
       "      <td>4</td>\n",
       "      <td>Apr 10, 1998</td>\n",
       "      <td>City of Angels</td>\n",
       "      <td>55.0</td>\n",
       "      <td>78.751</td>\n",
       "      <td>198.751</td>\n",
       "      <td>404.549</td>\n",
       "    </tr>\n",
       "    <tr>\n",
       "      <th>1103</th>\n",
       "      <td>4</td>\n",
       "      <td>Aug 9, 2013</td>\n",
       "      <td>Disney Planes</td>\n",
       "      <td>50.0</td>\n",
       "      <td>90.283</td>\n",
       "      <td>238.060</td>\n",
       "      <td>556.686</td>\n",
       "    </tr>\n",
       "    <tr>\n",
       "      <th>1203</th>\n",
       "      <td>4</td>\n",
       "      <td>Mar 15, 2013</td>\n",
       "      <td>Upside Down</td>\n",
       "      <td>50.0</td>\n",
       "      <td>0.102</td>\n",
       "      <td>26.387</td>\n",
       "      <td>-47.022</td>\n",
       "    </tr>\n",
       "    <tr>\n",
       "      <th>1303</th>\n",
       "      <td>4</td>\n",
       "      <td>Oct 4, 1996</td>\n",
       "      <td>The Glimmer Man</td>\n",
       "      <td>45.0</td>\n",
       "      <td>20.405</td>\n",
       "      <td>36.405</td>\n",
       "      <td>26.244</td>\n",
       "    </tr>\n",
       "    <tr>\n",
       "      <th>1403</th>\n",
       "      <td>4</td>\n",
       "      <td>Feb 17, 2006</td>\n",
       "      <td>Eight Below</td>\n",
       "      <td>40.0</td>\n",
       "      <td>81.613</td>\n",
       "      <td>120.456</td>\n",
       "      <td>405.172</td>\n",
       "    </tr>\n",
       "  </tbody>\n",
       "</table>\n",
       "</div>"
      ],
      "text/plain": [
       "      id  release_date                                movie  \\\n",
       "3      4   May 1, 2015              Avengers: Age of Ultron   \n",
       "103    4  Mar 27, 2009                  Monsters vs. Aliens   \n",
       "203    4  Jul 15, 2016                         Ghostbusters   \n",
       "303    4  May 19, 1999  Star Wars Ep. I: The Phantom Menace   \n",
       "403    4  Dec 14, 2018                       Mortal Engines   \n",
       "503    4  Sep 29, 2006                          Open Season   \n",
       "603    4  Dec 25, 1997                          The Postman   \n",
       "703    4   Aug 8, 2003                             S.W.A.T.   \n",
       "803    4  Sep 14, 2012           Resident Evil: Retribution   \n",
       "903    4  Jan 11, 2013                       Gangster Squad   \n",
       "1003   4  Apr 10, 1998                       City of Angels   \n",
       "1103   4   Aug 9, 2013                        Disney Planes   \n",
       "1203   4  Mar 15, 2013                          Upside Down   \n",
       "1303   4   Oct 4, 1996                      The Glimmer Man   \n",
       "1403   4  Feb 17, 2006                          Eight Below   \n",
       "\n",
       "      production_budget (millions of $)  domestic_gross (millions of $)  \\\n",
       "3                                 330.6                         459.006   \n",
       "103                               175.0                         198.352   \n",
       "203                               144.0                         128.351   \n",
       "303                               115.0                         474.545   \n",
       "403                               100.0                          15.951   \n",
       "503                                85.0                          85.105   \n",
       "603                                80.0                          17.651   \n",
       "703                                70.0                         116.878   \n",
       "803                                65.0                          42.346   \n",
       "903                                60.0                          46.001   \n",
       "1003                               55.0                          78.751   \n",
       "1103                               50.0                          90.283   \n",
       "1203                               50.0                           0.102   \n",
       "1303                               45.0                          20.405   \n",
       "1403                               40.0                          81.613   \n",
       "\n",
       "      worldwide_gross (millions of $)   roi (%)  \n",
       "3                            1403.014   463.224  \n",
       "103                           381.687   231.451  \n",
       "203                           229.009   148.167  \n",
       "303                          1027.045  1205.730  \n",
       "403                            85.287     1.238  \n",
       "503                           191.932   225.926  \n",
       "603                            20.841   -51.885  \n",
       "703                           207.155   362.904  \n",
       "803                           240.648   335.375  \n",
       "903                           104.101   150.170  \n",
       "1003                          198.751   404.549  \n",
       "1103                          238.060   556.686  \n",
       "1203                           26.387   -47.022  \n",
       "1303                           36.405    26.244  \n",
       "1403                          120.456   405.172  "
      ]
     },
     "execution_count": 20,
     "metadata": {},
     "output_type": "execute_result"
    }
   ],
   "source": [
    "# inspecting all entries with id of '4'\n",
    "budgets[budgets['id'] == 4].head(15)"
   ]
  },
  {
   "cell_type": "code",
   "execution_count": 21,
   "metadata": {},
   "outputs": [
    {
     "data": {
      "text/html": [
       "<div>\n",
       "<style scoped>\n",
       "    .dataframe tbody tr th:only-of-type {\n",
       "        vertical-align: middle;\n",
       "    }\n",
       "\n",
       "    .dataframe tbody tr th {\n",
       "        vertical-align: top;\n",
       "    }\n",
       "\n",
       "    .dataframe thead th {\n",
       "        text-align: right;\n",
       "    }\n",
       "</style>\n",
       "<table border=\"1\" class=\"dataframe\">\n",
       "  <thead>\n",
       "    <tr style=\"text-align: right;\">\n",
       "      <th></th>\n",
       "      <th>release_date</th>\n",
       "      <th>movie</th>\n",
       "      <th>production_budget (millions of $)</th>\n",
       "      <th>domestic_gross (millions of $)</th>\n",
       "      <th>worldwide_gross (millions of $)</th>\n",
       "      <th>roi (%)</th>\n",
       "    </tr>\n",
       "  </thead>\n",
       "  <tbody>\n",
       "    <tr>\n",
       "      <th>0</th>\n",
       "      <td>Dec 18, 2009</td>\n",
       "      <td>Avatar</td>\n",
       "      <td>425.0</td>\n",
       "      <td>760.508</td>\n",
       "      <td>2776.345</td>\n",
       "      <td>732.201</td>\n",
       "    </tr>\n",
       "    <tr>\n",
       "      <th>1</th>\n",
       "      <td>May 20, 2011</td>\n",
       "      <td>Pirates of the Caribbean: On Stranger Tides</td>\n",
       "      <td>410.6</td>\n",
       "      <td>241.064</td>\n",
       "      <td>1045.664</td>\n",
       "      <td>213.377</td>\n",
       "    </tr>\n",
       "    <tr>\n",
       "      <th>2</th>\n",
       "      <td>Jun 7, 2019</td>\n",
       "      <td>Dark Phoenix</td>\n",
       "      <td>350.0</td>\n",
       "      <td>42.762</td>\n",
       "      <td>149.762</td>\n",
       "      <td>-44.993</td>\n",
       "    </tr>\n",
       "    <tr>\n",
       "      <th>3</th>\n",
       "      <td>May 1, 2015</td>\n",
       "      <td>Avengers: Age of Ultron</td>\n",
       "      <td>330.6</td>\n",
       "      <td>459.006</td>\n",
       "      <td>1403.014</td>\n",
       "      <td>463.224</td>\n",
       "    </tr>\n",
       "    <tr>\n",
       "      <th>4</th>\n",
       "      <td>Dec 15, 2017</td>\n",
       "      <td>Star Wars Ep. VIII: The Last Jedi</td>\n",
       "      <td>317.0</td>\n",
       "      <td>620.181</td>\n",
       "      <td>1316.722</td>\n",
       "      <td>511.010</td>\n",
       "    </tr>\n",
       "  </tbody>\n",
       "</table>\n",
       "</div>"
      ],
      "text/plain": [
       "   release_date                                        movie  \\\n",
       "0  Dec 18, 2009                                       Avatar   \n",
       "1  May 20, 2011  Pirates of the Caribbean: On Stranger Tides   \n",
       "2   Jun 7, 2019                                 Dark Phoenix   \n",
       "3   May 1, 2015                      Avengers: Age of Ultron   \n",
       "4  Dec 15, 2017            Star Wars Ep. VIII: The Last Jedi   \n",
       "\n",
       "   production_budget (millions of $)  domestic_gross (millions of $)  \\\n",
       "0                              425.0                         760.508   \n",
       "1                              410.6                         241.064   \n",
       "2                              350.0                          42.762   \n",
       "3                              330.6                         459.006   \n",
       "4                              317.0                         620.181   \n",
       "\n",
       "   worldwide_gross (millions of $)  roi (%)  \n",
       "0                         2776.345  732.201  \n",
       "1                         1045.664  213.377  \n",
       "2                          149.762  -44.993  \n",
       "3                         1403.014  463.224  \n",
       "4                         1316.722  511.010  "
      ]
     },
     "execution_count": 21,
     "metadata": {},
     "output_type": "execute_result"
    }
   ],
   "source": [
    "budgets.drop(['id'], axis=1, inplace=True)\n",
    "budgets.head()"
   ]
  },
  {
   "cell_type": "code",
   "execution_count": 22,
   "metadata": {},
   "outputs": [
    {
     "data": {
      "text/plain": [
       "Home                                         3\n",
       "King Kong                                    3\n",
       "Halloween                                    3\n",
       "Crossroads                                   2\n",
       "Left Behind                                  2\n",
       "                                            ..\n",
       "And So It Goes                               1\n",
       "Fantastic Four: Rise of the Silver Surfer    1\n",
       "Here on Earth                                1\n",
       "Kingsman: The Golden Circle                  1\n",
       "Shine a Light                                1\n",
       "Name: movie, Length: 5698, dtype: int64"
      ]
     },
     "execution_count": 22,
     "metadata": {},
     "output_type": "execute_result"
    }
   ],
   "source": [
    "# checking for duplicate movie entries\n",
    "budgets.movie.value_counts()"
   ]
  },
  {
   "cell_type": "code",
   "execution_count": 23,
   "metadata": {},
   "outputs": [
    {
     "data": {
      "text/html": [
       "<div>\n",
       "<style scoped>\n",
       "    .dataframe tbody tr th:only-of-type {\n",
       "        vertical-align: middle;\n",
       "    }\n",
       "\n",
       "    .dataframe tbody tr th {\n",
       "        vertical-align: top;\n",
       "    }\n",
       "\n",
       "    .dataframe thead th {\n",
       "        text-align: right;\n",
       "    }\n",
       "</style>\n",
       "<table border=\"1\" class=\"dataframe\">\n",
       "  <thead>\n",
       "    <tr style=\"text-align: right;\">\n",
       "      <th></th>\n",
       "      <th>release_date</th>\n",
       "      <th>movie</th>\n",
       "      <th>production_budget (millions of $)</th>\n",
       "      <th>domestic_gross (millions of $)</th>\n",
       "      <th>worldwide_gross (millions of $)</th>\n",
       "      <th>roi (%)</th>\n",
       "    </tr>\n",
       "  </thead>\n",
       "  <tbody>\n",
       "    <tr>\n",
       "      <th>26</th>\n",
       "      <td>May 4, 2012</td>\n",
       "      <td>The Avengers</td>\n",
       "      <td>225.000</td>\n",
       "      <td>623.280</td>\n",
       "      <td>1517.936</td>\n",
       "      <td>851.652</td>\n",
       "    </tr>\n",
       "    <tr>\n",
       "      <th>38</th>\n",
       "      <td>May 14, 2010</td>\n",
       "      <td>Robin Hood</td>\n",
       "      <td>210.000</td>\n",
       "      <td>105.487</td>\n",
       "      <td>322.459</td>\n",
       "      <td>103.784</td>\n",
       "    </tr>\n",
       "    <tr>\n",
       "      <th>39</th>\n",
       "      <td>Dec 14, 2005</td>\n",
       "      <td>King Kong</td>\n",
       "      <td>207.000</td>\n",
       "      <td>218.080</td>\n",
       "      <td>550.517</td>\n",
       "      <td>271.303</td>\n",
       "    </tr>\n",
       "    <tr>\n",
       "      <th>50</th>\n",
       "      <td>Mar 5, 2010</td>\n",
       "      <td>Alice in Wonderland</td>\n",
       "      <td>200.000</td>\n",
       "      <td>334.191</td>\n",
       "      <td>1025.491</td>\n",
       "      <td>579.841</td>\n",
       "    </tr>\n",
       "    <tr>\n",
       "      <th>64</th>\n",
       "      <td>Jun 9, 2017</td>\n",
       "      <td>The Mummy</td>\n",
       "      <td>195.000</td>\n",
       "      <td>80.101</td>\n",
       "      <td>409.954</td>\n",
       "      <td>151.310</td>\n",
       "    </tr>\n",
       "    <tr>\n",
       "      <th>...</th>\n",
       "      <td>...</td>\n",
       "      <td>...</td>\n",
       "      <td>...</td>\n",
       "      <td>...</td>\n",
       "      <td>...</td>\n",
       "      <td>...</td>\n",
       "    </tr>\n",
       "    <tr>\n",
       "      <th>5668</th>\n",
       "      <td>Nov 16, 1942</td>\n",
       "      <td>Cat People</td>\n",
       "      <td>0.134</td>\n",
       "      <td>4.000</td>\n",
       "      <td>8.000</td>\n",
       "      <td>8855.224</td>\n",
       "    </tr>\n",
       "    <tr>\n",
       "      <th>5676</th>\n",
       "      <td>Oct 1, 1968</td>\n",
       "      <td>Night of the Living Dead</td>\n",
       "      <td>0.114</td>\n",
       "      <td>12.087</td>\n",
       "      <td>30.087</td>\n",
       "      <td>36894.737</td>\n",
       "    </tr>\n",
       "    <tr>\n",
       "      <th>5677</th>\n",
       "      <td>Feb 8, 1915</td>\n",
       "      <td>The Birth of a Nation</td>\n",
       "      <td>0.110</td>\n",
       "      <td>10.000</td>\n",
       "      <td>11.000</td>\n",
       "      <td>18990.909</td>\n",
       "    </tr>\n",
       "    <tr>\n",
       "      <th>5699</th>\n",
       "      <td>Aug 30, 1972</td>\n",
       "      <td>The Last House on the Left</td>\n",
       "      <td>0.087</td>\n",
       "      <td>3.100</td>\n",
       "      <td>3.100</td>\n",
       "      <td>7026.437</td>\n",
       "    </tr>\n",
       "    <tr>\n",
       "      <th>5718</th>\n",
       "      <td>Feb 22, 2008</td>\n",
       "      <td>The Signal</td>\n",
       "      <td>0.050</td>\n",
       "      <td>0.251</td>\n",
       "      <td>0.406</td>\n",
       "      <td>1214.000</td>\n",
       "    </tr>\n",
       "  </tbody>\n",
       "</table>\n",
       "<p>165 rows × 6 columns</p>\n",
       "</div>"
      ],
      "text/plain": [
       "      release_date                       movie  \\\n",
       "26     May 4, 2012                The Avengers   \n",
       "38    May 14, 2010                  Robin Hood   \n",
       "39    Dec 14, 2005                   King Kong   \n",
       "50     Mar 5, 2010         Alice in Wonderland   \n",
       "64     Jun 9, 2017                   The Mummy   \n",
       "...            ...                         ...   \n",
       "5668  Nov 16, 1942                  Cat People   \n",
       "5676   Oct 1, 1968    Night of the Living Dead   \n",
       "5677   Feb 8, 1915       The Birth of a Nation   \n",
       "5699  Aug 30, 1972  The Last House on the Left   \n",
       "5718  Feb 22, 2008                  The Signal   \n",
       "\n",
       "      production_budget (millions of $)  domestic_gross (millions of $)  \\\n",
       "26                              225.000                         623.280   \n",
       "38                              210.000                         105.487   \n",
       "39                              207.000                         218.080   \n",
       "50                              200.000                         334.191   \n",
       "64                              195.000                          80.101   \n",
       "...                                 ...                             ...   \n",
       "5668                              0.134                           4.000   \n",
       "5676                              0.114                          12.087   \n",
       "5677                              0.110                          10.000   \n",
       "5699                              0.087                           3.100   \n",
       "5718                              0.050                           0.251   \n",
       "\n",
       "      worldwide_gross (millions of $)    roi (%)  \n",
       "26                           1517.936    851.652  \n",
       "38                            322.459    103.784  \n",
       "39                            550.517    271.303  \n",
       "50                           1025.491    579.841  \n",
       "64                            409.954    151.310  \n",
       "...                               ...        ...  \n",
       "5668                            8.000   8855.224  \n",
       "5676                           30.087  36894.737  \n",
       "5677                           11.000  18990.909  \n",
       "5699                            3.100   7026.437  \n",
       "5718                            0.406   1214.000  \n",
       "\n",
       "[165 rows x 6 columns]"
      ]
     },
     "execution_count": 23,
     "metadata": {},
     "output_type": "execute_result"
    }
   ],
   "source": [
    "# checking for any movie titles with more than one entry to see if it is a duplicate entry or a remake\n",
    "\n",
    "multiple_values = budgets.movie.value_counts()\n",
    "budgets[budgets.movie.isin(multiple_values.index[multiple_values.gt(1)])]"
   ]
  },
  {
   "cell_type": "code",
   "execution_count": 24,
   "metadata": {},
   "outputs": [
    {
     "data": {
      "image/png": "[encoded data removed]",
      "text/plain": [
       "<Figure size 1296x432 with 4 Axes>"
      ]
     },
     "metadata": {
      "needs_background": "light"
     },
     "output_type": "display_data"
    }
   ],
   "source": [
    "# creating histograms to visualize distributions for each column of budgets\n",
    "fig, ax = plt.subplots(nrows = 1, ncols = 4, figsize = (18, 6))\n",
    "budgets.hist(ax = ax, bins = 15);"
   ]
  },
  {
   "cell_type": "code",
   "execution_count": 25,
   "metadata": {},
   "outputs": [
    {
     "data": {
      "text/html": [
       "<div>\n",
       "<style scoped>\n",
       "    .dataframe tbody tr th:only-of-type {\n",
       "        vertical-align: middle;\n",
       "    }\n",
       "\n",
       "    .dataframe tbody tr th {\n",
       "        vertical-align: top;\n",
       "    }\n",
       "\n",
       "    .dataframe thead th {\n",
       "        text-align: right;\n",
       "    }\n",
       "</style>\n",
       "<table border=\"1\" class=\"dataframe\">\n",
       "  <thead>\n",
       "    <tr style=\"text-align: right;\">\n",
       "      <th></th>\n",
       "      <th>production_budget (millions of $)</th>\n",
       "      <th>domestic_gross (millions of $)</th>\n",
       "      <th>worldwide_gross (millions of $)</th>\n",
       "      <th>roi (%)</th>\n",
       "    </tr>\n",
       "  </thead>\n",
       "  <tbody>\n",
       "    <tr>\n",
       "      <th>count</th>\n",
       "      <td>5782.000000</td>\n",
       "      <td>5782.000000</td>\n",
       "      <td>5782.000000</td>\n",
       "      <td>5782.000000</td>\n",
       "    </tr>\n",
       "    <tr>\n",
       "      <th>mean</th>\n",
       "      <td>31.587757</td>\n",
       "      <td>41.873327</td>\n",
       "      <td>91.487460</td>\n",
       "      <td>678.944763</td>\n",
       "    </tr>\n",
       "    <tr>\n",
       "      <th>std</th>\n",
       "      <td>41.812077</td>\n",
       "      <td>68.240598</td>\n",
       "      <td>174.719971</td>\n",
       "      <td>5495.710313</td>\n",
       "    </tr>\n",
       "    <tr>\n",
       "      <th>min</th>\n",
       "      <td>0.001000</td>\n",
       "      <td>0.000000</td>\n",
       "      <td>0.000000</td>\n",
       "      <td>-100.000000</td>\n",
       "    </tr>\n",
       "    <tr>\n",
       "      <th>25%</th>\n",
       "      <td>5.000000</td>\n",
       "      <td>1.429250</td>\n",
       "      <td>4.125250</td>\n",
       "      <td>-20.288500</td>\n",
       "    </tr>\n",
       "    <tr>\n",
       "      <th>50%</th>\n",
       "      <td>17.000000</td>\n",
       "      <td>17.226000</td>\n",
       "      <td>27.984000</td>\n",
       "      <td>165.944500</td>\n",
       "    </tr>\n",
       "    <tr>\n",
       "      <th>75%</th>\n",
       "      <td>40.000000</td>\n",
       "      <td>52.349000</td>\n",
       "      <td>97.646250</td>\n",
       "      <td>489.316500</td>\n",
       "    </tr>\n",
       "    <tr>\n",
       "      <th>max</th>\n",
       "      <td>425.000000</td>\n",
       "      <td>936.662000</td>\n",
       "      <td>2776.345000</td>\n",
       "      <td>359900.000000</td>\n",
       "    </tr>\n",
       "  </tbody>\n",
       "</table>\n",
       "</div>"
      ],
      "text/plain": [
       "       production_budget (millions of $)  domestic_gross (millions of $)  \\\n",
       "count                        5782.000000                     5782.000000   \n",
       "mean                           31.587757                       41.873327   \n",
       "std                            41.812077                       68.240598   \n",
       "min                             0.001000                        0.000000   \n",
       "25%                             5.000000                        1.429250   \n",
       "50%                            17.000000                       17.226000   \n",
       "75%                            40.000000                       52.349000   \n",
       "max                           425.000000                      936.662000   \n",
       "\n",
       "       worldwide_gross (millions of $)        roi (%)  \n",
       "count                      5782.000000    5782.000000  \n",
       "mean                         91.487460     678.944763  \n",
       "std                         174.719971    5495.710313  \n",
       "min                           0.000000    -100.000000  \n",
       "25%                           4.125250     -20.288500  \n",
       "50%                          27.984000     165.944500  \n",
       "75%                          97.646250     489.316500  \n",
       "max                        2776.345000  359900.000000  "
      ]
     },
     "execution_count": 25,
     "metadata": {},
     "output_type": "execute_result"
    }
   ],
   "source": [
    "budgets.describe()"
   ]
  },
  {
   "cell_type": "code",
   "execution_count": 26,
   "metadata": {},
   "outputs": [
    {
     "data": {
      "text/plain": [
       "28"
      ]
     },
     "execution_count": 26,
     "metadata": {},
     "output_type": "execute_result"
    }
   ],
   "source": [
    "# returns the number of data points that are more than 3 standard deviations away from the mean\n",
    "len(budgets) - len(budgets[np.abs(budgets['roi (%)']- budgets['roi (%)'].mean() <= (3*budgets['roi (%)'].std()))])"
   ]
  },
  {
   "cell_type": "code",
   "execution_count": 27,
   "metadata": {},
   "outputs": [],
   "source": [
    "# remove outliers from budgets\n",
    "\n",
    "budgets_no_outliers = budgets[np.abs(budgets['roi (%)']- budgets['roi (%)'].mean() <= (3*budgets['roi (%)'].std()))]"
   ]
  },
  {
   "cell_type": "code",
   "execution_count": 28,
   "metadata": {},
   "outputs": [
    {
     "data": {
      "image/png": "[encoded data removed]",
      "text/plain": [
       "<Figure size 1296x432 with 4 Axes>"
      ]
     },
     "metadata": {
      "needs_background": "light"
     },
     "output_type": "display_data"
    }
   ],
   "source": [
    "# creating histograms to visualize distributions for each column of budgets\n",
    "fig, ax = plt.subplots(nrows = 1, ncols = 4, figsize = (18, 6))\n",
    "budgets_no_outliers.hist(ax = ax, bins = 15);"
   ]
  },
  {
   "cell_type": "code",
   "execution_count": 29,
   "metadata": {},
   "outputs": [
    {
     "name": "stdout",
     "output_type": "stream",
     "text": [
      "<class 'pandas.core.frame.DataFrame'>\n",
      "RangeIndex: 146144 entries, 0 to 146143\n",
      "Data columns (total 6 columns):\n",
      " #   Column           Non-Null Count   Dtype  \n",
      "---  ------           --------------   -----  \n",
      " 0   movie_id         146144 non-null  object \n",
      " 1   primary_title    146144 non-null  object \n",
      " 2   original_title   146123 non-null  object \n",
      " 3   start_year       146144 non-null  int64  \n",
      " 4   runtime_minutes  114405 non-null  float64\n",
      " 5   genres           140736 non-null  object \n",
      "dtypes: float64(1), int64(1), object(4)\n",
      "memory usage: 6.7+ MB\n"
     ]
    }
   ],
   "source": [
    "movie_basics.info()"
   ]
  },
  {
   "cell_type": "code",
   "execution_count": 30,
   "metadata": {},
   "outputs": [
    {
     "data": {
      "text/html": [
       "<div>\n",
       "<style scoped>\n",
       "    .dataframe tbody tr th:only-of-type {\n",
       "        vertical-align: middle;\n",
       "    }\n",
       "\n",
       "    .dataframe tbody tr th {\n",
       "        vertical-align: top;\n",
       "    }\n",
       "\n",
       "    .dataframe thead th {\n",
       "        text-align: right;\n",
       "    }\n",
       "</style>\n",
       "<table border=\"1\" class=\"dataframe\">\n",
       "  <thead>\n",
       "    <tr style=\"text-align: right;\">\n",
       "      <th></th>\n",
       "      <th>primary_title</th>\n",
       "      <th>original_title</th>\n",
       "    </tr>\n",
       "  </thead>\n",
       "  <tbody>\n",
       "    <tr>\n",
       "      <th>1</th>\n",
       "      <td>One Day Before the Rainy Season</td>\n",
       "      <td>Ashad Ka Ek Din</td>\n",
       "    </tr>\n",
       "    <tr>\n",
       "      <th>4</th>\n",
       "      <td>The Wandering Soap Opera</td>\n",
       "      <td>La Telenovela Errante</td>\n",
       "    </tr>\n",
       "    <tr>\n",
       "      <th>11</th>\n",
       "      <td>So Much for Justice!</td>\n",
       "      <td>Oda az igazság</td>\n",
       "    </tr>\n",
       "    <tr>\n",
       "      <th>13</th>\n",
       "      <td>Children of the Green Dragon</td>\n",
       "      <td>A zöld sárkány gyermekei</td>\n",
       "    </tr>\n",
       "    <tr>\n",
       "      <th>15</th>\n",
       "      <td>The Tragedy of Man</td>\n",
       "      <td>Az ember tragédiája</td>\n",
       "    </tr>\n",
       "    <tr>\n",
       "      <th>...</th>\n",
       "      <td>...</td>\n",
       "      <td>...</td>\n",
       "    </tr>\n",
       "    <tr>\n",
       "      <th>146026</th>\n",
       "      <td>Journey of the Sky Goddess</td>\n",
       "      <td>Kibaiyanse! Watashi</td>\n",
       "    </tr>\n",
       "    <tr>\n",
       "      <th>146028</th>\n",
       "      <td>Lupin the Third: Fujiko Mine's Lie</td>\n",
       "      <td>Lupin the IIIrd: Mine Fujiko no Uso</td>\n",
       "    </tr>\n",
       "    <tr>\n",
       "      <th>146037</th>\n",
       "      <td>Big Three Dragons</td>\n",
       "      <td>Da San Yuan</td>\n",
       "    </tr>\n",
       "    <tr>\n",
       "      <th>146121</th>\n",
       "      <td>A Cherry Tale</td>\n",
       "      <td>Kirsebæreventyret</td>\n",
       "    </tr>\n",
       "    <tr>\n",
       "      <th>146135</th>\n",
       "      <td>The Rehearsal</td>\n",
       "      <td>O Ensaio</td>\n",
       "    </tr>\n",
       "  </tbody>\n",
       "</table>\n",
       "<p>14504 rows × 2 columns</p>\n",
       "</div>"
      ],
      "text/plain": [
       "                             primary_title  \\\n",
       "1          One Day Before the Rainy Season   \n",
       "4                 The Wandering Soap Opera   \n",
       "11                    So Much for Justice!   \n",
       "13            Children of the Green Dragon   \n",
       "15                      The Tragedy of Man   \n",
       "...                                    ...   \n",
       "146026          Journey of the Sky Goddess   \n",
       "146028  Lupin the Third: Fujiko Mine's Lie   \n",
       "146037                   Big Three Dragons   \n",
       "146121                       A Cherry Tale   \n",
       "146135                       The Rehearsal   \n",
       "\n",
       "                             original_title  \n",
       "1                           Ashad Ka Ek Din  \n",
       "4                     La Telenovela Errante  \n",
       "11                           Oda az igazság  \n",
       "13                 A zöld sárkány gyermekei  \n",
       "15                      Az ember tragédiája  \n",
       "...                                     ...  \n",
       "146026                  Kibaiyanse! Watashi  \n",
       "146028  Lupin the IIIrd: Mine Fujiko no Uso  \n",
       "146037                          Da San Yuan  \n",
       "146121                    Kirsebæreventyret  \n",
       "146135                             O Ensaio  \n",
       "\n",
       "[14504 rows x 2 columns]"
      ]
     },
     "execution_count": 30,
     "metadata": {},
     "output_type": "execute_result"
    }
   ],
   "source": [
    "# comparing movies whose primary title does not match its original title\n",
    "\n",
    "movie_basics[movie_basics['primary_title'] != movie_basics['original_title']][['primary_title', 'original_title']]"
   ]
  },
  {
   "cell_type": "code",
   "execution_count": 31,
   "metadata": {},
   "outputs": [
    {
     "data": {
      "text/plain": [
       "La traversée                      3\n",
       "Mi cheng                          2\n",
       "Niewidzialne                      2\n",
       "Noche                             2\n",
       "Kokoro ga sakebitagatterunda.     2\n",
       "                                 ..\n",
       "Norte, hangganan ng kasaysayan    1\n",
       "Tyskungen                         1\n",
       "Puhtaus ja vaara                  1\n",
       "Tong que tai                      1\n",
       "Les arts de la parole             1\n",
       "Name: original_title, Length: 14452, dtype: int64"
      ]
     },
     "execution_count": 31,
     "metadata": {},
     "output_type": "execute_result"
    }
   ],
   "source": [
    "movie_basics[movie_basics['primary_title'] != movie_basics['original_title']]['original_title'].value_counts()"
   ]
  },
  {
   "cell_type": "code",
   "execution_count": 32,
   "metadata": {},
   "outputs": [],
   "source": [
    "# removing original title column\n",
    "movie_basics.drop('original_title', axis=1, inplace=True)"
   ]
  },
  {
   "cell_type": "code",
   "execution_count": 33,
   "metadata": {},
   "outputs": [
    {
     "data": {
      "text/plain": [
       "Documentary    51640\n",
       "Drama          49883\n",
       "Comedy         25312\n",
       "Thriller       11883\n",
       "Horror         10805\n",
       "Action         10335\n",
       "Romance         9372\n",
       "Biography       8722\n",
       "Crime           6753\n",
       "Adventure       6465\n",
       "Family          6227\n",
       "History         6225\n",
       "Mystery         4659\n",
       "Music           4314\n",
       "Fantasy         3516\n",
       "Sci-Fi          3365\n",
       "Animation       2799\n",
       "Sport           2234\n",
       "News            1551\n",
       "Musical         1430\n",
       "War             1405\n",
       "Western          467\n",
       "Reality-TV        98\n",
       "Talk-Show         50\n",
       "Adult             25\n",
       "Short             11\n",
       "Game-Show          4\n",
       "Name: genres, dtype: int64"
      ]
     },
     "execution_count": 33,
     "metadata": {},
     "output_type": "execute_result"
    }
   ],
   "source": [
    "# get a count for the number of each genre\n",
    "\n",
    "movie_basics['genres'].str.split(',').explode().value_counts()"
   ]
  },
  {
   "cell_type": "code",
   "execution_count": 34,
   "metadata": {},
   "outputs": [],
   "source": [
    "# formatting genres column to create a list containing each genre for the film\n",
    "movie_basics[\"genres_list\"] = movie_basics[\"genres\"].str.split(\",\")"
   ]
  },
  {
   "cell_type": "code",
   "execution_count": 35,
   "metadata": {},
   "outputs": [
    {
     "data": {
      "text/plain": [
       "movie_id               0\n",
       "primary_title          0\n",
       "start_year             0\n",
       "runtime_minutes    31739\n",
       "genres              5408\n",
       "genres_list         5408\n",
       "dtype: int64"
      ]
     },
     "execution_count": 35,
     "metadata": {},
     "output_type": "execute_result"
    }
   ],
   "source": [
    "# display number of nan values for each feature\n",
    "movie_basics.isna().sum()"
   ]
  },
  {
   "cell_type": "code",
   "execution_count": 36,
   "metadata": {},
   "outputs": [
    {
     "data": {
      "text/plain": [
       "3236"
      ]
     },
     "execution_count": 36,
     "metadata": {},
     "output_type": "execute_result"
    }
   ],
   "source": [
    "# return the number of rows with nans in both genre and runtime\n",
    "len(movie_basics.loc[movie_basics['genres'].isnull() & movie_basics['runtime_minutes'].isnull()])"
   ]
  },
  {
   "cell_type": "code",
   "execution_count": 37,
   "metadata": {},
   "outputs": [
    {
     "name": "stdout",
     "output_type": "stream",
     "text": [
      "<class 'pandas.core.frame.DataFrame'>\n",
      "RangeIndex: 146144 entries, 0 to 146143\n",
      "Data columns (total 6 columns):\n",
      " #   Column           Non-Null Count   Dtype  \n",
      "---  ------           --------------   -----  \n",
      " 0   movie_id         146144 non-null  object \n",
      " 1   primary_title    146144 non-null  object \n",
      " 2   start_year       146144 non-null  int64  \n",
      " 3   runtime_minutes  114405 non-null  float64\n",
      " 4   genres           140736 non-null  object \n",
      " 5   genres_list      140736 non-null  object \n",
      "dtypes: float64(1), int64(1), object(4)\n",
      "memory usage: 6.7+ MB\n"
     ]
    }
   ],
   "source": [
    "# removing rows from movie_basics with null genre and runtime\n",
    "movie_basics_clean = movie_basics.drop(movie_basics.loc[movie_basics['genres'].isnull() & movie_basics['runtime_minutes'].isnull()].index)\n",
    "movie_basics.info()"
   ]
  },
  {
   "cell_type": "code",
   "execution_count": 38,
   "metadata": {},
   "outputs": [
    {
     "data": {
      "text/plain": [
       "3236"
      ]
     },
     "execution_count": 38,
     "metadata": {},
     "output_type": "execute_result"
    }
   ],
   "source": [
    "# confirming that correct number of rows were filtered out\n",
    "len(movie_basics) - len(movie_basics_clean)"
   ]
  },
  {
   "cell_type": "code",
   "execution_count": 39,
   "metadata": {},
   "outputs": [
    {
     "data": {
      "text/plain": [
       "movie_id               0\n",
       "primary_title          0\n",
       "start_year             0\n",
       "runtime_minutes    28503\n",
       "genres              2172\n",
       "genres_list         2172\n",
       "dtype: int64"
      ]
     },
     "execution_count": 39,
     "metadata": {},
     "output_type": "execute_result"
    }
   ],
   "source": [
    "movie_basics_clean.isna().sum()"
   ]
  },
  {
   "cell_type": "code",
   "execution_count": 40,
   "metadata": {},
   "outputs": [
    {
     "data": {
      "text/plain": [
       "90.0      7131\n",
       "80.0      3526\n",
       "85.0      2915\n",
       "100.0     2662\n",
       "95.0      2549\n",
       "          ... \n",
       "406.0        1\n",
       "1184.0       1\n",
       "263.0        1\n",
       "363.0        1\n",
       "540.0        1\n",
       "Name: runtime_minutes, Length: 367, dtype: int64"
      ]
     },
     "execution_count": 40,
     "metadata": {},
     "output_type": "execute_result"
    }
   ],
   "source": [
    "# checking to see the runtimes of movies\n",
    "movie_basics_clean.runtime_minutes.value_counts().sort_values(ascending = False)"
   ]
  },
  {
   "cell_type": "code",
   "execution_count": 41,
   "metadata": {},
   "outputs": [
    {
     "data": {
      "text/html": [
       "<div>\n",
       "<style scoped>\n",
       "    .dataframe tbody tr th:only-of-type {\n",
       "        vertical-align: middle;\n",
       "    }\n",
       "\n",
       "    .dataframe tbody tr th {\n",
       "        vertical-align: top;\n",
       "    }\n",
       "\n",
       "    .dataframe thead th {\n",
       "        text-align: right;\n",
       "    }\n",
       "</style>\n",
       "<table border=\"1\" class=\"dataframe\">\n",
       "  <thead>\n",
       "    <tr style=\"text-align: right;\">\n",
       "      <th></th>\n",
       "      <th>movie_id</th>\n",
       "      <th>ordering</th>\n",
       "      <th>person_id</th>\n",
       "      <th>category</th>\n",
       "      <th>job</th>\n",
       "      <th>characters</th>\n",
       "    </tr>\n",
       "  </thead>\n",
       "  <tbody>\n",
       "    <tr>\n",
       "      <th>0</th>\n",
       "      <td>tt0111414</td>\n",
       "      <td>1</td>\n",
       "      <td>nm0246005</td>\n",
       "      <td>actor</td>\n",
       "      <td>None</td>\n",
       "      <td>[\"The Man\"]</td>\n",
       "    </tr>\n",
       "    <tr>\n",
       "      <th>1</th>\n",
       "      <td>tt0111414</td>\n",
       "      <td>2</td>\n",
       "      <td>nm0398271</td>\n",
       "      <td>director</td>\n",
       "      <td>None</td>\n",
       "      <td>None</td>\n",
       "    </tr>\n",
       "    <tr>\n",
       "      <th>2</th>\n",
       "      <td>tt0111414</td>\n",
       "      <td>3</td>\n",
       "      <td>nm3739909</td>\n",
       "      <td>producer</td>\n",
       "      <td>producer</td>\n",
       "      <td>None</td>\n",
       "    </tr>\n",
       "    <tr>\n",
       "      <th>3</th>\n",
       "      <td>tt0323808</td>\n",
       "      <td>10</td>\n",
       "      <td>nm0059247</td>\n",
       "      <td>editor</td>\n",
       "      <td>None</td>\n",
       "      <td>None</td>\n",
       "    </tr>\n",
       "    <tr>\n",
       "      <th>4</th>\n",
       "      <td>tt0323808</td>\n",
       "      <td>1</td>\n",
       "      <td>nm3579312</td>\n",
       "      <td>actress</td>\n",
       "      <td>None</td>\n",
       "      <td>[\"Beth Boothby\"]</td>\n",
       "    </tr>\n",
       "  </tbody>\n",
       "</table>\n",
       "</div>"
      ],
      "text/plain": [
       "    movie_id  ordering  person_id  category       job        characters\n",
       "0  tt0111414         1  nm0246005     actor      None       [\"The Man\"]\n",
       "1  tt0111414         2  nm0398271  director      None              None\n",
       "2  tt0111414         3  nm3739909  producer  producer              None\n",
       "3  tt0323808        10  nm0059247    editor      None              None\n",
       "4  tt0323808         1  nm3579312   actress      None  [\"Beth Boothby\"]"
      ]
     },
     "execution_count": 41,
     "metadata": {},
     "output_type": "execute_result"
    }
   ],
   "source": [
    "principals.head()"
   ]
  },
  {
   "cell_type": "code",
   "execution_count": 42,
   "metadata": {},
   "outputs": [
    {
     "data": {
      "text/plain": [
       "actor                  256718\n",
       "director               146393\n",
       "actress                146208\n",
       "producer               113724\n",
       "cinematographer         80091\n",
       "composer                77063\n",
       "writer                  74357\n",
       "self                    65424\n",
       "editor                  55512\n",
       "production_designer      9373\n",
       "archive_footage          3307\n",
       "archive_sound              16\n",
       "Name: category, dtype: int64"
      ]
     },
     "execution_count": 42,
     "metadata": {},
     "output_type": "execute_result"
    }
   ],
   "source": [
    "principals['category'].value_counts()"
   ]
  },
  {
   "cell_type": "code",
   "execution_count": 43,
   "metadata": {},
   "outputs": [
    {
     "data": {
      "text/plain": [
       "producer                         108168\n",
       "screenplay                         8172\n",
       "director of photography            6517\n",
       "writer                             6479\n",
       "co-director                        5796\n",
       "                                  ...  \n",
       "also music director                   1\n",
       "novel \"La dama número trece           1\n",
       "co-film editor                        1\n",
       "based on the story written by         1\n",
       "poetry anthology                      1\n",
       "Name: job, Length: 2965, dtype: int64"
      ]
     },
     "execution_count": 43,
     "metadata": {},
     "output_type": "execute_result"
    }
   ],
   "source": [
    "principals['job'].value_counts()"
   ]
  },
  {
   "cell_type": "code",
   "execution_count": 44,
   "metadata": {},
   "outputs": [
    {
     "data": {
      "text/plain": [
       "[\"Himself\"]                       43584\n",
       "[\"Herself\"]                       16127\n",
       "[\"Narrator\"]                       2218\n",
       "[\"Alex\"]                            656\n",
       "[\"David\"]                           620\n",
       "                                  ...  \n",
       "[\"Financista\",\"Duke-Titi\"]            1\n",
       "[\"Ife\"]                               1\n",
       "[\"Natalie Gilbert\"]                   1\n",
       "[\"Reheman\"]                           1\n",
       "[\"Himself - Paranormal State\"]        1\n",
       "Name: characters, Length: 174762, dtype: int64"
      ]
     },
     "execution_count": 44,
     "metadata": {},
     "output_type": "execute_result"
    }
   ],
   "source": [
    "principals['characters'].value_counts()"
   ]
  },
  {
   "cell_type": "code",
   "execution_count": 45,
   "metadata": {},
   "outputs": [],
   "source": [
    "# Dropping job and character columns \n",
    "\n",
    "principals.drop(['job', 'characters', 'ordering'], axis=1, inplace=True)"
   ]
  },
  {
   "cell_type": "code",
   "execution_count": 46,
   "metadata": {},
   "outputs": [
    {
     "data": {
      "text/html": [
       "<div>\n",
       "<style scoped>\n",
       "    .dataframe tbody tr th:only-of-type {\n",
       "        vertical-align: middle;\n",
       "    }\n",
       "\n",
       "    .dataframe tbody tr th {\n",
       "        vertical-align: top;\n",
       "    }\n",
       "\n",
       "    .dataframe thead th {\n",
       "        text-align: right;\n",
       "    }\n",
       "</style>\n",
       "<table border=\"1\" class=\"dataframe\">\n",
       "  <thead>\n",
       "    <tr style=\"text-align: right;\">\n",
       "      <th></th>\n",
       "      <th>person_id</th>\n",
       "      <th>primary_name</th>\n",
       "      <th>birth_year</th>\n",
       "      <th>death_year</th>\n",
       "      <th>primary_profession</th>\n",
       "    </tr>\n",
       "  </thead>\n",
       "  <tbody>\n",
       "    <tr>\n",
       "      <th>0</th>\n",
       "      <td>nm0061671</td>\n",
       "      <td>Mary Ellen Bauder</td>\n",
       "      <td>NaN</td>\n",
       "      <td>NaN</td>\n",
       "      <td>miscellaneous,production_manager,producer</td>\n",
       "    </tr>\n",
       "    <tr>\n",
       "      <th>1</th>\n",
       "      <td>nm0061865</td>\n",
       "      <td>Joseph Bauer</td>\n",
       "      <td>NaN</td>\n",
       "      <td>NaN</td>\n",
       "      <td>composer,music_department,sound_department</td>\n",
       "    </tr>\n",
       "    <tr>\n",
       "      <th>2</th>\n",
       "      <td>nm0062070</td>\n",
       "      <td>Bruce Baum</td>\n",
       "      <td>NaN</td>\n",
       "      <td>NaN</td>\n",
       "      <td>miscellaneous,actor,writer</td>\n",
       "    </tr>\n",
       "    <tr>\n",
       "      <th>3</th>\n",
       "      <td>nm0062195</td>\n",
       "      <td>Axel Baumann</td>\n",
       "      <td>NaN</td>\n",
       "      <td>NaN</td>\n",
       "      <td>camera_department,cinematographer,art_department</td>\n",
       "    </tr>\n",
       "    <tr>\n",
       "      <th>4</th>\n",
       "      <td>nm0062798</td>\n",
       "      <td>Pete Baxter</td>\n",
       "      <td>NaN</td>\n",
       "      <td>NaN</td>\n",
       "      <td>production_designer,art_department,set_decorator</td>\n",
       "    </tr>\n",
       "  </tbody>\n",
       "</table>\n",
       "</div>"
      ],
      "text/plain": [
       "   person_id       primary_name  birth_year  death_year  \\\n",
       "0  nm0061671  Mary Ellen Bauder         NaN         NaN   \n",
       "1  nm0061865       Joseph Bauer         NaN         NaN   \n",
       "2  nm0062070         Bruce Baum         NaN         NaN   \n",
       "3  nm0062195       Axel Baumann         NaN         NaN   \n",
       "4  nm0062798        Pete Baxter         NaN         NaN   \n",
       "\n",
       "                                 primary_profession  \n",
       "0         miscellaneous,production_manager,producer  \n",
       "1        composer,music_department,sound_department  \n",
       "2                        miscellaneous,actor,writer  \n",
       "3  camera_department,cinematographer,art_department  \n",
       "4  production_designer,art_department,set_decorator  "
      ]
     },
     "execution_count": 46,
     "metadata": {},
     "output_type": "execute_result"
    }
   ],
   "source": [
    "persons.head()"
   ]
  },
  {
   "cell_type": "code",
   "execution_count": 47,
   "metadata": {},
   "outputs": [
    {
     "data": {
      "text/plain": [
       "actor                        177838\n",
       "producer                     150214\n",
       "writer                       141504\n",
       "director                     129808\n",
       "actress                       95066\n",
       "cinematographer               61984\n",
       "editor                        55234\n",
       "composer                      48823\n",
       "camera_department             39466\n",
       "miscellaneous                 38661\n",
       "soundtrack                    20748\n",
       "music_department              18568\n",
       "assistant_director            15916\n",
       "sound_department              15280\n",
       "editorial_department          14565\n",
       "production_manager             9768\n",
       "art_department                 8913\n",
       "production_designer            7592\n",
       "visual_effects                 6188\n",
       "art_director                   4623\n",
       "stunts                         4309\n",
       "casting_department             2802\n",
       "executive                      2657\n",
       "make_up_department             2613\n",
       "animation_department           2459\n",
       "casting_director               2397\n",
       "location_management            2253\n",
       "costume_department             1938\n",
       "special_effects                1856\n",
       "costume_designer               1548\n",
       "set_decorator                  1435\n",
       "manager                         732\n",
       "transportation_department       673\n",
       "talent_agent                    313\n",
       "legal                            92\n",
       "publicist                        83\n",
       "assistant                        72\n",
       "Name: primary_profession, dtype: int64"
      ]
     },
     "execution_count": 47,
     "metadata": {},
     "output_type": "execute_result"
    }
   ],
   "source": [
    "# get a count for the number of each profession\n",
    "persons['primary_profession'].str.split(',').explode().value_counts()"
   ]
  },
  {
   "cell_type": "code",
   "execution_count": 48,
   "metadata": {},
   "outputs": [],
   "source": [
    "persons.drop(['birth_year', 'death_year', 'primary_profession'], axis=1, inplace=True)"
   ]
  },
  {
   "cell_type": "code",
   "execution_count": 49,
   "metadata": {},
   "outputs": [],
   "source": [
    "data = [movie_basics_clean, principals, persons]\n",
    "def info(dataframes):\n",
    "    for df in dataframes:\n",
    "        print(\"--------\")\n",
    "        print()\n",
    "        print(df.info())"
   ]
  },
  {
   "cell_type": "code",
   "execution_count": 50,
   "metadata": {},
   "outputs": [
    {
     "name": "stdout",
     "output_type": "stream",
     "text": [
      "--------\n",
      "\n",
      "<class 'pandas.core.frame.DataFrame'>\n",
      "Int64Index: 142908 entries, 0 to 146143\n",
      "Data columns (total 6 columns):\n",
      " #   Column           Non-Null Count   Dtype  \n",
      "---  ------           --------------   -----  \n",
      " 0   movie_id         142908 non-null  object \n",
      " 1   primary_title    142908 non-null  object \n",
      " 2   start_year       142908 non-null  int64  \n",
      " 3   runtime_minutes  114405 non-null  float64\n",
      " 4   genres           140736 non-null  object \n",
      " 5   genres_list      140736 non-null  object \n",
      "dtypes: float64(1), int64(1), object(4)\n",
      "memory usage: 7.6+ MB\n",
      "None\n",
      "--------\n",
      "\n",
      "<class 'pandas.core.frame.DataFrame'>\n",
      "RangeIndex: 1028186 entries, 0 to 1028185\n",
      "Data columns (total 3 columns):\n",
      " #   Column     Non-Null Count    Dtype \n",
      "---  ------     --------------    ----- \n",
      " 0   movie_id   1028186 non-null  object\n",
      " 1   person_id  1028186 non-null  object\n",
      " 2   category   1028186 non-null  object\n",
      "dtypes: object(3)\n",
      "memory usage: 23.5+ MB\n",
      "None\n",
      "--------\n",
      "\n",
      "<class 'pandas.core.frame.DataFrame'>\n",
      "RangeIndex: 606648 entries, 0 to 606647\n",
      "Data columns (total 2 columns):\n",
      " #   Column        Non-Null Count   Dtype \n",
      "---  ------        --------------   ----- \n",
      " 0   person_id     606648 non-null  object\n",
      " 1   primary_name  606648 non-null  object\n",
      "dtypes: object(2)\n",
      "memory usage: 9.3+ MB\n",
      "None\n"
     ]
    }
   ],
   "source": [
    "info(data)"
   ]
  },
  {
   "cell_type": "code",
   "execution_count": 51,
   "metadata": {},
   "outputs": [
    {
     "data": {
      "text/html": [
       "<div>\n",
       "<style scoped>\n",
       "    .dataframe tbody tr th:only-of-type {\n",
       "        vertical-align: middle;\n",
       "    }\n",
       "\n",
       "    .dataframe tbody tr th {\n",
       "        vertical-align: top;\n",
       "    }\n",
       "\n",
       "    .dataframe thead th {\n",
       "        text-align: right;\n",
       "    }\n",
       "</style>\n",
       "<table border=\"1\" class=\"dataframe\">\n",
       "  <thead>\n",
       "    <tr style=\"text-align: right;\">\n",
       "      <th></th>\n",
       "      <th>person_id</th>\n",
       "      <th>primary_name</th>\n",
       "      <th>movie_id</th>\n",
       "      <th>category</th>\n",
       "    </tr>\n",
       "  </thead>\n",
       "  <tbody>\n",
       "    <tr>\n",
       "      <th>0</th>\n",
       "      <td>nm0061671</td>\n",
       "      <td>Mary Ellen Bauder</td>\n",
       "      <td>tt2398241</td>\n",
       "      <td>producer</td>\n",
       "    </tr>\n",
       "    <tr>\n",
       "      <th>1</th>\n",
       "      <td>nm0061865</td>\n",
       "      <td>Joseph Bauer</td>\n",
       "      <td>tt0433397</td>\n",
       "      <td>composer</td>\n",
       "    </tr>\n",
       "    <tr>\n",
       "      <th>2</th>\n",
       "      <td>nm0061865</td>\n",
       "      <td>Joseph Bauer</td>\n",
       "      <td>tt1681372</td>\n",
       "      <td>composer</td>\n",
       "    </tr>\n",
       "    <tr>\n",
       "      <th>3</th>\n",
       "      <td>nm0061865</td>\n",
       "      <td>Joseph Bauer</td>\n",
       "      <td>tt2387710</td>\n",
       "      <td>composer</td>\n",
       "    </tr>\n",
       "    <tr>\n",
       "      <th>4</th>\n",
       "      <td>nm0061865</td>\n",
       "      <td>Joseph Bauer</td>\n",
       "      <td>tt2281215</td>\n",
       "      <td>composer</td>\n",
       "    </tr>\n",
       "  </tbody>\n",
       "</table>\n",
       "</div>"
      ],
      "text/plain": [
       "   person_id       primary_name   movie_id  category\n",
       "0  nm0061671  Mary Ellen Bauder  tt2398241  producer\n",
       "1  nm0061865       Joseph Bauer  tt0433397  composer\n",
       "2  nm0061865       Joseph Bauer  tt1681372  composer\n",
       "3  nm0061865       Joseph Bauer  tt2387710  composer\n",
       "4  nm0061865       Joseph Bauer  tt2281215  composer"
      ]
     },
     "execution_count": 51,
     "metadata": {},
     "output_type": "execute_result"
    }
   ],
   "source": [
    "# joining principals and persons dfs\n",
    "\n",
    "film_people = pd.merge(persons, principals, how = 'inner', on = 'person_id')\n",
    "film_people.head()"
   ]
  },
  {
   "cell_type": "code",
   "execution_count": 52,
   "metadata": {},
   "outputs": [
    {
     "name": "stdout",
     "output_type": "stream",
     "text": [
      "<class 'pandas.core.frame.DataFrame'>\n",
      "Int64Index: 1027912 entries, 0 to 1027911\n",
      "Data columns (total 4 columns):\n",
      " #   Column        Non-Null Count    Dtype \n",
      "---  ------        --------------    ----- \n",
      " 0   person_id     1027912 non-null  object\n",
      " 1   primary_name  1027912 non-null  object\n",
      " 2   movie_id      1027912 non-null  object\n",
      " 3   category      1027912 non-null  object\n",
      "dtypes: object(4)\n",
      "memory usage: 39.2+ MB\n"
     ]
    }
   ],
   "source": [
    "film_people.info()"
   ]
  },
  {
   "cell_type": "code",
   "execution_count": 53,
   "metadata": {},
   "outputs": [
    {
     "data": {
      "text/plain": [
       "actor                  256561\n",
       "director               146393\n",
       "actress                146124\n",
       "producer               113724\n",
       "cinematographer         80091\n",
       "composer                77063\n",
       "writer                  74357\n",
       "self                    65392\n",
       "editor                  55512\n",
       "production_designer      9373\n",
       "archive_footage          3306\n",
       "archive_sound              16\n",
       "Name: category, dtype: int64"
      ]
     },
     "execution_count": 53,
     "metadata": {},
     "output_type": "execute_result"
    }
   ],
   "source": [
    "film_people.category.value_counts()"
   ]
  },
  {
   "cell_type": "code",
   "execution_count": 54,
   "metadata": {},
   "outputs": [
    {
     "data": {
      "text/plain": [
       "nm1930572     378\n",
       "nm0000636     160\n",
       "nm0000616     148\n",
       "nm0103977     126\n",
       "nm4394575     103\n",
       "             ... \n",
       "nm10357868      1\n",
       "nm0069331       1\n",
       "nm1947573       1\n",
       "nm5749013       1\n",
       "nm4957230       1\n",
       "Name: person_id, Length: 604290, dtype: int64"
      ]
     },
     "execution_count": 54,
     "metadata": {},
     "output_type": "execute_result"
    }
   ],
   "source": [
    "film_people.person_id.value_counts()"
   ]
  },
  {
   "cell_type": "code",
   "execution_count": 55,
   "metadata": {},
   "outputs": [
    {
     "data": {
      "text/html": [
       "<div>\n",
       "<style scoped>\n",
       "    .dataframe tbody tr th:only-of-type {\n",
       "        vertical-align: middle;\n",
       "    }\n",
       "\n",
       "    .dataframe tbody tr th {\n",
       "        vertical-align: top;\n",
       "    }\n",
       "\n",
       "    .dataframe thead th {\n",
       "        text-align: right;\n",
       "    }\n",
       "</style>\n",
       "<table border=\"1\" class=\"dataframe\">\n",
       "  <thead>\n",
       "    <tr style=\"text-align: right;\">\n",
       "      <th></th>\n",
       "      <th>person_id</th>\n",
       "      <th>primary_name</th>\n",
       "      <th>movie_id</th>\n",
       "      <th>category</th>\n",
       "    </tr>\n",
       "  </thead>\n",
       "  <tbody>\n",
       "    <tr>\n",
       "      <th>415221</th>\n",
       "      <td>nm4394575</td>\n",
       "      <td>Sen Arima</td>\n",
       "      <td>tt2414424</td>\n",
       "      <td>editor</td>\n",
       "    </tr>\n",
       "    <tr>\n",
       "      <th>415222</th>\n",
       "      <td>nm4394575</td>\n",
       "      <td>Sen Arima</td>\n",
       "      <td>tt2418914</td>\n",
       "      <td>editor</td>\n",
       "    </tr>\n",
       "    <tr>\n",
       "      <th>415223</th>\n",
       "      <td>nm4394575</td>\n",
       "      <td>Sen Arima</td>\n",
       "      <td>tt3445098</td>\n",
       "      <td>editor</td>\n",
       "    </tr>\n",
       "    <tr>\n",
       "      <th>415224</th>\n",
       "      <td>nm4394575</td>\n",
       "      <td>Sen Arima</td>\n",
       "      <td>tt2419230</td>\n",
       "      <td>editor</td>\n",
       "    </tr>\n",
       "    <tr>\n",
       "      <th>415225</th>\n",
       "      <td>nm4394575</td>\n",
       "      <td>Sen Arima</td>\n",
       "      <td>tt2410964</td>\n",
       "      <td>editor</td>\n",
       "    </tr>\n",
       "    <tr>\n",
       "      <th>...</th>\n",
       "      <td>...</td>\n",
       "      <td>...</td>\n",
       "      <td>...</td>\n",
       "      <td>...</td>\n",
       "    </tr>\n",
       "    <tr>\n",
       "      <th>415319</th>\n",
       "      <td>nm4394575</td>\n",
       "      <td>Sen Arima</td>\n",
       "      <td>tt9525226</td>\n",
       "      <td>editor</td>\n",
       "    </tr>\n",
       "    <tr>\n",
       "      <th>415320</th>\n",
       "      <td>nm4394575</td>\n",
       "      <td>Sen Arima</td>\n",
       "      <td>tt6370780</td>\n",
       "      <td>editor</td>\n",
       "    </tr>\n",
       "    <tr>\n",
       "      <th>415321</th>\n",
       "      <td>nm4394575</td>\n",
       "      <td>Sen Arima</td>\n",
       "      <td>tt6374832</td>\n",
       "      <td>editor</td>\n",
       "    </tr>\n",
       "    <tr>\n",
       "      <th>415322</th>\n",
       "      <td>nm4394575</td>\n",
       "      <td>Sen Arima</td>\n",
       "      <td>tt7843050</td>\n",
       "      <td>editor</td>\n",
       "    </tr>\n",
       "    <tr>\n",
       "      <th>415323</th>\n",
       "      <td>nm4394575</td>\n",
       "      <td>Sen Arima</td>\n",
       "      <td>tt9520500</td>\n",
       "      <td>editor</td>\n",
       "    </tr>\n",
       "  </tbody>\n",
       "</table>\n",
       "<p>103 rows × 4 columns</p>\n",
       "</div>"
      ],
      "text/plain": [
       "        person_id primary_name   movie_id category\n",
       "415221  nm4394575    Sen Arima  tt2414424   editor\n",
       "415222  nm4394575    Sen Arima  tt2418914   editor\n",
       "415223  nm4394575    Sen Arima  tt3445098   editor\n",
       "415224  nm4394575    Sen Arima  tt2419230   editor\n",
       "415225  nm4394575    Sen Arima  tt2410964   editor\n",
       "...           ...          ...        ...      ...\n",
       "415319  nm4394575    Sen Arima  tt9525226   editor\n",
       "415320  nm4394575    Sen Arima  tt6370780   editor\n",
       "415321  nm4394575    Sen Arima  tt6374832   editor\n",
       "415322  nm4394575    Sen Arima  tt7843050   editor\n",
       "415323  nm4394575    Sen Arima  tt9520500   editor\n",
       "\n",
       "[103 rows x 4 columns]"
      ]
     },
     "execution_count": 55,
     "metadata": {},
     "output_type": "execute_result"
    }
   ],
   "source": [
    "film_people[film_people['person_id'] == 'nm4394575']"
   ]
  },
  {
   "cell_type": "code",
   "execution_count": 56,
   "metadata": {},
   "outputs": [
    {
     "data": {
      "text/plain": [
       "person_id  primary_name     movie_id   category\n",
       "nm3296031  Brendan Maclean  tt2815358  actor       2\n",
       "nm2442121  Ivy Yi-Han Chen  tt8942260  actress     2\n",
       "nm4454963  Mike Kai Sui     tt6450032  actor       2\n",
       "nm3206691  Hasan Majuni     tt2258513  actor       2\n",
       "nm1289422  Barbara Bacci    tt3153648  actress     2\n",
       "                                                  ..\n",
       "nm4885985  Rémi Goulet      tt7610830  actor       1\n",
       "                            tt4027334  actor       1\n",
       "                            tt2224307  actor       1\n",
       "nm4885974  Mónica Portillo  tt6207386  actress     1\n",
       "nm0000002  Lauren Bacall    tt0858500  actress     1\n",
       "Length: 1027877, dtype: int64"
      ]
     },
     "execution_count": 56,
     "metadata": {},
     "output_type": "execute_result"
    }
   ],
   "source": [
    "film_people.value_counts()"
   ]
  },
  {
   "cell_type": "code",
   "execution_count": 57,
   "metadata": {},
   "outputs": [
    {
     "data": {
      "text/plain": [
       "person_id  primary_name            movie_id   category\n",
       "nm9161308  Sameer Deshpande        tt5489544  actor       2\n",
       "nm1289422  Barbara Bacci           tt3153648  actress     2\n",
       "nm3296031  Brendan Maclean         tt2815358  actor       2\n",
       "nm3206691  Hasan Majuni            tt2258513  actor       2\n",
       "nm3187984  Abdellatif Chaouqi      tt3592504  actor       2\n",
       "nm2442121  Ivy Yi-Han Chen         tt8942260  actress     2\n",
       "nm2335900  Justin Malone           tt1995481  actor       2\n",
       "nm1794850  David Chalmers          tt2073120  actor       2\n",
       "nm1141719  Nobuyuki Kase           tt5098626  actor       2\n",
       "nm3548929  Liuyuan Ding            tt5338100  actress     2\n",
       "nm0857847  Thich Nhát Hanh         tt5268106  actor       2\n",
       "nm0849468  Masashi Taniguchi       tt8108180  actor       2\n",
       "nm0605583  Robert Morin            tt6664852  actor       2\n",
       "nm0406809  Kunihiko Ida            tt5495582  actor       2\n",
       "nm0244327  Dorra Zarrouk           tt6549064  actress     2\n",
       "nm0172826  Luigi Cozzi             tt4537170  actor       2\n",
       "nm3414469  Mita Chatterjee         tt5282110  actress     2\n",
       "nm3741291  JC Cadena               tt7180088  actress     2\n",
       "nm9115981  Andy Johnson            tt7236082  editor      2\n",
       "nm5241644  Yu Li                   tt2473710  actor       2\n",
       "nm8204953  Nikhil Chaudhary        tt6094992  producer    2\n",
       "nm7129726  Chloe Brown             tt5974592  actress     2\n",
       "nm6523411  Sereene Brown           tt4472884  actress     2\n",
       "nm5992239  Shawan Emer             tt3246048  actress     2\n",
       "nm5726235  Dorian Kane             tt7725546  actor       2\n",
       "nm5241644  Yu Li                   tt6419578  actor       2\n",
       "nm4721563  Kristen StephensonPino  tt2557902  actress     2\n",
       "nm3772098  Ross Everett            tt2368182  actor       2\n",
       "nm4454963  Mike Kai Sui            tt6450032  actor       2\n",
       "nm3996622  Thomas Brenneck         tt5613920  actor       2\n",
       "nm3979007  Rameet Sandhu           tt5805424  actress     2\n",
       "nm3895623  Jacqueline Chong        tt6423408  actress     2\n",
       "                                   tt3503838  actress     2\n",
       "nm3782659  Ece Baykal              tt6971730  actress     2\n",
       "nm0149828  Sudiptaa Chakraborty    tt5473578  actress     2\n",
       "dtype: int64"
      ]
     },
     "execution_count": 57,
     "metadata": {},
     "output_type": "execute_result"
    }
   ],
   "source": [
    "# removes duplicate rows that share the same movie_id and person_id\n",
    "\n",
    "film_people_duplicates = film_people.duplicated(keep = False)\n",
    "film_people[film_people_duplicates].value_counts()"
   ]
  },
  {
   "cell_type": "code",
   "execution_count": 58,
   "metadata": {},
   "outputs": [
    {
     "data": {
      "text/plain": [
       "person_id  primary_name               movie_id    category\n",
       "nm9993680  Christopher-Lawson Palmer  tt10427366  actor       1\n",
       "nm1822501  Reece Rios                 tt1591509   actor       1\n",
       "nm1822600  Anastas Tanovski           tt7610008   actor       1\n",
       "nm1822582  Claude Stark               tt6046566   actor       1\n",
       "nm1822570  Esham                      tt2006716   self        1\n",
       "                                                             ..\n",
       "nm4886005  Abi Alberto                tt2224159   director    1\n",
       "nm4885998  Mott Green                 tt2224377   self        1\n",
       "nm4885985  Rémi Goulet                tt7610830   actor       1\n",
       "                                      tt4027334   actor       1\n",
       "nm0000002  Lauren Bacall              tt0858500   actress     1\n",
       "Length: 1027877, dtype: int64"
      ]
     },
     "execution_count": 58,
     "metadata": {},
     "output_type": "execute_result"
    }
   ],
   "source": [
    "film_people_no_dups = film_people.drop_duplicates()\n",
    "film_people_no_dups.value_counts()"
   ]
  },
  {
   "cell_type": "code",
   "execution_count": 59,
   "metadata": {},
   "outputs": [
    {
     "name": "stdout",
     "output_type": "stream",
     "text": [
      "<class 'pandas.core.frame.DataFrame'>\n",
      "Int64Index: 1027877 entries, 0 to 1027911\n",
      "Data columns (total 4 columns):\n",
      " #   Column        Non-Null Count    Dtype \n",
      "---  ------        --------------    ----- \n",
      " 0   person_id     1027877 non-null  object\n",
      " 1   primary_name  1027877 non-null  object\n",
      " 2   movie_id      1027877 non-null  object\n",
      " 3   category      1027877 non-null  object\n",
      "dtypes: object(4)\n",
      "memory usage: 39.2+ MB\n"
     ]
    }
   ],
   "source": [
    "film_people_no_dups.info()"
   ]
  },
  {
   "cell_type": "code",
   "execution_count": 60,
   "metadata": {},
   "outputs": [
    {
     "data": {
      "text/html": [
       "<div>\n",
       "<style scoped>\n",
       "    .dataframe tbody tr th:only-of-type {\n",
       "        vertical-align: middle;\n",
       "    }\n",
       "\n",
       "    .dataframe tbody tr th {\n",
       "        vertical-align: top;\n",
       "    }\n",
       "\n",
       "    .dataframe thead th {\n",
       "        text-align: right;\n",
       "    }\n",
       "</style>\n",
       "<table border=\"1\" class=\"dataframe\">\n",
       "  <thead>\n",
       "    <tr style=\"text-align: right;\">\n",
       "      <th></th>\n",
       "      <th>person_id</th>\n",
       "      <th>primary_name</th>\n",
       "      <th>movie_id</th>\n",
       "      <th>category</th>\n",
       "      <th>primary_title</th>\n",
       "      <th>start_year</th>\n",
       "      <th>runtime_minutes</th>\n",
       "      <th>genres</th>\n",
       "      <th>genres_list</th>\n",
       "    </tr>\n",
       "  </thead>\n",
       "  <tbody>\n",
       "    <tr>\n",
       "      <th>0</th>\n",
       "      <td>nm0061671</td>\n",
       "      <td>Mary Ellen Bauder</td>\n",
       "      <td>tt2398241</td>\n",
       "      <td>producer</td>\n",
       "      <td>Smurfs: The Lost Village</td>\n",
       "      <td>2017</td>\n",
       "      <td>90.0</td>\n",
       "      <td>Adventure,Animation,Comedy</td>\n",
       "      <td>[Adventure, Animation, Comedy]</td>\n",
       "    </tr>\n",
       "    <tr>\n",
       "      <th>1</th>\n",
       "      <td>nm0038432</td>\n",
       "      <td>Kelly Asbury</td>\n",
       "      <td>tt2398241</td>\n",
       "      <td>director</td>\n",
       "      <td>Smurfs: The Lost Village</td>\n",
       "      <td>2017</td>\n",
       "      <td>90.0</td>\n",
       "      <td>Adventure,Animation,Comedy</td>\n",
       "      <td>[Adventure, Animation, Comedy]</td>\n",
       "    </tr>\n",
       "    <tr>\n",
       "      <th>2</th>\n",
       "      <td>nm0449549</td>\n",
       "      <td>Jordan Kerner</td>\n",
       "      <td>tt2398241</td>\n",
       "      <td>producer</td>\n",
       "      <td>Smurfs: The Lost Village</td>\n",
       "      <td>2017</td>\n",
       "      <td>90.0</td>\n",
       "      <td>Adventure,Animation,Comedy</td>\n",
       "      <td>[Adventure, Animation, Comedy]</td>\n",
       "    </tr>\n",
       "    <tr>\n",
       "      <th>3</th>\n",
       "      <td>nm0962596</td>\n",
       "      <td>Pamela Ribon</td>\n",
       "      <td>tt2398241</td>\n",
       "      <td>writer</td>\n",
       "      <td>Smurfs: The Lost Village</td>\n",
       "      <td>2017</td>\n",
       "      <td>90.0</td>\n",
       "      <td>Adventure,Animation,Comedy</td>\n",
       "      <td>[Adventure, Animation, Comedy]</td>\n",
       "    </tr>\n",
       "    <tr>\n",
       "      <th>4</th>\n",
       "      <td>nm0678963</td>\n",
       "      <td>Peyo</td>\n",
       "      <td>tt2398241</td>\n",
       "      <td>writer</td>\n",
       "      <td>Smurfs: The Lost Village</td>\n",
       "      <td>2017</td>\n",
       "      <td>90.0</td>\n",
       "      <td>Adventure,Animation,Comedy</td>\n",
       "      <td>[Adventure, Animation, Comedy]</td>\n",
       "    </tr>\n",
       "    <tr>\n",
       "      <th>...</th>\n",
       "      <td>...</td>\n",
       "      <td>...</td>\n",
       "      <td>...</td>\n",
       "      <td>...</td>\n",
       "      <td>...</td>\n",
       "      <td>...</td>\n",
       "      <td>...</td>\n",
       "      <td>...</td>\n",
       "      <td>...</td>\n",
       "    </tr>\n",
       "    <tr>\n",
       "      <th>1017259</th>\n",
       "      <td>nm9529323</td>\n",
       "      <td>Klaus Erik Okstad</td>\n",
       "      <td>tt7826456</td>\n",
       "      <td>director</td>\n",
       "      <td>Det Afghanske Marerittet</td>\n",
       "      <td>2011</td>\n",
       "      <td>54.0</td>\n",
       "      <td>Documentary</td>\n",
       "      <td>[Documentary]</td>\n",
       "    </tr>\n",
       "    <tr>\n",
       "      <th>1017260</th>\n",
       "      <td>nm9734471</td>\n",
       "      <td>Reza Aghaei</td>\n",
       "      <td>tt8207434</td>\n",
       "      <td>director</td>\n",
       "      <td>Glasses</td>\n",
       "      <td>2017</td>\n",
       "      <td>75.0</td>\n",
       "      <td>Drama,Family</td>\n",
       "      <td>[Drama, Family]</td>\n",
       "    </tr>\n",
       "    <tr>\n",
       "      <th>1017261</th>\n",
       "      <td>nm9743728</td>\n",
       "      <td>Efrain Sosa</td>\n",
       "      <td>tt8226498</td>\n",
       "      <td>director</td>\n",
       "      <td>Finding the Night of the Dead</td>\n",
       "      <td>2019</td>\n",
       "      <td>62.0</td>\n",
       "      <td>Documentary</td>\n",
       "      <td>[Documentary]</td>\n",
       "    </tr>\n",
       "    <tr>\n",
       "      <th>1017262</th>\n",
       "      <td>nm9909687</td>\n",
       "      <td>Bastien Larue</td>\n",
       "      <td>tt8561352</td>\n",
       "      <td>director</td>\n",
       "      <td>Les officiants</td>\n",
       "      <td>2016</td>\n",
       "      <td>52.0</td>\n",
       "      <td>Documentary</td>\n",
       "      <td>[Documentary]</td>\n",
       "    </tr>\n",
       "    <tr>\n",
       "      <th>1017263</th>\n",
       "      <td>nm9971456</td>\n",
       "      <td>Zheng Wei</td>\n",
       "      <td>tt8697720</td>\n",
       "      <td>director</td>\n",
       "      <td>The Old Road</td>\n",
       "      <td>2013</td>\n",
       "      <td>NaN</td>\n",
       "      <td>Family</td>\n",
       "      <td>[Family]</td>\n",
       "    </tr>\n",
       "  </tbody>\n",
       "</table>\n",
       "<p>1017264 rows × 9 columns</p>\n",
       "</div>"
      ],
      "text/plain": [
       "         person_id       primary_name   movie_id  category  \\\n",
       "0        nm0061671  Mary Ellen Bauder  tt2398241  producer   \n",
       "1        nm0038432       Kelly Asbury  tt2398241  director   \n",
       "2        nm0449549      Jordan Kerner  tt2398241  producer   \n",
       "3        nm0962596       Pamela Ribon  tt2398241    writer   \n",
       "4        nm0678963               Peyo  tt2398241    writer   \n",
       "...            ...                ...        ...       ...   \n",
       "1017259  nm9529323  Klaus Erik Okstad  tt7826456  director   \n",
       "1017260  nm9734471        Reza Aghaei  tt8207434  director   \n",
       "1017261  nm9743728        Efrain Sosa  tt8226498  director   \n",
       "1017262  nm9909687      Bastien Larue  tt8561352  director   \n",
       "1017263  nm9971456          Zheng Wei  tt8697720  director   \n",
       "\n",
       "                         primary_title  start_year  runtime_minutes  \\\n",
       "0             Smurfs: The Lost Village        2017             90.0   \n",
       "1             Smurfs: The Lost Village        2017             90.0   \n",
       "2             Smurfs: The Lost Village        2017             90.0   \n",
       "3             Smurfs: The Lost Village        2017             90.0   \n",
       "4             Smurfs: The Lost Village        2017             90.0   \n",
       "...                                ...         ...              ...   \n",
       "1017259       Det Afghanske Marerittet        2011             54.0   \n",
       "1017260                        Glasses        2017             75.0   \n",
       "1017261  Finding the Night of the Dead        2019             62.0   \n",
       "1017262                 Les officiants        2016             52.0   \n",
       "1017263                   The Old Road        2013              NaN   \n",
       "\n",
       "                             genres                     genres_list  \n",
       "0        Adventure,Animation,Comedy  [Adventure, Animation, Comedy]  \n",
       "1        Adventure,Animation,Comedy  [Adventure, Animation, Comedy]  \n",
       "2        Adventure,Animation,Comedy  [Adventure, Animation, Comedy]  \n",
       "3        Adventure,Animation,Comedy  [Adventure, Animation, Comedy]  \n",
       "4        Adventure,Animation,Comedy  [Adventure, Animation, Comedy]  \n",
       "...                             ...                             ...  \n",
       "1017259                 Documentary                   [Documentary]  \n",
       "1017260                Drama,Family                 [Drama, Family]  \n",
       "1017261                 Documentary                   [Documentary]  \n",
       "1017262                 Documentary                   [Documentary]  \n",
       "1017263                      Family                        [Family]  \n",
       "\n",
       "[1017264 rows x 9 columns]"
      ]
     },
     "execution_count": 60,
     "metadata": {},
     "output_type": "execute_result"
    }
   ],
   "source": [
    "pd.merge(film_people_no_dups, movie_basics_clean, how = 'inner', on = 'movie_id')"
   ]
  },
  {
   "cell_type": "code",
   "execution_count": 61,
   "metadata": {},
   "outputs": [],
   "source": [
    "# joining film_people_no_dups and movie_basics_clean\n",
    "\n",
    "film_people_with_movies = pd.merge(film_people_no_dups, movie_basics_clean, how = 'inner', on = 'movie_id')"
   ]
  },
  {
   "cell_type": "code",
   "execution_count": 62,
   "metadata": {},
   "outputs": [],
   "source": [
    "# Dropping job and character columns \n",
    "\n",
    "film_people_with_movies.drop('runtime_minutes', axis=1, inplace=True)"
   ]
  },
  {
   "cell_type": "code",
   "execution_count": 63,
   "metadata": {},
   "outputs": [
    {
     "data": {
      "text/html": [
       "<div>\n",
       "<style scoped>\n",
       "    .dataframe tbody tr th:only-of-type {\n",
       "        vertical-align: middle;\n",
       "    }\n",
       "\n",
       "    .dataframe tbody tr th {\n",
       "        vertical-align: top;\n",
       "    }\n",
       "\n",
       "    .dataframe thead th {\n",
       "        text-align: right;\n",
       "    }\n",
       "</style>\n",
       "<table border=\"1\" class=\"dataframe\">\n",
       "  <thead>\n",
       "    <tr style=\"text-align: right;\">\n",
       "      <th></th>\n",
       "      <th>person_id</th>\n",
       "      <th>primary_name</th>\n",
       "      <th>movie_id</th>\n",
       "      <th>category</th>\n",
       "      <th>primary_title</th>\n",
       "      <th>start_year</th>\n",
       "      <th>genres</th>\n",
       "      <th>genres_list</th>\n",
       "    </tr>\n",
       "  </thead>\n",
       "  <tbody>\n",
       "    <tr>\n",
       "      <th>0</th>\n",
       "      <td>nm0061671</td>\n",
       "      <td>Mary Ellen Bauder</td>\n",
       "      <td>tt2398241</td>\n",
       "      <td>producer</td>\n",
       "      <td>Smurfs: The Lost Village</td>\n",
       "      <td>2017</td>\n",
       "      <td>Adventure,Animation,Comedy</td>\n",
       "      <td>[Adventure, Animation, Comedy]</td>\n",
       "    </tr>\n",
       "    <tr>\n",
       "      <th>1</th>\n",
       "      <td>nm0038432</td>\n",
       "      <td>Kelly Asbury</td>\n",
       "      <td>tt2398241</td>\n",
       "      <td>director</td>\n",
       "      <td>Smurfs: The Lost Village</td>\n",
       "      <td>2017</td>\n",
       "      <td>Adventure,Animation,Comedy</td>\n",
       "      <td>[Adventure, Animation, Comedy]</td>\n",
       "    </tr>\n",
       "    <tr>\n",
       "      <th>2</th>\n",
       "      <td>nm0449549</td>\n",
       "      <td>Jordan Kerner</td>\n",
       "      <td>tt2398241</td>\n",
       "      <td>producer</td>\n",
       "      <td>Smurfs: The Lost Village</td>\n",
       "      <td>2017</td>\n",
       "      <td>Adventure,Animation,Comedy</td>\n",
       "      <td>[Adventure, Animation, Comedy]</td>\n",
       "    </tr>\n",
       "    <tr>\n",
       "      <th>3</th>\n",
       "      <td>nm0962596</td>\n",
       "      <td>Pamela Ribon</td>\n",
       "      <td>tt2398241</td>\n",
       "      <td>writer</td>\n",
       "      <td>Smurfs: The Lost Village</td>\n",
       "      <td>2017</td>\n",
       "      <td>Adventure,Animation,Comedy</td>\n",
       "      <td>[Adventure, Animation, Comedy]</td>\n",
       "    </tr>\n",
       "    <tr>\n",
       "      <th>4</th>\n",
       "      <td>nm0678963</td>\n",
       "      <td>Peyo</td>\n",
       "      <td>tt2398241</td>\n",
       "      <td>writer</td>\n",
       "      <td>Smurfs: The Lost Village</td>\n",
       "      <td>2017</td>\n",
       "      <td>Adventure,Animation,Comedy</td>\n",
       "      <td>[Adventure, Animation, Comedy]</td>\n",
       "    </tr>\n",
       "  </tbody>\n",
       "</table>\n",
       "</div>"
      ],
      "text/plain": [
       "   person_id       primary_name   movie_id  category  \\\n",
       "0  nm0061671  Mary Ellen Bauder  tt2398241  producer   \n",
       "1  nm0038432       Kelly Asbury  tt2398241  director   \n",
       "2  nm0449549      Jordan Kerner  tt2398241  producer   \n",
       "3  nm0962596       Pamela Ribon  tt2398241    writer   \n",
       "4  nm0678963               Peyo  tt2398241    writer   \n",
       "\n",
       "              primary_title  start_year                      genres  \\\n",
       "0  Smurfs: The Lost Village        2017  Adventure,Animation,Comedy   \n",
       "1  Smurfs: The Lost Village        2017  Adventure,Animation,Comedy   \n",
       "2  Smurfs: The Lost Village        2017  Adventure,Animation,Comedy   \n",
       "3  Smurfs: The Lost Village        2017  Adventure,Animation,Comedy   \n",
       "4  Smurfs: The Lost Village        2017  Adventure,Animation,Comedy   \n",
       "\n",
       "                      genres_list  \n",
       "0  [Adventure, Animation, Comedy]  \n",
       "1  [Adventure, Animation, Comedy]  \n",
       "2  [Adventure, Animation, Comedy]  \n",
       "3  [Adventure, Animation, Comedy]  \n",
       "4  [Adventure, Animation, Comedy]  "
      ]
     },
     "execution_count": 63,
     "metadata": {},
     "output_type": "execute_result"
    }
   ],
   "source": [
    "film_people_with_movies.head()"
   ]
  },
  {
   "cell_type": "code",
   "execution_count": 64,
   "metadata": {},
   "outputs": [
    {
     "name": "stdout",
     "output_type": "stream",
     "text": [
      "<class 'pandas.core.frame.DataFrame'>\n",
      "Int64Index: 1017264 entries, 0 to 1017263\n",
      "Data columns (total 8 columns):\n",
      " #   Column         Non-Null Count    Dtype \n",
      "---  ------         --------------    ----- \n",
      " 0   person_id      1017264 non-null  object\n",
      " 1   primary_name   1017264 non-null  object\n",
      " 2   movie_id       1017264 non-null  object\n",
      " 3   category       1017264 non-null  object\n",
      " 4   primary_title  1017264 non-null  object\n",
      " 5   start_year     1017264 non-null  int64 \n",
      " 6   genres         1006151 non-null  object\n",
      " 7   genres_list    1006151 non-null  object\n",
      "dtypes: int64(1), object(7)\n",
      "memory usage: 69.8+ MB\n"
     ]
    }
   ],
   "source": [
    "film_people_with_movies.info()"
   ]
  },
  {
   "cell_type": "code",
   "execution_count": 65,
   "metadata": {},
   "outputs": [],
   "source": [
    "# check to ensure there are no duplicate rows that share the same person_id and movie_id\n",
    "\n",
    "#len(film_people_with_movies[film_people_with_movies.duplicated(keep = False)])"
   ]
  },
  {
   "cell_type": "code",
   "execution_count": 66,
   "metadata": {},
   "outputs": [],
   "source": [
    "# removing any person with a frequency less than three \n",
    "\n",
    "#gets a count of the frequency of each person's name in the df\n",
    "film_people_value_counts = film_people_with_movies.primary_name.value_counts() \n",
    "\n",
    "# selects the names that appear less than 3 times\n",
    "remove_people = film_people_value_counts[film_people_value_counts < 3].index\n",
    "\n",
    "# filters out rows that have a primary_name that is in remove_people\n",
    "film_people_mult_movies = film_people_with_movies[~film_people_with_movies['primary_name'].isin(remove_people)]"
   ]
  },
  {
   "cell_type": "code",
   "execution_count": 67,
   "metadata": {},
   "outputs": [
    {
     "name": "stdout",
     "output_type": "stream",
     "text": [
      "<class 'pandas.core.frame.DataFrame'>\n",
      "Int64Index: 448272 entries, 1 to 1017238\n",
      "Data columns (total 8 columns):\n",
      " #   Column         Non-Null Count   Dtype \n",
      "---  ------         --------------   ----- \n",
      " 0   person_id      448272 non-null  object\n",
      " 1   primary_name   448272 non-null  object\n",
      " 2   movie_id       448272 non-null  object\n",
      " 3   category       448272 non-null  object\n",
      " 4   primary_title  448272 non-null  object\n",
      " 5   start_year     448272 non-null  int64 \n",
      " 6   genres         443912 non-null  object\n",
      " 7   genres_list    443912 non-null  object\n",
      "dtypes: int64(1), object(7)\n",
      "memory usage: 30.8+ MB\n"
     ]
    }
   ],
   "source": [
    "film_people_mult_movies.info()"
   ]
  },
  {
   "cell_type": "code",
   "execution_count": 68,
   "metadata": {},
   "outputs": [],
   "source": [
    "# list of movies in the top 25% of roi\n",
    "top_25_percent_roi = list(budgets_no_outliers[budgets_no_outliers['roi (%)'] > budgets_no_outliers['roi (%)'].quantile(.75)].sort_values(by = ['roi (%)'], ascending = False)['movie'])"
   ]
  },
  {
   "cell_type": "code",
   "execution_count": 69,
   "metadata": {},
   "outputs": [
    {
     "data": {
      "text/html": [
       "<div>\n",
       "<style scoped>\n",
       "    .dataframe tbody tr th:only-of-type {\n",
       "        vertical-align: middle;\n",
       "    }\n",
       "\n",
       "    .dataframe tbody tr th {\n",
       "        vertical-align: top;\n",
       "    }\n",
       "\n",
       "    .dataframe thead th {\n",
       "        text-align: right;\n",
       "    }\n",
       "</style>\n",
       "<table border=\"1\" class=\"dataframe\">\n",
       "  <thead>\n",
       "    <tr style=\"text-align: right;\">\n",
       "      <th></th>\n",
       "      <th>movie_id</th>\n",
       "      <th>primary_title</th>\n",
       "      <th>start_year</th>\n",
       "      <th>runtime_minutes</th>\n",
       "      <th>genres</th>\n",
       "      <th>genres_list</th>\n",
       "    </tr>\n",
       "  </thead>\n",
       "  <tbody>\n",
       "    <tr>\n",
       "      <th>33</th>\n",
       "      <td>tt0293429</td>\n",
       "      <td>Mortal Kombat</td>\n",
       "      <td>2021</td>\n",
       "      <td>NaN</td>\n",
       "      <td>Action,Adventure,Fantasy</td>\n",
       "      <td>[Action, Adventure, Fantasy]</td>\n",
       "    </tr>\n",
       "    <tr>\n",
       "      <th>40</th>\n",
       "      <td>tt0326592</td>\n",
       "      <td>The Overnight</td>\n",
       "      <td>2010</td>\n",
       "      <td>88.0</td>\n",
       "      <td>None</td>\n",
       "      <td>None</td>\n",
       "    </tr>\n",
       "    <tr>\n",
       "      <th>60</th>\n",
       "      <td>tt0369610</td>\n",
       "      <td>Jurassic World</td>\n",
       "      <td>2015</td>\n",
       "      <td>124.0</td>\n",
       "      <td>Action,Adventure,Sci-Fi</td>\n",
       "      <td>[Action, Adventure, Sci-Fi]</td>\n",
       "    </tr>\n",
       "    <tr>\n",
       "      <th>97</th>\n",
       "      <td>tt0431021</td>\n",
       "      <td>The Possession</td>\n",
       "      <td>2012</td>\n",
       "      <td>92.0</td>\n",
       "      <td>Horror,Mystery,Thriller</td>\n",
       "      <td>[Horror, Mystery, Thriller]</td>\n",
       "    </tr>\n",
       "    <tr>\n",
       "      <th>104</th>\n",
       "      <td>tt0435761</td>\n",
       "      <td>Toy Story 3</td>\n",
       "      <td>2010</td>\n",
       "      <td>103.0</td>\n",
       "      <td>Adventure,Animation,Comedy</td>\n",
       "      <td>[Adventure, Animation, Comedy]</td>\n",
       "    </tr>\n",
       "  </tbody>\n",
       "</table>\n",
       "</div>"
      ],
      "text/plain": [
       "      movie_id   primary_title  start_year  runtime_minutes  \\\n",
       "33   tt0293429   Mortal Kombat        2021              NaN   \n",
       "40   tt0326592   The Overnight        2010             88.0   \n",
       "60   tt0369610  Jurassic World        2015            124.0   \n",
       "97   tt0431021  The Possession        2012             92.0   \n",
       "104  tt0435761     Toy Story 3        2010            103.0   \n",
       "\n",
       "                         genres                     genres_list  \n",
       "33     Action,Adventure,Fantasy    [Action, Adventure, Fantasy]  \n",
       "40                         None                            None  \n",
       "60      Action,Adventure,Sci-Fi     [Action, Adventure, Sci-Fi]  \n",
       "97      Horror,Mystery,Thriller     [Horror, Mystery, Thriller]  \n",
       "104  Adventure,Animation,Comedy  [Adventure, Animation, Comedy]  "
      ]
     },
     "execution_count": 69,
     "metadata": {},
     "output_type": "execute_result"
    }
   ],
   "source": [
    "# filtering movie_basics_clean to only include movies in the top 25% of roi\n",
    "\n",
    "top_roi_movie_basics = movie_basics_clean[movie_basics_clean['primary_title'].isin(top_25_percent_roi)]\n",
    "top_roi_movie_basics.head()"
   ]
  },
  {
   "cell_type": "code",
   "execution_count": 70,
   "metadata": {},
   "outputs": [
    {
     "name": "stdout",
     "output_type": "stream",
     "text": [
      "<class 'pandas.core.frame.DataFrame'>\n",
      "Int64Index: 824 entries, 33 to 145664\n",
      "Data columns (total 6 columns):\n",
      " #   Column           Non-Null Count  Dtype  \n",
      "---  ------           --------------  -----  \n",
      " 0   movie_id         824 non-null    object \n",
      " 1   primary_title    824 non-null    object \n",
      " 2   start_year       824 non-null    int64  \n",
      " 3   runtime_minutes  744 non-null    float64\n",
      " 4   genres           817 non-null    object \n",
      " 5   genres_list      817 non-null    object \n",
      "dtypes: float64(1), int64(1), object(4)\n",
      "memory usage: 45.1+ KB\n"
     ]
    }
   ],
   "source": [
    "top_roi_movie_basics.info()"
   ]
  },
  {
   "cell_type": "code",
   "execution_count": 71,
   "metadata": {},
   "outputs": [
    {
     "data": {
      "text/html": [
       "<div>\n",
       "<style scoped>\n",
       "    .dataframe tbody tr th:only-of-type {\n",
       "        vertical-align: middle;\n",
       "    }\n",
       "\n",
       "    .dataframe tbody tr th {\n",
       "        vertical-align: top;\n",
       "    }\n",
       "\n",
       "    .dataframe thead th {\n",
       "        text-align: right;\n",
       "    }\n",
       "</style>\n",
       "<table border=\"1\" class=\"dataframe\">\n",
       "  <thead>\n",
       "    <tr style=\"text-align: right;\">\n",
       "      <th></th>\n",
       "      <th>person_id</th>\n",
       "      <th>primary_name</th>\n",
       "      <th>movie_id</th>\n",
       "      <th>category</th>\n",
       "      <th>primary_title</th>\n",
       "      <th>start_year</th>\n",
       "      <th>genres</th>\n",
       "      <th>genres_list</th>\n",
       "    </tr>\n",
       "  </thead>\n",
       "  <tbody>\n",
       "    <tr>\n",
       "      <th>833</th>\n",
       "      <td>nm0192984</td>\n",
       "      <td>Paul Currie</td>\n",
       "      <td>tt2119532</td>\n",
       "      <td>producer</td>\n",
       "      <td>Hacksaw Ridge</td>\n",
       "      <td>2016</td>\n",
       "      <td>Biography,Drama,History</td>\n",
       "      <td>[Biography, Drama, History]</td>\n",
       "    </tr>\n",
       "    <tr>\n",
       "      <th>834</th>\n",
       "      <td>nm0941777</td>\n",
       "      <td>Sam Worthington</td>\n",
       "      <td>tt2119532</td>\n",
       "      <td>actor</td>\n",
       "      <td>Hacksaw Ridge</td>\n",
       "      <td>2016</td>\n",
       "      <td>Biography,Drama,History</td>\n",
       "      <td>[Biography, Drama, History]</td>\n",
       "    </tr>\n",
       "    <tr>\n",
       "      <th>835</th>\n",
       "      <td>nm0460795</td>\n",
       "      <td>Andrew Knight</td>\n",
       "      <td>tt2119532</td>\n",
       "      <td>writer</td>\n",
       "      <td>Hacksaw Ridge</td>\n",
       "      <td>2016</td>\n",
       "      <td>Biography,Drama,History</td>\n",
       "      <td>[Biography, Drama, History]</td>\n",
       "    </tr>\n",
       "    <tr>\n",
       "      <th>837</th>\n",
       "      <td>nm0202704</td>\n",
       "      <td>Bruce Davey</td>\n",
       "      <td>tt2119532</td>\n",
       "      <td>producer</td>\n",
       "      <td>Hacksaw Ridge</td>\n",
       "      <td>2016</td>\n",
       "      <td>Biography,Drama,History</td>\n",
       "      <td>[Biography, Drama, History]</td>\n",
       "    </tr>\n",
       "    <tr>\n",
       "      <th>838</th>\n",
       "      <td>nm0000154</td>\n",
       "      <td>Mel Gibson</td>\n",
       "      <td>tt2119532</td>\n",
       "      <td>director</td>\n",
       "      <td>Hacksaw Ridge</td>\n",
       "      <td>2016</td>\n",
       "      <td>Biography,Drama,History</td>\n",
       "      <td>[Biography, Drama, History]</td>\n",
       "    </tr>\n",
       "  </tbody>\n",
       "</table>\n",
       "</div>"
      ],
      "text/plain": [
       "     person_id     primary_name   movie_id  category  primary_title  \\\n",
       "833  nm0192984      Paul Currie  tt2119532  producer  Hacksaw Ridge   \n",
       "834  nm0941777  Sam Worthington  tt2119532     actor  Hacksaw Ridge   \n",
       "835  nm0460795    Andrew Knight  tt2119532    writer  Hacksaw Ridge   \n",
       "837  nm0202704      Bruce Davey  tt2119532  producer  Hacksaw Ridge   \n",
       "838  nm0000154       Mel Gibson  tt2119532  director  Hacksaw Ridge   \n",
       "\n",
       "     start_year                   genres                  genres_list  \n",
       "833        2016  Biography,Drama,History  [Biography, Drama, History]  \n",
       "834        2016  Biography,Drama,History  [Biography, Drama, History]  \n",
       "835        2016  Biography,Drama,History  [Biography, Drama, History]  \n",
       "837        2016  Biography,Drama,History  [Biography, Drama, History]  \n",
       "838        2016  Biography,Drama,History  [Biography, Drama, History]  "
      ]
     },
     "execution_count": 71,
     "metadata": {},
     "output_type": "execute_result"
    }
   ],
   "source": [
    "# creates df containing the people involved in the movies in the top 25% of roi\n",
    "top_roi_film_people = film_people_mult_movies[film_people_mult_movies['primary_title'].isin(top_25_percent_roi)]\n",
    "top_roi_film_people.head()"
   ]
  },
  {
   "cell_type": "code",
   "execution_count": 72,
   "metadata": {},
   "outputs": [],
   "source": [
    "# removing any person with a frequency less than three \n",
    "\n",
    "#gets a count of the frequency of each person's name in the df\n",
    "top_people_value_counts = top_roi_film_people.primary_name.value_counts() \n",
    "\n",
    "# selects the names that appear less than 3 times\n",
    "remove_ppl = top_people_value_counts[top_people_value_counts < 3].index\n",
    "\n",
    "# filters out rows that have a primary_name that is in remove_people\n",
    "top_roi_people = top_roi_film_people[~top_roi_film_people['primary_name'].isin(remove_ppl)]"
   ]
  },
  {
   "cell_type": "code",
   "execution_count": 73,
   "metadata": {},
   "outputs": [
    {
     "name": "stdout",
     "output_type": "stream",
     "text": [
      "<class 'pandas.core.frame.DataFrame'>\n",
      "Int64Index: 1079 entries, 841 to 809981\n",
      "Data columns (total 8 columns):\n",
      " #   Column         Non-Null Count  Dtype \n",
      "---  ------         --------------  ----- \n",
      " 0   person_id      1079 non-null   object\n",
      " 1   primary_name   1079 non-null   object\n",
      " 2   movie_id       1079 non-null   object\n",
      " 3   category       1079 non-null   object\n",
      " 4   primary_title  1079 non-null   object\n",
      " 5   start_year     1079 non-null   int64 \n",
      " 6   genres         1079 non-null   object\n",
      " 7   genres_list    1079 non-null   object\n",
      "dtypes: int64(1), object(7)\n",
      "memory usage: 75.9+ KB\n"
     ]
    }
   ],
   "source": [
    "top_roi_people.info()"
   ]
  },
  {
   "cell_type": "code",
   "execution_count": 74,
   "metadata": {},
   "outputs": [
    {
     "data": {
      "text/html": [
       "<div>\n",
       "<style scoped>\n",
       "    .dataframe tbody tr th:only-of-type {\n",
       "        vertical-align: middle;\n",
       "    }\n",
       "\n",
       "    .dataframe tbody tr th {\n",
       "        vertical-align: top;\n",
       "    }\n",
       "\n",
       "    .dataframe thead th {\n",
       "        text-align: right;\n",
       "    }\n",
       "</style>\n",
       "<table border=\"1\" class=\"dataframe\">\n",
       "  <thead>\n",
       "    <tr style=\"text-align: right;\">\n",
       "      <th></th>\n",
       "      <th>person_id</th>\n",
       "      <th>primary_name</th>\n",
       "      <th>movie_id</th>\n",
       "      <th>category</th>\n",
       "      <th>primary_title</th>\n",
       "      <th>start_year</th>\n",
       "      <th>genres</th>\n",
       "      <th>genres_list</th>\n",
       "      <th>release_date</th>\n",
       "      <th>movie</th>\n",
       "      <th>production_budget (millions of $)</th>\n",
       "      <th>domestic_gross (millions of $)</th>\n",
       "      <th>worldwide_gross (millions of $)</th>\n",
       "      <th>roi (%)</th>\n",
       "    </tr>\n",
       "  </thead>\n",
       "  <tbody>\n",
       "    <tr>\n",
       "      <th>0</th>\n",
       "      <td>nm1954240</td>\n",
       "      <td>Teresa Palmer</td>\n",
       "      <td>tt2119532</td>\n",
       "      <td>actress</td>\n",
       "      <td>Hacksaw Ridge</td>\n",
       "      <td>2016</td>\n",
       "      <td>Biography,Drama,History</td>\n",
       "      <td>[Biography, Drama, History]</td>\n",
       "      <td>Nov 4, 2016</td>\n",
       "      <td>Hacksaw Ridge</td>\n",
       "      <td>40.0</td>\n",
       "      <td>67.210</td>\n",
       "      <td>168.905</td>\n",
       "      <td>490.287</td>\n",
       "    </tr>\n",
       "    <tr>\n",
       "      <th>1</th>\n",
       "      <td>nm0001752</td>\n",
       "      <td>Steven Soderbergh</td>\n",
       "      <td>tt2268016</td>\n",
       "      <td>cinematographer</td>\n",
       "      <td>Magic Mike XXL</td>\n",
       "      <td>2015</td>\n",
       "      <td>Comedy,Drama,Music</td>\n",
       "      <td>[Comedy, Drama, Music]</td>\n",
       "      <td>Jul 1, 2015</td>\n",
       "      <td>Magic Mike XXL</td>\n",
       "      <td>14.5</td>\n",
       "      <td>66.013</td>\n",
       "      <td>123.661</td>\n",
       "      <td>1208.097</td>\n",
       "    </tr>\n",
       "    <tr>\n",
       "      <th>2</th>\n",
       "      <td>nm1475594</td>\n",
       "      <td>Channing Tatum</td>\n",
       "      <td>tt2268016</td>\n",
       "      <td>actor</td>\n",
       "      <td>Magic Mike XXL</td>\n",
       "      <td>2015</td>\n",
       "      <td>Comedy,Drama,Music</td>\n",
       "      <td>[Comedy, Drama, Music]</td>\n",
       "      <td>Jul 1, 2015</td>\n",
       "      <td>Magic Mike XXL</td>\n",
       "      <td>14.5</td>\n",
       "      <td>66.013</td>\n",
       "      <td>123.661</td>\n",
       "      <td>1208.097</td>\n",
       "    </tr>\n",
       "    <tr>\n",
       "      <th>3</th>\n",
       "      <td>nm1749221</td>\n",
       "      <td>Nina Jacobson</td>\n",
       "      <td>tt1650043</td>\n",
       "      <td>producer</td>\n",
       "      <td>Diary of a Wimpy Kid: Rodrick Rules</td>\n",
       "      <td>2011</td>\n",
       "      <td>Comedy,Family</td>\n",
       "      <td>[Comedy, Family]</td>\n",
       "      <td>Mar 25, 2011</td>\n",
       "      <td>Diary of a Wimpy Kid: Rodrick Rules</td>\n",
       "      <td>18.0</td>\n",
       "      <td>52.699</td>\n",
       "      <td>73.695</td>\n",
       "      <td>602.189</td>\n",
       "    </tr>\n",
       "    <tr>\n",
       "      <th>4</th>\n",
       "      <td>nm0331516</td>\n",
       "      <td>Ryan Gosling</td>\n",
       "      <td>tt1120985</td>\n",
       "      <td>actor</td>\n",
       "      <td>Blue Valentine</td>\n",
       "      <td>2010</td>\n",
       "      <td>Drama,Romance</td>\n",
       "      <td>[Drama, Romance]</td>\n",
       "      <td>Dec 29, 2010</td>\n",
       "      <td>Blue Valentine</td>\n",
       "      <td>1.0</td>\n",
       "      <td>9.738</td>\n",
       "      <td>16.566</td>\n",
       "      <td>2530.400</td>\n",
       "    </tr>\n",
       "  </tbody>\n",
       "</table>\n",
       "</div>"
      ],
      "text/plain": [
       "   person_id       primary_name   movie_id         category  \\\n",
       "0  nm1954240      Teresa Palmer  tt2119532          actress   \n",
       "1  nm0001752  Steven Soderbergh  tt2268016  cinematographer   \n",
       "2  nm1475594     Channing Tatum  tt2268016            actor   \n",
       "3  nm1749221      Nina Jacobson  tt1650043         producer   \n",
       "4  nm0331516       Ryan Gosling  tt1120985            actor   \n",
       "\n",
       "                         primary_title  start_year                   genres  \\\n",
       "0                        Hacksaw Ridge        2016  Biography,Drama,History   \n",
       "1                       Magic Mike XXL        2015       Comedy,Drama,Music   \n",
       "2                       Magic Mike XXL        2015       Comedy,Drama,Music   \n",
       "3  Diary of a Wimpy Kid: Rodrick Rules        2011            Comedy,Family   \n",
       "4                       Blue Valentine        2010            Drama,Romance   \n",
       "\n",
       "                   genres_list  release_date  \\\n",
       "0  [Biography, Drama, History]   Nov 4, 2016   \n",
       "1       [Comedy, Drama, Music]   Jul 1, 2015   \n",
       "2       [Comedy, Drama, Music]   Jul 1, 2015   \n",
       "3             [Comedy, Family]  Mar 25, 2011   \n",
       "4             [Drama, Romance]  Dec 29, 2010   \n",
       "\n",
       "                                 movie  production_budget (millions of $)  \\\n",
       "0                        Hacksaw Ridge                               40.0   \n",
       "1                       Magic Mike XXL                               14.5   \n",
       "2                       Magic Mike XXL                               14.5   \n",
       "3  Diary of a Wimpy Kid: Rodrick Rules                               18.0   \n",
       "4                       Blue Valentine                                1.0   \n",
       "\n",
       "   domestic_gross (millions of $)  worldwide_gross (millions of $)   roi (%)  \n",
       "0                          67.210                          168.905   490.287  \n",
       "1                          66.013                          123.661  1208.097  \n",
       "2                          66.013                          123.661  1208.097  \n",
       "3                          52.699                           73.695   602.189  \n",
       "4                           9.738                           16.566  2530.400  "
      ]
     },
     "execution_count": 74,
     "metadata": {},
     "output_type": "execute_result"
    }
   ],
   "source": [
    "# joining top_roi_film_people and budgets\n",
    "\n",
    "top_people_budgets = pd.merge(top_roi_people, budgets, how = 'inner', left_on = 'primary_title', right_on = 'movie')\n",
    "top_people_budgets.head()"
   ]
  },
  {
   "cell_type": "code",
   "execution_count": 75,
   "metadata": {},
   "outputs": [
    {
     "data": {
      "text/plain": [
       "nm0089658    33\n",
       "nm0000881    12\n",
       "nm0366389    11\n",
       "nm2225369     9\n",
       "nm1490123     9\n",
       "             ..\n",
       "nm0631490     3\n",
       "nm0908094     2\n",
       "nm1512937     2\n",
       "nm0425053     2\n",
       "nm2053216     1\n",
       "Name: person_id, Length: 274, dtype: int64"
      ]
     },
     "execution_count": 75,
     "metadata": {},
     "output_type": "execute_result"
    }
   ],
   "source": [
    "top_people_budgets.person_id.value_counts()"
   ]
  },
  {
   "cell_type": "code",
   "execution_count": 76,
   "metadata": {},
   "outputs": [
    {
     "data": {
      "text/plain": [
       "actor              320\n",
       "producer           282\n",
       "actress            211\n",
       "writer             136\n",
       "director           100\n",
       "composer            73\n",
       "cinematographer     11\n",
       "self                 4\n",
       "editor               2\n",
       "Name: category, dtype: int64"
      ]
     },
     "execution_count": 76,
     "metadata": {},
     "output_type": "execute_result"
    }
   ],
   "source": [
    "top_people_budgets.category.value_counts()"
   ]
  },
  {
   "cell_type": "code",
   "execution_count": 77,
   "metadata": {},
   "outputs": [],
   "source": [
    "top_people_budgets['category'] = top_people_budgets.category.replace('actress','actor')"
   ]
  },
  {
   "cell_type": "code",
   "execution_count": 78,
   "metadata": {},
   "outputs": [],
   "source": [
    "top_people_budgets['category'] = top_people_budgets.category.str.title()"
   ]
  },
  {
   "cell_type": "code",
   "execution_count": 79,
   "metadata": {},
   "outputs": [
    {
     "data": {
      "text/plain": [
       "Actor              531\n",
       "Producer           282\n",
       "Writer             136\n",
       "Director           100\n",
       "Composer            73\n",
       "Cinematographer     11\n",
       "Self                 4\n",
       "Editor               2\n",
       "Name: category, dtype: int64"
      ]
     },
     "execution_count": 79,
     "metadata": {},
     "output_type": "execute_result"
    }
   ],
   "source": [
    "top_people_budgets.category.value_counts()"
   ]
  },
  {
   "cell_type": "code",
   "execution_count": 80,
   "metadata": {},
   "outputs": [
    {
     "data": {
      "text/html": [
       "<div>\n",
       "<style scoped>\n",
       "    .dataframe tbody tr th:only-of-type {\n",
       "        vertical-align: middle;\n",
       "    }\n",
       "\n",
       "    .dataframe tbody tr th {\n",
       "        vertical-align: top;\n",
       "    }\n",
       "\n",
       "    .dataframe thead th {\n",
       "        text-align: right;\n",
       "    }\n",
       "</style>\n",
       "<table border=\"1\" class=\"dataframe\">\n",
       "  <thead>\n",
       "    <tr style=\"text-align: right;\">\n",
       "      <th></th>\n",
       "      <th>person_id</th>\n",
       "      <th>primary_name</th>\n",
       "      <th>movie_id</th>\n",
       "      <th>category</th>\n",
       "      <th>primary_title</th>\n",
       "      <th>start_year</th>\n",
       "      <th>genres</th>\n",
       "      <th>genres_list</th>\n",
       "      <th>release_date</th>\n",
       "      <th>movie</th>\n",
       "      <th>production_budget (millions of $)</th>\n",
       "      <th>domestic_gross (millions of $)</th>\n",
       "      <th>worldwide_gross (millions of $)</th>\n",
       "      <th>roi (%)</th>\n",
       "    </tr>\n",
       "  </thead>\n",
       "  <tbody>\n",
       "  </tbody>\n",
       "</table>\n",
       "</div>"
      ],
      "text/plain": [
       "Empty DataFrame\n",
       "Columns: [person_id, primary_name, movie_id, category, primary_title, start_year, genres, genres_list, release_date, movie, production_budget (millions of $), domestic_gross (millions of $), worldwide_gross (millions of $), roi (%)]\n",
       "Index: []"
      ]
     },
     "execution_count": 80,
     "metadata": {},
     "output_type": "execute_result"
    }
   ],
   "source": [
    "top_people_budgets[top_people_budgets['category'] == 'Cinematographer'].head()"
   ]
  },
  {
   "cell_type": "code",
   "execution_count": 81,
   "metadata": {},
   "outputs": [
    {
     "data": {
      "text/plain": [
       "Index(['Editor', 'Self', 'Cinematographer'], dtype='object')"
      ]
     },
     "execution_count": 81,
     "metadata": {},
     "output_type": "execute_result"
    }
   ],
   "source": [
    "categories_to_drop = top_people_budgets.category.value_counts().sort_values(ascending = True).head(3).index\n",
    "categories_to_drop"
   ]
  },
  {
   "cell_type": "code",
   "execution_count": 82,
   "metadata": {},
   "outputs": [],
   "source": [
    "top_people_budgets = top_people_budgets[~top_people_budgets['category'].isin(categories_to_drop)]"
   ]
  },
  {
   "cell_type": "code",
   "execution_count": 83,
   "metadata": {},
   "outputs": [
    {
     "data": {
      "text/plain": [
       "Jason Blum           33\n",
       "Michael Bay          12\n",
       "Kevin Hart            9\n",
       "James Wan             9\n",
       "Jennifer Lawrence     9\n",
       "                     ..\n",
       "Brian Tyler           3\n",
       "Matt Damon            3\n",
       "Steven Soderbergh     2\n",
       "Harry Ratchford       2\n",
       "Gregory Plotkin       1\n",
       "Name: primary_name, Length: 269, dtype: int64"
      ]
     },
     "execution_count": 83,
     "metadata": {},
     "output_type": "execute_result"
    }
   ],
   "source": [
    "top_people_budgets.primary_name.value_counts()"
   ]
  },
  {
   "cell_type": "code",
   "execution_count": 84,
   "metadata": {},
   "outputs": [
    {
     "data": {
      "text/html": [
       "<div>\n",
       "<style scoped>\n",
       "    .dataframe tbody tr th:only-of-type {\n",
       "        vertical-align: middle;\n",
       "    }\n",
       "\n",
       "    .dataframe tbody tr th {\n",
       "        vertical-align: top;\n",
       "    }\n",
       "\n",
       "    .dataframe thead th {\n",
       "        text-align: right;\n",
       "    }\n",
       "</style>\n",
       "<table border=\"1\" class=\"dataframe\">\n",
       "  <thead>\n",
       "    <tr style=\"text-align: right;\">\n",
       "      <th></th>\n",
       "      <th>person_id</th>\n",
       "      <th>primary_name</th>\n",
       "      <th>movie_id</th>\n",
       "      <th>category</th>\n",
       "      <th>primary_title</th>\n",
       "      <th>start_year</th>\n",
       "      <th>genres</th>\n",
       "      <th>genres_list</th>\n",
       "      <th>release_date</th>\n",
       "      <th>movie</th>\n",
       "      <th>production_budget (millions of $)</th>\n",
       "      <th>domestic_gross (millions of $)</th>\n",
       "      <th>worldwide_gross (millions of $)</th>\n",
       "      <th>roi (%)</th>\n",
       "    </tr>\n",
       "  </thead>\n",
       "  <tbody>\n",
       "    <tr>\n",
       "      <th>379</th>\n",
       "      <td>nm1512937</td>\n",
       "      <td>Paul Walker</td>\n",
       "      <td>tt3474788</td>\n",
       "      <td>Writer</td>\n",
       "      <td>The Gift</td>\n",
       "      <td>2014</td>\n",
       "      <td>Action,Drama,Thriller</td>\n",
       "      <td>[Action, Drama, Thriller]</td>\n",
       "      <td>Dec 19, 2000</td>\n",
       "      <td>The Gift</td>\n",
       "      <td>10.0</td>\n",
       "      <td>12.009</td>\n",
       "      <td>44.568</td>\n",
       "      <td>465.77</td>\n",
       "    </tr>\n",
       "    <tr>\n",
       "      <th>380</th>\n",
       "      <td>nm1512937</td>\n",
       "      <td>Paul Walker</td>\n",
       "      <td>tt3474788</td>\n",
       "      <td>Writer</td>\n",
       "      <td>The Gift</td>\n",
       "      <td>2014</td>\n",
       "      <td>Action,Drama,Thriller</td>\n",
       "      <td>[Action, Drama, Thriller]</td>\n",
       "      <td>Aug 7, 2015</td>\n",
       "      <td>The Gift</td>\n",
       "      <td>5.0</td>\n",
       "      <td>43.787</td>\n",
       "      <td>58.978</td>\n",
       "      <td>1955.30</td>\n",
       "    </tr>\n",
       "  </tbody>\n",
       "</table>\n",
       "</div>"
      ],
      "text/plain": [
       "     person_id primary_name   movie_id category primary_title  start_year  \\\n",
       "379  nm1512937  Paul Walker  tt3474788   Writer      The Gift        2014   \n",
       "380  nm1512937  Paul Walker  tt3474788   Writer      The Gift        2014   \n",
       "\n",
       "                    genres                genres_list  release_date     movie  \\\n",
       "379  Action,Drama,Thriller  [Action, Drama, Thriller]  Dec 19, 2000  The Gift   \n",
       "380  Action,Drama,Thriller  [Action, Drama, Thriller]   Aug 7, 2015  The Gift   \n",
       "\n",
       "     production_budget (millions of $)  domestic_gross (millions of $)  \\\n",
       "379                               10.0                          12.009   \n",
       "380                                5.0                          43.787   \n",
       "\n",
       "     worldwide_gross (millions of $)  roi (%)  \n",
       "379                           44.568   465.77  \n",
       "380                           58.978  1955.30  "
      ]
     },
     "execution_count": 84,
     "metadata": {},
     "output_type": "execute_result"
    }
   ],
   "source": [
    "top_people_budgets[top_people_budgets['person_id'] == 'nm1512937']"
   ]
  },
  {
   "cell_type": "code",
   "execution_count": 85,
   "metadata": {},
   "outputs": [
    {
     "data": {
      "text/html": [
       "<div>\n",
       "<style scoped>\n",
       "    .dataframe tbody tr th:only-of-type {\n",
       "        vertical-align: middle;\n",
       "    }\n",
       "\n",
       "    .dataframe tbody tr th {\n",
       "        vertical-align: top;\n",
       "    }\n",
       "\n",
       "    .dataframe thead th {\n",
       "        text-align: right;\n",
       "    }\n",
       "</style>\n",
       "<table border=\"1\" class=\"dataframe\">\n",
       "  <thead>\n",
       "    <tr style=\"text-align: right;\">\n",
       "      <th></th>\n",
       "      <th>person_id</th>\n",
       "      <th>primary_name</th>\n",
       "      <th>movie_id</th>\n",
       "      <th>category</th>\n",
       "      <th>primary_title</th>\n",
       "      <th>start_year</th>\n",
       "      <th>genres</th>\n",
       "      <th>genres_list</th>\n",
       "      <th>release_date</th>\n",
       "      <th>movie</th>\n",
       "      <th>production_budget (millions of $)</th>\n",
       "      <th>domestic_gross (millions of $)</th>\n",
       "      <th>worldwide_gross (millions of $)</th>\n",
       "      <th>roi (%)</th>\n",
       "    </tr>\n",
       "  </thead>\n",
       "  <tbody>\n",
       "    <tr>\n",
       "      <th>205</th>\n",
       "      <td>nm0908094</td>\n",
       "      <td>Paul Walker</td>\n",
       "      <td>tt1596343</td>\n",
       "      <td>Actor</td>\n",
       "      <td>Fast Five</td>\n",
       "      <td>2011</td>\n",
       "      <td>Action,Crime,Thriller</td>\n",
       "      <td>[Action, Crime, Thriller]</td>\n",
       "      <td>Apr 29, 2011</td>\n",
       "      <td>Fast Five</td>\n",
       "      <td>125.0</td>\n",
       "      <td>210.031</td>\n",
       "      <td>630.163</td>\n",
       "      <td>572.155</td>\n",
       "    </tr>\n",
       "    <tr>\n",
       "      <th>222</th>\n",
       "      <td>nm0908094</td>\n",
       "      <td>Paul Walker</td>\n",
       "      <td>tt2820852</td>\n",
       "      <td>Actor</td>\n",
       "      <td>Furious 7</td>\n",
       "      <td>2015</td>\n",
       "      <td>Action,Crime,Thriller</td>\n",
       "      <td>[Action, Crime, Thriller]</td>\n",
       "      <td>Apr 3, 2015</td>\n",
       "      <td>Furious 7</td>\n",
       "      <td>190.0</td>\n",
       "      <td>353.007</td>\n",
       "      <td>1518.723</td>\n",
       "      <td>885.121</td>\n",
       "    </tr>\n",
       "    <tr>\n",
       "      <th>379</th>\n",
       "      <td>nm1512937</td>\n",
       "      <td>Paul Walker</td>\n",
       "      <td>tt3474788</td>\n",
       "      <td>Writer</td>\n",
       "      <td>The Gift</td>\n",
       "      <td>2014</td>\n",
       "      <td>Action,Drama,Thriller</td>\n",
       "      <td>[Action, Drama, Thriller]</td>\n",
       "      <td>Dec 19, 2000</td>\n",
       "      <td>The Gift</td>\n",
       "      <td>10.0</td>\n",
       "      <td>12.009</td>\n",
       "      <td>44.568</td>\n",
       "      <td>465.770</td>\n",
       "    </tr>\n",
       "    <tr>\n",
       "      <th>380</th>\n",
       "      <td>nm1512937</td>\n",
       "      <td>Paul Walker</td>\n",
       "      <td>tt3474788</td>\n",
       "      <td>Writer</td>\n",
       "      <td>The Gift</td>\n",
       "      <td>2014</td>\n",
       "      <td>Action,Drama,Thriller</td>\n",
       "      <td>[Action, Drama, Thriller]</td>\n",
       "      <td>Aug 7, 2015</td>\n",
       "      <td>The Gift</td>\n",
       "      <td>5.0</td>\n",
       "      <td>43.787</td>\n",
       "      <td>58.978</td>\n",
       "      <td>1955.300</td>\n",
       "    </tr>\n",
       "  </tbody>\n",
       "</table>\n",
       "</div>"
      ],
      "text/plain": [
       "     person_id primary_name   movie_id category primary_title  start_year  \\\n",
       "205  nm0908094  Paul Walker  tt1596343    Actor     Fast Five        2011   \n",
       "222  nm0908094  Paul Walker  tt2820852    Actor     Furious 7        2015   \n",
       "379  nm1512937  Paul Walker  tt3474788   Writer      The Gift        2014   \n",
       "380  nm1512937  Paul Walker  tt3474788   Writer      The Gift        2014   \n",
       "\n",
       "                    genres                genres_list  release_date  \\\n",
       "205  Action,Crime,Thriller  [Action, Crime, Thriller]  Apr 29, 2011   \n",
       "222  Action,Crime,Thriller  [Action, Crime, Thriller]   Apr 3, 2015   \n",
       "379  Action,Drama,Thriller  [Action, Drama, Thriller]  Dec 19, 2000   \n",
       "380  Action,Drama,Thriller  [Action, Drama, Thriller]   Aug 7, 2015   \n",
       "\n",
       "         movie  production_budget (millions of $)  \\\n",
       "205  Fast Five                              125.0   \n",
       "222  Furious 7                              190.0   \n",
       "379   The Gift                               10.0   \n",
       "380   The Gift                                5.0   \n",
       "\n",
       "     domestic_gross (millions of $)  worldwide_gross (millions of $)   roi (%)  \n",
       "205                         210.031                          630.163   572.155  \n",
       "222                         353.007                         1518.723   885.121  \n",
       "379                          12.009                           44.568   465.770  \n",
       "380                          43.787                           58.978  1955.300  "
      ]
     },
     "execution_count": 85,
     "metadata": {},
     "output_type": "execute_result"
    }
   ],
   "source": [
    "top_people_budgets[top_people_budgets['primary_name'] == 'Paul Walker']"
   ]
  },
  {
   "cell_type": "code",
   "execution_count": 86,
   "metadata": {},
   "outputs": [
    {
     "name": "stdout",
     "output_type": "stream",
     "text": [
      "<class 'pandas.core.frame.DataFrame'>\n",
      "Int64Index: 1122 entries, 0 to 1138\n",
      "Data columns (total 14 columns):\n",
      " #   Column                             Non-Null Count  Dtype  \n",
      "---  ------                             --------------  -----  \n",
      " 0   person_id                          1122 non-null   object \n",
      " 1   primary_name                       1122 non-null   object \n",
      " 2   movie_id                           1122 non-null   object \n",
      " 3   category                           1122 non-null   object \n",
      " 4   primary_title                      1122 non-null   object \n",
      " 5   start_year                         1122 non-null   int64  \n",
      " 6   genres                             1122 non-null   object \n",
      " 7   genres_list                        1122 non-null   object \n",
      " 8   release_date                       1122 non-null   object \n",
      " 9   movie                              1122 non-null   object \n",
      " 10  production_budget (millions of $)  1122 non-null   float64\n",
      " 11  domestic_gross (millions of $)     1122 non-null   float64\n",
      " 12  worldwide_gross (millions of $)    1122 non-null   float64\n",
      " 13  roi (%)                            1122 non-null   float64\n",
      "dtypes: float64(4), int64(1), object(9)\n",
      "memory usage: 131.5+ KB\n"
     ]
    }
   ],
   "source": [
    "top_people_budgets.info()"
   ]
  },
  {
   "cell_type": "markdown",
   "metadata": {},
   "source": [
    "# Exploratory Data Analysis"
   ]
  },
  {
   "cell_type": "code",
   "execution_count": 87,
   "metadata": {},
   "outputs": [
    {
     "data": {
      "text/html": [
       "<div>\n",
       "<style scoped>\n",
       "    .dataframe tbody tr th:only-of-type {\n",
       "        vertical-align: middle;\n",
       "    }\n",
       "\n",
       "    .dataframe tbody tr th {\n",
       "        vertical-align: top;\n",
       "    }\n",
       "\n",
       "    .dataframe thead th {\n",
       "        text-align: right;\n",
       "    }\n",
       "</style>\n",
       "<table border=\"1\" class=\"dataframe\">\n",
       "  <thead>\n",
       "    <tr style=\"text-align: right;\">\n",
       "      <th></th>\n",
       "      <th>production_budget (millions of $)</th>\n",
       "      <th>domestic_gross (millions of $)</th>\n",
       "      <th>worldwide_gross (millions of $)</th>\n",
       "      <th>roi (%)</th>\n",
       "    </tr>\n",
       "  </thead>\n",
       "  <tbody>\n",
       "    <tr>\n",
       "      <th>count</th>\n",
       "      <td>5754.000000</td>\n",
       "      <td>5754.000000</td>\n",
       "      <td>5754.000000</td>\n",
       "      <td>5754.000000</td>\n",
       "    </tr>\n",
       "    <tr>\n",
       "      <th>mean</th>\n",
       "      <td>31.739910</td>\n",
       "      <td>41.864080</td>\n",
       "      <td>91.597494</td>\n",
       "      <td>457.312323</td>\n",
       "    </tr>\n",
       "    <tr>\n",
       "      <th>std</th>\n",
       "      <td>41.856618</td>\n",
       "      <td>68.317503</td>\n",
       "      <td>175.047591</td>\n",
       "      <td>1146.465101</td>\n",
       "    </tr>\n",
       "    <tr>\n",
       "      <th>min</th>\n",
       "      <td>0.001000</td>\n",
       "      <td>0.000000</td>\n",
       "      <td>0.000000</td>\n",
       "      <td>-100.000000</td>\n",
       "    </tr>\n",
       "    <tr>\n",
       "      <th>25%</th>\n",
       "      <td>5.000000</td>\n",
       "      <td>1.378500</td>\n",
       "      <td>4.102250</td>\n",
       "      <td>-20.905750</td>\n",
       "    </tr>\n",
       "    <tr>\n",
       "      <th>50%</th>\n",
       "      <td>17.000000</td>\n",
       "      <td>17.226000</td>\n",
       "      <td>27.984000</td>\n",
       "      <td>162.819000</td>\n",
       "    </tr>\n",
       "    <tr>\n",
       "      <th>75%</th>\n",
       "      <td>40.000000</td>\n",
       "      <td>52.349000</td>\n",
       "      <td>97.621750</td>\n",
       "      <td>480.761000</td>\n",
       "    </tr>\n",
       "    <tr>\n",
       "      <th>max</th>\n",
       "      <td>425.000000</td>\n",
       "      <td>936.662000</td>\n",
       "      <td>2776.345000</td>\n",
       "      <td>17104.000000</td>\n",
       "    </tr>\n",
       "  </tbody>\n",
       "</table>\n",
       "</div>"
      ],
      "text/plain": [
       "       production_budget (millions of $)  domestic_gross (millions of $)  \\\n",
       "count                        5754.000000                     5754.000000   \n",
       "mean                           31.739910                       41.864080   \n",
       "std                            41.856618                       68.317503   \n",
       "min                             0.001000                        0.000000   \n",
       "25%                             5.000000                        1.378500   \n",
       "50%                            17.000000                       17.226000   \n",
       "75%                            40.000000                       52.349000   \n",
       "max                           425.000000                      936.662000   \n",
       "\n",
       "       worldwide_gross (millions of $)       roi (%)  \n",
       "count                      5754.000000   5754.000000  \n",
       "mean                         91.597494    457.312323  \n",
       "std                         175.047591   1146.465101  \n",
       "min                           0.000000   -100.000000  \n",
       "25%                           4.102250    -20.905750  \n",
       "50%                          27.984000    162.819000  \n",
       "75%                          97.621750    480.761000  \n",
       "max                        2776.345000  17104.000000  "
      ]
     },
     "execution_count": 87,
     "metadata": {},
     "output_type": "execute_result"
    }
   ],
   "source": [
    "# getting summary statistics for the int cols of the budgets table\n",
    "budgets_no_outliers.describe()"
   ]
  },
  {
   "cell_type": "markdown",
   "metadata": {},
   "source": [
    "The output shows summary statistics for the columns with float values, where 50% is the median of the data. Comparing the mean and median for each column provides information about the shape of each column of data. For example, the median return on investment (roi) is 165.95% while the mean is 678.94% which means that there are outliers in this data which is pulling the mean up."
   ]
  },
  {
   "cell_type": "code",
   "execution_count": 88,
   "metadata": {},
   "outputs": [
    {
     "data": {
      "image/png": "[encoded data removed]",
      "text/plain": [
       "<Figure size 1296x432 with 4 Axes>"
      ]
     },
     "metadata": {
      "needs_background": "light"
     },
     "output_type": "display_data"
    }
   ],
   "source": [
    "# creating histograms to visualize distributions for each column of budgets\n",
    "fig, ax = plt.subplots(nrows = 1, ncols = 4, figsize = (18, 6))\n",
    "budgets_no_outliers.hist(ax = ax, bins = 15);"
   ]
  },
  {
   "cell_type": "markdown",
   "metadata": {},
   "source": [
    "The histograms above confirm the information from the table earlier. Each histogram appears to be right skewed, which indicates that the mean will be greater than the median."
   ]
  },
  {
   "cell_type": "code",
   "execution_count": 89,
   "metadata": {},
   "outputs": [
    {
     "name": "stderr",
     "output_type": "stream",
     "text": [
      "/Users/chriskucewicz/anaconda3/envs/learn-env/lib/python3.8/site-packages/seaborn/_decorators.py:36: FutureWarning: Pass the following variable as a keyword arg: x. From version 0.12, the only valid positional argument will be `data`, and passing other arguments without an explicit keyword will result in an error or misinterpretation.\n",
      "  warnings.warn(\n"
     ]
    },
    {
     "data": {
      "image/png": "[encoded data removed]",
      "text/plain": [
       "<Figure size 432x288 with 1 Axes>"
      ]
     },
     "metadata": {
      "needs_background": "light"
     },
     "output_type": "display_data"
    }
   ],
   "source": [
    "sns.boxplot(budgets_no_outliers['production_budget (millions of $)']);"
   ]
  },
  {
   "cell_type": "markdown",
   "metadata": {},
   "source": [
    "The boxplot above shows..."
   ]
  },
  {
   "cell_type": "code",
   "execution_count": 90,
   "metadata": {},
   "outputs": [
    {
     "data": {
      "text/html": [
       "<div>\n",
       "<style scoped>\n",
       "    .dataframe tbody tr th:only-of-type {\n",
       "        vertical-align: middle;\n",
       "    }\n",
       "\n",
       "    .dataframe tbody tr th {\n",
       "        vertical-align: top;\n",
       "    }\n",
       "\n",
       "    .dataframe thead th {\n",
       "        text-align: right;\n",
       "    }\n",
       "</style>\n",
       "<table border=\"1\" class=\"dataframe\">\n",
       "  <thead>\n",
       "    <tr style=\"text-align: right;\">\n",
       "      <th></th>\n",
       "      <th>start_year</th>\n",
       "      <th>runtime_minutes</th>\n",
       "    </tr>\n",
       "  </thead>\n",
       "  <tbody>\n",
       "    <tr>\n",
       "      <th>count</th>\n",
       "      <td>824.000000</td>\n",
       "      <td>744.000000</td>\n",
       "    </tr>\n",
       "    <tr>\n",
       "      <th>mean</th>\n",
       "      <td>2014.430825</td>\n",
       "      <td>98.685484</td>\n",
       "    </tr>\n",
       "    <tr>\n",
       "      <th>std</th>\n",
       "      <td>2.702336</td>\n",
       "      <td>28.045925</td>\n",
       "    </tr>\n",
       "    <tr>\n",
       "      <th>min</th>\n",
       "      <td>2010.000000</td>\n",
       "      <td>3.000000</td>\n",
       "    </tr>\n",
       "    <tr>\n",
       "      <th>25%</th>\n",
       "      <td>2012.000000</td>\n",
       "      <td>87.000000</td>\n",
       "    </tr>\n",
       "    <tr>\n",
       "      <th>50%</th>\n",
       "      <td>2014.000000</td>\n",
       "      <td>99.000000</td>\n",
       "    </tr>\n",
       "    <tr>\n",
       "      <th>75%</th>\n",
       "      <td>2017.000000</td>\n",
       "      <td>114.000000</td>\n",
       "    </tr>\n",
       "    <tr>\n",
       "      <th>max</th>\n",
       "      <td>2021.000000</td>\n",
       "      <td>312.000000</td>\n",
       "    </tr>\n",
       "  </tbody>\n",
       "</table>\n",
       "</div>"
      ],
      "text/plain": [
       "        start_year  runtime_minutes\n",
       "count   824.000000       744.000000\n",
       "mean   2014.430825        98.685484\n",
       "std       2.702336        28.045925\n",
       "min    2010.000000         3.000000\n",
       "25%    2012.000000        87.000000\n",
       "50%    2014.000000        99.000000\n",
       "75%    2017.000000       114.000000\n",
       "max    2021.000000       312.000000"
      ]
     },
     "execution_count": 90,
     "metadata": {},
     "output_type": "execute_result"
    }
   ],
   "source": [
    "# getting summary statistics for top_roi_movie_basics\n",
    "top_roi_movie_basics.describe()"
   ]
  },
  {
   "cell_type": "code",
   "execution_count": 91,
   "metadata": {},
   "outputs": [
    {
     "data": {
      "image/png": "[encoded data removed]",
      "text/plain": [
       "<Figure size 432x288 with 1 Axes>"
      ]
     },
     "metadata": {
      "needs_background": "light"
     },
     "output_type": "display_data"
    }
   ],
   "source": [
    "# plotting runtime histogram without outliers\n",
    "runtime_mean = movie_basics_clean['runtime_minutes'].mean()\n",
    "runtime_stan_dev = movie_basics_clean['runtime_minutes'].std()\n",
    "\n",
    "outliers_threshold = 1 * runtime_stan_dev\n",
    "\n",
    "runtime_hist_no_outliers = movie_basics_clean[(movie_basics_clean['runtime_minutes'] > (runtime_mean - outliers_threshold)) & (movie_basics_clean['runtime_minutes'] < (runtime_mean + outliers_threshold))]\n",
    "\n",
    "runtime_hist_no_outliers['runtime_minutes'].hist(bins=30, color='goldenrod', edgecolor='black');"
   ]
  },
  {
   "cell_type": "code",
   "execution_count": 92,
   "metadata": {},
   "outputs": [
    {
     "data": {
      "image/png": "[encoded data removed]",
      "text/plain": [
       "<Figure size 432x288 with 1 Axes>"
      ]
     },
     "metadata": {
      "needs_background": "light"
     },
     "output_type": "display_data"
    }
   ],
   "source": [
    "sns.histplot(runtime_hist_no_outliers['runtime_minutes'], bins = 30);"
   ]
  },
  {
   "cell_type": "code",
   "execution_count": 93,
   "metadata": {},
   "outputs": [],
   "source": [
    "# getting the top genres for the movies in the top 25% roi\n",
    "\n",
    "top_genres_count = top_roi_movie_basics['genres'].str.split(\",\").explode().value_counts()\n",
    "top_genres = list(top_genres_count.index)\n",
    "top_2_genres = top_genres[:2]"
   ]
  },
  {
   "cell_type": "code",
   "execution_count": 94,
   "metadata": {},
   "outputs": [],
   "source": [
    "# setting colors for bars of barplot\n",
    "top_genres_bar_colors = ['darkorange' if x in top_2_genres else 'lightgrey' for x in top_genres]\n",
    "\n",
    "# setting colors for ticks of barplot\n",
    "top_genres_tick_colors = ['black' if x in top_2_genres else 'grey' for x in top_genres]"
   ]
  },
  {
   "cell_type": "code",
   "execution_count": 95,
   "metadata": {},
   "outputs": [
    {
     "data": {
      "image/png": "[encoded data removed]",
      "text/plain": [
       "<Figure size 864x720 with 1 Axes>"
      ]
     },
     "metadata": {},
     "output_type": "display_data"
    }
   ],
   "source": [
    "# horizontal bar plot showing the counts of genres for highest roi movies\n",
    "fig, ax = plt.subplots(figsize = (12, 10))\n",
    "sns.barplot(y = top_genres, x = top_genres_count, palette = top_genres_bar_colors);\n",
    "\n",
    "ax.set_title('Movie Genres in the Top Quarter in ROI')\n",
    "ax.set_xlabel('Frequency')\n",
    "ax.set_ylabel(\"Genre\",fontsize=10)\n",
    "#ax.tick_params(axis = 'y', colors = top_genres_colors)\n",
    "ax.spines['left'].set_color('lightgrey')\n",
    "ax.spines['right'].set_color('lightgrey')\n",
    "ax.spines['top'].set_color('lightgrey')\n",
    "ax.spines['bottom'].set_color('lightgrey')\n",
    "\n",
    "# this for loop sets the tick colors\n",
    "for ticklabel, tickcolor in zip(plt.gca().get_yticklabels(), top_genres_tick_colors):\n",
    "    ticklabel.set_color(tickcolor);"
   ]
  },
  {
   "cell_type": "code",
   "execution_count": 96,
   "metadata": {},
   "outputs": [],
   "source": [
    "# creating a list of the top 2 genres of movies in top 25% roi\n",
    "top2_genres = list(round(top_roi_movie_basics['genres'].explode().value_counts(normalize = True), 3)[:2].index)"
   ]
  },
  {
   "cell_type": "code",
   "execution_count": 97,
   "metadata": {},
   "outputs": [
    {
     "data": {
      "image/png": "[encoded data removed]",
      "text/plain": [
       "<Figure size 432x288 with 1 Axes>"
      ]
     },
     "metadata": {
      "needs_background": "light"
     },
     "output_type": "display_data"
    }
   ],
   "source": [
    "sns.histplot(top_roi_movie_basics['runtime_minutes']);"
   ]
  },
  {
   "cell_type": "code",
   "execution_count": 98,
   "metadata": {},
   "outputs": [
    {
     "name": "stderr",
     "output_type": "stream",
     "text": [
      "/Users/chriskucewicz/anaconda3/envs/learn-env/lib/python3.8/site-packages/seaborn/_decorators.py:36: FutureWarning: Pass the following variable as a keyword arg: x. From version 0.12, the only valid positional argument will be `data`, and passing other arguments without an explicit keyword will result in an error or misinterpretation.\n",
      "  warnings.warn(\n"
     ]
    },
    {
     "data": {
      "image/png": "[encoded data removed]",
      "text/plain": [
       "<Figure size 432x288 with 1 Axes>"
      ]
     },
     "metadata": {
      "needs_background": "light"
     },
     "output_type": "display_data"
    }
   ],
   "source": [
    "# boxplot for the runtime of the movies in top 25% of roi\n",
    "sns.boxplot(top_roi_movie_basics['runtime_minutes'], showfliers = False)\n",
    "plt.axvline(x = 86, color = 'red', label = 'axvline - full height', linestyle = '--')\n",
    "plt.axvline(x = 114, color = 'red', label = 'axvline - full height', linestyle = '--');\n",
    "#plt.x_ticks;"
   ]
  },
  {
   "cell_type": "code",
   "execution_count": 99,
   "metadata": {},
   "outputs": [
    {
     "data": {
      "text/html": [
       "<div>\n",
       "<style scoped>\n",
       "    .dataframe tbody tr th:only-of-type {\n",
       "        vertical-align: middle;\n",
       "    }\n",
       "\n",
       "    .dataframe tbody tr th {\n",
       "        vertical-align: top;\n",
       "    }\n",
       "\n",
       "    .dataframe thead th {\n",
       "        text-align: right;\n",
       "    }\n",
       "</style>\n",
       "<table border=\"1\" class=\"dataframe\">\n",
       "  <thead>\n",
       "    <tr style=\"text-align: right;\">\n",
       "      <th></th>\n",
       "      <th>person_id</th>\n",
       "      <th>primary_name</th>\n",
       "      <th>movie_id</th>\n",
       "      <th>category</th>\n",
       "      <th>primary_title</th>\n",
       "      <th>start_year</th>\n",
       "      <th>genres</th>\n",
       "      <th>genres_list</th>\n",
       "      <th>release_date</th>\n",
       "      <th>movie</th>\n",
       "      <th>production_budget (millions of $)</th>\n",
       "      <th>domestic_gross (millions of $)</th>\n",
       "      <th>worldwide_gross (millions of $)</th>\n",
       "      <th>roi (%)</th>\n",
       "    </tr>\n",
       "  </thead>\n",
       "  <tbody>\n",
       "    <tr>\n",
       "      <th>259</th>\n",
       "      <td>nm0000375</td>\n",
       "      <td>Robert Downey Jr.</td>\n",
       "      <td>tt4154756</td>\n",
       "      <td>Actor</td>\n",
       "      <td>Avengers: Infinity War</td>\n",
       "      <td>2018</td>\n",
       "      <td>Action,Adventure,Sci-Fi</td>\n",
       "      <td>[Action, Adventure, Sci-Fi]</td>\n",
       "      <td>Apr 27, 2018</td>\n",
       "      <td>Avengers: Infinity War</td>\n",
       "      <td>300.00</td>\n",
       "      <td>678.815</td>\n",
       "      <td>2048.134</td>\n",
       "      <td>808.983</td>\n",
       "    </tr>\n",
       "    <tr>\n",
       "      <th>258</th>\n",
       "      <td>nm0498278</td>\n",
       "      <td>Stan Lee</td>\n",
       "      <td>tt4154756</td>\n",
       "      <td>Writer</td>\n",
       "      <td>Avengers: Infinity War</td>\n",
       "      <td>2018</td>\n",
       "      <td>Action,Adventure,Sci-Fi</td>\n",
       "      <td>[Action, Adventure, Sci-Fi]</td>\n",
       "      <td>Apr 27, 2018</td>\n",
       "      <td>Avengers: Infinity War</td>\n",
       "      <td>300.00</td>\n",
       "      <td>678.815</td>\n",
       "      <td>2048.134</td>\n",
       "      <td>808.983</td>\n",
       "    </tr>\n",
       "    <tr>\n",
       "      <th>257</th>\n",
       "      <td>nm0262635</td>\n",
       "      <td>Chris Evans</td>\n",
       "      <td>tt4154756</td>\n",
       "      <td>Actor</td>\n",
       "      <td>Avengers: Infinity War</td>\n",
       "      <td>2018</td>\n",
       "      <td>Action,Adventure,Sci-Fi</td>\n",
       "      <td>[Action, Adventure, Sci-Fi]</td>\n",
       "      <td>Apr 27, 2018</td>\n",
       "      <td>Avengers: Infinity War</td>\n",
       "      <td>300.00</td>\n",
       "      <td>678.815</td>\n",
       "      <td>2048.134</td>\n",
       "      <td>808.983</td>\n",
       "    </tr>\n",
       "    <tr>\n",
       "      <th>256</th>\n",
       "      <td>nm0749263</td>\n",
       "      <td>Mark Ruffalo</td>\n",
       "      <td>tt4154756</td>\n",
       "      <td>Actor</td>\n",
       "      <td>Avengers: Infinity War</td>\n",
       "      <td>2018</td>\n",
       "      <td>Action,Adventure,Sci-Fi</td>\n",
       "      <td>[Action, Adventure, Sci-Fi]</td>\n",
       "      <td>Apr 27, 2018</td>\n",
       "      <td>Avengers: Infinity War</td>\n",
       "      <td>300.00</td>\n",
       "      <td>678.815</td>\n",
       "      <td>2048.134</td>\n",
       "      <td>808.983</td>\n",
       "    </tr>\n",
       "    <tr>\n",
       "      <th>255</th>\n",
       "      <td>nm0456158</td>\n",
       "      <td>Jack Kirby</td>\n",
       "      <td>tt4154756</td>\n",
       "      <td>Writer</td>\n",
       "      <td>Avengers: Infinity War</td>\n",
       "      <td>2018</td>\n",
       "      <td>Action,Adventure,Sci-Fi</td>\n",
       "      <td>[Action, Adventure, Sci-Fi]</td>\n",
       "      <td>Apr 27, 2018</td>\n",
       "      <td>Avengers: Infinity War</td>\n",
       "      <td>300.00</td>\n",
       "      <td>678.815</td>\n",
       "      <td>2048.134</td>\n",
       "      <td>808.983</td>\n",
       "    </tr>\n",
       "    <tr>\n",
       "      <th>...</th>\n",
       "      <td>...</td>\n",
       "      <td>...</td>\n",
       "      <td>...</td>\n",
       "      <td>...</td>\n",
       "      <td>...</td>\n",
       "      <td>...</td>\n",
       "      <td>...</td>\n",
       "      <td>...</td>\n",
       "      <td>...</td>\n",
       "      <td>...</td>\n",
       "      <td>...</td>\n",
       "      <td>...</td>\n",
       "      <td>...</td>\n",
       "      <td>...</td>\n",
       "    </tr>\n",
       "    <tr>\n",
       "      <th>847</th>\n",
       "      <td>nm0941314</td>\n",
       "      <td>Linda Woolverton</td>\n",
       "      <td>tt1014759</td>\n",
       "      <td>Writer</td>\n",
       "      <td>Alice in Wonderland</td>\n",
       "      <td>2010</td>\n",
       "      <td>Adventure,Family,Fantasy</td>\n",
       "      <td>[Adventure, Family, Fantasy]</td>\n",
       "      <td>Jul 28, 1951</td>\n",
       "      <td>Alice in Wonderland</td>\n",
       "      <td>3.00</td>\n",
       "      <td>0.000</td>\n",
       "      <td>0.000</td>\n",
       "      <td>-100.000</td>\n",
       "    </tr>\n",
       "    <tr>\n",
       "      <th>1129</th>\n",
       "      <td>nm1256532</td>\n",
       "      <td>Jon Bernthal</td>\n",
       "      <td>tt0882977</td>\n",
       "      <td>Actor</td>\n",
       "      <td>Snitch</td>\n",
       "      <td>2013</td>\n",
       "      <td>Action,Drama,Thriller</td>\n",
       "      <td>[Action, Drama, Thriller]</td>\n",
       "      <td>Dec 31, 2012</td>\n",
       "      <td>Snitch</td>\n",
       "      <td>0.85</td>\n",
       "      <td>0.000</td>\n",
       "      <td>0.000</td>\n",
       "      <td>-100.000</td>\n",
       "    </tr>\n",
       "    <tr>\n",
       "      <th>20</th>\n",
       "      <td>nm0000182</td>\n",
       "      <td>Jennifer Lopez</td>\n",
       "      <td>tt2224026</td>\n",
       "      <td>Actor</td>\n",
       "      <td>Home</td>\n",
       "      <td>2015</td>\n",
       "      <td>Adventure,Animation,Comedy</td>\n",
       "      <td>[Adventure, Animation, Comedy]</td>\n",
       "      <td>Jun 5, 2009</td>\n",
       "      <td>Home</td>\n",
       "      <td>12.00</td>\n",
       "      <td>0.000</td>\n",
       "      <td>0.000</td>\n",
       "      <td>-100.000</td>\n",
       "    </tr>\n",
       "    <tr>\n",
       "      <th>1127</th>\n",
       "      <td>nm0425005</td>\n",
       "      <td>Dwayne Johnson</td>\n",
       "      <td>tt0882977</td>\n",
       "      <td>Actor</td>\n",
       "      <td>Snitch</td>\n",
       "      <td>2013</td>\n",
       "      <td>Action,Drama,Thriller</td>\n",
       "      <td>[Action, Drama, Thriller]</td>\n",
       "      <td>Dec 31, 2012</td>\n",
       "      <td>Snitch</td>\n",
       "      <td>0.85</td>\n",
       "      <td>0.000</td>\n",
       "      <td>0.000</td>\n",
       "      <td>-100.000</td>\n",
       "    </tr>\n",
       "    <tr>\n",
       "      <th>845</th>\n",
       "      <td>nm0865297</td>\n",
       "      <td>Suzanne Todd</td>\n",
       "      <td>tt1014759</td>\n",
       "      <td>Producer</td>\n",
       "      <td>Alice in Wonderland</td>\n",
       "      <td>2010</td>\n",
       "      <td>Adventure,Family,Fantasy</td>\n",
       "      <td>[Adventure, Family, Fantasy]</td>\n",
       "      <td>Jul 28, 1951</td>\n",
       "      <td>Alice in Wonderland</td>\n",
       "      <td>3.00</td>\n",
       "      <td>0.000</td>\n",
       "      <td>0.000</td>\n",
       "      <td>-100.000</td>\n",
       "    </tr>\n",
       "  </tbody>\n",
       "</table>\n",
       "<p>1122 rows × 14 columns</p>\n",
       "</div>"
      ],
      "text/plain": [
       "      person_id       primary_name   movie_id  category  \\\n",
       "259   nm0000375  Robert Downey Jr.  tt4154756     Actor   \n",
       "258   nm0498278           Stan Lee  tt4154756    Writer   \n",
       "257   nm0262635        Chris Evans  tt4154756     Actor   \n",
       "256   nm0749263       Mark Ruffalo  tt4154756     Actor   \n",
       "255   nm0456158         Jack Kirby  tt4154756    Writer   \n",
       "...         ...                ...        ...       ...   \n",
       "847   nm0941314   Linda Woolverton  tt1014759    Writer   \n",
       "1129  nm1256532       Jon Bernthal  tt0882977     Actor   \n",
       "20    nm0000182     Jennifer Lopez  tt2224026     Actor   \n",
       "1127  nm0425005     Dwayne Johnson  tt0882977     Actor   \n",
       "845   nm0865297       Suzanne Todd  tt1014759  Producer   \n",
       "\n",
       "               primary_title  start_year                      genres  \\\n",
       "259   Avengers: Infinity War        2018     Action,Adventure,Sci-Fi   \n",
       "258   Avengers: Infinity War        2018     Action,Adventure,Sci-Fi   \n",
       "257   Avengers: Infinity War        2018     Action,Adventure,Sci-Fi   \n",
       "256   Avengers: Infinity War        2018     Action,Adventure,Sci-Fi   \n",
       "255   Avengers: Infinity War        2018     Action,Adventure,Sci-Fi   \n",
       "...                      ...         ...                         ...   \n",
       "847      Alice in Wonderland        2010    Adventure,Family,Fantasy   \n",
       "1129                  Snitch        2013       Action,Drama,Thriller   \n",
       "20                      Home        2015  Adventure,Animation,Comedy   \n",
       "1127                  Snitch        2013       Action,Drama,Thriller   \n",
       "845      Alice in Wonderland        2010    Adventure,Family,Fantasy   \n",
       "\n",
       "                         genres_list  release_date                   movie  \\\n",
       "259      [Action, Adventure, Sci-Fi]  Apr 27, 2018  Avengers: Infinity War   \n",
       "258      [Action, Adventure, Sci-Fi]  Apr 27, 2018  Avengers: Infinity War   \n",
       "257      [Action, Adventure, Sci-Fi]  Apr 27, 2018  Avengers: Infinity War   \n",
       "256      [Action, Adventure, Sci-Fi]  Apr 27, 2018  Avengers: Infinity War   \n",
       "255      [Action, Adventure, Sci-Fi]  Apr 27, 2018  Avengers: Infinity War   \n",
       "...                              ...           ...                     ...   \n",
       "847     [Adventure, Family, Fantasy]  Jul 28, 1951     Alice in Wonderland   \n",
       "1129       [Action, Drama, Thriller]  Dec 31, 2012                  Snitch   \n",
       "20    [Adventure, Animation, Comedy]   Jun 5, 2009                    Home   \n",
       "1127       [Action, Drama, Thriller]  Dec 31, 2012                  Snitch   \n",
       "845     [Adventure, Family, Fantasy]  Jul 28, 1951     Alice in Wonderland   \n",
       "\n",
       "      production_budget (millions of $)  domestic_gross (millions of $)  \\\n",
       "259                              300.00                         678.815   \n",
       "258                              300.00                         678.815   \n",
       "257                              300.00                         678.815   \n",
       "256                              300.00                         678.815   \n",
       "255                              300.00                         678.815   \n",
       "...                                 ...                             ...   \n",
       "847                                3.00                           0.000   \n",
       "1129                               0.85                           0.000   \n",
       "20                                12.00                           0.000   \n",
       "1127                               0.85                           0.000   \n",
       "845                                3.00                           0.000   \n",
       "\n",
       "      worldwide_gross (millions of $)  roi (%)  \n",
       "259                          2048.134  808.983  \n",
       "258                          2048.134  808.983  \n",
       "257                          2048.134  808.983  \n",
       "256                          2048.134  808.983  \n",
       "255                          2048.134  808.983  \n",
       "...                               ...      ...  \n",
       "847                             0.000 -100.000  \n",
       "1129                            0.000 -100.000  \n",
       "20                              0.000 -100.000  \n",
       "1127                            0.000 -100.000  \n",
       "845                             0.000 -100.000  \n",
       "\n",
       "[1122 rows x 14 columns]"
      ]
     },
     "execution_count": 99,
     "metadata": {},
     "output_type": "execute_result"
    }
   ],
   "source": [
    "top_people_budgets.sort_values('worldwide_gross (millions of $)', ascending = False)"
   ]
  },
  {
   "cell_type": "code",
   "execution_count": 100,
   "metadata": {},
   "outputs": [
    {
     "data": {
      "text/html": [
       "<div>\n",
       "<style scoped>\n",
       "    .dataframe tbody tr th:only-of-type {\n",
       "        vertical-align: middle;\n",
       "    }\n",
       "\n",
       "    .dataframe tbody tr th {\n",
       "        vertical-align: top;\n",
       "    }\n",
       "\n",
       "    .dataframe thead th {\n",
       "        text-align: right;\n",
       "    }\n",
       "</style>\n",
       "<table border=\"1\" class=\"dataframe\">\n",
       "  <thead>\n",
       "    <tr style=\"text-align: right;\">\n",
       "      <th></th>\n",
       "      <th>worldwide_gross (millions of $)</th>\n",
       "    </tr>\n",
       "    <tr>\n",
       "      <th>category</th>\n",
       "      <th></th>\n",
       "    </tr>\n",
       "  </thead>\n",
       "  <tbody>\n",
       "    <tr>\n",
       "      <th>Writer</th>\n",
       "      <td>467.511838</td>\n",
       "    </tr>\n",
       "    <tr>\n",
       "      <th>Actor</th>\n",
       "      <td>319.085422</td>\n",
       "    </tr>\n",
       "    <tr>\n",
       "      <th>Director</th>\n",
       "      <td>317.298800</td>\n",
       "    </tr>\n",
       "    <tr>\n",
       "      <th>Producer</th>\n",
       "      <td>256.905011</td>\n",
       "    </tr>\n",
       "    <tr>\n",
       "      <th>Composer</th>\n",
       "      <td>223.353301</td>\n",
       "    </tr>\n",
       "  </tbody>\n",
       "</table>\n",
       "</div>"
      ],
      "text/plain": [
       "          worldwide_gross (millions of $)\n",
       "category                                 \n",
       "Writer                         467.511838\n",
       "Actor                          319.085422\n",
       "Director                       317.298800\n",
       "Producer                       256.905011\n",
       "Composer                       223.353301"
      ]
     },
     "execution_count": 100,
     "metadata": {},
     "output_type": "execute_result"
    }
   ],
   "source": [
    "top_people_budgets.groupby(['category']).mean()[['worldwide_gross (millions of $)']].sort_values('worldwide_gross (millions of $)', ascending = False)"
   ]
  },
  {
   "cell_type": "code",
   "execution_count": 101,
   "metadata": {},
   "outputs": [
    {
     "data": {
      "text/html": [
       "<div>\n",
       "<style scoped>\n",
       "    .dataframe tbody tr th:only-of-type {\n",
       "        vertical-align: middle;\n",
       "    }\n",
       "\n",
       "    .dataframe tbody tr th {\n",
       "        vertical-align: top;\n",
       "    }\n",
       "\n",
       "    .dataframe thead th {\n",
       "        text-align: right;\n",
       "    }\n",
       "</style>\n",
       "<table border=\"1\" class=\"dataframe\">\n",
       "  <thead>\n",
       "    <tr style=\"text-align: right;\">\n",
       "      <th></th>\n",
       "      <th>production_budget (millions of $)</th>\n",
       "      <th>worldwide_gross (millions of $)</th>\n",
       "      <th>roi (%)</th>\n",
       "    </tr>\n",
       "    <tr>\n",
       "      <th>category</th>\n",
       "      <th></th>\n",
       "      <th></th>\n",
       "      <th></th>\n",
       "    </tr>\n",
       "  </thead>\n",
       "  <tbody>\n",
       "    <tr>\n",
       "      <th>Producer</th>\n",
       "      <td>36.317567</td>\n",
       "      <td>256.905011</td>\n",
       "      <td>1717.525170</td>\n",
       "    </tr>\n",
       "    <tr>\n",
       "      <th>Writer</th>\n",
       "      <td>68.457029</td>\n",
       "      <td>467.511838</td>\n",
       "      <td>1707.254493</td>\n",
       "    </tr>\n",
       "    <tr>\n",
       "      <th>Director</th>\n",
       "      <td>46.691000</td>\n",
       "      <td>317.298800</td>\n",
       "      <td>1550.622380</td>\n",
       "    </tr>\n",
       "  </tbody>\n",
       "</table>\n",
       "</div>"
      ],
      "text/plain": [
       "          production_budget (millions of $)  worldwide_gross (millions of $)  \\\n",
       "category                                                                       \n",
       "Producer                          36.317567                       256.905011   \n",
       "Writer                            68.457029                       467.511838   \n",
       "Director                          46.691000                       317.298800   \n",
       "\n",
       "              roi (%)  \n",
       "category               \n",
       "Producer  1717.525170  \n",
       "Writer    1707.254493  \n",
       "Director  1550.622380  "
      ]
     },
     "execution_count": 101,
     "metadata": {},
     "output_type": "execute_result"
    }
   ],
   "source": [
    "roi_categories = top_people_budgets.groupby(['category']).mean()[['production_budget (millions of $)', 'worldwide_gross (millions of $)', 'roi (%)']].sort_values('roi (%)', ascending = False)\n",
    "top_3_roi_categories = roi_categories.head(3)\n",
    "#top_3_roi_categories_index = roi_categories.head(3).index\n",
    "top_3_roi_categories"
   ]
  },
  {
   "cell_type": "code",
   "execution_count": 102,
   "metadata": {},
   "outputs": [
    {
     "data": {
      "text/html": [
       "<div>\n",
       "<style scoped>\n",
       "    .dataframe tbody tr th:only-of-type {\n",
       "        vertical-align: middle;\n",
       "    }\n",
       "\n",
       "    .dataframe tbody tr th {\n",
       "        vertical-align: top;\n",
       "    }\n",
       "\n",
       "    .dataframe thead th {\n",
       "        text-align: right;\n",
       "    }\n",
       "</style>\n",
       "<table border=\"1\" class=\"dataframe\">\n",
       "  <thead>\n",
       "    <tr style=\"text-align: right;\">\n",
       "      <th></th>\n",
       "      <th>roi (%)</th>\n",
       "    </tr>\n",
       "    <tr>\n",
       "      <th>category</th>\n",
       "      <th></th>\n",
       "    </tr>\n",
       "  </thead>\n",
       "  <tbody>\n",
       "    <tr>\n",
       "      <th>Producer</th>\n",
       "      <td>1717.525170</td>\n",
       "    </tr>\n",
       "    <tr>\n",
       "      <th>Writer</th>\n",
       "      <td>1707.254493</td>\n",
       "    </tr>\n",
       "    <tr>\n",
       "      <th>Director</th>\n",
       "      <td>1550.622380</td>\n",
       "    </tr>\n",
       "    <tr>\n",
       "      <th>Composer</th>\n",
       "      <td>1248.733877</td>\n",
       "    </tr>\n",
       "    <tr>\n",
       "      <th>Actor</th>\n",
       "      <td>1147.931569</td>\n",
       "    </tr>\n",
       "  </tbody>\n",
       "</table>\n",
       "</div>"
      ],
      "text/plain": [
       "              roi (%)\n",
       "category             \n",
       "Producer  1717.525170\n",
       "Writer    1707.254493\n",
       "Director  1550.622380\n",
       "Composer  1248.733877\n",
       "Actor     1147.931569"
      ]
     },
     "execution_count": 102,
     "metadata": {},
     "output_type": "execute_result"
    }
   ],
   "source": [
    "top_people_budgets.groupby(['category']).mean()[['roi (%)']].sort_values('roi (%)', ascending = False)\n"
   ]
  },
  {
   "cell_type": "code",
   "execution_count": 103,
   "metadata": {},
   "outputs": [
    {
     "data": {
      "text/html": [
       "<div>\n",
       "<style scoped>\n",
       "    .dataframe tbody tr th:only-of-type {\n",
       "        vertical-align: middle;\n",
       "    }\n",
       "\n",
       "    .dataframe tbody tr th {\n",
       "        vertical-align: top;\n",
       "    }\n",
       "\n",
       "    .dataframe thead th {\n",
       "        text-align: right;\n",
       "    }\n",
       "</style>\n",
       "<table border=\"1\" class=\"dataframe\">\n",
       "  <thead>\n",
       "    <tr style=\"text-align: right;\">\n",
       "      <th></th>\n",
       "      <th></th>\n",
       "      <th>worldwide_gross (millions of $)</th>\n",
       "    </tr>\n",
       "    <tr>\n",
       "      <th>person_id</th>\n",
       "      <th>primary_name</th>\n",
       "      <th></th>\n",
       "    </tr>\n",
       "  </thead>\n",
       "  <tbody>\n",
       "    <tr>\n",
       "      <th>nm0456158</th>\n",
       "      <th>Jack Kirby</th>\n",
       "      <td>1437.963250</td>\n",
       "    </tr>\n",
       "    <tr>\n",
       "      <th>nm0498278</th>\n",
       "      <th>Stan Lee</th>\n",
       "      <td>1216.381800</td>\n",
       "    </tr>\n",
       "    <tr>\n",
       "      <th>nm0000375</th>\n",
       "      <th>Robert Downey Jr.</th>\n",
       "      <td>1141.713667</td>\n",
       "    </tr>\n",
       "    <tr>\n",
       "      <th>nm0860155</th>\n",
       "      <th>Gary Scott Thompson</th>\n",
       "      <td>1127.910667</td>\n",
       "    </tr>\n",
       "    <tr>\n",
       "      <th>nm0604555</th>\n",
       "      <th>Chris Morgan</th>\n",
       "      <td>1127.910667</td>\n",
       "    </tr>\n",
       "    <tr>\n",
       "      <th>...</th>\n",
       "      <th>...</th>\n",
       "      <td>...</td>\n",
       "    </tr>\n",
       "    <tr>\n",
       "      <th>nm0005541</th>\n",
       "      <th>Marlon Wayans</th>\n",
       "      <td>34.414333</td>\n",
       "    </tr>\n",
       "    <tr>\n",
       "      <th>nm2271939</th>\n",
       "      <th>Brian Kavanaugh-Jones</th>\n",
       "      <td>26.838000</td>\n",
       "    </tr>\n",
       "    <tr>\n",
       "      <th>nm0489059</th>\n",
       "      <th>Nathan Larson</th>\n",
       "      <td>19.842333</td>\n",
       "    </tr>\n",
       "    <tr>\n",
       "      <th>nm0243233</th>\n",
       "      <th>Mark Duplass</th>\n",
       "      <td>15.290667</td>\n",
       "    </tr>\n",
       "    <tr>\n",
       "      <th>nm0370035</th>\n",
       "      <th>John Hawkes</th>\n",
       "      <td>11.022000</td>\n",
       "    </tr>\n",
       "  </tbody>\n",
       "</table>\n",
       "<p>271 rows × 1 columns</p>\n",
       "</div>"
      ],
      "text/plain": [
       "                                 worldwide_gross (millions of $)\n",
       "person_id primary_name                                          \n",
       "nm0456158 Jack Kirby                                 1437.963250\n",
       "nm0498278 Stan Lee                                   1216.381800\n",
       "nm0000375 Robert Downey Jr.                          1141.713667\n",
       "nm0860155 Gary Scott Thompson                        1127.910667\n",
       "nm0604555 Chris Morgan                               1127.910667\n",
       "...                                                          ...\n",
       "nm0005541 Marlon Wayans                                34.414333\n",
       "nm2271939 Brian Kavanaugh-Jones                        26.838000\n",
       "nm0489059 Nathan Larson                                19.842333\n",
       "nm0243233 Mark Duplass                                 15.290667\n",
       "nm0370035 John Hawkes                                  11.022000\n",
       "\n",
       "[271 rows x 1 columns]"
      ]
     },
     "execution_count": 103,
     "metadata": {},
     "output_type": "execute_result"
    }
   ],
   "source": [
    "top_people_budgets.groupby(['person_id', 'primary_name']).mean()[['worldwide_gross (millions of $)']].sort_values('worldwide_gross (millions of $)', ascending = False)\n"
   ]
  },
  {
   "cell_type": "code",
   "execution_count": 104,
   "metadata": {},
   "outputs": [
    {
     "data": {
      "image/png": "[encoded data removed]",
      "text/plain": [
       "<Figure size 864x576 with 1 Axes>"
      ]
     },
     "metadata": {
      "needs_background": "light"
     },
     "output_type": "display_data"
    }
   ],
   "source": [
    "roi_threshold = 0.5 * (top_people_budgets.groupby(['category']).mean()[['production_budget (millions of $)', 'roi (%)']]['roi (%)'].max() \n",
    "                 + top_people_budgets.groupby(['category']).mean()[['production_budget (millions of $)', 'roi (%)']]['roi (%)'].min())\n",
    "    \n",
    "fig, ax = plt.subplots(figsize = (12,8))\n",
    "sns.scatterplot(data = top_people_budgets.groupby(['category']).mean()[['production_budget (millions of $)', 'roi (%)']],\n",
    "                 x = 'production_budget (millions of $)', \n",
    "                 y = 'roi (%)',\n",
    "                 s = 75,\n",
    "                 hue='category',\n",
    "                 )\n",
    "\n",
    "for line in range(0, top_3_roi_categories.shape[0]):\n",
    "     ax.annotate(top_3_roi_categories.index[line], \n",
    "                   (top_3_roi_categories['production_budget (millions of $)'].iloc[line], \n",
    "                    top_3_roi_categories['roi (%)'].iloc[line]), \n",
    "                   fontsize=14,\n",
    "                   xytext=(-15, -15),  \n",
    "                   textcoords='offset points')\n",
    "        \n",
    "ax.get_legend().remove()        \n",
    "ax.axhline(y = roi_threshold,\n",
    "            color = 'red',\n",
    "            label = 'axvline - full height',\n",
    "            linestyle = '--');"
   ]
  },
  {
   "cell_type": "code",
   "execution_count": 105,
   "metadata": {},
   "outputs": [],
   "source": [
    "# function that will print a list of the top 5 highest grossing people for each film profession \n",
    "def top_grossing(categories):\n",
    "    for category in categories:\n",
    "        \n",
    "        top_category = top_people_budgets[(top_people_budgets['category'] == category) & (top_people_budgets['genres'].str.contains('|'.join(top2_genres)))]\n",
    "        \n",
    "        top_category_sum_gross = top_category.groupby(['primary_name']).sum()[['worldwide_gross (millions of $)', 'roi (%)']].sort_values('worldwide_gross (millions of $)', ascending = False).head(15)\n",
    "        \n",
    "        top_5_category = list(top_category_sum_gross.index)[:5]\n",
    "        \n",
    "        print(f\"The top 5 highest grossing {category}s are:\" + str(top_5_category))"
   ]
  },
  {
   "cell_type": "code",
   "execution_count": 106,
   "metadata": {},
   "outputs": [
    {
     "name": "stdout",
     "output_type": "stream",
     "text": [
      "The top 5 highest grossing Producers are:['Simon Kinberg', 'Dana Brunetti', 'Michael De Luca', 'Wyck Godfrey', 'Peter Chernin']\n",
      "The top 5 highest grossing Writers are:['E.L. James', 'Anthony McCarten', 'Linda Woolverton', 'Eric Heisserer', 'Robert Mark Kamen']\n",
      "The top 5 highest grossing Directors are:['David O. Russell', 'Steven Spielberg', 'Damien Chazelle', 'Lasse Hallström', 'Jon M. Chu']\n"
     ]
    }
   ],
   "source": [
    "top_grossing(top_3_roi_categories.index)"
   ]
  },
  {
   "cell_type": "code",
   "execution_count": 107,
   "metadata": {},
   "outputs": [],
   "source": [
    "def plot_top_grossing(categories): #bar_width):\n",
    "    #top_grossing(categories)\n",
    "        fig, ax = plt.subplots(nrows = 1, ncols = len(categories), figsize = (18,8))\n",
    "\n",
    "        for index, category in enumerate(categories):\n",
    "\n",
    "            top_category = top_people_budgets[(top_people_budgets['category'] == category) \n",
    "                                              & (top_people_budgets['genres'].str.contains('|'.join(top2_genres)))]\n",
    "\n",
    "            top_category_sum_gross = top_category.groupby(['primary_name']).sum()[['worldwide_gross (millions of $)', 'roi (%)']].sort_values('worldwide_gross (millions of $)',\n",
    "                                                                                                                                              ascending = False).head(10)\n",
    "\n",
    "            top_5_category = list(top_category_sum_gross.index)[:5]\n",
    "\n",
    "            top_sum_category_colors = ['orange' if x in top_5_category else 'lightgrey' for x in top_category_sum_gross.index]\n",
    "            top_sum_categories_tick_colors = ['black' if x in top_5_category else 'grey' for x in top_category_sum_gross.index]\n",
    "\n",
    "            sns.barplot(\n",
    "                y = top_category_sum_gross.index, \n",
    "                x = top_category_sum_gross['worldwide_gross (millions of $)'], \n",
    "                palette = top_sum_category_colors,\n",
    "                ax = ax[index]\n",
    "            )\n",
    "            \n",
    "            ax[index].set_title(f\"Total Gross Revenue Across Movies\")\n",
    "            ax[index].set_xlabel('Total Gross $ (millions)')\n",
    "            ax[index].set_ylabel(f'{category}',fontsize=12)\n",
    "            ax[index].tick_params(labelsize=12)\n",
    "            ax[index].set_yticklabels(labels = top_category_sum_gross.index)\n",
    "            \n",
    "            for ticklabel, tickcolor in zip(ax[index].get_yticklabels(), top_sum_categories_tick_colors):\n",
    "                ticklabel.set_color(tickcolor)\n",
    "                \n",
    "            ax[index].spines['left'].set_color('lightgrey')\n",
    "            ax[index].spines['right'].set_color('lightgrey')\n",
    "            ax[index].spines['top'].set_color('lightgrey')\n",
    "            ax[index].spines['bottom'].set_color('lightgrey');\n",
    "\n",
    "        fig.tight_layout(pad=3.0)\n",
    "        plt.show()"
   ]
  },
  {
   "cell_type": "code",
   "execution_count": 108,
   "metadata": {},
   "outputs": [
    {
     "data": {
      "image/png": "[encoded data removed]",
      "text/plain": [
       "<Figure size 1296x576 with 3 Axes>"
      ]
     },
     "metadata": {},
     "output_type": "display_data"
    }
   ],
   "source": [
    "plot_top_grossing(top_3_roi_categories.index)"
   ]
  },
  {
   "cell_type": "markdown",
   "metadata": {},
   "source": [
    "# Conclusion\n",
    " \n",
    "## Limitations\n",
    "\n",
    "## Recommendations\n",
    "\n",
    "This analysis leads to three recommendations for movie creation:\n",
    "\n",
    "1. Focus on creating movies within the ***drama or comedy genres***.\n",
    "\n",
    "$\\;\\;\\;\\;\\;\\;$ - Over 1/3 of the movies with the highest ROI were classified as dramas and/or comedies. \n",
    "\n",
    "2. The **runtime** of movies should be ***between 86 and 114 minutes***.\n",
    "\n",
    "$\\;\\;\\;\\;\\;\\;$ - Half of all movies with the highest ROI had runtimes between 86 and 114 minutes.\n",
    "\n",
    "3. The hiring process should focus on hiring ***high-quality producers, directors, and writers***. \n",
    "\n",
    "$\\;\\;\\;\\;\\;\\;$ - These three categories had the highest ROI, beating out the ROI for actors\n",
    "\n",
    "\n",
    "## Next Steps\n",
    "\n",
    "With these recommendations in mind, I am interested the following next steps:\n",
    "- gathering more budget data on a larger amount of movies\n",
    "- having addition time to perform analysis on the amount of gross USD the recommended writers, actors, and directors each brought in\n",
    "- performing regression analysis to determine which factors are most strongly correlation with a movie's return on investment"
   ]
  },
  {
   "cell_type": "markdown",
   "metadata": {},
   "source": [
    "# Resources\n",
    "\n",
    "- got error when trying to read in reviews.tsv dataset: \"UnicodeDecodeError: 'utf8' codec can't decode byte 0xa5 in position 0: invalid start byte\". This resource helped: https://stackoverflow.com/questions/22216076/unicodedecodeerror-utf8-codec-cant-decode-byte-0xa5-in-position-0-invalid-s"
   ]
  },
  {
   "cell_type": "markdown",
   "metadata": {},
   "source": [
    "- Had trouble reading zipped data with pandas. This helped me with reading in the csv and tsv data: https://stackoverflow.com/questions/18885175/read-a-zipped-file-as-a-pandas-dataframe"
   ]
  },
  {
   "cell_type": "markdown",
   "metadata": {},
   "source": [
    "- for joining datasets: https://stackoverflow.com/questions/53645882/pandas-merging-101"
   ]
  },
  {
   "cell_type": "markdown",
   "metadata": {},
   "source": [
    "- the movie_info dataset had the word 'minutes' in each entry for runtime. Just wanted the numbers. this was helpful:\n",
    "https://saturncloud.io/blog/how-to-remove-characters-from-a-pandas-column-a-data-scientists-guide/"
   ]
  },
  {
   "cell_type": "markdown",
   "metadata": {},
   "source": [
    "- merging on more than one condition: https://stackoverflow.com/questions/53549492/joining-two-pandas-dataframes-based-on-multiple-conditions"
   ]
  },
  {
   "cell_type": "markdown",
   "metadata": {},
   "source": [
    "- dropping nulls in certain columns: https://saturncloud.io/blog/how-to-delete-rows-with-null-values-in-a-specific-column-in-pandas-dataframe/#:~:text=Deleting%20rows%20with%20null%20values%20in%20a%20specific%20column%20can,values%20in%20the%20specified%20column.&text=df%20is%20the%20Pandas%20DataFrame%20that%20you%20want%20to%20modify."
   ]
  },
  {
   "cell_type": "markdown",
   "metadata": {},
   "source": [
    "- for subsetting dataframe to only show entries with value count more than one https://stackoverflow.com/questions/48628417/how-to-select-rows-in-pandas-dataframe-where-value-appears-more-than-once"
   ]
  },
  {
   "cell_type": "markdown",
   "metadata": {},
   "source": [
    "- Finding rows with matching entries: https://stackoverflow.com/questions/22485375/efficiently-select-rows-that-match-one-of-several-values-in-pandas-dataframe"
   ]
  },
  {
   "cell_type": "markdown",
   "metadata": {},
   "source": [
    "For trying to split the genres column into new columns: \n",
    "- https://saturncloud.io/blog/how-to-split-one-column-into-multiple-columns-in-pandas-dataframe/#:~:text=Using%20the%20pd.&text=Series.-,str.,list%20as%20a%20new%20column.\n",
    "\n",
    "- https://www.reddit.com/r/learnpython/comments/krasnw/how_to_put_my_genres_in_their_own_df_with_their/"
   ]
  },
  {
   "cell_type": "markdown",
   "metadata": {},
   "source": [
    "For multi-indexing / using a pivot table to group people by the movies they've been in:\n",
    "- https://www.datacamp.com/tutorial/pandas-multi-index\n",
    "- https://stackoverflow.com/questions/35414625/pandas-how-to-run-a-pivot-with-a-multi-index\n",
    "- https://stackoverflow.com/questions/61623982/python-pandas-grouping-columns-without-aggregating"
   ]
  },
  {
   "cell_type": "markdown",
   "metadata": {},
   "source": [
    "https://www.reddit.com/r/SQL/comments/15z6ee7/cleaning_before_joining/"
   ]
  },
  {
   "cell_type": "markdown",
   "metadata": {},
   "source": [
    "return rows in the top x% of a given column: \n",
    "- https://stackoverflow.com/questions/52876391/pandas-based-on-top-x-value-of-each-column-mark-as-new-number"
   ]
  },
  {
   "cell_type": "markdown",
   "metadata": {},
   "source": [
    "For creating a dictionary that lists the number of rows for each table: \n",
    "- https://stackoverflow.com/questions/71432838/for-loop-to-create-a-dataframe-using-pandas-read-sql-in-python"
   ]
  },
  {
   "cell_type": "markdown",
   "metadata": {},
   "source": [
    "Use a for loop to create multiple bar plots: \n",
    "- https://stackoverflow.com/questions/43962735/creating-barplots-using-for-loop-using-pandas-matplotlib"
   ]
  },
  {
   "cell_type": "markdown",
   "metadata": {},
   "source": [
    "filer based on value counts:\n",
    "- https://stackoverflow.com/questions/49735683/python-removing-rows-on-count-condition"
   ]
  },
  {
   "cell_type": "markdown",
   "metadata": {},
   "source": [
    "for searching list within df col:\n",
    "- https://stackoverflow.com/questions/50355825/pandas-using-isin-to-return-if-column-contains-any-values-in-a-list-rather-th"
   ]
  },
  {
   "cell_type": "markdown",
   "metadata": {},
   "source": [
    "For more information about role of movie director vs producer: \n",
    "- https://www.linkedin.com/pulse/producer-vs-director-who-has-power-adam-snook-sczoc/"
   ]
  },
  {
   "cell_type": "markdown",
   "metadata": {},
   "source": [
    "For labeling points on scatterplot: \n",
    "- https://stackoverflow.com/questions/46027653/adding-labels-in-x-y-scatter-plot-with-seaborn"
   ]
  },
  {
   "cell_type": "markdown",
   "metadata": {},
   "source": [
    "For adjusting the tick marking colors: \n",
    "- https://stackoverflow.com/questions/39409530/every-tick-label-in-different-color"
   ]
  }
 ],
 "metadata": {
  "kernelspec": {
   "display_name": "Python 3",
   "language": "python",
   "name": "python3"
  },
  "language_info": {
   "codemirror_mode": {
    "name": "ipython",
    "version": 3
   },
   "file_extension": ".py",
   "mimetype": "text/x-python",
   "name": "python",
   "nbconvert_exporter": "python",
   "pygments_lexer": "ipython3",
   "version": "3.8.5"
  }
 },
 "nbformat": 4,
 "nbformat_minor": 4
}
