{
 "cells": [
  {
   "cell_type": "markdown",
   "metadata": {},
   "source": [
    "# Movie Analysis Project"
   ]
  },
  {
   "cell_type": "markdown",
   "metadata": {},
   "source": [
    "## Table of Contents\n",
    "\n",
    "> #### 1. [Business Understanding](#Business-Understanding)\n",
    "> #### 2. [Data Understanding](#Data-Understanding)\n",
    "> #### 3. [Data Preparation](#Data-Preparation)\n",
    "> #### 4. [Exploratory Data Analysis](#Exploratory-Data-Analysis)\n",
    "> #### 5. [Conclusions](#Conclusions)\n",
    "> #### 6. [Resources](#Resources)"
   ]
  },
  {
   "cell_type": "markdown",
   "metadata": {},
   "source": [
    "## 1. <a name =\"Business-Understanding\"></a> Business Understanding\n",
    "\n",
    "### Background\n",
    "My company is looking to get into movie creation using their newly created movie studio. \n",
    "\n",
    "### Business Goals\n",
    "The primary focus of this data science project is to analyze and assess which features of a movie are the most cost efficient. The movie's return on investment will be used to measure cost efficiency in order to make an informed decision regarding what features of movie creation my company should invest in.\n",
    "\n",
    "### Business Success Criteria\n",
    "The success of this project will be measured by providing three well-supported recommendations on the most cost efficient movie features (actors, directots, genre, marketing cost, movie rating (G, PG, PG-13, etc.)) to invest in. For this project, the most \"cost efficient\" features are measured by their return on investment which is defined as 100% times the total revenue divided by the initial investment of the film."
   ]
  },
  {
   "cell_type": "markdown",
   "metadata": {},
   "source": [
    "## 2. <a name =\"Data-Understanding\"></a> Data Understanding\n",
    "\n",
    "Data on movies is collected by a variety of different sources. For this project, I used data from the following sources:\n",
    "    \n",
    "- The Numbers' `budgets` dataset\n",
    "    - This dataset includes 6 features and 5782 observations. Each entry in the dataset represents a different movie. For each entry, information is included about the movie's release data, production budget, domestic gross box office, and worldwide gross box office.\n",
    "    \n",
    "    \n",
    "- IMDB's film database\n",
    "    - This database includes 8 tables. Its entity-related diagram (ERD) is shown below. \n",
    "    \n",
    "    - From this database, I used the following tables: `movie_basics`, `persons`, and `principals`\n",
    "    \n",
    "    - `movie_basics` includes **6 features** with **146144 observations**. Each entry in this dataset represents a different movie, where `movie_id` is its unique ID (primary key). Additional information is included about each movie such as `original_title`, `runtime_minutes`, and `genres`.\n",
    "    \n",
    "    - The `persons` table includes **5 features** with **606648 entries**. Each entry represents a person who took part in a movie, where each person has a unique identifier (`person_id`). This table also includes information about each person such as their `primary_name`, `birth_year`, and `primary_professions` \n",
    "    \n",
    "     - The `principals` table contains **6 features** and **1028186** entries, where each entry represents a person who worked in a movie. This table contains two foreign keys (`movie_id` and `person_id`). Additional information includes the `character` the person played and their role on the film (`category`). \n",
    "    ![alt text](Movie_data_ERD.png \"Title\")\n",
    "    "
   ]
  },
  {
   "cell_type": "code",
   "execution_count": 1,
   "metadata": {},
   "outputs": [],
   "source": [
    "# importing necessary packages\n",
    "\n",
    "import pandas as pd\n",
    "import numpy as np\n",
    "import matplotlib.pyplot as plt\n",
    "import seaborn as sns\n",
    "from scipy import stats\n",
    "import sqlite3"
   ]
  },
  {
   "cell_type": "code",
   "execution_count": 2,
   "metadata": {},
   "outputs": [],
   "source": [
    "#setting up connection to sqlite database\n",
    "\n",
    "conn = sqlite3.connect('im.db')\n",
    "cur = conn.cursor()"
   ]
  },
  {
   "cell_type": "code",
   "execution_count": 3,
   "metadata": {},
   "outputs": [
    {
     "name": "stdout",
     "output_type": "stream",
     "text": [
      "<class 'pandas.core.frame.DataFrame'>\n",
      "RangeIndex: 5782 entries, 0 to 5781\n",
      "Data columns (total 6 columns):\n",
      " #   Column             Non-Null Count  Dtype \n",
      "---  ------             --------------  ----- \n",
      " 0   id                 5782 non-null   int64 \n",
      " 1   release_date       5782 non-null   object\n",
      " 2   movie              5782 non-null   object\n",
      " 3   production_budget  5782 non-null   object\n",
      " 4   domestic_gross     5782 non-null   object\n",
      " 5   worldwide_gross    5782 non-null   object\n",
      "dtypes: int64(1), object(5)\n",
      "memory usage: 271.2+ KB\n"
     ]
    }
   ],
   "source": [
    "# reading budgets csv into a pandas dataframe\n",
    "budgets = pd.read_csv('zippedData/tn.movie_budgets.csv.gz')\n",
    "budgets.info()"
   ]
  },
  {
   "cell_type": "markdown",
   "metadata": {},
   "source": [
    "From this output, we see that there are 6 columns, and each column has 0 NaN values. The output also shows that the datatypes for `production_budget`, `domestic_gross`, and `worldwide_gross` are objects. Typically in this stage, it would be helpful to visualize the budget data with a histogram to get a quick sense of the distributions, but since the data types are objects instead of integers or floats, trying to plots histograms will return an error. \n",
    "\n",
    "During data preparation these data types will need to be converted to a type that aggregate functions can be performed on. There is also no column with return on investment data, so I will need to calculate that and include it as an additional column with this dataframe. "
   ]
  },
  {
   "cell_type": "code",
   "execution_count": 4,
   "metadata": {},
   "outputs": [
    {
     "data": {
      "text/html": [
       "<div>\n",
       "<style scoped>\n",
       "    .dataframe tbody tr th:only-of-type {\n",
       "        vertical-align: middle;\n",
       "    }\n",
       "\n",
       "    .dataframe tbody tr th {\n",
       "        vertical-align: top;\n",
       "    }\n",
       "\n",
       "    .dataframe thead th {\n",
       "        text-align: right;\n",
       "    }\n",
       "</style>\n",
       "<table border=\"1\" class=\"dataframe\">\n",
       "  <thead>\n",
       "    <tr style=\"text-align: right;\">\n",
       "      <th></th>\n",
       "      <th>name</th>\n",
       "    </tr>\n",
       "  </thead>\n",
       "  <tbody>\n",
       "    <tr>\n",
       "      <th>0</th>\n",
       "      <td>movie_basics</td>\n",
       "    </tr>\n",
       "    <tr>\n",
       "      <th>1</th>\n",
       "      <td>directors</td>\n",
       "    </tr>\n",
       "    <tr>\n",
       "      <th>2</th>\n",
       "      <td>known_for</td>\n",
       "    </tr>\n",
       "    <tr>\n",
       "      <th>3</th>\n",
       "      <td>movie_akas</td>\n",
       "    </tr>\n",
       "    <tr>\n",
       "      <th>4</th>\n",
       "      <td>movie_ratings</td>\n",
       "    </tr>\n",
       "    <tr>\n",
       "      <th>5</th>\n",
       "      <td>persons</td>\n",
       "    </tr>\n",
       "    <tr>\n",
       "      <th>6</th>\n",
       "      <td>principals</td>\n",
       "    </tr>\n",
       "    <tr>\n",
       "      <th>7</th>\n",
       "      <td>writers</td>\n",
       "    </tr>\n",
       "  </tbody>\n",
       "</table>\n",
       "</div>"
      ],
      "text/plain": [
       "            name\n",
       "0   movie_basics\n",
       "1      directors\n",
       "2      known_for\n",
       "3     movie_akas\n",
       "4  movie_ratings\n",
       "5        persons\n",
       "6     principals\n",
       "7        writers"
      ]
     },
     "execution_count": 4,
     "metadata": {},
     "output_type": "execute_result"
    }
   ],
   "source": [
    "# creating a dataframe with a list of all tables in the database\n",
    "\n",
    "db_tables = pd.read_sql(\"\"\"\n",
    "\n",
    "SELECT name\n",
    "FROM sqlite_master\n",
    "WHERE type = 'table';\n",
    "\n",
    "\"\"\", conn)\n",
    "\n",
    "db_tables"
   ]
  },
  {
   "cell_type": "markdown",
   "metadata": {},
   "source": [
    "This output is important because it provides the names of all the tables available in this database. The tables I will be using in this analysis are `movie_basics`, `persons`, and `principals`. "
   ]
  },
  {
   "cell_type": "code",
   "execution_count": 5,
   "metadata": {},
   "outputs": [
    {
     "data": {
      "text/plain": [
       "{'movie_basics': 146144,\n",
       " 'directors': 291174,\n",
       " 'known_for': 1638260,\n",
       " 'movie_akas': 331703,\n",
       " 'movie_ratings': 73856,\n",
       " 'persons': 606648,\n",
       " 'principals': 1028186,\n",
       " 'writers': 255873}"
      ]
     },
     "execution_count": 5,
     "metadata": {},
     "output_type": "execute_result"
    }
   ],
   "source": [
    "# prints the name of each table in the database with the count of rows in each table\n",
    "\n",
    "table_names = list(db_tables['name'])\n",
    "\n",
    "tables = {key: None for key in table_names}\n",
    "\n",
    "for table_name in tables.keys():\n",
    "    query = f\"SELECT COUNT(*) AS num_rows FROM {table_name}\"\n",
    "    tables[table_name] = conn.execute(query).fetchone()[0]\n",
    "    \n",
    "tables"
   ]
  },
  {
   "cell_type": "markdown",
   "metadata": {},
   "source": [
    "The output provides a quick overview of the number of rows in each table in the database. For example, `movie_basics` has 146,144 rows, while `principals` has 1,028,196 entries. This is important to consider when determining the relationship between tables and the type of join that may work best to optimize processing speeds."
   ]
  },
  {
   "cell_type": "code",
   "execution_count": 6,
   "metadata": {},
   "outputs": [
    {
     "name": "stdout",
     "output_type": "stream",
     "text": [
      "<class 'pandas.core.frame.DataFrame'>\n",
      "RangeIndex: 146144 entries, 0 to 146143\n",
      "Data columns (total 6 columns):\n",
      " #   Column           Non-Null Count   Dtype  \n",
      "---  ------           --------------   -----  \n",
      " 0   movie_id         146144 non-null  object \n",
      " 1   primary_title    146144 non-null  object \n",
      " 2   original_title   146123 non-null  object \n",
      " 3   start_year       146144 non-null  int64  \n",
      " 4   runtime_minutes  114405 non-null  float64\n",
      " 5   genres           140736 non-null  object \n",
      "dtypes: float64(1), int64(1), object(4)\n",
      "memory usage: 6.7+ MB\n"
     ]
    }
   ],
   "source": [
    "# reading the movie_basics table into a pandas dataframe using read_sql and a connection to the database\n",
    "movie_basics = pd.read_sql(\"\"\"\n",
    "\n",
    "SELECT * \n",
    "FROM movie_basics\n",
    "\n",
    "\"\"\", conn)\n",
    "\n",
    "movie_basics.info()"
   ]
  },
  {
   "cell_type": "markdown",
   "metadata": {},
   "source": [
    "From this output, we see that there are 6 columns and 3 of those columns do not have NaN values. This means that during the Data Preparation phase I will have to inspect the columns with NaN values closely and make a decision about how to proceed with the NaN values."
   ]
  },
  {
   "cell_type": "code",
   "execution_count": 7,
   "metadata": {
    "scrolled": false
   },
   "outputs": [
    {
     "data": {
      "image/png": "[encoded data removed]",
      "text/plain": [
       "<Figure size 864x432 with 2 Axes>"
      ]
     },
     "metadata": {
      "needs_background": "light"
     },
     "output_type": "display_data"
    }
   ],
   "source": [
    "# quickly visualizing the columns of movie_basics that have int or float data types\n",
    "fig, ax = plt.subplots(nrows = 1, \n",
    "                       ncols = 2, \n",
    "                       figsize = (12, 6)\n",
    "                      )\n",
    "movie_basics.hist(ax = ax, \n",
    "                  bins = 30\n",
    "                 );"
   ]
  },
  {
   "cell_type": "markdown",
   "metadata": {},
   "source": [
    "This output provides a quick visualization about the shape of any columns stored as integer or float datatype within the `movie_basics` table. The bars for both `start_year` and `runtime_minutes` appear on the left most portion of the graph. This indicates that each feature has outliers that are much greater than the majority of the data. This means during the Data Preparation phase, I will need to inspect the outliers within each of these columns."
   ]
  },
  {
   "cell_type": "code",
   "execution_count": 8,
   "metadata": {},
   "outputs": [
    {
     "name": "stdout",
     "output_type": "stream",
     "text": [
      "<class 'pandas.core.frame.DataFrame'>\n",
      "RangeIndex: 1028186 entries, 0 to 1028185\n",
      "Data columns (total 6 columns):\n",
      " #   Column      Non-Null Count    Dtype \n",
      "---  ------      --------------    ----- \n",
      " 0   movie_id    1028186 non-null  object\n",
      " 1   ordering    1028186 non-null  int64 \n",
      " 2   person_id   1028186 non-null  object\n",
      " 3   category    1028186 non-null  object\n",
      " 4   job         177684 non-null   object\n",
      " 5   characters  393360 non-null   object\n",
      "dtypes: int64(1), object(5)\n",
      "memory usage: 47.1+ MB\n"
     ]
    }
   ],
   "source": [
    "# reading the principals table into a pandas dataframe using read_sql and a connection to the database\n",
    "principals = pd.read_sql(\"\"\"\n",
    "\n",
    "SELECT *\n",
    "FROM principals\n",
    "\"\"\", conn)\n",
    "\n",
    "principals.info()"
   ]
  },
  {
   "cell_type": "code",
   "execution_count": 9,
   "metadata": {},
   "outputs": [
    {
     "data": {
      "text/html": [
       "<div>\n",
       "<style scoped>\n",
       "    .dataframe tbody tr th:only-of-type {\n",
       "        vertical-align: middle;\n",
       "    }\n",
       "\n",
       "    .dataframe tbody tr th {\n",
       "        vertical-align: top;\n",
       "    }\n",
       "\n",
       "    .dataframe thead th {\n",
       "        text-align: right;\n",
       "    }\n",
       "</style>\n",
       "<table border=\"1\" class=\"dataframe\">\n",
       "  <thead>\n",
       "    <tr style=\"text-align: right;\">\n",
       "      <th></th>\n",
       "      <th>movie_id</th>\n",
       "      <th>ordering</th>\n",
       "      <th>person_id</th>\n",
       "      <th>category</th>\n",
       "      <th>job</th>\n",
       "      <th>characters</th>\n",
       "    </tr>\n",
       "  </thead>\n",
       "  <tbody>\n",
       "    <tr>\n",
       "      <th>0</th>\n",
       "      <td>tt0111414</td>\n",
       "      <td>1</td>\n",
       "      <td>nm0246005</td>\n",
       "      <td>actor</td>\n",
       "      <td>None</td>\n",
       "      <td>[\"The Man\"]</td>\n",
       "    </tr>\n",
       "    <tr>\n",
       "      <th>1</th>\n",
       "      <td>tt0111414</td>\n",
       "      <td>2</td>\n",
       "      <td>nm0398271</td>\n",
       "      <td>director</td>\n",
       "      <td>None</td>\n",
       "      <td>None</td>\n",
       "    </tr>\n",
       "    <tr>\n",
       "      <th>2</th>\n",
       "      <td>tt0111414</td>\n",
       "      <td>3</td>\n",
       "      <td>nm3739909</td>\n",
       "      <td>producer</td>\n",
       "      <td>producer</td>\n",
       "      <td>None</td>\n",
       "    </tr>\n",
       "    <tr>\n",
       "      <th>3</th>\n",
       "      <td>tt0323808</td>\n",
       "      <td>10</td>\n",
       "      <td>nm0059247</td>\n",
       "      <td>editor</td>\n",
       "      <td>None</td>\n",
       "      <td>None</td>\n",
       "    </tr>\n",
       "    <tr>\n",
       "      <th>4</th>\n",
       "      <td>tt0323808</td>\n",
       "      <td>1</td>\n",
       "      <td>nm3579312</td>\n",
       "      <td>actress</td>\n",
       "      <td>None</td>\n",
       "      <td>[\"Beth Boothby\"]</td>\n",
       "    </tr>\n",
       "  </tbody>\n",
       "</table>\n",
       "</div>"
      ],
      "text/plain": [
       "    movie_id  ordering  person_id  category       job        characters\n",
       "0  tt0111414         1  nm0246005     actor      None       [\"The Man\"]\n",
       "1  tt0111414         2  nm0398271  director      None              None\n",
       "2  tt0111414         3  nm3739909  producer  producer              None\n",
       "3  tt0323808        10  nm0059247    editor      None              None\n",
       "4  tt0323808         1  nm3579312   actress      None  [\"Beth Boothby\"]"
      ]
     },
     "execution_count": 9,
     "metadata": {},
     "output_type": "execute_result"
    }
   ],
   "source": [
    "# getting a preview of the principals table\n",
    "principals.head()"
   ]
  },
  {
   "cell_type": "markdown",
   "metadata": {},
   "source": [
    "From this output, we see that there are 6 columns and the `job` and `category` columns have a large number of NaN values. This means that during the Data Preparation phase I will have to inspect these columns closely and make a decision about how to proceed with the NaN values."
   ]
  },
  {
   "cell_type": "code",
   "execution_count": 10,
   "metadata": {},
   "outputs": [
    {
     "name": "stdout",
     "output_type": "stream",
     "text": [
      "<class 'pandas.core.frame.DataFrame'>\n",
      "RangeIndex: 606648 entries, 0 to 606647\n",
      "Data columns (total 5 columns):\n",
      " #   Column              Non-Null Count   Dtype  \n",
      "---  ------              --------------   -----  \n",
      " 0   person_id           606648 non-null  object \n",
      " 1   primary_name        606648 non-null  object \n",
      " 2   birth_year          82736 non-null   float64\n",
      " 3   death_year          6783 non-null    float64\n",
      " 4   primary_profession  555308 non-null  object \n",
      "dtypes: float64(2), object(3)\n",
      "memory usage: 23.1+ MB\n"
     ]
    }
   ],
   "source": [
    "# reading the persons table into a pandas dataframe using read_sql and a connection to the database\n",
    "persons = pd.read_sql(\"\"\"\n",
    "\n",
    "SELECT *\n",
    "FROM persons\n",
    "\"\"\", conn)\n",
    "\n",
    "persons.info()"
   ]
  },
  {
   "cell_type": "code",
   "execution_count": 11,
   "metadata": {},
   "outputs": [
    {
     "data": {
      "text/html": [
       "<div>\n",
       "<style scoped>\n",
       "    .dataframe tbody tr th:only-of-type {\n",
       "        vertical-align: middle;\n",
       "    }\n",
       "\n",
       "    .dataframe tbody tr th {\n",
       "        vertical-align: top;\n",
       "    }\n",
       "\n",
       "    .dataframe thead th {\n",
       "        text-align: right;\n",
       "    }\n",
       "</style>\n",
       "<table border=\"1\" class=\"dataframe\">\n",
       "  <thead>\n",
       "    <tr style=\"text-align: right;\">\n",
       "      <th></th>\n",
       "      <th>person_id</th>\n",
       "      <th>primary_name</th>\n",
       "      <th>birth_year</th>\n",
       "      <th>death_year</th>\n",
       "      <th>primary_profession</th>\n",
       "    </tr>\n",
       "  </thead>\n",
       "  <tbody>\n",
       "    <tr>\n",
       "      <th>0</th>\n",
       "      <td>nm0061671</td>\n",
       "      <td>Mary Ellen Bauder</td>\n",
       "      <td>NaN</td>\n",
       "      <td>NaN</td>\n",
       "      <td>miscellaneous,production_manager,producer</td>\n",
       "    </tr>\n",
       "    <tr>\n",
       "      <th>1</th>\n",
       "      <td>nm0061865</td>\n",
       "      <td>Joseph Bauer</td>\n",
       "      <td>NaN</td>\n",
       "      <td>NaN</td>\n",
       "      <td>composer,music_department,sound_department</td>\n",
       "    </tr>\n",
       "    <tr>\n",
       "      <th>2</th>\n",
       "      <td>nm0062070</td>\n",
       "      <td>Bruce Baum</td>\n",
       "      <td>NaN</td>\n",
       "      <td>NaN</td>\n",
       "      <td>miscellaneous,actor,writer</td>\n",
       "    </tr>\n",
       "    <tr>\n",
       "      <th>3</th>\n",
       "      <td>nm0062195</td>\n",
       "      <td>Axel Baumann</td>\n",
       "      <td>NaN</td>\n",
       "      <td>NaN</td>\n",
       "      <td>camera_department,cinematographer,art_department</td>\n",
       "    </tr>\n",
       "    <tr>\n",
       "      <th>4</th>\n",
       "      <td>nm0062798</td>\n",
       "      <td>Pete Baxter</td>\n",
       "      <td>NaN</td>\n",
       "      <td>NaN</td>\n",
       "      <td>production_designer,art_department,set_decorator</td>\n",
       "    </tr>\n",
       "  </tbody>\n",
       "</table>\n",
       "</div>"
      ],
      "text/plain": [
       "   person_id       primary_name  birth_year  death_year  \\\n",
       "0  nm0061671  Mary Ellen Bauder         NaN         NaN   \n",
       "1  nm0061865       Joseph Bauer         NaN         NaN   \n",
       "2  nm0062070         Bruce Baum         NaN         NaN   \n",
       "3  nm0062195       Axel Baumann         NaN         NaN   \n",
       "4  nm0062798        Pete Baxter         NaN         NaN   \n",
       "\n",
       "                                 primary_profession  \n",
       "0         miscellaneous,production_manager,producer  \n",
       "1        composer,music_department,sound_department  \n",
       "2                        miscellaneous,actor,writer  \n",
       "3  camera_department,cinematographer,art_department  \n",
       "4  production_designer,art_department,set_decorator  "
      ]
     },
     "execution_count": 11,
     "metadata": {},
     "output_type": "execute_result"
    }
   ],
   "source": [
    "# getting a preview of the persons table\n",
    "persons.head()"
   ]
  },
  {
   "cell_type": "markdown",
   "metadata": {},
   "source": [
    "From this output, we see that there are 5 columns and the `birth_year`, `death_year`, and `primary_profession` columns  have NaN values. This means that during the Data Preparation phase I will have to inspect these columns  closely and make a decision about how to proceed with the NaN values."
   ]
  },
  {
   "cell_type": "markdown",
   "metadata": {},
   "source": [
    "## 3. <a name =\"Data-Preparation\"></a> Data Preparation\n",
    "\n",
    "During the data preparation stage, I focused on cleaning four datasets: `budgets`, `movie_basics`, `persons`, and `principals`.\n",
    "\n",
    "The data cleaning process began by converting columns to their appropriate Python data types. To facilitate this, I created a function called `get_info()` to check each table's `.info()`, which allowed me to verify the data types and identify `NaN` values in each feature. For instance, I converted the `production_budget`, `domestic_gross`, and `worldwide_gross` columns in the budgets dataframe from objects to floats, as they were originally stored incorrectly.\n",
    "\n",
    "I filtered out outliers and included only movies released before 2024. Irrelevant columns, such as `id` in `budgets`, were removed. `NaN` values were addressed by filtering out rows in movie_basics where both `runtime_minutes` and `genres` were `NaN`.\n",
    "\n",
    "In the `principals` table, I removed the `job`, `characters`, and `ordering` columns due to redundancy or irrelevance, and in the `persons` table, I removed `birth_year`, `death_year`, and `primary_profession` for the same reasons.\n",
    "\n",
    "After cleaning and processing all four dataframes, I used filtering and join operations to create three new dataframes: `top_people_budgets`, `top_roi_movie_basics`, and `budgets_no_outliers`. These dataframes contain information about movies in the top 25% of ROIs, which I used for further analysis.\n",
    "\n",
    "* `top_people_budgets` includes information about individuals who worked on movies in the top 25% of ROIs, such as their names, movie titles, and job professions.\n",
    "* `top_roi_movie_basics` contains details about movies with the highest 25% ROI, including titles, genres, runtimes, and budget information.\n",
    "* `budgets_no_outliers` provides budget information about all movies from the cleaned dataset."
   ]
  },
  {
   "cell_type": "code",
   "execution_count": 12,
   "metadata": {},
   "outputs": [
    {
     "data": {
      "text/html": [
       "<div>\n",
       "<style scoped>\n",
       "    .dataframe tbody tr th:only-of-type {\n",
       "        vertical-align: middle;\n",
       "    }\n",
       "\n",
       "    .dataframe tbody tr th {\n",
       "        vertical-align: top;\n",
       "    }\n",
       "\n",
       "    .dataframe thead th {\n",
       "        text-align: right;\n",
       "    }\n",
       "</style>\n",
       "<table border=\"1\" class=\"dataframe\">\n",
       "  <thead>\n",
       "    <tr style=\"text-align: right;\">\n",
       "      <th></th>\n",
       "      <th>id</th>\n",
       "      <th>release_date</th>\n",
       "      <th>movie</th>\n",
       "      <th>production_budget</th>\n",
       "      <th>domestic_gross</th>\n",
       "      <th>worldwide_gross</th>\n",
       "    </tr>\n",
       "  </thead>\n",
       "  <tbody>\n",
       "    <tr>\n",
       "      <th>0</th>\n",
       "      <td>1</td>\n",
       "      <td>Dec 18, 2009</td>\n",
       "      <td>Avatar</td>\n",
       "      <td>$425,000,000</td>\n",
       "      <td>$760,507,625</td>\n",
       "      <td>$2,776,345,279</td>\n",
       "    </tr>\n",
       "    <tr>\n",
       "      <th>1</th>\n",
       "      <td>2</td>\n",
       "      <td>May 20, 2011</td>\n",
       "      <td>Pirates of the Caribbean: On Stranger Tides</td>\n",
       "      <td>$410,600,000</td>\n",
       "      <td>$241,063,875</td>\n",
       "      <td>$1,045,663,875</td>\n",
       "    </tr>\n",
       "    <tr>\n",
       "      <th>2</th>\n",
       "      <td>3</td>\n",
       "      <td>Jun 7, 2019</td>\n",
       "      <td>Dark Phoenix</td>\n",
       "      <td>$350,000,000</td>\n",
       "      <td>$42,762,350</td>\n",
       "      <td>$149,762,350</td>\n",
       "    </tr>\n",
       "  </tbody>\n",
       "</table>\n",
       "</div>"
      ],
      "text/plain": [
       "   id  release_date                                        movie  \\\n",
       "0   1  Dec 18, 2009                                       Avatar   \n",
       "1   2  May 20, 2011  Pirates of the Caribbean: On Stranger Tides   \n",
       "2   3   Jun 7, 2019                                 Dark Phoenix   \n",
       "\n",
       "  production_budget domestic_gross worldwide_gross  \n",
       "0      $425,000,000   $760,507,625  $2,776,345,279  \n",
       "1      $410,600,000   $241,063,875  $1,045,663,875  \n",
       "2      $350,000,000    $42,762,350    $149,762,350  "
      ]
     },
     "execution_count": 12,
     "metadata": {},
     "output_type": "execute_result"
    }
   ],
   "source": [
    "# getting a preview of the dataset\n",
    "budgets.head(3)"
   ]
  },
  {
   "cell_type": "code",
   "execution_count": 13,
   "metadata": {},
   "outputs": [],
   "source": [
    "# defining columns to format\n",
    "\n",
    "budget_cols = ['production_budget', 'domestic_gross', 'worldwide_gross']"
   ]
  },
  {
   "cell_type": "code",
   "execution_count": 14,
   "metadata": {},
   "outputs": [],
   "source": [
    "# formatting budget columns by removing the $\n",
    "for col in budget_cols:\n",
    "     budgets[col] = budgets[col].str.replace('$', '')\n",
    "        \n",
    "        \n",
    "# formatting budget columns by removing commas\n",
    "for col in budget_cols:\n",
    "     budgets[col] = budgets[col].str.replace(',', '')"
   ]
  },
  {
   "cell_type": "code",
   "execution_count": 15,
   "metadata": {},
   "outputs": [],
   "source": [
    "# changing dtype of budget and gross columns to int\n",
    "for col in budget_cols:\n",
    "     budgets[col] = budgets[col].astype(float)"
   ]
  },
  {
   "cell_type": "code",
   "execution_count": 16,
   "metadata": {},
   "outputs": [],
   "source": [
    "# calculating the return on investment for each film and creating a column to hold this information\n",
    "budgets['roi (%)'] = round(((budgets['worldwide_gross'] \n",
    "                            - budgets['production_budget']\n",
    "                                )\n",
    "                            / budgets['production_budget']\n",
    "                                ) \n",
    "                            * 100 , 1\n",
    "                            )"
   ]
  },
  {
   "cell_type": "code",
   "execution_count": 17,
   "metadata": {},
   "outputs": [],
   "source": [
    "#converting dollar amounts to amounts that are easier to read\n",
    "\n",
    "for col in budget_cols:\n",
    "    budgets[col] = round(budgets[col]/1000000, 3)"
   ]
  },
  {
   "cell_type": "code",
   "execution_count": 18,
   "metadata": {},
   "outputs": [],
   "source": [
    "# renaming columns to include dollar sign\n",
    "\n",
    "budgets.rename(columns={'production_budget': 'production_budget (millions of $)', 'domestic_gross': 'domestic_gross (millions of $)', 'worldwide_gross' : 'worldwide_gross (millions of $)'}, inplace=True)"
   ]
  },
  {
   "cell_type": "code",
   "execution_count": 19,
   "metadata": {
    "scrolled": true
   },
   "outputs": [
    {
     "data": {
      "image/png": "[encoded data removed]",
      "text/plain": [
       "<Figure size 1296x432 with 5 Axes>"
      ]
     },
     "metadata": {
      "needs_background": "light"
     },
     "output_type": "display_data"
    }
   ],
   "source": [
    "# creating histograms to visualize distributions for each column of budgets\n",
    "fig, ax = plt.subplots(nrows = 1, \n",
    "                       ncols = 5, \n",
    "                       figsize = (18, 6)\n",
    "                      )\n",
    "budgets.hist(ax = ax,\n",
    "             bins = 15\n",
    "            );"
   ]
  },
  {
   "cell_type": "markdown",
   "metadata": {},
   "source": [
    "Now that the data types of the budget and gross features have been converted to their true data types, histograms can be plotted. The histograms show that the budget and gross columns are skewed right, which means they may contain outliers. This is something to be explored further during the Data Preparation phase. "
   ]
  },
  {
   "cell_type": "code",
   "execution_count": 20,
   "metadata": {},
   "outputs": [
    {
     "data": {
      "text/html": [
       "<div>\n",
       "<style scoped>\n",
       "    .dataframe tbody tr th:only-of-type {\n",
       "        vertical-align: middle;\n",
       "    }\n",
       "\n",
       "    .dataframe tbody tr th {\n",
       "        vertical-align: top;\n",
       "    }\n",
       "\n",
       "    .dataframe thead th {\n",
       "        text-align: right;\n",
       "    }\n",
       "</style>\n",
       "<table border=\"1\" class=\"dataframe\">\n",
       "  <thead>\n",
       "    <tr style=\"text-align: right;\">\n",
       "      <th></th>\n",
       "      <th>id</th>\n",
       "      <th>release_date</th>\n",
       "      <th>movie</th>\n",
       "      <th>production_budget (millions of $)</th>\n",
       "      <th>domestic_gross (millions of $)</th>\n",
       "      <th>worldwide_gross (millions of $)</th>\n",
       "      <th>roi (%)</th>\n",
       "    </tr>\n",
       "  </thead>\n",
       "  <tbody>\n",
       "    <tr>\n",
       "      <th>0</th>\n",
       "      <td>1</td>\n",
       "      <td>Dec 18, 2009</td>\n",
       "      <td>Avatar</td>\n",
       "      <td>425.0</td>\n",
       "      <td>760.508</td>\n",
       "      <td>2776.345</td>\n",
       "      <td>553.3</td>\n",
       "    </tr>\n",
       "    <tr>\n",
       "      <th>1</th>\n",
       "      <td>2</td>\n",
       "      <td>May 20, 2011</td>\n",
       "      <td>Pirates of the Caribbean: On Stranger Tides</td>\n",
       "      <td>410.6</td>\n",
       "      <td>241.064</td>\n",
       "      <td>1045.664</td>\n",
       "      <td>154.7</td>\n",
       "    </tr>\n",
       "  </tbody>\n",
       "</table>\n",
       "</div>"
      ],
      "text/plain": [
       "   id  release_date                                        movie  \\\n",
       "0   1  Dec 18, 2009                                       Avatar   \n",
       "1   2  May 20, 2011  Pirates of the Caribbean: On Stranger Tides   \n",
       "\n",
       "   production_budget (millions of $)  domestic_gross (millions of $)  \\\n",
       "0                              425.0                         760.508   \n",
       "1                              410.6                         241.064   \n",
       "\n",
       "   worldwide_gross (millions of $)  roi (%)  \n",
       "0                         2776.345    553.3  \n",
       "1                         1045.664    154.7  "
      ]
     },
     "execution_count": 20,
     "metadata": {},
     "output_type": "execute_result"
    }
   ],
   "source": [
    "budgets[:2]"
   ]
  },
  {
   "cell_type": "code",
   "execution_count": 21,
   "metadata": {},
   "outputs": [
    {
     "data": {
      "text/html": [
       "<div>\n",
       "<style scoped>\n",
       "    .dataframe tbody tr th:only-of-type {\n",
       "        vertical-align: middle;\n",
       "    }\n",
       "\n",
       "    .dataframe tbody tr th {\n",
       "        vertical-align: top;\n",
       "    }\n",
       "\n",
       "    .dataframe thead th {\n",
       "        text-align: right;\n",
       "    }\n",
       "</style>\n",
       "<table border=\"1\" class=\"dataframe\">\n",
       "  <thead>\n",
       "    <tr style=\"text-align: right;\">\n",
       "      <th></th>\n",
       "      <th>id</th>\n",
       "      <th>release_date</th>\n",
       "      <th>movie</th>\n",
       "      <th>production_budget (millions of $)</th>\n",
       "      <th>domestic_gross (millions of $)</th>\n",
       "      <th>worldwide_gross (millions of $)</th>\n",
       "      <th>roi (%)</th>\n",
       "    </tr>\n",
       "  </thead>\n",
       "  <tbody>\n",
       "    <tr>\n",
       "      <th>0</th>\n",
       "      <td>1</td>\n",
       "      <td>Dec 18, 2009</td>\n",
       "      <td>Avatar</td>\n",
       "      <td>425.0</td>\n",
       "      <td>760.508</td>\n",
       "      <td>2776.345</td>\n",
       "      <td>553.3</td>\n",
       "    </tr>\n",
       "    <tr>\n",
       "      <th>1</th>\n",
       "      <td>2</td>\n",
       "      <td>May 20, 2011</td>\n",
       "      <td>Pirates of the Caribbean: On Stranger Tides</td>\n",
       "      <td>410.6</td>\n",
       "      <td>241.064</td>\n",
       "      <td>1045.664</td>\n",
       "      <td>154.7</td>\n",
       "    </tr>\n",
       "    <tr>\n",
       "      <th>2</th>\n",
       "      <td>3</td>\n",
       "      <td>Jun 7, 2019</td>\n",
       "      <td>Dark Phoenix</td>\n",
       "      <td>350.0</td>\n",
       "      <td>42.762</td>\n",
       "      <td>149.762</td>\n",
       "      <td>-57.2</td>\n",
       "    </tr>\n",
       "    <tr>\n",
       "      <th>3</th>\n",
       "      <td>4</td>\n",
       "      <td>May 1, 2015</td>\n",
       "      <td>Avengers: Age of Ultron</td>\n",
       "      <td>330.6</td>\n",
       "      <td>459.006</td>\n",
       "      <td>1403.014</td>\n",
       "      <td>324.4</td>\n",
       "    </tr>\n",
       "    <tr>\n",
       "      <th>4</th>\n",
       "      <td>5</td>\n",
       "      <td>Dec 15, 2017</td>\n",
       "      <td>Star Wars Ep. VIII: The Last Jedi</td>\n",
       "      <td>317.0</td>\n",
       "      <td>620.181</td>\n",
       "      <td>1316.722</td>\n",
       "      <td>315.4</td>\n",
       "    </tr>\n",
       "    <tr>\n",
       "      <th>...</th>\n",
       "      <td>...</td>\n",
       "      <td>...</td>\n",
       "      <td>...</td>\n",
       "      <td>...</td>\n",
       "      <td>...</td>\n",
       "      <td>...</td>\n",
       "      <td>...</td>\n",
       "    </tr>\n",
       "    <tr>\n",
       "      <th>141</th>\n",
       "      <td>42</td>\n",
       "      <td>Jun 3, 2011</td>\n",
       "      <td>X-Men: First Class</td>\n",
       "      <td>160.0</td>\n",
       "      <td>146.408</td>\n",
       "      <td>355.408</td>\n",
       "      <td>122.1</td>\n",
       "    </tr>\n",
       "    <tr>\n",
       "      <th>142</th>\n",
       "      <td>43</td>\n",
       "      <td>Dec 25, 2008</td>\n",
       "      <td>The Curious Case of Benjamin Button</td>\n",
       "      <td>160.0</td>\n",
       "      <td>127.509</td>\n",
       "      <td>329.632</td>\n",
       "      <td>106.0</td>\n",
       "    </tr>\n",
       "    <tr>\n",
       "      <th>143</th>\n",
       "      <td>44</td>\n",
       "      <td>Jul 14, 2010</td>\n",
       "      <td>The Sorcerer's Apprentice</td>\n",
       "      <td>160.0</td>\n",
       "      <td>63.151</td>\n",
       "      <td>217.986</td>\n",
       "      <td>36.2</td>\n",
       "    </tr>\n",
       "    <tr>\n",
       "      <th>144</th>\n",
       "      <td>45</td>\n",
       "      <td>May 12, 2006</td>\n",
       "      <td>Poseidon</td>\n",
       "      <td>160.0</td>\n",
       "      <td>60.675</td>\n",
       "      <td>181.675</td>\n",
       "      <td>13.5</td>\n",
       "    </tr>\n",
       "    <tr>\n",
       "      <th>145</th>\n",
       "      <td>46</td>\n",
       "      <td>Jun 10, 2016</td>\n",
       "      <td>Warcraft</td>\n",
       "      <td>160.0</td>\n",
       "      <td>47.226</td>\n",
       "      <td>425.522</td>\n",
       "      <td>166.0</td>\n",
       "    </tr>\n",
       "  </tbody>\n",
       "</table>\n",
       "<p>146 rows × 7 columns</p>\n",
       "</div>"
      ],
      "text/plain": [
       "     id  release_date                                        movie  \\\n",
       "0     1  Dec 18, 2009                                       Avatar   \n",
       "1     2  May 20, 2011  Pirates of the Caribbean: On Stranger Tides   \n",
       "2     3   Jun 7, 2019                                 Dark Phoenix   \n",
       "3     4   May 1, 2015                      Avengers: Age of Ultron   \n",
       "4     5  Dec 15, 2017            Star Wars Ep. VIII: The Last Jedi   \n",
       "..   ..           ...                                          ...   \n",
       "141  42   Jun 3, 2011                           X-Men: First Class   \n",
       "142  43  Dec 25, 2008          The Curious Case of Benjamin Button   \n",
       "143  44  Jul 14, 2010                    The Sorcerer's Apprentice   \n",
       "144  45  May 12, 2006                                     Poseidon   \n",
       "145  46  Jun 10, 2016                                     Warcraft   \n",
       "\n",
       "     production_budget (millions of $)  domestic_gross (millions of $)  \\\n",
       "0                                425.0                         760.508   \n",
       "1                                410.6                         241.064   \n",
       "2                                350.0                          42.762   \n",
       "3                                330.6                         459.006   \n",
       "4                                317.0                         620.181   \n",
       "..                                 ...                             ...   \n",
       "141                              160.0                         146.408   \n",
       "142                              160.0                         127.509   \n",
       "143                              160.0                          63.151   \n",
       "144                              160.0                          60.675   \n",
       "145                              160.0                          47.226   \n",
       "\n",
       "     worldwide_gross (millions of $)  roi (%)  \n",
       "0                           2776.345    553.3  \n",
       "1                           1045.664    154.7  \n",
       "2                            149.762    -57.2  \n",
       "3                           1403.014    324.4  \n",
       "4                           1316.722    315.4  \n",
       "..                               ...      ...  \n",
       "141                          355.408    122.1  \n",
       "142                          329.632    106.0  \n",
       "143                          217.986     36.2  \n",
       "144                          181.675     13.5  \n",
       "145                          425.522    166.0  \n",
       "\n",
       "[146 rows x 7 columns]"
      ]
     },
     "execution_count": 21,
     "metadata": {},
     "output_type": "execute_result"
    }
   ],
   "source": [
    "# Calculates z-score for each movie's production budget\n",
    "z = np.abs(stats.zscore(budgets['production_budget (millions of $)']))\n",
    "\n",
    "# Identify production budget outliers as movies with a z-score greater than 3\n",
    "outliers = budgets[z > 3]\n",
    "\n",
    "# Print the production budget outliers\n",
    "outliers"
   ]
  },
  {
   "cell_type": "code",
   "execution_count": 22,
   "metadata": {},
   "outputs": [
    {
     "data": {
      "text/plain": [
       "146"
      ]
     },
     "execution_count": 22,
     "metadata": {},
     "output_type": "execute_result"
    }
   ],
   "source": [
    "# creating a new df of budgets with production budget outliers removed\n",
    "budgets_no_outliers = budgets.drop(outliers.index)\n",
    "\n",
    "# checking that the correct number of rows were removed\n",
    "len(budgets) - len(budgets_no_outliers)"
   ]
  },
  {
   "cell_type": "code",
   "execution_count": 23,
   "metadata": {},
   "outputs": [
    {
     "data": {
      "text/plain": [
       "74    57\n",
       "54    57\n",
       "68    57\n",
       "72    57\n",
       "76    57\n",
       "      ..\n",
       "30    56\n",
       "34    56\n",
       "38    56\n",
       "42    56\n",
       "4     56\n",
       "Name: id, Length: 100, dtype: int64"
      ]
     },
     "execution_count": 23,
     "metadata": {},
     "output_type": "execute_result"
    }
   ],
   "source": [
    "budgets_no_outliers['id'].value_counts()"
   ]
  },
  {
   "cell_type": "code",
   "execution_count": 24,
   "metadata": {},
   "outputs": [
    {
     "data": {
      "text/html": [
       "<div>\n",
       "<style scoped>\n",
       "    .dataframe tbody tr th:only-of-type {\n",
       "        vertical-align: middle;\n",
       "    }\n",
       "\n",
       "    .dataframe tbody tr th {\n",
       "        vertical-align: top;\n",
       "    }\n",
       "\n",
       "    .dataframe thead th {\n",
       "        text-align: right;\n",
       "    }\n",
       "</style>\n",
       "<table border=\"1\" class=\"dataframe\">\n",
       "  <thead>\n",
       "    <tr style=\"text-align: right;\">\n",
       "      <th></th>\n",
       "      <th>id</th>\n",
       "      <th>release_date</th>\n",
       "      <th>movie</th>\n",
       "      <th>production_budget (millions of $)</th>\n",
       "      <th>domestic_gross (millions of $)</th>\n",
       "      <th>worldwide_gross (millions of $)</th>\n",
       "      <th>roi (%)</th>\n",
       "    </tr>\n",
       "  </thead>\n",
       "  <tbody>\n",
       "    <tr>\n",
       "      <th>203</th>\n",
       "      <td>4</td>\n",
       "      <td>Jul 15, 2016</td>\n",
       "      <td>Ghostbusters</td>\n",
       "      <td>144.0</td>\n",
       "      <td>128.351</td>\n",
       "      <td>229.009</td>\n",
       "      <td>59.0</td>\n",
       "    </tr>\n",
       "    <tr>\n",
       "      <th>303</th>\n",
       "      <td>4</td>\n",
       "      <td>May 19, 1999</td>\n",
       "      <td>Star Wars Ep. I: The Phantom Menace</td>\n",
       "      <td>115.0</td>\n",
       "      <td>474.545</td>\n",
       "      <td>1027.045</td>\n",
       "      <td>793.1</td>\n",
       "    </tr>\n",
       "    <tr>\n",
       "      <th>403</th>\n",
       "      <td>4</td>\n",
       "      <td>Dec 14, 2018</td>\n",
       "      <td>Mortal Engines</td>\n",
       "      <td>100.0</td>\n",
       "      <td>15.951</td>\n",
       "      <td>85.287</td>\n",
       "      <td>-14.7</td>\n",
       "    </tr>\n",
       "    <tr>\n",
       "      <th>503</th>\n",
       "      <td>4</td>\n",
       "      <td>Sep 29, 2006</td>\n",
       "      <td>Open Season</td>\n",
       "      <td>85.0</td>\n",
       "      <td>85.105</td>\n",
       "      <td>191.932</td>\n",
       "      <td>125.8</td>\n",
       "    </tr>\n",
       "    <tr>\n",
       "      <th>603</th>\n",
       "      <td>4</td>\n",
       "      <td>Dec 25, 1997</td>\n",
       "      <td>The Postman</td>\n",
       "      <td>80.0</td>\n",
       "      <td>17.651</td>\n",
       "      <td>20.841</td>\n",
       "      <td>-73.9</td>\n",
       "    </tr>\n",
       "    <tr>\n",
       "      <th>703</th>\n",
       "      <td>4</td>\n",
       "      <td>Aug 8, 2003</td>\n",
       "      <td>S.W.A.T.</td>\n",
       "      <td>70.0</td>\n",
       "      <td>116.878</td>\n",
       "      <td>207.155</td>\n",
       "      <td>195.9</td>\n",
       "    </tr>\n",
       "    <tr>\n",
       "      <th>803</th>\n",
       "      <td>4</td>\n",
       "      <td>Sep 14, 2012</td>\n",
       "      <td>Resident Evil: Retribution</td>\n",
       "      <td>65.0</td>\n",
       "      <td>42.346</td>\n",
       "      <td>240.648</td>\n",
       "      <td>270.2</td>\n",
       "    </tr>\n",
       "    <tr>\n",
       "      <th>903</th>\n",
       "      <td>4</td>\n",
       "      <td>Jan 11, 2013</td>\n",
       "      <td>Gangster Squad</td>\n",
       "      <td>60.0</td>\n",
       "      <td>46.001</td>\n",
       "      <td>104.101</td>\n",
       "      <td>73.5</td>\n",
       "    </tr>\n",
       "    <tr>\n",
       "      <th>1003</th>\n",
       "      <td>4</td>\n",
       "      <td>Apr 10, 1998</td>\n",
       "      <td>City of Angels</td>\n",
       "      <td>55.0</td>\n",
       "      <td>78.751</td>\n",
       "      <td>198.751</td>\n",
       "      <td>261.4</td>\n",
       "    </tr>\n",
       "    <tr>\n",
       "      <th>1103</th>\n",
       "      <td>4</td>\n",
       "      <td>Aug 9, 2013</td>\n",
       "      <td>Disney Planes</td>\n",
       "      <td>50.0</td>\n",
       "      <td>90.283</td>\n",
       "      <td>238.060</td>\n",
       "      <td>376.1</td>\n",
       "    </tr>\n",
       "    <tr>\n",
       "      <th>1203</th>\n",
       "      <td>4</td>\n",
       "      <td>Mar 15, 2013</td>\n",
       "      <td>Upside Down</td>\n",
       "      <td>50.0</td>\n",
       "      <td>0.102</td>\n",
       "      <td>26.387</td>\n",
       "      <td>-47.2</td>\n",
       "    </tr>\n",
       "    <tr>\n",
       "      <th>1303</th>\n",
       "      <td>4</td>\n",
       "      <td>Oct 4, 1996</td>\n",
       "      <td>The Glimmer Man</td>\n",
       "      <td>45.0</td>\n",
       "      <td>20.405</td>\n",
       "      <td>36.405</td>\n",
       "      <td>-19.1</td>\n",
       "    </tr>\n",
       "    <tr>\n",
       "      <th>1403</th>\n",
       "      <td>4</td>\n",
       "      <td>Feb 17, 2006</td>\n",
       "      <td>Eight Below</td>\n",
       "      <td>40.0</td>\n",
       "      <td>81.613</td>\n",
       "      <td>120.456</td>\n",
       "      <td>201.1</td>\n",
       "    </tr>\n",
       "    <tr>\n",
       "      <th>1503</th>\n",
       "      <td>4</td>\n",
       "      <td>Apr 21, 1995</td>\n",
       "      <td>Kiss of Death</td>\n",
       "      <td>40.0</td>\n",
       "      <td>14.942</td>\n",
       "      <td>14.942</td>\n",
       "      <td>-62.6</td>\n",
       "    </tr>\n",
       "    <tr>\n",
       "      <th>1603</th>\n",
       "      <td>4</td>\n",
       "      <td>Dec 31, 2009</td>\n",
       "      <td>Obitaemyy ostrov</td>\n",
       "      <td>36.5</td>\n",
       "      <td>0.000</td>\n",
       "      <td>15.000</td>\n",
       "      <td>-58.9</td>\n",
       "    </tr>\n",
       "  </tbody>\n",
       "</table>\n",
       "</div>"
      ],
      "text/plain": [
       "      id  release_date                                movie  \\\n",
       "203    4  Jul 15, 2016                         Ghostbusters   \n",
       "303    4  May 19, 1999  Star Wars Ep. I: The Phantom Menace   \n",
       "403    4  Dec 14, 2018                       Mortal Engines   \n",
       "503    4  Sep 29, 2006                          Open Season   \n",
       "603    4  Dec 25, 1997                          The Postman   \n",
       "703    4   Aug 8, 2003                             S.W.A.T.   \n",
       "803    4  Sep 14, 2012           Resident Evil: Retribution   \n",
       "903    4  Jan 11, 2013                       Gangster Squad   \n",
       "1003   4  Apr 10, 1998                       City of Angels   \n",
       "1103   4   Aug 9, 2013                        Disney Planes   \n",
       "1203   4  Mar 15, 2013                          Upside Down   \n",
       "1303   4   Oct 4, 1996                      The Glimmer Man   \n",
       "1403   4  Feb 17, 2006                          Eight Below   \n",
       "1503   4  Apr 21, 1995                        Kiss of Death   \n",
       "1603   4  Dec 31, 2009                     Obitaemyy ostrov   \n",
       "\n",
       "      production_budget (millions of $)  domestic_gross (millions of $)  \\\n",
       "203                               144.0                         128.351   \n",
       "303                               115.0                         474.545   \n",
       "403                               100.0                          15.951   \n",
       "503                                85.0                          85.105   \n",
       "603                                80.0                          17.651   \n",
       "703                                70.0                         116.878   \n",
       "803                                65.0                          42.346   \n",
       "903                                60.0                          46.001   \n",
       "1003                               55.0                          78.751   \n",
       "1103                               50.0                          90.283   \n",
       "1203                               50.0                           0.102   \n",
       "1303                               45.0                          20.405   \n",
       "1403                               40.0                          81.613   \n",
       "1503                               40.0                          14.942   \n",
       "1603                               36.5                           0.000   \n",
       "\n",
       "      worldwide_gross (millions of $)  roi (%)  \n",
       "203                           229.009     59.0  \n",
       "303                          1027.045    793.1  \n",
       "403                            85.287    -14.7  \n",
       "503                           191.932    125.8  \n",
       "603                            20.841    -73.9  \n",
       "703                           207.155    195.9  \n",
       "803                           240.648    270.2  \n",
       "903                           104.101     73.5  \n",
       "1003                          198.751    261.4  \n",
       "1103                          238.060    376.1  \n",
       "1203                           26.387    -47.2  \n",
       "1303                           36.405    -19.1  \n",
       "1403                          120.456    201.1  \n",
       "1503                           14.942    -62.6  \n",
       "1603                           15.000    -58.9  "
      ]
     },
     "execution_count": 24,
     "metadata": {},
     "output_type": "execute_result"
    }
   ],
   "source": [
    "# inspecting all entries with id of '4'\n",
    "budgets_no_outliers[budgets_no_outliers['id'] == 4].head(15)"
   ]
  },
  {
   "cell_type": "code",
   "execution_count": 25,
   "metadata": {},
   "outputs": [
    {
     "data": {
      "text/html": [
       "<div>\n",
       "<style scoped>\n",
       "    .dataframe tbody tr th:only-of-type {\n",
       "        vertical-align: middle;\n",
       "    }\n",
       "\n",
       "    .dataframe tbody tr th {\n",
       "        vertical-align: top;\n",
       "    }\n",
       "\n",
       "    .dataframe thead th {\n",
       "        text-align: right;\n",
       "    }\n",
       "</style>\n",
       "<table border=\"1\" class=\"dataframe\">\n",
       "  <thead>\n",
       "    <tr style=\"text-align: right;\">\n",
       "      <th></th>\n",
       "      <th>release_date</th>\n",
       "      <th>movie</th>\n",
       "      <th>production_budget (millions of $)</th>\n",
       "      <th>domestic_gross (millions of $)</th>\n",
       "      <th>worldwide_gross (millions of $)</th>\n",
       "      <th>roi (%)</th>\n",
       "    </tr>\n",
       "  </thead>\n",
       "  <tbody>\n",
       "    <tr>\n",
       "      <th>146</th>\n",
       "      <td>Sep 30, 2016</td>\n",
       "      <td>Deepwater Horizon</td>\n",
       "      <td>156.0</td>\n",
       "      <td>61.434</td>\n",
       "      <td>122.604</td>\n",
       "      <td>-21.4</td>\n",
       "    </tr>\n",
       "    <tr>\n",
       "      <th>147</th>\n",
       "      <td>Dec 10, 2010</td>\n",
       "      <td>The Chronicles of Narnia: The Voyage of the Da...</td>\n",
       "      <td>155.0</td>\n",
       "      <td>104.387</td>\n",
       "      <td>418.187</td>\n",
       "      <td>169.8</td>\n",
       "    </tr>\n",
       "    <tr>\n",
       "      <th>148</th>\n",
       "      <td>Jul 1, 2015</td>\n",
       "      <td>Terminator: Genisys</td>\n",
       "      <td>155.0</td>\n",
       "      <td>89.761</td>\n",
       "      <td>432.151</td>\n",
       "      <td>178.8</td>\n",
       "    </tr>\n",
       "  </tbody>\n",
       "</table>\n",
       "</div>"
      ],
      "text/plain": [
       "     release_date                                              movie  \\\n",
       "146  Sep 30, 2016                                  Deepwater Horizon   \n",
       "147  Dec 10, 2010  The Chronicles of Narnia: The Voyage of the Da...   \n",
       "148   Jul 1, 2015                                Terminator: Genisys   \n",
       "\n",
       "     production_budget (millions of $)  domestic_gross (millions of $)  \\\n",
       "146                              156.0                          61.434   \n",
       "147                              155.0                         104.387   \n",
       "148                              155.0                          89.761   \n",
       "\n",
       "     worldwide_gross (millions of $)  roi (%)  \n",
       "146                          122.604    -21.4  \n",
       "147                          418.187    169.8  \n",
       "148                          432.151    178.8  "
      ]
     },
     "execution_count": 25,
     "metadata": {},
     "output_type": "execute_result"
    }
   ],
   "source": [
    "# dropping id column from dataset\n",
    "budgets_no_outliers.drop(['id'], axis=1, inplace=True)\n",
    "budgets_no_outliers.head(3)"
   ]
  },
  {
   "cell_type": "code",
   "execution_count": 26,
   "metadata": {},
   "outputs": [
    {
     "data": {
      "text/plain": [
       "Home                                    3\n",
       "Halloween                               3\n",
       "Pinocchio                               2\n",
       "Hercules                                2\n",
       "Dangerous Liaisons                      2\n",
       "                                       ..\n",
       "The Adventures of Rocky & Bullwinkle    1\n",
       "Priest                                  1\n",
       "The Brothers Solomon                    1\n",
       "Gory Gory Hallelujah                    1\n",
       "The Haunting of Molly Hartley           1\n",
       "Name: movie, Length: 5562, dtype: int64"
      ]
     },
     "execution_count": 26,
     "metadata": {},
     "output_type": "execute_result"
    }
   ],
   "source": [
    "# checking for duplicate movie entries\n",
    "budgets_no_outliers.movie.value_counts()"
   ]
  },
  {
   "cell_type": "code",
   "execution_count": 27,
   "metadata": {},
   "outputs": [
    {
     "data": {
      "text/html": [
       "<div>\n",
       "<style scoped>\n",
       "    .dataframe tbody tr th:only-of-type {\n",
       "        vertical-align: middle;\n",
       "    }\n",
       "\n",
       "    .dataframe tbody tr th {\n",
       "        vertical-align: top;\n",
       "    }\n",
       "\n",
       "    .dataframe thead th {\n",
       "        text-align: right;\n",
       "    }\n",
       "</style>\n",
       "<table border=\"1\" class=\"dataframe\">\n",
       "  <thead>\n",
       "    <tr style=\"text-align: right;\">\n",
       "      <th></th>\n",
       "      <th>release_date</th>\n",
       "      <th>movie</th>\n",
       "      <th>production_budget (millions of $)</th>\n",
       "      <th>domestic_gross (millions of $)</th>\n",
       "      <th>worldwide_gross (millions of $)</th>\n",
       "      <th>roi (%)</th>\n",
       "    </tr>\n",
       "  </thead>\n",
       "  <tbody>\n",
       "    <tr>\n",
       "      <th>203</th>\n",
       "      <td>Jul 15, 2016</td>\n",
       "      <td>Ghostbusters</td>\n",
       "      <td>144.000</td>\n",
       "      <td>128.351</td>\n",
       "      <td>229.009</td>\n",
       "      <td>59.0</td>\n",
       "    </tr>\n",
       "    <tr>\n",
       "      <th>243</th>\n",
       "      <td>Mar 27, 2015</td>\n",
       "      <td>Home</td>\n",
       "      <td>130.000</td>\n",
       "      <td>177.398</td>\n",
       "      <td>385.998</td>\n",
       "      <td>196.9</td>\n",
       "    </tr>\n",
       "    <tr>\n",
       "      <th>267</th>\n",
       "      <td>Aug 8, 2014</td>\n",
       "      <td>Teenage Mutant Ninja Turtles</td>\n",
       "      <td>125.000</td>\n",
       "      <td>191.205</td>\n",
       "      <td>485.005</td>\n",
       "      <td>288.0</td>\n",
       "    </tr>\n",
       "    <tr>\n",
       "      <th>271</th>\n",
       "      <td>Apr 1, 2010</td>\n",
       "      <td>Clash of the Titans</td>\n",
       "      <td>125.000</td>\n",
       "      <td>163.215</td>\n",
       "      <td>493.215</td>\n",
       "      <td>294.6</td>\n",
       "    </tr>\n",
       "    <tr>\n",
       "      <th>278</th>\n",
       "      <td>Aug 3, 2012</td>\n",
       "      <td>Total Recall</td>\n",
       "      <td>125.000</td>\n",
       "      <td>58.878</td>\n",
       "      <td>211.856</td>\n",
       "      <td>69.5</td>\n",
       "    </tr>\n",
       "    <tr>\n",
       "      <th>...</th>\n",
       "      <td>...</td>\n",
       "      <td>...</td>\n",
       "      <td>...</td>\n",
       "      <td>...</td>\n",
       "      <td>...</td>\n",
       "      <td>...</td>\n",
       "    </tr>\n",
       "    <tr>\n",
       "      <th>5668</th>\n",
       "      <td>Nov 16, 1942</td>\n",
       "      <td>Cat People</td>\n",
       "      <td>0.134</td>\n",
       "      <td>4.000</td>\n",
       "      <td>8.000</td>\n",
       "      <td>5870.1</td>\n",
       "    </tr>\n",
       "    <tr>\n",
       "      <th>5676</th>\n",
       "      <td>Oct 1, 1968</td>\n",
       "      <td>Night of the Living Dead</td>\n",
       "      <td>0.114</td>\n",
       "      <td>12.087</td>\n",
       "      <td>30.087</td>\n",
       "      <td>26292.2</td>\n",
       "    </tr>\n",
       "    <tr>\n",
       "      <th>5677</th>\n",
       "      <td>Feb 8, 1915</td>\n",
       "      <td>The Birth of a Nation</td>\n",
       "      <td>0.110</td>\n",
       "      <td>10.000</td>\n",
       "      <td>11.000</td>\n",
       "      <td>9900.0</td>\n",
       "    </tr>\n",
       "    <tr>\n",
       "      <th>5699</th>\n",
       "      <td>Aug 30, 1972</td>\n",
       "      <td>The Last House on the Left</td>\n",
       "      <td>0.087</td>\n",
       "      <td>3.100</td>\n",
       "      <td>3.100</td>\n",
       "      <td>3463.2</td>\n",
       "    </tr>\n",
       "    <tr>\n",
       "      <th>5718</th>\n",
       "      <td>Feb 22, 2008</td>\n",
       "      <td>The Signal</td>\n",
       "      <td>0.050</td>\n",
       "      <td>0.251</td>\n",
       "      <td>0.406</td>\n",
       "      <td>712.6</td>\n",
       "    </tr>\n",
       "  </tbody>\n",
       "</table>\n",
       "<p>146 rows × 6 columns</p>\n",
       "</div>"
      ],
      "text/plain": [
       "      release_date                         movie  \\\n",
       "203   Jul 15, 2016                  Ghostbusters   \n",
       "243   Mar 27, 2015                          Home   \n",
       "267    Aug 8, 2014  Teenage Mutant Ninja Turtles   \n",
       "271    Apr 1, 2010           Clash of the Titans   \n",
       "278    Aug 3, 2012                  Total Recall   \n",
       "...            ...                           ...   \n",
       "5668  Nov 16, 1942                    Cat People   \n",
       "5676   Oct 1, 1968      Night of the Living Dead   \n",
       "5677   Feb 8, 1915         The Birth of a Nation   \n",
       "5699  Aug 30, 1972    The Last House on the Left   \n",
       "5718  Feb 22, 2008                    The Signal   \n",
       "\n",
       "      production_budget (millions of $)  domestic_gross (millions of $)  \\\n",
       "203                             144.000                         128.351   \n",
       "243                             130.000                         177.398   \n",
       "267                             125.000                         191.205   \n",
       "271                             125.000                         163.215   \n",
       "278                             125.000                          58.878   \n",
       "...                                 ...                             ...   \n",
       "5668                              0.134                           4.000   \n",
       "5676                              0.114                          12.087   \n",
       "5677                              0.110                          10.000   \n",
       "5699                              0.087                           3.100   \n",
       "5718                              0.050                           0.251   \n",
       "\n",
       "      worldwide_gross (millions of $)  roi (%)  \n",
       "203                           229.009     59.0  \n",
       "243                           385.998    196.9  \n",
       "267                           485.005    288.0  \n",
       "271                           493.215    294.6  \n",
       "278                           211.856     69.5  \n",
       "...                               ...      ...  \n",
       "5668                            8.000   5870.1  \n",
       "5676                           30.087  26292.2  \n",
       "5677                           11.000   9900.0  \n",
       "5699                            3.100   3463.2  \n",
       "5718                            0.406    712.6  \n",
       "\n",
       "[146 rows x 6 columns]"
      ]
     },
     "execution_count": 27,
     "metadata": {},
     "output_type": "execute_result"
    }
   ],
   "source": [
    "# checking for any movie titles with more than one entry to see if it is a duplicate entry or a remake\n",
    "\n",
    "multiple_values = budgets_no_outliers.movie.value_counts()\n",
    "budgets_no_outliers[budgets_no_outliers.movie.isin(multiple_values.index[multiple_values.gt(1)])]"
   ]
  },
  {
   "cell_type": "code",
   "execution_count": 28,
   "metadata": {},
   "outputs": [
    {
     "data": {
      "text/html": [
       "<div>\n",
       "<style scoped>\n",
       "    .dataframe tbody tr th:only-of-type {\n",
       "        vertical-align: middle;\n",
       "    }\n",
       "\n",
       "    .dataframe tbody tr th {\n",
       "        vertical-align: top;\n",
       "    }\n",
       "\n",
       "    .dataframe thead th {\n",
       "        text-align: right;\n",
       "    }\n",
       "</style>\n",
       "<table border=\"1\" class=\"dataframe\">\n",
       "  <thead>\n",
       "    <tr style=\"text-align: right;\">\n",
       "      <th></th>\n",
       "      <th>production_budget (millions of $)</th>\n",
       "      <th>domestic_gross (millions of $)</th>\n",
       "      <th>worldwide_gross (millions of $)</th>\n",
       "      <th>roi (%)</th>\n",
       "    </tr>\n",
       "  </thead>\n",
       "  <tbody>\n",
       "    <tr>\n",
       "      <th>count</th>\n",
       "      <td>5636.0</td>\n",
       "      <td>5636.0</td>\n",
       "      <td>5636.0</td>\n",
       "      <td>5636.0</td>\n",
       "    </tr>\n",
       "    <tr>\n",
       "      <th>mean</th>\n",
       "      <td>27.2</td>\n",
       "      <td>36.6</td>\n",
       "      <td>75.9</td>\n",
       "      <td>383.6</td>\n",
       "    </tr>\n",
       "    <tr>\n",
       "      <th>std</th>\n",
       "      <td>31.0</td>\n",
       "      <td>54.6</td>\n",
       "      <td>129.8</td>\n",
       "      <td>2990.8</td>\n",
       "    </tr>\n",
       "    <tr>\n",
       "      <th>min</th>\n",
       "      <td>0.0</td>\n",
       "      <td>0.0</td>\n",
       "      <td>0.0</td>\n",
       "      <td>-100.0</td>\n",
       "    </tr>\n",
       "    <tr>\n",
       "      <th>25%</th>\n",
       "      <td>5.0</td>\n",
       "      <td>1.2</td>\n",
       "      <td>3.7</td>\n",
       "      <td>-53.5</td>\n",
       "    </tr>\n",
       "    <tr>\n",
       "      <th>50%</th>\n",
       "      <td>16.0</td>\n",
       "      <td>16.0</td>\n",
       "      <td>26.1</td>\n",
       "      <td>66.4</td>\n",
       "    </tr>\n",
       "    <tr>\n",
       "      <th>75%</th>\n",
       "      <td>38.0</td>\n",
       "      <td>48.6</td>\n",
       "      <td>89.2</td>\n",
       "      <td>269.9</td>\n",
       "    </tr>\n",
       "    <tr>\n",
       "      <th>max</th>\n",
       "      <td>156.0</td>\n",
       "      <td>474.5</td>\n",
       "      <td>1341.7</td>\n",
       "      <td>179900.0</td>\n",
       "    </tr>\n",
       "  </tbody>\n",
       "</table>\n",
       "</div>"
      ],
      "text/plain": [
       "       production_budget (millions of $)  domestic_gross (millions of $)  \\\n",
       "count                             5636.0                          5636.0   \n",
       "mean                                27.2                            36.6   \n",
       "std                                 31.0                            54.6   \n",
       "min                                  0.0                             0.0   \n",
       "25%                                  5.0                             1.2   \n",
       "50%                                 16.0                            16.0   \n",
       "75%                                 38.0                            48.6   \n",
       "max                                156.0                           474.5   \n",
       "\n",
       "       worldwide_gross (millions of $)   roi (%)  \n",
       "count                           5636.0    5636.0  \n",
       "mean                              75.9     383.6  \n",
       "std                              129.8    2990.8  \n",
       "min                                0.0    -100.0  \n",
       "25%                                3.7     -53.5  \n",
       "50%                               26.1      66.4  \n",
       "75%                               89.2     269.9  \n",
       "max                             1341.7  179900.0  "
      ]
     },
     "execution_count": 28,
     "metadata": {},
     "output_type": "execute_result"
    }
   ],
   "source": [
    "# getting summary statistics for budgets df columns\n",
    "round(budgets_no_outliers.describe(), 1)"
   ]
  },
  {
   "cell_type": "code",
   "execution_count": 29,
   "metadata": {},
   "outputs": [
    {
     "data": {
      "image/png": "[encoded data removed]",
      "text/plain": [
       "<Figure size 1296x432 with 4 Axes>"
      ]
     },
     "metadata": {
      "needs_background": "light"
     },
     "output_type": "display_data"
    }
   ],
   "source": [
    "# creating histograms to visualize distributions for each column of budgets_no_outliers\n",
    "fig, ax = plt.subplots(nrows = 1, \n",
    "                       ncols = 4, \n",
    "                       figsize = (18, 6)\n",
    "                      )\n",
    "\n",
    "budgets_no_outliers.hist(ax = ax, \n",
    "                         bins = 15\n",
    "                        );"
   ]
  },
  {
   "cell_type": "markdown",
   "metadata": {},
   "source": [
    "With the budgest data set cleaned and processed the histograms display more helpful information. The histograms still appear right skewed even though production budget outliers were removed, but this is still an improvement from earlier. Now the tails for each feature are more prominent, and we can be more confident that analysis of the budgets data will lead reliable results. "
   ]
  },
  {
   "cell_type": "code",
   "execution_count": 30,
   "metadata": {},
   "outputs": [
    {
     "data": {
      "text/html": [
       "<div>\n",
       "<style scoped>\n",
       "    .dataframe tbody tr th:only-of-type {\n",
       "        vertical-align: middle;\n",
       "    }\n",
       "\n",
       "    .dataframe tbody tr th {\n",
       "        vertical-align: top;\n",
       "    }\n",
       "\n",
       "    .dataframe thead th {\n",
       "        text-align: right;\n",
       "    }\n",
       "</style>\n",
       "<table border=\"1\" class=\"dataframe\">\n",
       "  <thead>\n",
       "    <tr style=\"text-align: right;\">\n",
       "      <th></th>\n",
       "      <th>movie_id</th>\n",
       "      <th>primary_title</th>\n",
       "      <th>original_title</th>\n",
       "      <th>start_year</th>\n",
       "      <th>runtime_minutes</th>\n",
       "      <th>genres</th>\n",
       "    </tr>\n",
       "  </thead>\n",
       "  <tbody>\n",
       "    <tr>\n",
       "      <th>0</th>\n",
       "      <td>tt0063540</td>\n",
       "      <td>Sunghursh</td>\n",
       "      <td>Sunghursh</td>\n",
       "      <td>2013</td>\n",
       "      <td>175.0</td>\n",
       "      <td>Action,Crime,Drama</td>\n",
       "    </tr>\n",
       "    <tr>\n",
       "      <th>1</th>\n",
       "      <td>tt0066787</td>\n",
       "      <td>One Day Before the Rainy Season</td>\n",
       "      <td>Ashad Ka Ek Din</td>\n",
       "      <td>2019</td>\n",
       "      <td>114.0</td>\n",
       "      <td>Biography,Drama</td>\n",
       "    </tr>\n",
       "    <tr>\n",
       "      <th>2</th>\n",
       "      <td>tt0069049</td>\n",
       "      <td>The Other Side of the Wind</td>\n",
       "      <td>The Other Side of the Wind</td>\n",
       "      <td>2018</td>\n",
       "      <td>122.0</td>\n",
       "      <td>Drama</td>\n",
       "    </tr>\n",
       "  </tbody>\n",
       "</table>\n",
       "</div>"
      ],
      "text/plain": [
       "    movie_id                    primary_title              original_title  \\\n",
       "0  tt0063540                        Sunghursh                   Sunghursh   \n",
       "1  tt0066787  One Day Before the Rainy Season             Ashad Ka Ek Din   \n",
       "2  tt0069049       The Other Side of the Wind  The Other Side of the Wind   \n",
       "\n",
       "   start_year  runtime_minutes              genres  \n",
       "0        2013            175.0  Action,Crime,Drama  \n",
       "1        2019            114.0     Biography,Drama  \n",
       "2        2018            122.0               Drama  "
      ]
     },
     "execution_count": 30,
     "metadata": {},
     "output_type": "execute_result"
    }
   ],
   "source": [
    "movie_basics.head(3)"
   ]
  },
  {
   "cell_type": "code",
   "execution_count": 31,
   "metadata": {},
   "outputs": [
    {
     "data": {
      "text/html": [
       "<div>\n",
       "<style scoped>\n",
       "    .dataframe tbody tr th:only-of-type {\n",
       "        vertical-align: middle;\n",
       "    }\n",
       "\n",
       "    .dataframe tbody tr th {\n",
       "        vertical-align: top;\n",
       "    }\n",
       "\n",
       "    .dataframe thead th {\n",
       "        text-align: right;\n",
       "    }\n",
       "</style>\n",
       "<table border=\"1\" class=\"dataframe\">\n",
       "  <thead>\n",
       "    <tr style=\"text-align: right;\">\n",
       "      <th></th>\n",
       "      <th>movie_id</th>\n",
       "      <th>primary_title</th>\n",
       "      <th>original_title</th>\n",
       "      <th>start_year</th>\n",
       "      <th>runtime_minutes</th>\n",
       "      <th>genres</th>\n",
       "    </tr>\n",
       "  </thead>\n",
       "  <tbody>\n",
       "    <tr>\n",
       "      <th>6311</th>\n",
       "      <td>tt1277455</td>\n",
       "      <td>A Time to Stir</td>\n",
       "      <td>A Time to Stir</td>\n",
       "      <td>2018</td>\n",
       "      <td>1320.0</td>\n",
       "      <td>Documentary</td>\n",
       "    </tr>\n",
       "    <tr>\n",
       "      <th>12974</th>\n",
       "      <td>tt1674154</td>\n",
       "      <td>City of Eternal Spring</td>\n",
       "      <td>City of Eternal Spring</td>\n",
       "      <td>2010</td>\n",
       "      <td>3450.0</td>\n",
       "      <td>Documentary,Drama,News</td>\n",
       "    </tr>\n",
       "    <tr>\n",
       "      <th>15381</th>\n",
       "      <td>tt1735956</td>\n",
       "      <td>Deregulation</td>\n",
       "      <td>Foreclose</td>\n",
       "      <td>2012</td>\n",
       "      <td>4200.0</td>\n",
       "      <td>Comedy,Drama</td>\n",
       "    </tr>\n",
       "  </tbody>\n",
       "</table>\n",
       "</div>"
      ],
      "text/plain": [
       "        movie_id           primary_title          original_title  start_year  \\\n",
       "6311   tt1277455          A Time to Stir          A Time to Stir        2018   \n",
       "12974  tt1674154  City of Eternal Spring  City of Eternal Spring        2010   \n",
       "15381  tt1735956            Deregulation               Foreclose        2012   \n",
       "\n",
       "       runtime_minutes                  genres  \n",
       "6311            1320.0             Documentary  \n",
       "12974           3450.0  Documentary,Drama,News  \n",
       "15381           4200.0            Comedy,Drama  "
      ]
     },
     "execution_count": 31,
     "metadata": {},
     "output_type": "execute_result"
    }
   ],
   "source": [
    "# returning preview of the rows of movie_basics for movies with outlier runtimes\n",
    "movie_basics[movie_basics['runtime_minutes'] > (movie_basics['runtime_minutes'].mean()+ 3*movie_basics['runtime_minutes'].std())].head(3)"
   ]
  },
  {
   "cell_type": "code",
   "execution_count": 32,
   "metadata": {},
   "outputs": [
    {
     "data": {
      "text/html": [
       "<div>\n",
       "<style scoped>\n",
       "    .dataframe tbody tr th:only-of-type {\n",
       "        vertical-align: middle;\n",
       "    }\n",
       "\n",
       "    .dataframe tbody tr th {\n",
       "        vertical-align: top;\n",
       "    }\n",
       "\n",
       "    .dataframe thead th {\n",
       "        text-align: right;\n",
       "    }\n",
       "</style>\n",
       "<table border=\"1\" class=\"dataframe\">\n",
       "  <thead>\n",
       "    <tr style=\"text-align: right;\">\n",
       "      <th></th>\n",
       "      <th>movie_id</th>\n",
       "      <th>primary_title</th>\n",
       "      <th>original_title</th>\n",
       "      <th>start_year</th>\n",
       "      <th>runtime_minutes</th>\n",
       "      <th>genres</th>\n",
       "    </tr>\n",
       "  </thead>\n",
       "  <tbody>\n",
       "    <tr>\n",
       "      <th>2949</th>\n",
       "      <td>tt10300398</td>\n",
       "      <td>Untitled Star Wars Film</td>\n",
       "      <td>Untitled Star Wars Film</td>\n",
       "      <td>2026</td>\n",
       "      <td>NaN</td>\n",
       "      <td>Fantasy</td>\n",
       "    </tr>\n",
       "    <tr>\n",
       "      <th>52213</th>\n",
       "      <td>tt3095356</td>\n",
       "      <td>Avatar 4</td>\n",
       "      <td>Avatar 4</td>\n",
       "      <td>2025</td>\n",
       "      <td>NaN</td>\n",
       "      <td>Action,Adventure,Fantasy</td>\n",
       "    </tr>\n",
       "    <tr>\n",
       "      <th>89506</th>\n",
       "      <td>tt5174640</td>\n",
       "      <td>100 Years</td>\n",
       "      <td>100 Years</td>\n",
       "      <td>2115</td>\n",
       "      <td>NaN</td>\n",
       "      <td>Drama</td>\n",
       "    </tr>\n",
       "    <tr>\n",
       "      <th>96592</th>\n",
       "      <td>tt5637536</td>\n",
       "      <td>Avatar 5</td>\n",
       "      <td>Avatar 5</td>\n",
       "      <td>2027</td>\n",
       "      <td>NaN</td>\n",
       "      <td>Action,Adventure,Fantasy</td>\n",
       "    </tr>\n",
       "  </tbody>\n",
       "</table>\n",
       "</div>"
      ],
      "text/plain": [
       "         movie_id            primary_title           original_title  \\\n",
       "2949   tt10300398  Untitled Star Wars Film  Untitled Star Wars Film   \n",
       "52213   tt3095356                 Avatar 4                 Avatar 4   \n",
       "89506   tt5174640                100 Years                100 Years   \n",
       "96592   tt5637536                 Avatar 5                 Avatar 5   \n",
       "\n",
       "       start_year  runtime_minutes                    genres  \n",
       "2949         2026              NaN                   Fantasy  \n",
       "52213        2025              NaN  Action,Adventure,Fantasy  \n",
       "89506        2115              NaN                     Drama  \n",
       "96592        2027              NaN  Action,Adventure,Fantasy  "
      ]
     },
     "execution_count": 32,
     "metadata": {},
     "output_type": "execute_result"
    }
   ],
   "source": [
    "# returning the rows of movie_basics where the movie start year is in the future\n",
    "movie_basics[movie_basics['start_year'] > 2024]"
   ]
  },
  {
   "cell_type": "code",
   "execution_count": 33,
   "metadata": {},
   "outputs": [
    {
     "data": {
      "text/html": [
       "<div>\n",
       "<style scoped>\n",
       "    .dataframe tbody tr th:only-of-type {\n",
       "        vertical-align: middle;\n",
       "    }\n",
       "\n",
       "    .dataframe tbody tr th {\n",
       "        vertical-align: top;\n",
       "    }\n",
       "\n",
       "    .dataframe thead th {\n",
       "        text-align: right;\n",
       "    }\n",
       "</style>\n",
       "<table border=\"1\" class=\"dataframe\">\n",
       "  <thead>\n",
       "    <tr style=\"text-align: right;\">\n",
       "      <th></th>\n",
       "      <th>movie_id</th>\n",
       "      <th>primary_title</th>\n",
       "      <th>original_title</th>\n",
       "      <th>start_year</th>\n",
       "      <th>runtime_minutes</th>\n",
       "      <th>genres</th>\n",
       "    </tr>\n",
       "  </thead>\n",
       "  <tbody>\n",
       "  </tbody>\n",
       "</table>\n",
       "</div>"
      ],
      "text/plain": [
       "Empty DataFrame\n",
       "Columns: [movie_id, primary_title, original_title, start_year, runtime_minutes, genres]\n",
       "Index: []"
      ]
     },
     "execution_count": 33,
     "metadata": {},
     "output_type": "execute_result"
    }
   ],
   "source": [
    "# removing any rows with movies whose start year is past 2024\n",
    "movie_basics = movie_basics[movie_basics['start_year'] <= 2024]\n",
    "\n",
    "# checks to ensure that rows were removed\n",
    "movie_basics[movie_basics['start_year'] > 2024]"
   ]
  },
  {
   "cell_type": "code",
   "execution_count": 34,
   "metadata": {},
   "outputs": [
    {
     "data": {
      "text/html": [
       "<div>\n",
       "<style scoped>\n",
       "    .dataframe tbody tr th:only-of-type {\n",
       "        vertical-align: middle;\n",
       "    }\n",
       "\n",
       "    .dataframe tbody tr th {\n",
       "        vertical-align: top;\n",
       "    }\n",
       "\n",
       "    .dataframe thead th {\n",
       "        text-align: right;\n",
       "    }\n",
       "</style>\n",
       "<table border=\"1\" class=\"dataframe\">\n",
       "  <thead>\n",
       "    <tr style=\"text-align: right;\">\n",
       "      <th></th>\n",
       "      <th>primary_title</th>\n",
       "      <th>original_title</th>\n",
       "    </tr>\n",
       "  </thead>\n",
       "  <tbody>\n",
       "    <tr>\n",
       "      <th>1</th>\n",
       "      <td>One Day Before the Rainy Season</td>\n",
       "      <td>Ashad Ka Ek Din</td>\n",
       "    </tr>\n",
       "    <tr>\n",
       "      <th>4</th>\n",
       "      <td>The Wandering Soap Opera</td>\n",
       "      <td>La Telenovela Errante</td>\n",
       "    </tr>\n",
       "    <tr>\n",
       "      <th>11</th>\n",
       "      <td>So Much for Justice!</td>\n",
       "      <td>Oda az igazság</td>\n",
       "    </tr>\n",
       "    <tr>\n",
       "      <th>13</th>\n",
       "      <td>Children of the Green Dragon</td>\n",
       "      <td>A zöld sárkány gyermekei</td>\n",
       "    </tr>\n",
       "    <tr>\n",
       "      <th>15</th>\n",
       "      <td>The Tragedy of Man</td>\n",
       "      <td>Az ember tragédiája</td>\n",
       "    </tr>\n",
       "    <tr>\n",
       "      <th>...</th>\n",
       "      <td>...</td>\n",
       "      <td>...</td>\n",
       "    </tr>\n",
       "    <tr>\n",
       "      <th>146026</th>\n",
       "      <td>Journey of the Sky Goddess</td>\n",
       "      <td>Kibaiyanse! Watashi</td>\n",
       "    </tr>\n",
       "    <tr>\n",
       "      <th>146028</th>\n",
       "      <td>Lupin the Third: Fujiko Mine's Lie</td>\n",
       "      <td>Lupin the IIIrd: Mine Fujiko no Uso</td>\n",
       "    </tr>\n",
       "    <tr>\n",
       "      <th>146037</th>\n",
       "      <td>Big Three Dragons</td>\n",
       "      <td>Da San Yuan</td>\n",
       "    </tr>\n",
       "    <tr>\n",
       "      <th>146121</th>\n",
       "      <td>A Cherry Tale</td>\n",
       "      <td>Kirsebæreventyret</td>\n",
       "    </tr>\n",
       "    <tr>\n",
       "      <th>146135</th>\n",
       "      <td>The Rehearsal</td>\n",
       "      <td>O Ensaio</td>\n",
       "    </tr>\n",
       "  </tbody>\n",
       "</table>\n",
       "<p>14504 rows × 2 columns</p>\n",
       "</div>"
      ],
      "text/plain": [
       "                             primary_title  \\\n",
       "1          One Day Before the Rainy Season   \n",
       "4                 The Wandering Soap Opera   \n",
       "11                    So Much for Justice!   \n",
       "13            Children of the Green Dragon   \n",
       "15                      The Tragedy of Man   \n",
       "...                                    ...   \n",
       "146026          Journey of the Sky Goddess   \n",
       "146028  Lupin the Third: Fujiko Mine's Lie   \n",
       "146037                   Big Three Dragons   \n",
       "146121                       A Cherry Tale   \n",
       "146135                       The Rehearsal   \n",
       "\n",
       "                             original_title  \n",
       "1                           Ashad Ka Ek Din  \n",
       "4                     La Telenovela Errante  \n",
       "11                           Oda az igazság  \n",
       "13                 A zöld sárkány gyermekei  \n",
       "15                      Az ember tragédiája  \n",
       "...                                     ...  \n",
       "146026                  Kibaiyanse! Watashi  \n",
       "146028  Lupin the IIIrd: Mine Fujiko no Uso  \n",
       "146037                          Da San Yuan  \n",
       "146121                    Kirsebæreventyret  \n",
       "146135                             O Ensaio  \n",
       "\n",
       "[14504 rows x 2 columns]"
      ]
     },
     "execution_count": 34,
     "metadata": {},
     "output_type": "execute_result"
    }
   ],
   "source": [
    "# comparing movies whose primary title does not match its original title\n",
    "\n",
    "movie_basics[movie_basics['primary_title'] != movie_basics['original_title']][['primary_title', 'original_title']]"
   ]
  },
  {
   "cell_type": "code",
   "execution_count": 35,
   "metadata": {},
   "outputs": [
    {
     "data": {
      "text/plain": [
       "La traversée                     3\n",
       "You yi tian                      2\n",
       "Kokoro ga sakebitagatterunda.    2\n",
       "Icarus                           2\n",
       "Mi cheng                         2\n",
       "                                ..\n",
       "Auf Teufel komm raus             1\n",
       "Xiao men shen                    1\n",
       "En underbar jävla jul            1\n",
       "Border of pain                   1\n",
       "Shu Shan Xiang Mo Zhuan          1\n",
       "Name: original_title, Length: 14452, dtype: int64"
      ]
     },
     "execution_count": 35,
     "metadata": {},
     "output_type": "execute_result"
    }
   ],
   "source": [
    "# getting count of all movies whose primary title doesn't match its original title \n",
    "movie_basics[movie_basics['primary_title'] != movie_basics['original_title']]['original_title'].value_counts()"
   ]
  },
  {
   "cell_type": "code",
   "execution_count": 36,
   "metadata": {},
   "outputs": [],
   "source": [
    "# removing original title column\n",
    "movie_basics.drop('original_title',\n",
    "                  axis=1,\n",
    "                  inplace=True\n",
    "                 )"
   ]
  },
  {
   "cell_type": "code",
   "execution_count": 37,
   "metadata": {},
   "outputs": [
    {
     "data": {
      "text/plain": [
       "Documentary    51640\n",
       "Drama          49882\n",
       "Comedy         25312\n",
       "Thriller       11883\n",
       "Horror         10805\n",
       "Action         10333\n",
       "Romance         9372\n",
       "Biography       8722\n",
       "Crime           6753\n",
       "Adventure       6463\n",
       "Family          6227\n",
       "History         6225\n",
       "Mystery         4659\n",
       "Music           4314\n",
       "Fantasy         3513\n",
       "Sci-Fi          3365\n",
       "Animation       2799\n",
       "Sport           2234\n",
       "News            1551\n",
       "Musical         1430\n",
       "War             1405\n",
       "Western          467\n",
       "Reality-TV        98\n",
       "Talk-Show         50\n",
       "Adult             25\n",
       "Short             11\n",
       "Game-Show          4\n",
       "Name: genres, dtype: int64"
      ]
     },
     "execution_count": 37,
     "metadata": {},
     "output_type": "execute_result"
    }
   ],
   "source": [
    "# get a count for the number of each genre\n",
    "\n",
    "movie_basics['genres'].str.split(',').explode().value_counts()"
   ]
  },
  {
   "cell_type": "code",
   "execution_count": 38,
   "metadata": {},
   "outputs": [],
   "source": [
    "# formatting genres column to create a list containing each genre for the film\n",
    "movie_basics[\"genres_list\"] = movie_basics[\"genres\"].str.split(\",\")"
   ]
  },
  {
   "cell_type": "code",
   "execution_count": 39,
   "metadata": {},
   "outputs": [
    {
     "data": {
      "text/plain": [
       "movie_id               0\n",
       "primary_title          0\n",
       "start_year             0\n",
       "runtime_minutes    31735\n",
       "genres              5408\n",
       "genres_list         5408\n",
       "dtype: int64"
      ]
     },
     "execution_count": 39,
     "metadata": {},
     "output_type": "execute_result"
    }
   ],
   "source": [
    "# display number of nan values for each feature\n",
    "movie_basics.isna().sum()"
   ]
  },
  {
   "cell_type": "code",
   "execution_count": 40,
   "metadata": {},
   "outputs": [
    {
     "data": {
      "text/plain": [
       "3236"
      ]
     },
     "execution_count": 40,
     "metadata": {},
     "output_type": "execute_result"
    }
   ],
   "source": [
    "# return the number of rows with nans in both genre and runtime\n",
    "len(movie_basics.loc[movie_basics['genres'].isnull() \n",
    "                     & movie_basics['runtime_minutes'].isnull()\n",
    "                    ]\n",
    "   )"
   ]
  },
  {
   "cell_type": "code",
   "execution_count": 41,
   "metadata": {},
   "outputs": [
    {
     "name": "stdout",
     "output_type": "stream",
     "text": [
      "<class 'pandas.core.frame.DataFrame'>\n",
      "Int64Index: 142904 entries, 0 to 146143\n",
      "Data columns (total 6 columns):\n",
      " #   Column           Non-Null Count   Dtype  \n",
      "---  ------           --------------   -----  \n",
      " 0   movie_id         142904 non-null  object \n",
      " 1   primary_title    142904 non-null  object \n",
      " 2   start_year       142904 non-null  int64  \n",
      " 3   runtime_minutes  114405 non-null  float64\n",
      " 4   genres           140732 non-null  object \n",
      " 5   genres_list      140732 non-null  object \n",
      "dtypes: float64(1), int64(1), object(4)\n",
      "memory usage: 7.6+ MB\n"
     ]
    }
   ],
   "source": [
    "# removing rows from movie_basics with null genre and runtime\n",
    "movie_basics_clean = movie_basics.drop(movie_basics.loc[movie_basics['genres'].isnull() \n",
    "                                         & movie_basics['runtime_minutes'].isnull()].index\n",
    "                                      )\n",
    "movie_basics_clean.info()"
   ]
  },
  {
   "cell_type": "code",
   "execution_count": 42,
   "metadata": {},
   "outputs": [
    {
     "data": {
      "text/plain": [
       "3236"
      ]
     },
     "execution_count": 42,
     "metadata": {},
     "output_type": "execute_result"
    }
   ],
   "source": [
    "# confirming that correct number of rows were filtered out\n",
    "len(movie_basics) - len(movie_basics_clean)"
   ]
  },
  {
   "cell_type": "code",
   "execution_count": 43,
   "metadata": {},
   "outputs": [
    {
     "data": {
      "text/plain": [
       "movie_id               0\n",
       "primary_title          0\n",
       "start_year             0\n",
       "runtime_minutes    28499\n",
       "genres              2172\n",
       "genres_list         2172\n",
       "dtype: int64"
      ]
     },
     "execution_count": 43,
     "metadata": {},
     "output_type": "execute_result"
    }
   ],
   "source": [
    "# prints the number of NaNs in each column of movie_basics_clean\n",
    "movie_basics_clean.isna().sum()"
   ]
  },
  {
   "cell_type": "code",
   "execution_count": 44,
   "metadata": {},
   "outputs": [
    {
     "data": {
      "text/plain": [
       "nm1930572    378\n",
       "nm0000636    160\n",
       "nm0000616    148\n",
       "nm0103977    126\n",
       "nm4394575    103\n",
       "            ... \n",
       "nm5862704      1\n",
       "nm4713607      1\n",
       "nm6301500      1\n",
       "nm0015124      1\n",
       "nm7134083      1\n",
       "Name: person_id, Length: 604546, dtype: int64"
      ]
     },
     "execution_count": 44,
     "metadata": {},
     "output_type": "execute_result"
    }
   ],
   "source": [
    "principals.person_id.value_counts()"
   ]
  },
  {
   "cell_type": "code",
   "execution_count": 45,
   "metadata": {},
   "outputs": [
    {
     "data": {
      "text/html": [
       "<div>\n",
       "<style scoped>\n",
       "    .dataframe tbody tr th:only-of-type {\n",
       "        vertical-align: middle;\n",
       "    }\n",
       "\n",
       "    .dataframe tbody tr th {\n",
       "        vertical-align: top;\n",
       "    }\n",
       "\n",
       "    .dataframe thead th {\n",
       "        text-align: right;\n",
       "    }\n",
       "</style>\n",
       "<table border=\"1\" class=\"dataframe\">\n",
       "  <thead>\n",
       "    <tr style=\"text-align: right;\">\n",
       "      <th></th>\n",
       "      <th>movie_id</th>\n",
       "      <th>ordering</th>\n",
       "      <th>person_id</th>\n",
       "      <th>category</th>\n",
       "      <th>job</th>\n",
       "      <th>characters</th>\n",
       "    </tr>\n",
       "  </thead>\n",
       "  <tbody>\n",
       "    <tr>\n",
       "      <th>209253</th>\n",
       "      <td>tt2414424</td>\n",
       "      <td>9</td>\n",
       "      <td>nm4394575</td>\n",
       "      <td>editor</td>\n",
       "      <td>None</td>\n",
       "      <td>None</td>\n",
       "    </tr>\n",
       "    <tr>\n",
       "      <th>284938</th>\n",
       "      <td>tt2418914</td>\n",
       "      <td>7</td>\n",
       "      <td>nm4394575</td>\n",
       "      <td>editor</td>\n",
       "      <td>None</td>\n",
       "      <td>None</td>\n",
       "    </tr>\n",
       "    <tr>\n",
       "      <th>291705</th>\n",
       "      <td>tt3445098</td>\n",
       "      <td>9</td>\n",
       "      <td>nm4394575</td>\n",
       "      <td>editor</td>\n",
       "      <td>None</td>\n",
       "      <td>None</td>\n",
       "    </tr>\n",
       "    <tr>\n",
       "      <th>341007</th>\n",
       "      <td>tt2419230</td>\n",
       "      <td>8</td>\n",
       "      <td>nm4394575</td>\n",
       "      <td>editor</td>\n",
       "      <td>None</td>\n",
       "      <td>None</td>\n",
       "    </tr>\n",
       "    <tr>\n",
       "      <th>344804</th>\n",
       "      <td>tt2410964</td>\n",
       "      <td>8</td>\n",
       "      <td>nm4394575</td>\n",
       "      <td>editor</td>\n",
       "      <td>None</td>\n",
       "      <td>None</td>\n",
       "    </tr>\n",
       "    <tr>\n",
       "      <th>...</th>\n",
       "      <td>...</td>\n",
       "      <td>...</td>\n",
       "      <td>...</td>\n",
       "      <td>...</td>\n",
       "      <td>...</td>\n",
       "      <td>...</td>\n",
       "    </tr>\n",
       "    <tr>\n",
       "      <th>983231</th>\n",
       "      <td>tt9525226</td>\n",
       "      <td>7</td>\n",
       "      <td>nm4394575</td>\n",
       "      <td>editor</td>\n",
       "      <td>None</td>\n",
       "      <td>None</td>\n",
       "    </tr>\n",
       "    <tr>\n",
       "      <th>984125</th>\n",
       "      <td>tt6370780</td>\n",
       "      <td>8</td>\n",
       "      <td>nm4394575</td>\n",
       "      <td>editor</td>\n",
       "      <td>None</td>\n",
       "      <td>None</td>\n",
       "    </tr>\n",
       "    <tr>\n",
       "      <th>984135</th>\n",
       "      <td>tt6374832</td>\n",
       "      <td>8</td>\n",
       "      <td>nm4394575</td>\n",
       "      <td>editor</td>\n",
       "      <td>None</td>\n",
       "      <td>None</td>\n",
       "    </tr>\n",
       "    <tr>\n",
       "      <th>1012364</th>\n",
       "      <td>tt7843050</td>\n",
       "      <td>6</td>\n",
       "      <td>nm4394575</td>\n",
       "      <td>editor</td>\n",
       "      <td>None</td>\n",
       "      <td>None</td>\n",
       "    </tr>\n",
       "    <tr>\n",
       "      <th>1027958</th>\n",
       "      <td>tt9520500</td>\n",
       "      <td>7</td>\n",
       "      <td>nm4394575</td>\n",
       "      <td>editor</td>\n",
       "      <td>None</td>\n",
       "      <td>None</td>\n",
       "    </tr>\n",
       "  </tbody>\n",
       "</table>\n",
       "<p>103 rows × 6 columns</p>\n",
       "</div>"
      ],
      "text/plain": [
       "          movie_id  ordering  person_id category   job characters\n",
       "209253   tt2414424         9  nm4394575   editor  None       None\n",
       "284938   tt2418914         7  nm4394575   editor  None       None\n",
       "291705   tt3445098         9  nm4394575   editor  None       None\n",
       "341007   tt2419230         8  nm4394575   editor  None       None\n",
       "344804   tt2410964         8  nm4394575   editor  None       None\n",
       "...            ...       ...        ...      ...   ...        ...\n",
       "983231   tt9525226         7  nm4394575   editor  None       None\n",
       "984125   tt6370780         8  nm4394575   editor  None       None\n",
       "984135   tt6374832         8  nm4394575   editor  None       None\n",
       "1012364  tt7843050         6  nm4394575   editor  None       None\n",
       "1027958  tt9520500         7  nm4394575   editor  None       None\n",
       "\n",
       "[103 rows x 6 columns]"
      ]
     },
     "execution_count": 45,
     "metadata": {},
     "output_type": "execute_result"
    }
   ],
   "source": [
    "principals[principals['person_id'] == 'nm4394575']"
   ]
  },
  {
   "cell_type": "markdown",
   "metadata": {},
   "source": [
    "This output shows that duplicate `person_id`'s correspond to the same person working on different movies. This can be seen because the same `person_id` can be found in rows with different `movie_id`'s."
   ]
  },
  {
   "cell_type": "code",
   "execution_count": 46,
   "metadata": {},
   "outputs": [
    {
     "data": {
      "text/plain": [
       "actor                  256718\n",
       "director               146393\n",
       "actress                146208\n",
       "producer               113724\n",
       "cinematographer         80091\n",
       "composer                77063\n",
       "writer                  74357\n",
       "self                    65424\n",
       "editor                  55512\n",
       "production_designer      9373\n",
       "archive_footage          3307\n",
       "archive_sound              16\n",
       "Name: category, dtype: int64"
      ]
     },
     "execution_count": 46,
     "metadata": {},
     "output_type": "execute_result"
    }
   ],
   "source": [
    "principals['category'].value_counts()"
   ]
  },
  {
   "cell_type": "code",
   "execution_count": 47,
   "metadata": {},
   "outputs": [
    {
     "data": {
      "text/plain": [
       "producer                            108168\n",
       "screenplay                            8172\n",
       "director of photography               6517\n",
       "writer                                6479\n",
       "co-director                           5796\n",
       "                                     ...  \n",
       "after: play \"Lucrèce Borgia              1\n",
       "book \"To Reach the Clouds                1\n",
       "fiction: director of photography         1\n",
       "orginal script by                        1\n",
       "novel \"Les Trois Mousquetaires           1\n",
       "Name: job, Length: 2965, dtype: int64"
      ]
     },
     "execution_count": 47,
     "metadata": {},
     "output_type": "execute_result"
    }
   ],
   "source": [
    "principals['job'].value_counts()"
   ]
  },
  {
   "cell_type": "code",
   "execution_count": 48,
   "metadata": {},
   "outputs": [
    {
     "data": {
      "text/plain": [
       "[\"Himself\"]                43584\n",
       "[\"Herself\"]                16127\n",
       "[\"Narrator\"]                2218\n",
       "[\"Alex\"]                     656\n",
       "[\"David\"]                    620\n",
       "                           ...  \n",
       "[\"The Great Reaper\"]           1\n",
       "[\"Il vigile\"]                  1\n",
       "[\"Sarang\"]                     1\n",
       "[\"Vic Barkley\"]                1\n",
       "[\"Helen Burns\",\"Adele\"]        1\n",
       "Name: characters, Length: 174762, dtype: int64"
      ]
     },
     "execution_count": 48,
     "metadata": {},
     "output_type": "execute_result"
    }
   ],
   "source": [
    "principals['characters'].value_counts()"
   ]
  },
  {
   "cell_type": "code",
   "execution_count": 49,
   "metadata": {},
   "outputs": [],
   "source": [
    "# Dropping job and character columns \n",
    "\n",
    "principals.drop(['job', 'characters', 'ordering'], axis=1, inplace=True)"
   ]
  },
  {
   "cell_type": "code",
   "execution_count": 50,
   "metadata": {},
   "outputs": [
    {
     "data": {
      "text/plain": [
       "actor                        177838\n",
       "producer                     150214\n",
       "writer                       141504\n",
       "director                     129808\n",
       "actress                       95066\n",
       "cinematographer               61984\n",
       "editor                        55234\n",
       "composer                      48823\n",
       "camera_department             39466\n",
       "miscellaneous                 38661\n",
       "soundtrack                    20748\n",
       "music_department              18568\n",
       "assistant_director            15916\n",
       "sound_department              15280\n",
       "editorial_department          14565\n",
       "production_manager             9768\n",
       "art_department                 8913\n",
       "production_designer            7592\n",
       "visual_effects                 6188\n",
       "art_director                   4623\n",
       "stunts                         4309\n",
       "casting_department             2802\n",
       "executive                      2657\n",
       "make_up_department             2613\n",
       "animation_department           2459\n",
       "casting_director               2397\n",
       "location_management            2253\n",
       "costume_department             1938\n",
       "special_effects                1856\n",
       "costume_designer               1548\n",
       "set_decorator                  1435\n",
       "manager                         732\n",
       "transportation_department       673\n",
       "talent_agent                    313\n",
       "legal                            92\n",
       "publicist                        83\n",
       "assistant                        72\n",
       "Name: primary_profession, dtype: int64"
      ]
     },
     "execution_count": 50,
     "metadata": {},
     "output_type": "execute_result"
    }
   ],
   "source": [
    "# get a count for the number of each profession\n",
    "persons['primary_profession'].str.split(',').explode().value_counts()"
   ]
  },
  {
   "cell_type": "code",
   "execution_count": 51,
   "metadata": {},
   "outputs": [],
   "source": [
    "# dropping birth_year, death_year, and primary_profression from persons\n",
    "persons.drop(['birth_year', 'death_year', 'primary_profession'], axis=1, inplace=True)"
   ]
  },
  {
   "cell_type": "code",
   "execution_count": 52,
   "metadata": {},
   "outputs": [],
   "source": [
    "# function that provides the .info() for the remaining three data frames I am working with\n",
    "data = [movie_basics_clean, principals, persons]\n",
    "def get_info(dataframes):\n",
    "    for df in dataframes:\n",
    "        print(\"--------\")\n",
    "        print()\n",
    "        print(df.info())"
   ]
  },
  {
   "cell_type": "code",
   "execution_count": 53,
   "metadata": {},
   "outputs": [
    {
     "name": "stdout",
     "output_type": "stream",
     "text": [
      "--------\n",
      "\n",
      "<class 'pandas.core.frame.DataFrame'>\n",
      "Int64Index: 142904 entries, 0 to 146143\n",
      "Data columns (total 6 columns):\n",
      " #   Column           Non-Null Count   Dtype  \n",
      "---  ------           --------------   -----  \n",
      " 0   movie_id         142904 non-null  object \n",
      " 1   primary_title    142904 non-null  object \n",
      " 2   start_year       142904 non-null  int64  \n",
      " 3   runtime_minutes  114405 non-null  float64\n",
      " 4   genres           140732 non-null  object \n",
      " 5   genres_list      140732 non-null  object \n",
      "dtypes: float64(1), int64(1), object(4)\n",
      "memory usage: 7.6+ MB\n",
      "None\n",
      "--------\n",
      "\n",
      "<class 'pandas.core.frame.DataFrame'>\n",
      "RangeIndex: 1028186 entries, 0 to 1028185\n",
      "Data columns (total 3 columns):\n",
      " #   Column     Non-Null Count    Dtype \n",
      "---  ------     --------------    ----- \n",
      " 0   movie_id   1028186 non-null  object\n",
      " 1   person_id  1028186 non-null  object\n",
      " 2   category   1028186 non-null  object\n",
      "dtypes: object(3)\n",
      "memory usage: 23.5+ MB\n",
      "None\n",
      "--------\n",
      "\n",
      "<class 'pandas.core.frame.DataFrame'>\n",
      "RangeIndex: 606648 entries, 0 to 606647\n",
      "Data columns (total 2 columns):\n",
      " #   Column        Non-Null Count   Dtype \n",
      "---  ------        --------------   ----- \n",
      " 0   person_id     606648 non-null  object\n",
      " 1   primary_name  606648 non-null  object\n",
      "dtypes: object(2)\n",
      "memory usage: 9.3+ MB\n",
      "None\n"
     ]
    }
   ],
   "source": [
    "get_info(data)"
   ]
  },
  {
   "cell_type": "markdown",
   "metadata": {},
   "source": [
    "The output from the get_info() function shows that in each table, each column's python data type matches its true data type. The `principals` and `persons` tables have zero NaN values. In the `movie_basics_clean` DataFrame, the following three columns still have a some NaN values: `runtime_minutes`, `genres`, `genres_list`. Since there is significantly less data in the budgets table, I keep the rows with the NaN values. This will help ensure that I do not lose any important data when joining the budgets table with the `movie_basics_clean` table."
   ]
  },
  {
   "cell_type": "code",
   "execution_count": 54,
   "metadata": {},
   "outputs": [
    {
     "data": {
      "text/html": [
       "<div>\n",
       "<style scoped>\n",
       "    .dataframe tbody tr th:only-of-type {\n",
       "        vertical-align: middle;\n",
       "    }\n",
       "\n",
       "    .dataframe tbody tr th {\n",
       "        vertical-align: top;\n",
       "    }\n",
       "\n",
       "    .dataframe thead th {\n",
       "        text-align: right;\n",
       "    }\n",
       "</style>\n",
       "<table border=\"1\" class=\"dataframe\">\n",
       "  <thead>\n",
       "    <tr style=\"text-align: right;\">\n",
       "      <th></th>\n",
       "      <th>person_id</th>\n",
       "      <th>primary_name</th>\n",
       "      <th>movie_id</th>\n",
       "      <th>category</th>\n",
       "    </tr>\n",
       "  </thead>\n",
       "  <tbody>\n",
       "    <tr>\n",
       "      <th>0</th>\n",
       "      <td>nm0061671</td>\n",
       "      <td>Mary Ellen Bauder</td>\n",
       "      <td>tt2398241</td>\n",
       "      <td>producer</td>\n",
       "    </tr>\n",
       "    <tr>\n",
       "      <th>1</th>\n",
       "      <td>nm0061865</td>\n",
       "      <td>Joseph Bauer</td>\n",
       "      <td>tt0433397</td>\n",
       "      <td>composer</td>\n",
       "    </tr>\n",
       "    <tr>\n",
       "      <th>2</th>\n",
       "      <td>nm0061865</td>\n",
       "      <td>Joseph Bauer</td>\n",
       "      <td>tt1681372</td>\n",
       "      <td>composer</td>\n",
       "    </tr>\n",
       "  </tbody>\n",
       "</table>\n",
       "</div>"
      ],
      "text/plain": [
       "   person_id       primary_name   movie_id  category\n",
       "0  nm0061671  Mary Ellen Bauder  tt2398241  producer\n",
       "1  nm0061865       Joseph Bauer  tt0433397  composer\n",
       "2  nm0061865       Joseph Bauer  tt1681372  composer"
      ]
     },
     "execution_count": 54,
     "metadata": {},
     "output_type": "execute_result"
    }
   ],
   "source": [
    "# joining principals and persons dfs\n",
    "\n",
    "film_people = pd.merge(persons,\n",
    "                       principals,\n",
    "                       how = 'inner',\n",
    "                       on = 'person_id'\n",
    "                      )\n",
    "\n",
    "film_people.head(3)"
   ]
  },
  {
   "cell_type": "code",
   "execution_count": 55,
   "metadata": {},
   "outputs": [
    {
     "name": "stdout",
     "output_type": "stream",
     "text": [
      "<class 'pandas.core.frame.DataFrame'>\n",
      "Int64Index: 1027912 entries, 0 to 1027911\n",
      "Data columns (total 4 columns):\n",
      " #   Column        Non-Null Count    Dtype \n",
      "---  ------        --------------    ----- \n",
      " 0   person_id     1027912 non-null  object\n",
      " 1   primary_name  1027912 non-null  object\n",
      " 2   movie_id      1027912 non-null  object\n",
      " 3   category      1027912 non-null  object\n",
      "dtypes: object(4)\n",
      "memory usage: 39.2+ MB\n"
     ]
    }
   ],
   "source": [
    "film_people.info()"
   ]
  },
  {
   "cell_type": "code",
   "execution_count": 56,
   "metadata": {},
   "outputs": [
    {
     "data": {
      "text/plain": [
       "actor                  256561\n",
       "director               146393\n",
       "actress                146124\n",
       "producer               113724\n",
       "cinematographer         80091\n",
       "composer                77063\n",
       "writer                  74357\n",
       "self                    65392\n",
       "editor                  55512\n",
       "production_designer      9373\n",
       "archive_footage          3306\n",
       "archive_sound              16\n",
       "Name: category, dtype: int64"
      ]
     },
     "execution_count": 56,
     "metadata": {},
     "output_type": "execute_result"
    }
   ],
   "source": [
    "# get counts of the different categories of film professions\n",
    "film_people.category.value_counts()"
   ]
  },
  {
   "cell_type": "code",
   "execution_count": 57,
   "metadata": {},
   "outputs": [
    {
     "data": {
      "text/plain": [
       "nm1930572    378\n",
       "nm0000636    160\n",
       "nm0000616    148\n",
       "nm0103977    126\n",
       "nm4394575    103\n",
       "            ... \n",
       "nm7899718      1\n",
       "nm5358284      1\n",
       "nm4967029      1\n",
       "nm3907579      1\n",
       "nm7134083      1\n",
       "Name: person_id, Length: 604290, dtype: int64"
      ]
     },
     "execution_count": 57,
     "metadata": {},
     "output_type": "execute_result"
    }
   ],
   "source": [
    "film_people.person_id.value_counts()"
   ]
  },
  {
   "cell_type": "code",
   "execution_count": 58,
   "metadata": {},
   "outputs": [
    {
     "data": {
      "text/html": [
       "<div>\n",
       "<style scoped>\n",
       "    .dataframe tbody tr th:only-of-type {\n",
       "        vertical-align: middle;\n",
       "    }\n",
       "\n",
       "    .dataframe tbody tr th {\n",
       "        vertical-align: top;\n",
       "    }\n",
       "\n",
       "    .dataframe thead th {\n",
       "        text-align: right;\n",
       "    }\n",
       "</style>\n",
       "<table border=\"1\" class=\"dataframe\">\n",
       "  <thead>\n",
       "    <tr style=\"text-align: right;\">\n",
       "      <th></th>\n",
       "      <th>person_id</th>\n",
       "      <th>primary_name</th>\n",
       "      <th>movie_id</th>\n",
       "      <th>category</th>\n",
       "    </tr>\n",
       "  </thead>\n",
       "  <tbody>\n",
       "    <tr>\n",
       "      <th>415221</th>\n",
       "      <td>nm4394575</td>\n",
       "      <td>Sen Arima</td>\n",
       "      <td>tt2414424</td>\n",
       "      <td>editor</td>\n",
       "    </tr>\n",
       "    <tr>\n",
       "      <th>415222</th>\n",
       "      <td>nm4394575</td>\n",
       "      <td>Sen Arima</td>\n",
       "      <td>tt2418914</td>\n",
       "      <td>editor</td>\n",
       "    </tr>\n",
       "    <tr>\n",
       "      <th>415223</th>\n",
       "      <td>nm4394575</td>\n",
       "      <td>Sen Arima</td>\n",
       "      <td>tt3445098</td>\n",
       "      <td>editor</td>\n",
       "    </tr>\n",
       "    <tr>\n",
       "      <th>415224</th>\n",
       "      <td>nm4394575</td>\n",
       "      <td>Sen Arima</td>\n",
       "      <td>tt2419230</td>\n",
       "      <td>editor</td>\n",
       "    </tr>\n",
       "    <tr>\n",
       "      <th>415225</th>\n",
       "      <td>nm4394575</td>\n",
       "      <td>Sen Arima</td>\n",
       "      <td>tt2410964</td>\n",
       "      <td>editor</td>\n",
       "    </tr>\n",
       "    <tr>\n",
       "      <th>...</th>\n",
       "      <td>...</td>\n",
       "      <td>...</td>\n",
       "      <td>...</td>\n",
       "      <td>...</td>\n",
       "    </tr>\n",
       "    <tr>\n",
       "      <th>415319</th>\n",
       "      <td>nm4394575</td>\n",
       "      <td>Sen Arima</td>\n",
       "      <td>tt9525226</td>\n",
       "      <td>editor</td>\n",
       "    </tr>\n",
       "    <tr>\n",
       "      <th>415320</th>\n",
       "      <td>nm4394575</td>\n",
       "      <td>Sen Arima</td>\n",
       "      <td>tt6370780</td>\n",
       "      <td>editor</td>\n",
       "    </tr>\n",
       "    <tr>\n",
       "      <th>415321</th>\n",
       "      <td>nm4394575</td>\n",
       "      <td>Sen Arima</td>\n",
       "      <td>tt6374832</td>\n",
       "      <td>editor</td>\n",
       "    </tr>\n",
       "    <tr>\n",
       "      <th>415322</th>\n",
       "      <td>nm4394575</td>\n",
       "      <td>Sen Arima</td>\n",
       "      <td>tt7843050</td>\n",
       "      <td>editor</td>\n",
       "    </tr>\n",
       "    <tr>\n",
       "      <th>415323</th>\n",
       "      <td>nm4394575</td>\n",
       "      <td>Sen Arima</td>\n",
       "      <td>tt9520500</td>\n",
       "      <td>editor</td>\n",
       "    </tr>\n",
       "  </tbody>\n",
       "</table>\n",
       "<p>103 rows × 4 columns</p>\n",
       "</div>"
      ],
      "text/plain": [
       "        person_id primary_name   movie_id category\n",
       "415221  nm4394575    Sen Arima  tt2414424   editor\n",
       "415222  nm4394575    Sen Arima  tt2418914   editor\n",
       "415223  nm4394575    Sen Arima  tt3445098   editor\n",
       "415224  nm4394575    Sen Arima  tt2419230   editor\n",
       "415225  nm4394575    Sen Arima  tt2410964   editor\n",
       "...           ...          ...        ...      ...\n",
       "415319  nm4394575    Sen Arima  tt9525226   editor\n",
       "415320  nm4394575    Sen Arima  tt6370780   editor\n",
       "415321  nm4394575    Sen Arima  tt6374832   editor\n",
       "415322  nm4394575    Sen Arima  tt7843050   editor\n",
       "415323  nm4394575    Sen Arima  tt9520500   editor\n",
       "\n",
       "[103 rows x 4 columns]"
      ]
     },
     "execution_count": 58,
     "metadata": {},
     "output_type": "execute_result"
    }
   ],
   "source": [
    "film_people[film_people['person_id'] == 'nm4394575']"
   ]
  },
  {
   "cell_type": "markdown",
   "metadata": {},
   "source": [
    "The above output shows that each row in `film_people` represents a movie that a professional was involved in. For example, the `person_id` that corresponds with `nm4394575` is represented in 103 rows, with each row having a different `movie_id`. "
   ]
  },
  {
   "cell_type": "code",
   "execution_count": 59,
   "metadata": {},
   "outputs": [
    {
     "data": {
      "text/plain": [
       "person_id  primary_name     movie_id   category\n",
       "nm3296031  Brendan Maclean  tt2815358  actor       2\n",
       "nm2442121  Ivy Yi-Han Chen  tt8942260  actress     2\n",
       "nm4454963  Mike Kai Sui     tt6450032  actor       2\n",
       "nm3206691  Hasan Majuni     tt2258513  actor       2\n",
       "nm1289422  Barbara Bacci    tt3153648  actress     2\n",
       "                                                  ..\n",
       "nm4885985  Rémi Goulet      tt7610830  actor       1\n",
       "                            tt4027334  actor       1\n",
       "                            tt2224307  actor       1\n",
       "nm4885974  Mónica Portillo  tt6207386  actress     1\n",
       "nm0000002  Lauren Bacall    tt0858500  actress     1\n",
       "Length: 1027877, dtype: int64"
      ]
     },
     "execution_count": 59,
     "metadata": {},
     "output_type": "execute_result"
    }
   ],
   "source": [
    "film_people.value_counts()"
   ]
  },
  {
   "cell_type": "code",
   "execution_count": 60,
   "metadata": {},
   "outputs": [
    {
     "data": {
      "text/plain": [
       "person_id  primary_name            movie_id   category\n",
       "nm9161308  Sameer Deshpande        tt5489544  actor       2\n",
       "nm1289422  Barbara Bacci           tt3153648  actress     2\n",
       "nm3296031  Brendan Maclean         tt2815358  actor       2\n",
       "nm3206691  Hasan Majuni            tt2258513  actor       2\n",
       "nm3187984  Abdellatif Chaouqi      tt3592504  actor       2\n",
       "nm2442121  Ivy Yi-Han Chen         tt8942260  actress     2\n",
       "nm2335900  Justin Malone           tt1995481  actor       2\n",
       "nm1794850  David Chalmers          tt2073120  actor       2\n",
       "nm1141719  Nobuyuki Kase           tt5098626  actor       2\n",
       "nm3548929  Liuyuan Ding            tt5338100  actress     2\n",
       "nm0857847  Thich Nhát Hanh         tt5268106  actor       2\n",
       "nm0849468  Masashi Taniguchi       tt8108180  actor       2\n",
       "nm0605583  Robert Morin            tt6664852  actor       2\n",
       "nm0406809  Kunihiko Ida            tt5495582  actor       2\n",
       "nm0244327  Dorra Zarrouk           tt6549064  actress     2\n",
       "nm0172826  Luigi Cozzi             tt4537170  actor       2\n",
       "nm3414469  Mita Chatterjee         tt5282110  actress     2\n",
       "nm3741291  JC Cadena               tt7180088  actress     2\n",
       "nm9115981  Andy Johnson            tt7236082  editor      2\n",
       "nm5241644  Yu Li                   tt2473710  actor       2\n",
       "nm8204953  Nikhil Chaudhary        tt6094992  producer    2\n",
       "nm7129726  Chloe Brown             tt5974592  actress     2\n",
       "nm6523411  Sereene Brown           tt4472884  actress     2\n",
       "nm5992239  Shawan Emer             tt3246048  actress     2\n",
       "nm5726235  Dorian Kane             tt7725546  actor       2\n",
       "nm5241644  Yu Li                   tt6419578  actor       2\n",
       "nm4721563  Kristen StephensonPino  tt2557902  actress     2\n",
       "nm3772098  Ross Everett            tt2368182  actor       2\n",
       "nm4454963  Mike Kai Sui            tt6450032  actor       2\n",
       "nm3996622  Thomas Brenneck         tt5613920  actor       2\n",
       "nm3979007  Rameet Sandhu           tt5805424  actress     2\n",
       "nm3895623  Jacqueline Chong        tt6423408  actress     2\n",
       "                                   tt3503838  actress     2\n",
       "nm3782659  Ece Baykal              tt6971730  actress     2\n",
       "nm0149828  Sudiptaa Chakraborty    tt5473578  actress     2\n",
       "dtype: int64"
      ]
     },
     "execution_count": 60,
     "metadata": {},
     "output_type": "execute_result"
    }
   ],
   "source": [
    "# removes duplicate rows that share the same movie_id and person_id\n",
    "\n",
    "film_people_duplicates = film_people.duplicated(keep = False)\n",
    "film_people[film_people_duplicates].value_counts()"
   ]
  },
  {
   "cell_type": "code",
   "execution_count": 61,
   "metadata": {},
   "outputs": [
    {
     "data": {
      "text/plain": [
       "person_id  primary_name               movie_id    category\n",
       "nm9993680  Christopher-Lawson Palmer  tt10427366  actor       1\n",
       "nm1822501  Reece Rios                 tt1591509   actor       1\n",
       "nm1822600  Anastas Tanovski           tt7610008   actor       1\n",
       "nm1822582  Claude Stark               tt6046566   actor       1\n",
       "nm1822570  Esham                      tt2006716   self        1\n",
       "                                                             ..\n",
       "nm4886005  Abi Alberto                tt2224159   director    1\n",
       "nm4885998  Mott Green                 tt2224377   self        1\n",
       "nm4885985  Rémi Goulet                tt7610830   actor       1\n",
       "                                      tt4027334   actor       1\n",
       "nm0000002  Lauren Bacall              tt0858500   actress     1\n",
       "Length: 1027877, dtype: int64"
      ]
     },
     "execution_count": 61,
     "metadata": {},
     "output_type": "execute_result"
    }
   ],
   "source": [
    "# checks to confirm that there are no duplicates\n",
    "film_people_no_dups = film_people.drop_duplicates()\n",
    "film_people_no_dups.value_counts()"
   ]
  },
  {
   "cell_type": "markdown",
   "metadata": {},
   "source": []
  },
  {
   "cell_type": "code",
   "execution_count": 62,
   "metadata": {},
   "outputs": [
    {
     "name": "stdout",
     "output_type": "stream",
     "text": [
      "<class 'pandas.core.frame.DataFrame'>\n",
      "Int64Index: 1027877 entries, 0 to 1027911\n",
      "Data columns (total 4 columns):\n",
      " #   Column        Non-Null Count    Dtype \n",
      "---  ------        --------------    ----- \n",
      " 0   person_id     1027877 non-null  object\n",
      " 1   primary_name  1027877 non-null  object\n",
      " 2   movie_id      1027877 non-null  object\n",
      " 3   category      1027877 non-null  object\n",
      "dtypes: object(4)\n",
      "memory usage: 39.2+ MB\n"
     ]
    }
   ],
   "source": [
    "film_people_no_dups.info()"
   ]
  },
  {
   "cell_type": "code",
   "execution_count": 63,
   "metadata": {},
   "outputs": [],
   "source": [
    "# inner joining film_people_no_dups and movie_basics_clean using movie_id as the key\n",
    "\n",
    "film_people_with_movies = pd.merge(film_people_no_dups,\n",
    "                                   movie_basics_clean,\n",
    "                                   how = 'inner',\n",
    "                                   on = 'movie_id'\n",
    "                                  )"
   ]
  },
  {
   "cell_type": "code",
   "execution_count": 64,
   "metadata": {},
   "outputs": [],
   "source": [
    "# Dropping job and character columns \n",
    "\n",
    "film_people_with_movies.drop('runtime_minutes',\n",
    "                             axis=1,\n",
    "                             inplace=True\n",
    "                            )"
   ]
  },
  {
   "cell_type": "code",
   "execution_count": 65,
   "metadata": {},
   "outputs": [
    {
     "data": {
      "text/html": [
       "<div>\n",
       "<style scoped>\n",
       "    .dataframe tbody tr th:only-of-type {\n",
       "        vertical-align: middle;\n",
       "    }\n",
       "\n",
       "    .dataframe tbody tr th {\n",
       "        vertical-align: top;\n",
       "    }\n",
       "\n",
       "    .dataframe thead th {\n",
       "        text-align: right;\n",
       "    }\n",
       "</style>\n",
       "<table border=\"1\" class=\"dataframe\">\n",
       "  <thead>\n",
       "    <tr style=\"text-align: right;\">\n",
       "      <th></th>\n",
       "      <th>person_id</th>\n",
       "      <th>primary_name</th>\n",
       "      <th>movie_id</th>\n",
       "      <th>category</th>\n",
       "      <th>primary_title</th>\n",
       "      <th>start_year</th>\n",
       "      <th>genres</th>\n",
       "      <th>genres_list</th>\n",
       "    </tr>\n",
       "  </thead>\n",
       "  <tbody>\n",
       "    <tr>\n",
       "      <th>0</th>\n",
       "      <td>nm0061671</td>\n",
       "      <td>Mary Ellen Bauder</td>\n",
       "      <td>tt2398241</td>\n",
       "      <td>producer</td>\n",
       "      <td>Smurfs: The Lost Village</td>\n",
       "      <td>2017</td>\n",
       "      <td>Adventure,Animation,Comedy</td>\n",
       "      <td>[Adventure, Animation, Comedy]</td>\n",
       "    </tr>\n",
       "    <tr>\n",
       "      <th>1</th>\n",
       "      <td>nm0038432</td>\n",
       "      <td>Kelly Asbury</td>\n",
       "      <td>tt2398241</td>\n",
       "      <td>director</td>\n",
       "      <td>Smurfs: The Lost Village</td>\n",
       "      <td>2017</td>\n",
       "      <td>Adventure,Animation,Comedy</td>\n",
       "      <td>[Adventure, Animation, Comedy]</td>\n",
       "    </tr>\n",
       "    <tr>\n",
       "      <th>2</th>\n",
       "      <td>nm0449549</td>\n",
       "      <td>Jordan Kerner</td>\n",
       "      <td>tt2398241</td>\n",
       "      <td>producer</td>\n",
       "      <td>Smurfs: The Lost Village</td>\n",
       "      <td>2017</td>\n",
       "      <td>Adventure,Animation,Comedy</td>\n",
       "      <td>[Adventure, Animation, Comedy]</td>\n",
       "    </tr>\n",
       "    <tr>\n",
       "      <th>3</th>\n",
       "      <td>nm0962596</td>\n",
       "      <td>Pamela Ribon</td>\n",
       "      <td>tt2398241</td>\n",
       "      <td>writer</td>\n",
       "      <td>Smurfs: The Lost Village</td>\n",
       "      <td>2017</td>\n",
       "      <td>Adventure,Animation,Comedy</td>\n",
       "      <td>[Adventure, Animation, Comedy]</td>\n",
       "    </tr>\n",
       "    <tr>\n",
       "      <th>4</th>\n",
       "      <td>nm0678963</td>\n",
       "      <td>Peyo</td>\n",
       "      <td>tt2398241</td>\n",
       "      <td>writer</td>\n",
       "      <td>Smurfs: The Lost Village</td>\n",
       "      <td>2017</td>\n",
       "      <td>Adventure,Animation,Comedy</td>\n",
       "      <td>[Adventure, Animation, Comedy]</td>\n",
       "    </tr>\n",
       "  </tbody>\n",
       "</table>\n",
       "</div>"
      ],
      "text/plain": [
       "   person_id       primary_name   movie_id  category  \\\n",
       "0  nm0061671  Mary Ellen Bauder  tt2398241  producer   \n",
       "1  nm0038432       Kelly Asbury  tt2398241  director   \n",
       "2  nm0449549      Jordan Kerner  tt2398241  producer   \n",
       "3  nm0962596       Pamela Ribon  tt2398241    writer   \n",
       "4  nm0678963               Peyo  tt2398241    writer   \n",
       "\n",
       "              primary_title  start_year                      genres  \\\n",
       "0  Smurfs: The Lost Village        2017  Adventure,Animation,Comedy   \n",
       "1  Smurfs: The Lost Village        2017  Adventure,Animation,Comedy   \n",
       "2  Smurfs: The Lost Village        2017  Adventure,Animation,Comedy   \n",
       "3  Smurfs: The Lost Village        2017  Adventure,Animation,Comedy   \n",
       "4  Smurfs: The Lost Village        2017  Adventure,Animation,Comedy   \n",
       "\n",
       "                      genres_list  \n",
       "0  [Adventure, Animation, Comedy]  \n",
       "1  [Adventure, Animation, Comedy]  \n",
       "2  [Adventure, Animation, Comedy]  \n",
       "3  [Adventure, Animation, Comedy]  \n",
       "4  [Adventure, Animation, Comedy]  "
      ]
     },
     "execution_count": 65,
     "metadata": {},
     "output_type": "execute_result"
    }
   ],
   "source": [
    "film_people_with_movies.head()"
   ]
  },
  {
   "cell_type": "code",
   "execution_count": 66,
   "metadata": {},
   "outputs": [
    {
     "name": "stdout",
     "output_type": "stream",
     "text": [
      "<class 'pandas.core.frame.DataFrame'>\n",
      "Int64Index: 1017239 entries, 0 to 1017238\n",
      "Data columns (total 8 columns):\n",
      " #   Column         Non-Null Count    Dtype \n",
      "---  ------         --------------    ----- \n",
      " 0   person_id      1017239 non-null  object\n",
      " 1   primary_name   1017239 non-null  object\n",
      " 2   movie_id       1017239 non-null  object\n",
      " 3   category       1017239 non-null  object\n",
      " 4   primary_title  1017239 non-null  object\n",
      " 5   start_year     1017239 non-null  int64 \n",
      " 6   genres         1006126 non-null  object\n",
      " 7   genres_list    1006126 non-null  object\n",
      "dtypes: int64(1), object(7)\n",
      "memory usage: 69.8+ MB\n"
     ]
    }
   ],
   "source": [
    "film_people_with_movies.info()"
   ]
  },
  {
   "cell_type": "code",
   "execution_count": 67,
   "metadata": {},
   "outputs": [],
   "source": [
    "# removing any person with a frequency less than three \n",
    "\n",
    "#gets a count of the frequency of each person's name in the df\n",
    "film_people_value_counts = film_people_with_movies.primary_name.value_counts() \n",
    "\n",
    "# selects the names that appear less than 3 times\n",
    "remove_people = film_people_value_counts[film_people_value_counts < 3].index\n",
    "\n",
    "# filters out rows that have a primary_name that is in remove_people\n",
    "film_people_mult_movies = film_people_with_movies[~film_people_with_movies['primary_name'].isin(remove_people)]"
   ]
  },
  {
   "cell_type": "code",
   "execution_count": 68,
   "metadata": {},
   "outputs": [
    {
     "name": "stdout",
     "output_type": "stream",
     "text": [
      "<class 'pandas.core.frame.DataFrame'>\n",
      "Int64Index: 448252 entries, 1 to 1017213\n",
      "Data columns (total 8 columns):\n",
      " #   Column         Non-Null Count   Dtype \n",
      "---  ------         --------------   ----- \n",
      " 0   person_id      448252 non-null  object\n",
      " 1   primary_name   448252 non-null  object\n",
      " 2   movie_id       448252 non-null  object\n",
      " 3   category       448252 non-null  object\n",
      " 4   primary_title  448252 non-null  object\n",
      " 5   start_year     448252 non-null  int64 \n",
      " 6   genres         443892 non-null  object\n",
      " 7   genres_list    443892 non-null  object\n",
      "dtypes: int64(1), object(7)\n",
      "memory usage: 30.8+ MB\n"
     ]
    }
   ],
   "source": [
    "film_people_mult_movies.info()"
   ]
  },
  {
   "cell_type": "code",
   "execution_count": 69,
   "metadata": {},
   "outputs": [],
   "source": [
    "# list of movies in the top 25% of roi\n",
    "top_25_percent_roi = list(budgets_no_outliers[budgets_no_outliers['roi (%)'] \n",
    "                                              > budgets_no_outliers['roi (%)'].quantile(.75)].sort_values(\n",
    "                                                by = ['roi (%)'], ascending = False)['movie']\n",
    "                         )"
   ]
  },
  {
   "cell_type": "code",
   "execution_count": 70,
   "metadata": {},
   "outputs": [
    {
     "data": {
      "text/html": [
       "<div>\n",
       "<style scoped>\n",
       "    .dataframe tbody tr th:only-of-type {\n",
       "        vertical-align: middle;\n",
       "    }\n",
       "\n",
       "    .dataframe tbody tr th {\n",
       "        vertical-align: top;\n",
       "    }\n",
       "\n",
       "    .dataframe thead th {\n",
       "        text-align: right;\n",
       "    }\n",
       "</style>\n",
       "<table border=\"1\" class=\"dataframe\">\n",
       "  <thead>\n",
       "    <tr style=\"text-align: right;\">\n",
       "      <th></th>\n",
       "      <th>movie_id</th>\n",
       "      <th>primary_title</th>\n",
       "      <th>start_year</th>\n",
       "      <th>runtime_minutes</th>\n",
       "      <th>genres</th>\n",
       "      <th>genres_list</th>\n",
       "    </tr>\n",
       "  </thead>\n",
       "  <tbody>\n",
       "    <tr>\n",
       "      <th>33</th>\n",
       "      <td>tt0293429</td>\n",
       "      <td>Mortal Kombat</td>\n",
       "      <td>2021</td>\n",
       "      <td>NaN</td>\n",
       "      <td>Action,Adventure,Fantasy</td>\n",
       "      <td>[Action, Adventure, Fantasy]</td>\n",
       "    </tr>\n",
       "    <tr>\n",
       "      <th>40</th>\n",
       "      <td>tt0326592</td>\n",
       "      <td>The Overnight</td>\n",
       "      <td>2010</td>\n",
       "      <td>88.0</td>\n",
       "      <td>None</td>\n",
       "      <td>None</td>\n",
       "    </tr>\n",
       "    <tr>\n",
       "      <th>97</th>\n",
       "      <td>tt0431021</td>\n",
       "      <td>The Possession</td>\n",
       "      <td>2012</td>\n",
       "      <td>92.0</td>\n",
       "      <td>Horror,Mystery,Thriller</td>\n",
       "      <td>[Horror, Mystery, Thriller]</td>\n",
       "    </tr>\n",
       "    <tr>\n",
       "      <th>115</th>\n",
       "      <td>tt0443272</td>\n",
       "      <td>Lincoln</td>\n",
       "      <td>2012</td>\n",
       "      <td>150.0</td>\n",
       "      <td>Biography,Drama,History</td>\n",
       "      <td>[Biography, Drama, History]</td>\n",
       "    </tr>\n",
       "    <tr>\n",
       "      <th>125</th>\n",
       "      <td>tt0448115</td>\n",
       "      <td>Shazam!</td>\n",
       "      <td>2019</td>\n",
       "      <td>132.0</td>\n",
       "      <td>Action,Adventure,Comedy</td>\n",
       "      <td>[Action, Adventure, Comedy]</td>\n",
       "    </tr>\n",
       "  </tbody>\n",
       "</table>\n",
       "</div>"
      ],
      "text/plain": [
       "      movie_id   primary_title  start_year  runtime_minutes  \\\n",
       "33   tt0293429   Mortal Kombat        2021              NaN   \n",
       "40   tt0326592   The Overnight        2010             88.0   \n",
       "97   tt0431021  The Possession        2012             92.0   \n",
       "115  tt0443272         Lincoln        2012            150.0   \n",
       "125  tt0448115         Shazam!        2019            132.0   \n",
       "\n",
       "                       genres                   genres_list  \n",
       "33   Action,Adventure,Fantasy  [Action, Adventure, Fantasy]  \n",
       "40                       None                          None  \n",
       "97    Horror,Mystery,Thriller   [Horror, Mystery, Thriller]  \n",
       "115   Biography,Drama,History   [Biography, Drama, History]  \n",
       "125   Action,Adventure,Comedy   [Action, Adventure, Comedy]  "
      ]
     },
     "execution_count": 70,
     "metadata": {},
     "output_type": "execute_result"
    }
   ],
   "source": [
    "# filtering movie_basics_clean to only include movies in the top 25% of roi\n",
    "\n",
    "top_roi_movie_basics = movie_basics_clean[movie_basics_clean['primary_title'].isin(top_25_percent_roi)]\n",
    "top_roi_movie_basics.head()"
   ]
  },
  {
   "cell_type": "code",
   "execution_count": 71,
   "metadata": {},
   "outputs": [
    {
     "name": "stdout",
     "output_type": "stream",
     "text": [
      "<class 'pandas.core.frame.DataFrame'>\n",
      "Int64Index: 798 entries, 33 to 145296\n",
      "Data columns (total 6 columns):\n",
      " #   Column           Non-Null Count  Dtype  \n",
      "---  ------           --------------  -----  \n",
      " 0   movie_id         798 non-null    object \n",
      " 1   primary_title    798 non-null    object \n",
      " 2   start_year       798 non-null    int64  \n",
      " 3   runtime_minutes  720 non-null    float64\n",
      " 4   genres           792 non-null    object \n",
      " 5   genres_list      792 non-null    object \n",
      "dtypes: float64(1), int64(1), object(4)\n",
      "memory usage: 43.6+ KB\n"
     ]
    }
   ],
   "source": [
    "top_roi_movie_basics.info()"
   ]
  },
  {
   "cell_type": "code",
   "execution_count": 72,
   "metadata": {},
   "outputs": [
    {
     "data": {
      "text/html": [
       "<div>\n",
       "<style scoped>\n",
       "    .dataframe tbody tr th:only-of-type {\n",
       "        vertical-align: middle;\n",
       "    }\n",
       "\n",
       "    .dataframe tbody tr th {\n",
       "        vertical-align: top;\n",
       "    }\n",
       "\n",
       "    .dataframe thead th {\n",
       "        text-align: right;\n",
       "    }\n",
       "</style>\n",
       "<table border=\"1\" class=\"dataframe\">\n",
       "  <thead>\n",
       "    <tr style=\"text-align: right;\">\n",
       "      <th></th>\n",
       "      <th>person_id</th>\n",
       "      <th>primary_name</th>\n",
       "      <th>movie_id</th>\n",
       "      <th>category</th>\n",
       "      <th>primary_title</th>\n",
       "      <th>start_year</th>\n",
       "      <th>genres</th>\n",
       "      <th>genres_list</th>\n",
       "    </tr>\n",
       "  </thead>\n",
       "  <tbody>\n",
       "    <tr>\n",
       "      <th>833</th>\n",
       "      <td>nm0192984</td>\n",
       "      <td>Paul Currie</td>\n",
       "      <td>tt2119532</td>\n",
       "      <td>producer</td>\n",
       "      <td>Hacksaw Ridge</td>\n",
       "      <td>2016</td>\n",
       "      <td>Biography,Drama,History</td>\n",
       "      <td>[Biography, Drama, History]</td>\n",
       "    </tr>\n",
       "    <tr>\n",
       "      <th>834</th>\n",
       "      <td>nm0941777</td>\n",
       "      <td>Sam Worthington</td>\n",
       "      <td>tt2119532</td>\n",
       "      <td>actor</td>\n",
       "      <td>Hacksaw Ridge</td>\n",
       "      <td>2016</td>\n",
       "      <td>Biography,Drama,History</td>\n",
       "      <td>[Biography, Drama, History]</td>\n",
       "    </tr>\n",
       "    <tr>\n",
       "      <th>835</th>\n",
       "      <td>nm0460795</td>\n",
       "      <td>Andrew Knight</td>\n",
       "      <td>tt2119532</td>\n",
       "      <td>writer</td>\n",
       "      <td>Hacksaw Ridge</td>\n",
       "      <td>2016</td>\n",
       "      <td>Biography,Drama,History</td>\n",
       "      <td>[Biography, Drama, History]</td>\n",
       "    </tr>\n",
       "    <tr>\n",
       "      <th>837</th>\n",
       "      <td>nm0202704</td>\n",
       "      <td>Bruce Davey</td>\n",
       "      <td>tt2119532</td>\n",
       "      <td>producer</td>\n",
       "      <td>Hacksaw Ridge</td>\n",
       "      <td>2016</td>\n",
       "      <td>Biography,Drama,History</td>\n",
       "      <td>[Biography, Drama, History]</td>\n",
       "    </tr>\n",
       "    <tr>\n",
       "      <th>838</th>\n",
       "      <td>nm0000154</td>\n",
       "      <td>Mel Gibson</td>\n",
       "      <td>tt2119532</td>\n",
       "      <td>director</td>\n",
       "      <td>Hacksaw Ridge</td>\n",
       "      <td>2016</td>\n",
       "      <td>Biography,Drama,History</td>\n",
       "      <td>[Biography, Drama, History]</td>\n",
       "    </tr>\n",
       "  </tbody>\n",
       "</table>\n",
       "</div>"
      ],
      "text/plain": [
       "     person_id     primary_name   movie_id  category  primary_title  \\\n",
       "833  nm0192984      Paul Currie  tt2119532  producer  Hacksaw Ridge   \n",
       "834  nm0941777  Sam Worthington  tt2119532     actor  Hacksaw Ridge   \n",
       "835  nm0460795    Andrew Knight  tt2119532    writer  Hacksaw Ridge   \n",
       "837  nm0202704      Bruce Davey  tt2119532  producer  Hacksaw Ridge   \n",
       "838  nm0000154       Mel Gibson  tt2119532  director  Hacksaw Ridge   \n",
       "\n",
       "     start_year                   genres                  genres_list  \n",
       "833        2016  Biography,Drama,History  [Biography, Drama, History]  \n",
       "834        2016  Biography,Drama,History  [Biography, Drama, History]  \n",
       "835        2016  Biography,Drama,History  [Biography, Drama, History]  \n",
       "837        2016  Biography,Drama,History  [Biography, Drama, History]  \n",
       "838        2016  Biography,Drama,History  [Biography, Drama, History]  "
      ]
     },
     "execution_count": 72,
     "metadata": {},
     "output_type": "execute_result"
    }
   ],
   "source": [
    "# creates df containing the people involved in the movies in the top 25% of roi\n",
    "top_roi_film_people = film_people_mult_movies[film_people_mult_movies['primary_title'].isin(top_25_percent_roi)]\n",
    "top_roi_film_people.head()"
   ]
  },
  {
   "cell_type": "code",
   "execution_count": 73,
   "metadata": {},
   "outputs": [],
   "source": [
    "# removing any person with a frequency less than three \n",
    "\n",
    "#gets a count of the frequency of each person's name in the df\n",
    "top_people_value_counts = top_roi_film_people.primary_name.value_counts() \n",
    "\n",
    "# selects the names that appear less than 3 times\n",
    "remove_ppl = top_people_value_counts[top_people_value_counts < 3].index\n",
    "\n",
    "# filters out rows that have a primary_name that is in remove_people\n",
    "top_roi_people = top_roi_film_people[~top_roi_film_people['primary_name'].isin(remove_ppl)]"
   ]
  },
  {
   "cell_type": "code",
   "execution_count": 74,
   "metadata": {},
   "outputs": [
    {
     "name": "stdout",
     "output_type": "stream",
     "text": [
      "<class 'pandas.core.frame.DataFrame'>\n",
      "Int64Index: 978 entries, 841 to 733268\n",
      "Data columns (total 8 columns):\n",
      " #   Column         Non-Null Count  Dtype \n",
      "---  ------         --------------  ----- \n",
      " 0   person_id      978 non-null    object\n",
      " 1   primary_name   978 non-null    object\n",
      " 2   movie_id       978 non-null    object\n",
      " 3   category       978 non-null    object\n",
      " 4   primary_title  978 non-null    object\n",
      " 5   start_year     978 non-null    int64 \n",
      " 6   genres         978 non-null    object\n",
      " 7   genres_list    978 non-null    object\n",
      "dtypes: int64(1), object(7)\n",
      "memory usage: 68.8+ KB\n"
     ]
    }
   ],
   "source": [
    "top_roi_people.info()"
   ]
  },
  {
   "cell_type": "code",
   "execution_count": 75,
   "metadata": {},
   "outputs": [
    {
     "data": {
      "text/html": [
       "<div>\n",
       "<style scoped>\n",
       "    .dataframe tbody tr th:only-of-type {\n",
       "        vertical-align: middle;\n",
       "    }\n",
       "\n",
       "    .dataframe tbody tr th {\n",
       "        vertical-align: top;\n",
       "    }\n",
       "\n",
       "    .dataframe thead th {\n",
       "        text-align: right;\n",
       "    }\n",
       "</style>\n",
       "<table border=\"1\" class=\"dataframe\">\n",
       "  <thead>\n",
       "    <tr style=\"text-align: right;\">\n",
       "      <th></th>\n",
       "      <th>person_id</th>\n",
       "      <th>primary_name</th>\n",
       "      <th>movie_id</th>\n",
       "      <th>category</th>\n",
       "      <th>primary_title</th>\n",
       "      <th>start_year</th>\n",
       "      <th>genres</th>\n",
       "      <th>genres_list</th>\n",
       "      <th>release_date</th>\n",
       "      <th>movie</th>\n",
       "      <th>production_budget (millions of $)</th>\n",
       "      <th>domestic_gross (millions of $)</th>\n",
       "      <th>worldwide_gross (millions of $)</th>\n",
       "      <th>roi (%)</th>\n",
       "    </tr>\n",
       "  </thead>\n",
       "  <tbody>\n",
       "    <tr>\n",
       "      <th>0</th>\n",
       "      <td>nm1954240</td>\n",
       "      <td>Teresa Palmer</td>\n",
       "      <td>tt2119532</td>\n",
       "      <td>actress</td>\n",
       "      <td>Hacksaw Ridge</td>\n",
       "      <td>2016</td>\n",
       "      <td>Biography,Drama,History</td>\n",
       "      <td>[Biography, Drama, History]</td>\n",
       "      <td>Nov 4, 2016</td>\n",
       "      <td>Hacksaw Ridge</td>\n",
       "      <td>40.0</td>\n",
       "      <td>67.210</td>\n",
       "      <td>168.905</td>\n",
       "      <td>322.3</td>\n",
       "    </tr>\n",
       "    <tr>\n",
       "      <th>1</th>\n",
       "      <td>nm0001752</td>\n",
       "      <td>Steven Soderbergh</td>\n",
       "      <td>tt2268016</td>\n",
       "      <td>cinematographer</td>\n",
       "      <td>Magic Mike XXL</td>\n",
       "      <td>2015</td>\n",
       "      <td>Comedy,Drama,Music</td>\n",
       "      <td>[Comedy, Drama, Music]</td>\n",
       "      <td>Jul 1, 2015</td>\n",
       "      <td>Magic Mike XXL</td>\n",
       "      <td>14.5</td>\n",
       "      <td>66.013</td>\n",
       "      <td>123.661</td>\n",
       "      <td>752.8</td>\n",
       "    </tr>\n",
       "    <tr>\n",
       "      <th>2</th>\n",
       "      <td>nm1475594</td>\n",
       "      <td>Channing Tatum</td>\n",
       "      <td>tt2268016</td>\n",
       "      <td>actor</td>\n",
       "      <td>Magic Mike XXL</td>\n",
       "      <td>2015</td>\n",
       "      <td>Comedy,Drama,Music</td>\n",
       "      <td>[Comedy, Drama, Music]</td>\n",
       "      <td>Jul 1, 2015</td>\n",
       "      <td>Magic Mike XXL</td>\n",
       "      <td>14.5</td>\n",
       "      <td>66.013</td>\n",
       "      <td>123.661</td>\n",
       "      <td>752.8</td>\n",
       "    </tr>\n",
       "    <tr>\n",
       "      <th>3</th>\n",
       "      <td>nm1749221</td>\n",
       "      <td>Nina Jacobson</td>\n",
       "      <td>tt1650043</td>\n",
       "      <td>producer</td>\n",
       "      <td>Diary of a Wimpy Kid: Rodrick Rules</td>\n",
       "      <td>2011</td>\n",
       "      <td>Comedy,Family</td>\n",
       "      <td>[Comedy, Family]</td>\n",
       "      <td>Mar 25, 2011</td>\n",
       "      <td>Diary of a Wimpy Kid: Rodrick Rules</td>\n",
       "      <td>18.0</td>\n",
       "      <td>52.699</td>\n",
       "      <td>73.695</td>\n",
       "      <td>309.4</td>\n",
       "    </tr>\n",
       "    <tr>\n",
       "      <th>4</th>\n",
       "      <td>nm0331516</td>\n",
       "      <td>Ryan Gosling</td>\n",
       "      <td>tt1120985</td>\n",
       "      <td>actor</td>\n",
       "      <td>Blue Valentine</td>\n",
       "      <td>2010</td>\n",
       "      <td>Drama,Romance</td>\n",
       "      <td>[Drama, Romance]</td>\n",
       "      <td>Dec 29, 2010</td>\n",
       "      <td>Blue Valentine</td>\n",
       "      <td>1.0</td>\n",
       "      <td>9.738</td>\n",
       "      <td>16.566</td>\n",
       "      <td>1556.6</td>\n",
       "    </tr>\n",
       "  </tbody>\n",
       "</table>\n",
       "</div>"
      ],
      "text/plain": [
       "   person_id       primary_name   movie_id         category  \\\n",
       "0  nm1954240      Teresa Palmer  tt2119532          actress   \n",
       "1  nm0001752  Steven Soderbergh  tt2268016  cinematographer   \n",
       "2  nm1475594     Channing Tatum  tt2268016            actor   \n",
       "3  nm1749221      Nina Jacobson  tt1650043         producer   \n",
       "4  nm0331516       Ryan Gosling  tt1120985            actor   \n",
       "\n",
       "                         primary_title  start_year                   genres  \\\n",
       "0                        Hacksaw Ridge        2016  Biography,Drama,History   \n",
       "1                       Magic Mike XXL        2015       Comedy,Drama,Music   \n",
       "2                       Magic Mike XXL        2015       Comedy,Drama,Music   \n",
       "3  Diary of a Wimpy Kid: Rodrick Rules        2011            Comedy,Family   \n",
       "4                       Blue Valentine        2010            Drama,Romance   \n",
       "\n",
       "                   genres_list  release_date  \\\n",
       "0  [Biography, Drama, History]   Nov 4, 2016   \n",
       "1       [Comedy, Drama, Music]   Jul 1, 2015   \n",
       "2       [Comedy, Drama, Music]   Jul 1, 2015   \n",
       "3             [Comedy, Family]  Mar 25, 2011   \n",
       "4             [Drama, Romance]  Dec 29, 2010   \n",
       "\n",
       "                                 movie  production_budget (millions of $)  \\\n",
       "0                        Hacksaw Ridge                               40.0   \n",
       "1                       Magic Mike XXL                               14.5   \n",
       "2                       Magic Mike XXL                               14.5   \n",
       "3  Diary of a Wimpy Kid: Rodrick Rules                               18.0   \n",
       "4                       Blue Valentine                                1.0   \n",
       "\n",
       "   domestic_gross (millions of $)  worldwide_gross (millions of $)  roi (%)  \n",
       "0                          67.210                          168.905    322.3  \n",
       "1                          66.013                          123.661    752.8  \n",
       "2                          66.013                          123.661    752.8  \n",
       "3                          52.699                           73.695    309.4  \n",
       "4                           9.738                           16.566   1556.6  "
      ]
     },
     "execution_count": 75,
     "metadata": {},
     "output_type": "execute_result"
    }
   ],
   "source": [
    "# joining top_roi_film_people and budgets\n",
    "\n",
    "top_people_budgets = pd.merge(top_roi_people,\n",
    "                              budgets_no_outliers, \n",
    "                              how = 'inner',\n",
    "                              left_on = 'primary_title',\n",
    "                              right_on = 'movie'\n",
    "                             )\n",
    "top_people_budgets.head()"
   ]
  },
  {
   "cell_type": "code",
   "execution_count": 76,
   "metadata": {},
   "outputs": [
    {
     "data": {
      "text/plain": [
       "nm0089658    34\n",
       "nm0000881    10\n",
       "nm1334526     8\n",
       "nm1325419     8\n",
       "nm0000229     8\n",
       "             ..\n",
       "nm0520488     3\n",
       "nm0005562     3\n",
       "nm1069736     3\n",
       "nm0425053     2\n",
       "nm2053216     1\n",
       "Name: person_id, Length: 248, dtype: int64"
      ]
     },
     "execution_count": 76,
     "metadata": {},
     "output_type": "execute_result"
    }
   ],
   "source": [
    "top_people_budgets.person_id.value_counts()"
   ]
  },
  {
   "cell_type": "code",
   "execution_count": 77,
   "metadata": {},
   "outputs": [
    {
     "data": {
      "text/plain": [
       "actor              299\n",
       "producer           268\n",
       "actress            202\n",
       "writer             112\n",
       "director            86\n",
       "composer            49\n",
       "cinematographer     11\n",
       "self                 3\n",
       "editor               2\n",
       "Name: category, dtype: int64"
      ]
     },
     "execution_count": 77,
     "metadata": {},
     "output_type": "execute_result"
    }
   ],
   "source": [
    "top_people_budgets.category.value_counts()"
   ]
  },
  {
   "cell_type": "code",
   "execution_count": 78,
   "metadata": {},
   "outputs": [],
   "source": [
    "# replacing any jobs listed as actress to actor\n",
    "top_people_budgets['category'] = top_people_budgets.category.replace('actress','actor')"
   ]
  },
  {
   "cell_type": "code",
   "execution_count": 79,
   "metadata": {},
   "outputs": [],
   "source": [
    "top_people_budgets['category'] = top_people_budgets.category.str.title()"
   ]
  },
  {
   "cell_type": "code",
   "execution_count": 80,
   "metadata": {},
   "outputs": [
    {
     "data": {
      "text/plain": [
       "Actor              501\n",
       "Producer           268\n",
       "Writer             112\n",
       "Director            86\n",
       "Composer            49\n",
       "Cinematographer     11\n",
       "Self                 3\n",
       "Editor               2\n",
       "Name: category, dtype: int64"
      ]
     },
     "execution_count": 80,
     "metadata": {},
     "output_type": "execute_result"
    }
   ],
   "source": [
    "top_people_budgets.category.value_counts()"
   ]
  },
  {
   "cell_type": "code",
   "execution_count": 81,
   "metadata": {},
   "outputs": [
    {
     "data": {
      "text/html": [
       "<div>\n",
       "<style scoped>\n",
       "    .dataframe tbody tr th:only-of-type {\n",
       "        vertical-align: middle;\n",
       "    }\n",
       "\n",
       "    .dataframe tbody tr th {\n",
       "        vertical-align: top;\n",
       "    }\n",
       "\n",
       "    .dataframe thead th {\n",
       "        text-align: right;\n",
       "    }\n",
       "</style>\n",
       "<table border=\"1\" class=\"dataframe\">\n",
       "  <thead>\n",
       "    <tr style=\"text-align: right;\">\n",
       "      <th></th>\n",
       "      <th>person_id</th>\n",
       "      <th>primary_name</th>\n",
       "      <th>movie_id</th>\n",
       "      <th>category</th>\n",
       "      <th>primary_title</th>\n",
       "      <th>start_year</th>\n",
       "      <th>genres</th>\n",
       "      <th>genres_list</th>\n",
       "      <th>release_date</th>\n",
       "      <th>movie</th>\n",
       "      <th>production_budget (millions of $)</th>\n",
       "      <th>domestic_gross (millions of $)</th>\n",
       "      <th>worldwide_gross (millions of $)</th>\n",
       "      <th>roi (%)</th>\n",
       "    </tr>\n",
       "  </thead>\n",
       "  <tbody>\n",
       "    <tr>\n",
       "      <th>1</th>\n",
       "      <td>nm0001752</td>\n",
       "      <td>Steven Soderbergh</td>\n",
       "      <td>tt2268016</td>\n",
       "      <td>Cinematographer</td>\n",
       "      <td>Magic Mike XXL</td>\n",
       "      <td>2015</td>\n",
       "      <td>Comedy,Drama,Music</td>\n",
       "      <td>[Comedy, Drama, Music]</td>\n",
       "      <td>Jul 1, 2015</td>\n",
       "      <td>Magic Mike XXL</td>\n",
       "      <td>14.5</td>\n",
       "      <td>66.013</td>\n",
       "      <td>123.661</td>\n",
       "      <td>752.8</td>\n",
       "    </tr>\n",
       "    <tr>\n",
       "      <th>526</th>\n",
       "      <td>nm1227638</td>\n",
       "      <td>Mike Gioulakis</td>\n",
       "      <td>tt4972582</td>\n",
       "      <td>Cinematographer</td>\n",
       "      <td>Split</td>\n",
       "      <td>2016</td>\n",
       "      <td>Horror,Thriller</td>\n",
       "      <td>[Horror, Thriller]</td>\n",
       "      <td>Jan 20, 2017</td>\n",
       "      <td>Split</td>\n",
       "      <td>5.0</td>\n",
       "      <td>138.142</td>\n",
       "      <td>278.965</td>\n",
       "      <td>5479.3</td>\n",
       "    </tr>\n",
       "    <tr>\n",
       "      <th>529</th>\n",
       "      <td>nm0002947</td>\n",
       "      <td>Toby Oliver</td>\n",
       "      <td>tt5052448</td>\n",
       "      <td>Cinematographer</td>\n",
       "      <td>Get Out</td>\n",
       "      <td>2017</td>\n",
       "      <td>Horror,Mystery,Thriller</td>\n",
       "      <td>[Horror, Mystery, Thriller]</td>\n",
       "      <td>Feb 24, 2017</td>\n",
       "      <td>Get Out</td>\n",
       "      <td>5.0</td>\n",
       "      <td>176.041</td>\n",
       "      <td>255.368</td>\n",
       "      <td>5007.4</td>\n",
       "    </tr>\n",
       "    <tr>\n",
       "      <th>533</th>\n",
       "      <td>nm0002947</td>\n",
       "      <td>Toby Oliver</td>\n",
       "      <td>tt5308322</td>\n",
       "      <td>Cinematographer</td>\n",
       "      <td>Happy Death Day</td>\n",
       "      <td>2017</td>\n",
       "      <td>Horror,Mystery,Thriller</td>\n",
       "      <td>[Horror, Mystery, Thriller]</td>\n",
       "      <td>Oct 13, 2017</td>\n",
       "      <td>Happy Death Day</td>\n",
       "      <td>5.0</td>\n",
       "      <td>55.684</td>\n",
       "      <td>125.010</td>\n",
       "      <td>2400.2</td>\n",
       "    </tr>\n",
       "    <tr>\n",
       "      <th>538</th>\n",
       "      <td>nm1227638</td>\n",
       "      <td>Mike Gioulakis</td>\n",
       "      <td>tt6857112</td>\n",
       "      <td>Cinematographer</td>\n",
       "      <td>Us</td>\n",
       "      <td>2019</td>\n",
       "      <td>Horror,Mystery,Thriller</td>\n",
       "      <td>[Horror, Mystery, Thriller]</td>\n",
       "      <td>Mar 22, 2019</td>\n",
       "      <td>Us</td>\n",
       "      <td>20.0</td>\n",
       "      <td>175.007</td>\n",
       "      <td>254.210</td>\n",
       "      <td>1171.1</td>\n",
       "    </tr>\n",
       "  </tbody>\n",
       "</table>\n",
       "</div>"
      ],
      "text/plain": [
       "     person_id       primary_name   movie_id         category  \\\n",
       "1    nm0001752  Steven Soderbergh  tt2268016  Cinematographer   \n",
       "526  nm1227638     Mike Gioulakis  tt4972582  Cinematographer   \n",
       "529  nm0002947        Toby Oliver  tt5052448  Cinematographer   \n",
       "533  nm0002947        Toby Oliver  tt5308322  Cinematographer   \n",
       "538  nm1227638     Mike Gioulakis  tt6857112  Cinematographer   \n",
       "\n",
       "       primary_title  start_year                   genres  \\\n",
       "1     Magic Mike XXL        2015       Comedy,Drama,Music   \n",
       "526            Split        2016          Horror,Thriller   \n",
       "529          Get Out        2017  Horror,Mystery,Thriller   \n",
       "533  Happy Death Day        2017  Horror,Mystery,Thriller   \n",
       "538               Us        2019  Horror,Mystery,Thriller   \n",
       "\n",
       "                     genres_list  release_date            movie  \\\n",
       "1         [Comedy, Drama, Music]   Jul 1, 2015   Magic Mike XXL   \n",
       "526           [Horror, Thriller]  Jan 20, 2017            Split   \n",
       "529  [Horror, Mystery, Thriller]  Feb 24, 2017          Get Out   \n",
       "533  [Horror, Mystery, Thriller]  Oct 13, 2017  Happy Death Day   \n",
       "538  [Horror, Mystery, Thriller]  Mar 22, 2019               Us   \n",
       "\n",
       "     production_budget (millions of $)  domestic_gross (millions of $)  \\\n",
       "1                                 14.5                          66.013   \n",
       "526                                5.0                         138.142   \n",
       "529                                5.0                         176.041   \n",
       "533                                5.0                          55.684   \n",
       "538                               20.0                         175.007   \n",
       "\n",
       "     worldwide_gross (millions of $)  roi (%)  \n",
       "1                            123.661    752.8  \n",
       "526                          278.965   5479.3  \n",
       "529                          255.368   5007.4  \n",
       "533                          125.010   2400.2  \n",
       "538                          254.210   1171.1  "
      ]
     },
     "execution_count": 81,
     "metadata": {},
     "output_type": "execute_result"
    }
   ],
   "source": [
    "top_people_budgets[top_people_budgets['category'] == 'Cinematographer'].head()"
   ]
  },
  {
   "cell_type": "code",
   "execution_count": 82,
   "metadata": {},
   "outputs": [
    {
     "data": {
      "text/plain": [
       "Index(['Editor', 'Self', 'Cinematographer'], dtype='object')"
      ]
     },
     "execution_count": 82,
     "metadata": {},
     "output_type": "execute_result"
    }
   ],
   "source": [
    "# creates a list of the 3 least frequent categories\n",
    "categories_to_drop = top_people_budgets.category.value_counts().sort_values(ascending = True).head(3).index\n",
    "categories_to_drop"
   ]
  },
  {
   "cell_type": "code",
   "execution_count": 83,
   "metadata": {},
   "outputs": [],
   "source": [
    "# drops any rows where the category is in one of the 3 least frequent categories\n",
    "top_people_budgets = top_people_budgets[~top_people_budgets['category'].isin(categories_to_drop)]"
   ]
  },
  {
   "cell_type": "code",
   "execution_count": 84,
   "metadata": {},
   "outputs": [
    {
     "data": {
      "text/plain": [
       "Jason Blum           34\n",
       "Michael Bay          10\n",
       "Carlo Collodi         8\n",
       "Kristen Wiig          8\n",
       "Steven Spielberg      8\n",
       "                     ..\n",
       "Maya Rudolph          3\n",
       "Jessica Rothe         3\n",
       "Beau Flynn            3\n",
       "Steven Soderbergh     2\n",
       "Gregory Plotkin       1\n",
       "Name: primary_name, Length: 244, dtype: int64"
      ]
     },
     "execution_count": 84,
     "metadata": {},
     "output_type": "execute_result"
    }
   ],
   "source": [
    "top_people_budgets.primary_name.value_counts()"
   ]
  },
  {
   "cell_type": "code",
   "execution_count": 85,
   "metadata": {},
   "outputs": [
    {
     "data": {
      "text/html": [
       "<div>\n",
       "<style scoped>\n",
       "    .dataframe tbody tr th:only-of-type {\n",
       "        vertical-align: middle;\n",
       "    }\n",
       "\n",
       "    .dataframe tbody tr th {\n",
       "        vertical-align: top;\n",
       "    }\n",
       "\n",
       "    .dataframe thead th {\n",
       "        text-align: right;\n",
       "    }\n",
       "</style>\n",
       "<table border=\"1\" class=\"dataframe\">\n",
       "  <thead>\n",
       "    <tr style=\"text-align: right;\">\n",
       "      <th></th>\n",
       "      <th>person_id</th>\n",
       "      <th>primary_name</th>\n",
       "      <th>movie_id</th>\n",
       "      <th>category</th>\n",
       "      <th>primary_title</th>\n",
       "      <th>start_year</th>\n",
       "      <th>genres</th>\n",
       "      <th>genres_list</th>\n",
       "      <th>release_date</th>\n",
       "      <th>movie</th>\n",
       "      <th>production_budget (millions of $)</th>\n",
       "      <th>domestic_gross (millions of $)</th>\n",
       "      <th>worldwide_gross (millions of $)</th>\n",
       "      <th>roi (%)</th>\n",
       "    </tr>\n",
       "  </thead>\n",
       "  <tbody>\n",
       "  </tbody>\n",
       "</table>\n",
       "</div>"
      ],
      "text/plain": [
       "Empty DataFrame\n",
       "Columns: [person_id, primary_name, movie_id, category, primary_title, start_year, genres, genres_list, release_date, movie, production_budget (millions of $), domestic_gross (millions of $), worldwide_gross (millions of $), roi (%)]\n",
       "Index: []"
      ]
     },
     "execution_count": 85,
     "metadata": {},
     "output_type": "execute_result"
    }
   ],
   "source": [
    "top_people_budgets[top_people_budgets['person_id'] == 'nm1512937']"
   ]
  },
  {
   "cell_type": "code",
   "execution_count": 86,
   "metadata": {},
   "outputs": [
    {
     "data": {
      "text/html": [
       "<div>\n",
       "<style scoped>\n",
       "    .dataframe tbody tr th:only-of-type {\n",
       "        vertical-align: middle;\n",
       "    }\n",
       "\n",
       "    .dataframe tbody tr th {\n",
       "        vertical-align: top;\n",
       "    }\n",
       "\n",
       "    .dataframe thead th {\n",
       "        text-align: right;\n",
       "    }\n",
       "</style>\n",
       "<table border=\"1\" class=\"dataframe\">\n",
       "  <thead>\n",
       "    <tr style=\"text-align: right;\">\n",
       "      <th></th>\n",
       "      <th>person_id</th>\n",
       "      <th>primary_name</th>\n",
       "      <th>movie_id</th>\n",
       "      <th>category</th>\n",
       "      <th>primary_title</th>\n",
       "      <th>start_year</th>\n",
       "      <th>genres</th>\n",
       "      <th>genres_list</th>\n",
       "      <th>release_date</th>\n",
       "      <th>movie</th>\n",
       "      <th>production_budget (millions of $)</th>\n",
       "      <th>domestic_gross (millions of $)</th>\n",
       "      <th>worldwide_gross (millions of $)</th>\n",
       "      <th>roi (%)</th>\n",
       "    </tr>\n",
       "  </thead>\n",
       "  <tbody>\n",
       "  </tbody>\n",
       "</table>\n",
       "</div>"
      ],
      "text/plain": [
       "Empty DataFrame\n",
       "Columns: [person_id, primary_name, movie_id, category, primary_title, start_year, genres, genres_list, release_date, movie, production_budget (millions of $), domestic_gross (millions of $), worldwide_gross (millions of $), roi (%)]\n",
       "Index: []"
      ]
     },
     "execution_count": 86,
     "metadata": {},
     "output_type": "execute_result"
    }
   ],
   "source": [
    "# verifying that there are two different Paul Walkers and no duplicates\n",
    "top_people_budgets[top_people_budgets['primary_name'] == 'Paul Walker']"
   ]
  },
  {
   "cell_type": "code",
   "execution_count": 87,
   "metadata": {},
   "outputs": [
    {
     "name": "stdout",
     "output_type": "stream",
     "text": [
      "<class 'pandas.core.frame.DataFrame'>\n",
      "Int64Index: 1016 entries, 0 to 1031\n",
      "Data columns (total 14 columns):\n",
      " #   Column                             Non-Null Count  Dtype  \n",
      "---  ------                             --------------  -----  \n",
      " 0   person_id                          1016 non-null   object \n",
      " 1   primary_name                       1016 non-null   object \n",
      " 2   movie_id                           1016 non-null   object \n",
      " 3   category                           1016 non-null   object \n",
      " 4   primary_title                      1016 non-null   object \n",
      " 5   start_year                         1016 non-null   int64  \n",
      " 6   genres                             1016 non-null   object \n",
      " 7   genres_list                        1016 non-null   object \n",
      " 8   release_date                       1016 non-null   object \n",
      " 9   movie                              1016 non-null   object \n",
      " 10  production_budget (millions of $)  1016 non-null   float64\n",
      " 11  domestic_gross (millions of $)     1016 non-null   float64\n",
      " 12  worldwide_gross (millions of $)    1016 non-null   float64\n",
      " 13  roi (%)                            1016 non-null   float64\n",
      "dtypes: float64(4), int64(1), object(9)\n",
      "memory usage: 119.1+ KB\n"
     ]
    }
   ],
   "source": [
    "top_people_budgets.info()"
   ]
  },
  {
   "cell_type": "code",
   "execution_count": 88,
   "metadata": {},
   "outputs": [
    {
     "name": "stdout",
     "output_type": "stream",
     "text": [
      "--------\n",
      "\n",
      "<class 'pandas.core.frame.DataFrame'>\n",
      "Int64Index: 1016 entries, 0 to 1031\n",
      "Data columns (total 14 columns):\n",
      " #   Column                             Non-Null Count  Dtype  \n",
      "---  ------                             --------------  -----  \n",
      " 0   person_id                          1016 non-null   object \n",
      " 1   primary_name                       1016 non-null   object \n",
      " 2   movie_id                           1016 non-null   object \n",
      " 3   category                           1016 non-null   object \n",
      " 4   primary_title                      1016 non-null   object \n",
      " 5   start_year                         1016 non-null   int64  \n",
      " 6   genres                             1016 non-null   object \n",
      " 7   genres_list                        1016 non-null   object \n",
      " 8   release_date                       1016 non-null   object \n",
      " 9   movie                              1016 non-null   object \n",
      " 10  production_budget (millions of $)  1016 non-null   float64\n",
      " 11  domestic_gross (millions of $)     1016 non-null   float64\n",
      " 12  worldwide_gross (millions of $)    1016 non-null   float64\n",
      " 13  roi (%)                            1016 non-null   float64\n",
      "dtypes: float64(4), int64(1), object(9)\n",
      "memory usage: 119.1+ KB\n",
      "None\n",
      "--------\n",
      "\n",
      "<class 'pandas.core.frame.DataFrame'>\n",
      "Int64Index: 798 entries, 33 to 145296\n",
      "Data columns (total 6 columns):\n",
      " #   Column           Non-Null Count  Dtype  \n",
      "---  ------           --------------  -----  \n",
      " 0   movie_id         798 non-null    object \n",
      " 1   primary_title    798 non-null    object \n",
      " 2   start_year       798 non-null    int64  \n",
      " 3   runtime_minutes  720 non-null    float64\n",
      " 4   genres           792 non-null    object \n",
      " 5   genres_list      792 non-null    object \n",
      "dtypes: float64(1), int64(1), object(4)\n",
      "memory usage: 43.6+ KB\n",
      "None\n",
      "--------\n",
      "\n",
      "<class 'pandas.core.frame.DataFrame'>\n",
      "Int64Index: 5636 entries, 146 to 5781\n",
      "Data columns (total 6 columns):\n",
      " #   Column                             Non-Null Count  Dtype  \n",
      "---  ------                             --------------  -----  \n",
      " 0   release_date                       5636 non-null   object \n",
      " 1   movie                              5636 non-null   object \n",
      " 2   production_budget (millions of $)  5636 non-null   float64\n",
      " 3   domestic_gross (millions of $)     5636 non-null   float64\n",
      " 4   worldwide_gross (millions of $)    5636 non-null   float64\n",
      " 5   roi (%)                            5636 non-null   float64\n",
      "dtypes: float64(4), object(2)\n",
      "memory usage: 308.2+ KB\n",
      "None\n"
     ]
    }
   ],
   "source": [
    "# returns the .info() for top_people_budgets, top_roi_movie_basics, and budgets_no_outliers\n",
    "dfs_for_analysis = [top_people_budgets, top_roi_movie_basics, budgets_no_outliers]\n",
    "get_info(dfs_for_analysis)"
   ]
  },
  {
   "cell_type": "markdown",
   "metadata": {},
   "source": [
    "The output from the get_info() function shows that in each table, each column's python data type matches its true data type. In the `top_roi_movie_basics` DataFrame, the following three columns still have a few NaN values: `runtime_minutes`, `genres`, `genres_list`. Since this DataFrame, only has 785 entries, simply removing these rows could result in significant data loss. I leave these NaN values because I still have enough data in each of those rows for meaningful analysis, and I do not want to lose any important data by removing these rows."
   ]
  },
  {
   "cell_type": "markdown",
   "metadata": {},
   "source": [
    "## 4. <a name =\"Exploratory-Data-Analysis\"></a> Exploratory Data Analysis\n",
    "\n",
    "The following are findings from this analysis:\n",
    "- Of the 5,636 movies with functional budget data, **37%** did ***NOT*** achieve a positive ROI. \n",
    "\n",
    "\n",
    "- The typical movie had an estimated **16 million dollar production budget**, generated an estimated **26 million dollars in worldwide gross revenue**, and produced an estimated **66% return on investment**.\n",
    "\n",
    "\n",
    "- **Dramas** and **comedies** were the two **most common genres** for the movies in the top 25% of ROI.\n",
    "\n",
    "\n",
    "- The middle 50% of the movies with the highest ROI had **runtimes between 87 and 113 minutes**.\n",
    "\n",
    "\n",
    "- The three film **professions that generate the highest ROI** for dramas and comedies are: **composers**, **directors**, & **producers**.\n",
    "\n",
    " - The 5 highest grossing drama & comedy ***composers*** are: Danny Elfman, Alexandre Desplat, Marco Beltrami, Thomas Newman, Theodore Shapiro\n",
    "\n",
    " - The 3 highest grossing drama & comedy ***directors*** are: David O. Russell, Steven Spielberg, Damien Chazelle\n",
    "\n",
    " - The 3 highest grossing drama & comedy ***producers*** are: Simon Kinberg, Michael De Luca, Dana Brunetti "
   ]
  },
  {
   "cell_type": "code",
   "execution_count": 89,
   "metadata": {},
   "outputs": [
    {
     "data": {
      "text/html": [
       "<div>\n",
       "<style scoped>\n",
       "    .dataframe tbody tr th:only-of-type {\n",
       "        vertical-align: middle;\n",
       "    }\n",
       "\n",
       "    .dataframe tbody tr th {\n",
       "        vertical-align: top;\n",
       "    }\n",
       "\n",
       "    .dataframe thead th {\n",
       "        text-align: right;\n",
       "    }\n",
       "</style>\n",
       "<table border=\"1\" class=\"dataframe\">\n",
       "  <thead>\n",
       "    <tr style=\"text-align: right;\">\n",
       "      <th></th>\n",
       "      <th>production_budget (millions of $)</th>\n",
       "      <th>domestic_gross (millions of $)</th>\n",
       "      <th>worldwide_gross (millions of $)</th>\n",
       "      <th>roi (%)</th>\n",
       "    </tr>\n",
       "  </thead>\n",
       "  <tbody>\n",
       "    <tr>\n",
       "      <th>count</th>\n",
       "      <td>5636.0</td>\n",
       "      <td>5636.0</td>\n",
       "      <td>5636.0</td>\n",
       "      <td>5636.0</td>\n",
       "    </tr>\n",
       "    <tr>\n",
       "      <th>mean</th>\n",
       "      <td>27.2</td>\n",
       "      <td>36.6</td>\n",
       "      <td>75.9</td>\n",
       "      <td>383.6</td>\n",
       "    </tr>\n",
       "    <tr>\n",
       "      <th>std</th>\n",
       "      <td>31.0</td>\n",
       "      <td>54.6</td>\n",
       "      <td>129.8</td>\n",
       "      <td>2990.8</td>\n",
       "    </tr>\n",
       "    <tr>\n",
       "      <th>min</th>\n",
       "      <td>0.0</td>\n",
       "      <td>0.0</td>\n",
       "      <td>0.0</td>\n",
       "      <td>-100.0</td>\n",
       "    </tr>\n",
       "    <tr>\n",
       "      <th>25%</th>\n",
       "      <td>5.0</td>\n",
       "      <td>1.2</td>\n",
       "      <td>3.7</td>\n",
       "      <td>-53.5</td>\n",
       "    </tr>\n",
       "    <tr>\n",
       "      <th>50%</th>\n",
       "      <td>16.0</td>\n",
       "      <td>16.0</td>\n",
       "      <td>26.1</td>\n",
       "      <td>66.4</td>\n",
       "    </tr>\n",
       "    <tr>\n",
       "      <th>75%</th>\n",
       "      <td>38.0</td>\n",
       "      <td>48.6</td>\n",
       "      <td>89.2</td>\n",
       "      <td>269.9</td>\n",
       "    </tr>\n",
       "    <tr>\n",
       "      <th>max</th>\n",
       "      <td>156.0</td>\n",
       "      <td>474.5</td>\n",
       "      <td>1341.7</td>\n",
       "      <td>179900.0</td>\n",
       "    </tr>\n",
       "  </tbody>\n",
       "</table>\n",
       "</div>"
      ],
      "text/plain": [
       "       production_budget (millions of $)  domestic_gross (millions of $)  \\\n",
       "count                             5636.0                          5636.0   \n",
       "mean                                27.2                            36.6   \n",
       "std                                 31.0                            54.6   \n",
       "min                                  0.0                             0.0   \n",
       "25%                                  5.0                             1.2   \n",
       "50%                                 16.0                            16.0   \n",
       "75%                                 38.0                            48.6   \n",
       "max                                156.0                           474.5   \n",
       "\n",
       "       worldwide_gross (millions of $)   roi (%)  \n",
       "count                           5636.0    5636.0  \n",
       "mean                              75.9     383.6  \n",
       "std                              129.8    2990.8  \n",
       "min                                0.0    -100.0  \n",
       "25%                                3.7     -53.5  \n",
       "50%                               26.1      66.4  \n",
       "75%                               89.2     269.9  \n",
       "max                             1341.7  179900.0  "
      ]
     },
     "execution_count": 89,
     "metadata": {},
     "output_type": "execute_result"
    }
   ],
   "source": [
    "# getting summary statistics for the int cols of the budgets table\n",
    "round(budgets_no_outliers.describe(), 1)"
   ]
  },
  {
   "cell_type": "code",
   "execution_count": 90,
   "metadata": {},
   "outputs": [
    {
     "data": {
      "text/plain": [
       "5636"
      ]
     },
     "execution_count": 90,
     "metadata": {},
     "output_type": "execute_result"
    }
   ],
   "source": [
    "len(budgets_no_outliers)"
   ]
  },
  {
   "cell_type": "code",
   "execution_count": 91,
   "metadata": {
    "scrolled": true
   },
   "outputs": [
    {
     "data": {
      "text/plain": [
       "37.62"
      ]
     },
     "execution_count": 91,
     "metadata": {},
     "output_type": "execute_result"
    }
   ],
   "source": [
    "# total percentage of films that did NOT have a positive ROI\n",
    "round(len(budgets_no_outliers[budgets_no_outliers['roi (%)'] <= 0])/ len(budgets_no_outliers) * 100, 2)"
   ]
  },
  {
   "cell_type": "code",
   "execution_count": 92,
   "metadata": {},
   "outputs": [],
   "source": [
    "# getting the top genres for the movies in the top 25% roi\n",
    "\n",
    "top_genres_count = top_roi_movie_basics['genres'].str.split(\",\").explode().value_counts()\n",
    "top_genres = list(top_genres_count.index)\n",
    "top_2_genres = top_genres[:2]"
   ]
  },
  {
   "cell_type": "code",
   "execution_count": 93,
   "metadata": {},
   "outputs": [
    {
     "data": {
      "text/plain": [
       "34.2"
      ]
     },
     "execution_count": 93,
     "metadata": {},
     "output_type": "execute_result"
    }
   ],
   "source": [
    "# calculates percentage of the two most common genres\n",
    "top_genres_count_normalized = top_roi_movie_basics['genres'].str.split(\",\").explode().value_counts(normalize = True)\n",
    "round(top_genres_count_normalized[:2].sum()* 100, 1)"
   ]
  },
  {
   "cell_type": "markdown",
   "metadata": {},
   "source": [
    "This output represents the percentage of all movies that were classified as either Dramas and/or Comedies."
   ]
  },
  {
   "cell_type": "code",
   "execution_count": 94,
   "metadata": {},
   "outputs": [],
   "source": [
    "# setting colors for bars of barplot\n",
    "top_genres_bar_colors = ['darkorange' if x in top_2_genres else 'lightgrey' for x in top_genres]\n",
    "\n",
    "# setting colors for ticks of barplot\n",
    "top_genres_tick_colors = ['black' if x in top_2_genres else 'grey' for x in top_genres]"
   ]
  },
  {
   "cell_type": "code",
   "execution_count": 95,
   "metadata": {},
   "outputs": [
    {
     "data": {
      "image/png": "[encoded data removed]",
      "text/plain": [
       "<Figure size 864x576 with 1 Axes>"
      ]
     },
     "metadata": {},
     "output_type": "display_data"
    }
   ],
   "source": [
    "# horizontal bar plot showing the counts of genres for highest roi movies\n",
    "fig, ax = plt.subplots(figsize = (12, 8))\n",
    "sns.barplot(y = top_genres,\n",
    "            x = top_genres_count,\n",
    "            palette = top_genres_bar_colors\n",
    "           );\n",
    "\n",
    "ax.set_title('Movie Genres in the Top Quartile of ROI',\n",
    "             fontsize = 21\n",
    "            )\n",
    "\n",
    "ax.set_xlabel('Frequency', fontsize = 20)\n",
    "ax.set_ylabel(\"Genre\",fontsize=20)\n",
    "ax.tick_params(labelsize=18)\n",
    "ax.spines['left'].set_color('lightgrey')\n",
    "ax.spines['right'].set_color('lightgrey')\n",
    "ax.spines['top'].set_color('lightgrey')\n",
    "ax.spines['bottom'].set_color('lightgrey')\n",
    "\n",
    "# this for loop sets the tick colors\n",
    "for ticklabel, tickcolor in zip(plt.gca().get_yticklabels(), top_genres_tick_colors):\n",
    "    ticklabel.set_color(tickcolor)\n",
    "    \n",
    "plt.savefig(\"top_genres.png\", bbox_inches = 'tight');"
   ]
  },
  {
   "cell_type": "markdown",
   "metadata": {},
   "source": [
    "This bar chart visualizes the the frequency genres of movies that were in the upper quartile of ROI. This visualization draws our attention to the two most common genres: **Drama** and **Comedy**. Specifically, these two genres made up more than one-third (**34.2%**) of all genres for the movies with the highest ROI."
   ]
  },
  {
   "cell_type": "code",
   "execution_count": 96,
   "metadata": {},
   "outputs": [],
   "source": [
    "# creating a list of the top 2 genres of movies in top 25% roi\n",
    "top2_genres = list(round(top_roi_movie_basics['genres'].explode().value_counts(normalize = True), 3)[:2].index)"
   ]
  },
  {
   "cell_type": "code",
   "execution_count": 97,
   "metadata": {},
   "outputs": [
    {
     "data": {
      "image/png": "[encoded data removed]",
      "text/plain": [
       "<Figure size 432x288 with 1 Axes>"
      ]
     },
     "metadata": {
      "needs_background": "light"
     },
     "output_type": "display_data"
    }
   ],
   "source": [
    "# visualizes distribution of movie runtime minutes\n",
    "sns.histplot(top_roi_movie_basics['runtime_minutes']);"
   ]
  },
  {
   "cell_type": "markdown",
   "metadata": {},
   "source": [
    "This histogram shows the distribution of the runtimes for the movies with the highest ROI. This data appears to be approximately normal, but could also be considered left skewed because its left tail is relatively long. "
   ]
  },
  {
   "cell_type": "code",
   "execution_count": 98,
   "metadata": {
    "scrolled": true
   },
   "outputs": [
    {
     "data": {
      "text/plain": [
       "count    720.0\n",
       "mean      98.4\n",
       "std       26.5\n",
       "min        3.0\n",
       "25%       87.0\n",
       "50%       99.0\n",
       "75%      113.0\n",
       "max      180.0\n",
       "Name: runtime_minutes, dtype: float64"
      ]
     },
     "execution_count": 98,
     "metadata": {},
     "output_type": "execute_result"
    }
   ],
   "source": [
    "# getting summary statistics for top_roi_movie_basics runtimes\n",
    "round(top_roi_movie_basics['runtime_minutes'].describe(), 1)"
   ]
  },
  {
   "cell_type": "markdown",
   "metadata": {},
   "source": [
    "This output provide summary statistics for movie runtimes. The 1st Quartile (25%) and 3rd Quartile (75%) are especially important because 50% of the data lies between these two values. I will be highlighting this in the boxplot used to visualize this distribution below."
   ]
  },
  {
   "cell_type": "code",
   "execution_count": 99,
   "metadata": {
    "scrolled": false
   },
   "outputs": [
    {
     "name": "stderr",
     "output_type": "stream",
     "text": [
      "/Users/chriskucewicz/anaconda3/envs/learn-env/lib/python3.8/site-packages/seaborn/_decorators.py:36: FutureWarning: Pass the following variable as a keyword arg: x. From version 0.12, the only valid positional argument will be `data`, and passing other arguments without an explicit keyword will result in an error or misinterpretation.\n",
      "  warnings.warn(\n"
     ]
    },
    {
     "data": {
      "image/png": "[encoded data removed]",
      "text/plain": [
       "<Figure size 864x576 with 1 Axes>"
      ]
     },
     "metadata": {},
     "output_type": "display_data"
    }
   ],
   "source": [
    "# boxplot for the runtime of the movies in top 25% of roi\n",
    "fig, ax = plt.subplots(figsize= (12, 8))\n",
    "sns.boxplot(top_roi_movie_basics['runtime_minutes'],\n",
    "            showfliers = False,\n",
    "            color = 'lightgrey'\n",
    "           )\n",
    "\n",
    "# creates dashed lines to emphasis Q1 and Q3 on the graph\n",
    "plt.axvline(x = 87,\n",
    "            color = 'darkorange',\n",
    "            label = 'axvline - full height',\n",
    "            linestyle = '--',\n",
    "            linewidth=7.0\n",
    "           )\n",
    "\n",
    "plt.axvline(x = 113,\n",
    "            color = 'darkorange',\n",
    "            label = 'axvline - full height',\n",
    "            linestyle = '--',\n",
    "            linewidth=7.0\n",
    "           )\n",
    "\n",
    "# formatting title and axes\n",
    "ax.set_title(\"Distribution of Movie Runtimes \",\n",
    "             fontsize = 20\n",
    "            )\n",
    "\n",
    "ax.set_xlabel('Runtime (minutes)',\n",
    "              fontsize = 17\n",
    "             )\n",
    "\n",
    "ax.set_xticks([87, 113])\n",
    "ax.tick_params(axis='x',\n",
    "               colors='darkorange',\n",
    "               labelsize = 17\n",
    "              )\n",
    "\n",
    "# makes border of figure grey            \n",
    "ax.spines['left'].set_color('lightgrey')\n",
    "ax.spines['right'].set_color('lightgrey')\n",
    "ax.spines['top'].set_color('lightgrey')\n",
    "ax.spines['bottom'].set_color('lightgrey')\n",
    "\n",
    "plt.savefig(\"runtimes_boxplot.png\", bbox_inches = 'tight');"
   ]
  },
  {
   "cell_type": "markdown",
   "metadata": {},
   "source": [
    "This boxplot visualizes the distribution of runtimes of movies that were in the upper quartile of ROI. This visualization draws our attention to the runtime for the middle 50% of movies. Specifically, the middle 50% of movies had **runtimes between 87 and 113 minutes**."
   ]
  },
  {
   "cell_type": "code",
   "execution_count": 100,
   "metadata": {},
   "outputs": [
    {
     "data": {
      "text/html": [
       "<div>\n",
       "<style scoped>\n",
       "    .dataframe tbody tr th:only-of-type {\n",
       "        vertical-align: middle;\n",
       "    }\n",
       "\n",
       "    .dataframe tbody tr th {\n",
       "        vertical-align: top;\n",
       "    }\n",
       "\n",
       "    .dataframe thead th {\n",
       "        text-align: right;\n",
       "    }\n",
       "</style>\n",
       "<table border=\"1\" class=\"dataframe\">\n",
       "  <thead>\n",
       "    <tr style=\"text-align: right;\">\n",
       "      <th></th>\n",
       "      <th>roi (%)</th>\n",
       "      <th>production_budget (millions of $)</th>\n",
       "      <th>worldwide_gross (millions of $)</th>\n",
       "    </tr>\n",
       "    <tr>\n",
       "      <th>category</th>\n",
       "      <th></th>\n",
       "      <th></th>\n",
       "      <th></th>\n",
       "    </tr>\n",
       "  </thead>\n",
       "  <tbody>\n",
       "    <tr>\n",
       "      <th>Composer</th>\n",
       "      <td>724.7</td>\n",
       "      <td>18.0</td>\n",
       "      <td>115.5920</td>\n",
       "    </tr>\n",
       "    <tr>\n",
       "      <th>Director</th>\n",
       "      <td>685.7</td>\n",
       "      <td>23.0</td>\n",
       "      <td>172.0590</td>\n",
       "    </tr>\n",
       "    <tr>\n",
       "      <th>Producer</th>\n",
       "      <td>685.3</td>\n",
       "      <td>15.0</td>\n",
       "      <td>129.0865</td>\n",
       "    </tr>\n",
       "    <tr>\n",
       "      <th>Writer</th>\n",
       "      <td>613.3</td>\n",
       "      <td>41.0</td>\n",
       "      <td>207.0400</td>\n",
       "    </tr>\n",
       "    <tr>\n",
       "      <th>Actor</th>\n",
       "      <td>489.6</td>\n",
       "      <td>30.0</td>\n",
       "      <td>175.3620</td>\n",
       "    </tr>\n",
       "  </tbody>\n",
       "</table>\n",
       "</div>"
      ],
      "text/plain": [
       "          roi (%)  production_budget (millions of $)  \\\n",
       "category                                               \n",
       "Composer    724.7                               18.0   \n",
       "Director    685.7                               23.0   \n",
       "Producer    685.3                               15.0   \n",
       "Writer      613.3                               41.0   \n",
       "Actor       489.6                               30.0   \n",
       "\n",
       "          worldwide_gross (millions of $)  \n",
       "category                                   \n",
       "Composer                         115.5920  \n",
       "Director                         172.0590  \n",
       "Producer                         129.0865  \n",
       "Writer                           207.0400  \n",
       "Actor                            175.3620  "
      ]
     },
     "execution_count": 100,
     "metadata": {},
     "output_type": "execute_result"
    }
   ],
   "source": [
    "# creates a table of the median ROI for each film profession\n",
    "roi_categories = top_people_budgets.groupby(['category']).median()[['roi (%)', 'production_budget (millions of $)', 'worldwide_gross (millions of $)']]\n",
    "\n",
    "# sorts roi_categories from greatest ROI to least\n",
    "roi_categories_sorted = roi_categories.sort_values('roi (%)', ascending = False) \n",
    "roi_categories_sorted"
   ]
  },
  {
   "cell_type": "code",
   "execution_count": 101,
   "metadata": {},
   "outputs": [
    {
     "data": {
      "text/html": [
       "<div>\n",
       "<style scoped>\n",
       "    .dataframe tbody tr th:only-of-type {\n",
       "        vertical-align: middle;\n",
       "    }\n",
       "\n",
       "    .dataframe tbody tr th {\n",
       "        vertical-align: top;\n",
       "    }\n",
       "\n",
       "    .dataframe thead th {\n",
       "        text-align: right;\n",
       "    }\n",
       "</style>\n",
       "<table border=\"1\" class=\"dataframe\">\n",
       "  <thead>\n",
       "    <tr style=\"text-align: right;\">\n",
       "      <th></th>\n",
       "      <th>roi (%)</th>\n",
       "      <th>production_budget (millions of $)</th>\n",
       "      <th>worldwide_gross (millions of $)</th>\n",
       "    </tr>\n",
       "    <tr>\n",
       "      <th>category</th>\n",
       "      <th></th>\n",
       "      <th></th>\n",
       "      <th></th>\n",
       "    </tr>\n",
       "  </thead>\n",
       "  <tbody>\n",
       "    <tr>\n",
       "      <th>Composer</th>\n",
       "      <td>724.7</td>\n",
       "      <td>18.0</td>\n",
       "      <td>115.5920</td>\n",
       "    </tr>\n",
       "    <tr>\n",
       "      <th>Director</th>\n",
       "      <td>685.7</td>\n",
       "      <td>23.0</td>\n",
       "      <td>172.0590</td>\n",
       "    </tr>\n",
       "    <tr>\n",
       "      <th>Producer</th>\n",
       "      <td>685.3</td>\n",
       "      <td>15.0</td>\n",
       "      <td>129.0865</td>\n",
       "    </tr>\n",
       "  </tbody>\n",
       "</table>\n",
       "</div>"
      ],
      "text/plain": [
       "          roi (%)  production_budget (millions of $)  \\\n",
       "category                                               \n",
       "Composer    724.7                               18.0   \n",
       "Director    685.7                               23.0   \n",
       "Producer    685.3                               15.0   \n",
       "\n",
       "          worldwide_gross (millions of $)  \n",
       "category                                   \n",
       "Composer                         115.5920  \n",
       "Director                         172.0590  \n",
       "Producer                         129.0865  "
      ]
     },
     "execution_count": 101,
     "metadata": {},
     "output_type": "execute_result"
    }
   ],
   "source": [
    "# saves the list of the top three professions by ROI %\n",
    "top_3_roi_categories = roi_categories_sorted.head(3)\n",
    "top_3_roi_categories"
   ]
  },
  {
   "cell_type": "markdown",
   "metadata": {},
   "source": [
    "The above output is a table that shows the top 3 highest average return on investment (ROI) grouped by film profession. For example, composers had an average ROI of 725% and producers had an average ROI of 685%."
   ]
  },
  {
   "cell_type": "code",
   "execution_count": 102,
   "metadata": {},
   "outputs": [
    {
     "data": {
      "image/png": "[encoded data removed]",
      "text/plain": [
       "<Figure size 864x576 with 1 Axes>"
      ]
     },
     "metadata": {
      "needs_background": "light"
     },
     "output_type": "display_data"
    }
   ],
   "source": [
    "# calculates average ROI across all film professions which will be the horizontal threshold\n",
    "roi_h_threshold = 0.5 * (roi_categories_sorted['roi (%)'].max() \n",
    "                 + roi_categories_sorted['roi (%)'].min())\n",
    "    \n",
    "# creates vertical threshold \n",
    "roi_v_threshold = 0.5 * (roi_categories_sorted['production_budget (millions of $)'].max() \n",
    "                 + roi_categories_sorted['production_budget (millions of $)'].min())\n",
    "\n",
    "fig, ax = plt.subplots(figsize = (12,8))\n",
    "\n",
    "# creates and plots scatterplot\n",
    "sns.scatterplot(data = top_people_budgets.groupby(['category']).median()[['production_budget (millions of $)', 'roi (%)']],\n",
    "                 x = 'production_budget (millions of $)', \n",
    "                 y = 'roi (%)',\n",
    "                 s = 100,\n",
    "                 hue='category',\n",
    "                 )\n",
    "\n",
    "\n",
    "# plots name for top 3 professions near corresponding data point\n",
    "for line in range(0, top_3_roi_categories.shape[0]):\n",
    "     ax.annotate(top_3_roi_categories.index[line], \n",
    "                   (top_3_roi_categories['production_budget (millions of $)'].iloc[line], \n",
    "                    top_3_roi_categories['roi (%)'].iloc[line]), \n",
    "                   fontsize=17,\n",
    "                   xytext=(-20, -25),  \n",
    "                   textcoords='offset points'\n",
    "                )\n",
    "\n",
    "# removes legend\n",
    "ax.get_legend().remove()        \n",
    "\n",
    "# draws horizontal line for median roi\n",
    "ax.axhline(y = roi_h_threshold,\n",
    "            color = 'red',\n",
    "            label = 'axvline - full height',\n",
    "            linestyle = '--'\n",
    "          )\n",
    "# draws vertical line for average median budget\n",
    "ax.axvline(x = roi_v_threshold,\n",
    "            color = 'red',\n",
    "            label = 'axvline - full height',\n",
    "            linestyle = '--'\n",
    "          )\n",
    "# formatting title and axes\n",
    "ax.set_title(\"Average Return on Investment by Film Profession\",\n",
    "             fontsize = 18\n",
    "            )\n",
    "\n",
    "ax.set_xlabel('Production Budget (millions)',\n",
    "              fontsize = 15\n",
    "             )\n",
    "\n",
    "ax.set_ylabel('Return on Investment (%)',\n",
    "              fontsize=15\n",
    "             )\n",
    "\n",
    "ax.tick_params(labelsize=16)\n",
    "            \n",
    "#ax.set_xticklabels(x.astype(int))\n",
    "\n",
    "# makes border of figure grey            \n",
    "ax.spines['left'].set_color('lightgrey')\n",
    "ax.spines['right'].set_color('lightgrey')\n",
    "ax.spines['top'].set_color('lightgrey')\n",
    "ax.spines['bottom'].set_color('lightgrey')\n",
    "\n",
    "plt.savefig(\"roi_by_profession.png\", bbox_inches = 'tight');"
   ]
  },
  {
   "cell_type": "markdown",
   "metadata": {},
   "source": [
    "This scatterplot graphs the relationship between production budget and ROI based on film profession. The top left quadrant represents those professions that are involved in movies with low production budgets, but have a high return on investment. The three professions in this quadrant include composers, directors, and producers."
   ]
  },
  {
   "cell_type": "code",
   "execution_count": 103,
   "metadata": {},
   "outputs": [],
   "source": [
    "# function that will print a list of the top 5 highest grossing people for each film profession \n",
    "def top_grossing(categories):\n",
    "    \n",
    "    for category in categories:\n",
    "        \n",
    "        # stores a dataframe of those in the corresponding category who also worked on dramas and comedies\n",
    "        top_category = top_people_budgets[(top_people_budgets['category'] == category) \n",
    "                                          & (top_people_budgets['genres'].str.contains('|'.join(top2_genres)\n",
    "                                                                                      )\n",
    "                                            )\n",
    "                                         ]\n",
    "        \n",
    "        # creates a table of the top 15 highest grossing professionals in the category\n",
    "        top_category_sum_gross = top_category.groupby(['primary_name']).sum()[['worldwide_gross (millions of $)', 'roi (%)']].sort_values('worldwide_gross (millions of $)',\n",
    "                                                                                                                                          ascending = False).head(15)\n",
    "        # selects the top 5 names from the list\n",
    "        top_5_category = list(top_category_sum_gross.index)[:5]\n",
    "        \n",
    "        print(f\"The top 5 highest grossing {category}s are:\" + str(top_5_category))"
   ]
  },
  {
   "cell_type": "code",
   "execution_count": 104,
   "metadata": {},
   "outputs": [
    {
     "name": "stdout",
     "output_type": "stream",
     "text": [
      "The top 5 highest grossing Composers are:['Danny Elfman', 'Alexandre Desplat', 'Marco Beltrami', 'Thomas Newman', 'Theodore Shapiro']\n",
      "The top 5 highest grossing Directors are:['David O. Russell', 'Steven Spielberg', 'Damien Chazelle', 'Jon M. Chu', 'M. Night Shyamalan']\n",
      "The top 5 highest grossing Producers are:['Simon Kinberg', 'Michael De Luca', 'Dana Brunetti', 'Wyck Godfrey', 'Peter Chernin']\n"
     ]
    }
   ],
   "source": [
    "top_grossing(top_3_roi_categories.index)"
   ]
  },
  {
   "cell_type": "code",
   "execution_count": 105,
   "metadata": {},
   "outputs": [],
   "source": [
    "def plot_top_grossing(categories):\n",
    "   \n",
    "        fig, ax = plt.subplots(nrows = 1, ncols = len(categories), figsize = (20,10))\n",
    "        \n",
    "        # creating an indexed list of categories and looping through it\n",
    "        for index, category in enumerate(categories):\n",
    "            \n",
    "            # stores a dataframe of those in the corresponding category who also worked on dramas and comedies\n",
    "            top_category = top_people_budgets[(top_people_budgets['category'] == category) \n",
    "                                              & (top_people_budgets['genres'].str.contains('|'.join(top2_genres)))]\n",
    "            \n",
    "            # creates a table of the top 10 highest grossing professionals in the category\n",
    "            top_category_sum_gross = top_category.groupby(['primary_name']).sum()[['worldwide_gross (millions of $)', 'roi (%)']].sort_values('worldwide_gross (millions of $)',\n",
    "                                                                                                                                              ascending = False).head(10)\n",
    "            # selects the top 3 names from top_category_sum_gross\n",
    "            top_3_category = list(top_category_sum_gross.index)[:3]\n",
    "\n",
    "            # setting colors for bars of barplot\n",
    "            top_sum_category_colors = ['orange' if x in top_3_category else 'lightgrey' for x in top_category_sum_gross.index]\n",
    "            \n",
    "            # setting colors for ticks of barplot\n",
    "            top_sum_categories_tick_colors = ['black' if x in top_3_category else 'grey' for x in top_category_sum_gross.index]\n",
    "\n",
    "            # creates barplot of top 10 highest grossing within respective profession\n",
    "            sns.barplot(\n",
    "                y = top_category_sum_gross.index, \n",
    "                x = top_category_sum_gross['worldwide_gross (millions of $)'], \n",
    "                palette = top_sum_category_colors,\n",
    "                ax = ax[index]\n",
    "            )\n",
    "            \n",
    "            # formatting title and axes\n",
    "            ax[index].set_title(f\"Cumulative Gross Revenue Across Dramas & Comedies\",\n",
    "                                fontsize = 18\n",
    "                               )\n",
    "            \n",
    "            ax[index].set_xlabel('Total Gross $ (millions)',\n",
    "                                 fontsize = 16\n",
    "                                )\n",
    "            \n",
    "            ax[index].set_ylabel(f'{category}',\n",
    "                                 fontsize=16\n",
    "                                )\n",
    "            ax[index].tick_params(labelsize=16)\n",
    "            ax[index].set_yticklabels(labels = top_category_sum_gross.index)\n",
    "            \n",
    "            # for loop adjusts the color of the tick parameters to highlight top 3 names\n",
    "            for ticklabel, tickcolor in zip(ax[index].get_yticklabels(), top_sum_categories_tick_colors):\n",
    "                ticklabel.set_color(tickcolor)\n",
    "            \n",
    "            # makes border of figure grey     \n",
    "            ax[index].spines['left'].set_color('lightgrey')\n",
    "            ax[index].spines['right'].set_color('lightgrey')\n",
    "            ax[index].spines['top'].set_color('lightgrey')\n",
    "            ax[index].spines['bottom'].set_color('lightgrey');\n",
    "\n",
    "        fig.tight_layout(pad=5.0);"
   ]
  },
  {
   "cell_type": "code",
   "execution_count": 106,
   "metadata": {
    "scrolled": true
   },
   "outputs": [
    {
     "data": {
      "image/png": "[encoded data removed]",
      "text/plain": [
       "<Figure size 1440x720 with 3 Axes>"
      ]
     },
     "metadata": {},
     "output_type": "display_data"
    }
   ],
   "source": [
    "plot_top_grossing(top_3_roi_categories.index)\n",
    "plt.savefig(\"total_gross_top3_professions.png\", bbox_inches = 'tight');"
   ]
  },
  {
   "cell_type": "markdown",
   "metadata": {},
   "source": [
    "The above output shows the top 10 highest cumulative grossing composers, directors, and producers who create dramas and comedies. More specifically, each barplot highlights the top 3 in each category."
   ]
  },
  {
   "cell_type": "code",
   "execution_count": 107,
   "metadata": {},
   "outputs": [],
   "source": [
    "# this is the same function as above except it does not involve a loop so only one bar graph is printed\n",
    "\n",
    "def plot_individ_top_grossing(category):\n",
    "   \n",
    "        fig, ax = plt.subplots(figsize = (12,6))\n",
    "        \n",
    "        # stores a dataframe of those in the corresponding category who also worked on dramas and comedies\n",
    "        top_category = top_people_budgets[(top_people_budgets['category'] == category) \n",
    "                                              & (top_people_budgets['genres'].str.contains('|'.join(top2_genres)))]\n",
    "\n",
    "        # creates a table of the top 10 highest grossing professionals in the category\n",
    "        top_category_sum_gross = top_category.groupby(['primary_name']).sum()[['worldwide_gross (millions of $)', 'roi (%)']].sort_values('worldwide_gross (millions of $)',\n",
    "                                                                                                                                              ascending = False).head(10)\n",
    "\n",
    "        # selects the top 3 names from top_category_sum_gross\n",
    "        top_3_category = list(top_category_sum_gross.index)[:3]\n",
    "\n",
    "        # setting colors for bars of barplot\n",
    "        top_sum_category_colors = ['orange' if x in top_3_category else 'lightgrey' for x in top_category_sum_gross.index]\n",
    "        \n",
    "        # setting colors for ticks of barplot\n",
    "        top_sum_categories_tick_colors = ['black' if x in top_3_category else 'grey' for x in top_category_sum_gross.index]\n",
    "\n",
    "        # creates barplot of top 10 highest grossing within respective profession\n",
    "        sns.barplot(\n",
    "            y = top_category_sum_gross.index, \n",
    "            x = top_category_sum_gross['worldwide_gross (millions of $)'], \n",
    "            palette = top_sum_category_colors,\n",
    "            )\n",
    "         \n",
    "        # formatting title and axes\n",
    "        ax.set_title(f\"Cumulative Gross Revenue Across Dramas & Comedies\",\n",
    "                                fontsize = 18\n",
    "                               )\n",
    "            \n",
    "        ax.set_xlabel('Total Gross $ (millions)',\n",
    "                                 fontsize = 16\n",
    "                                )\n",
    "            \n",
    "        ax.set_ylabel(f'{category}',\n",
    "                                 fontsize=16\n",
    "                                )   \n",
    "        ax.tick_params(labelsize=16)    \n",
    "        ax.set_yticklabels(labels = top_category_sum_gross.index)\n",
    "        \n",
    "        # for loop adjusts the color of the tick parameters to highlight top 3 names\n",
    "        for ticklabel, tickcolor in zip(ax.get_yticklabels(), top_sum_categories_tick_colors):\n",
    "                ticklabel.set_color(tickcolor)\n",
    "        \n",
    "        # makes border of figure grey     \n",
    "        ax.spines['left'].set_color('lightgrey')\n",
    "        ax.spines['right'].set_color('lightgrey')\n",
    "        ax.spines['top'].set_color('lightgrey')\n",
    "        ax.spines['bottom'].set_color('lightgrey');\n",
    "\n",
    "        fig.tight_layout(pad=3.0);"
   ]
  },
  {
   "cell_type": "code",
   "execution_count": 108,
   "metadata": {},
   "outputs": [
    {
     "data": {
      "image/png": "[encoded data removed]",
      "text/plain": [
       "<Figure size 864x432 with 1 Axes>"
      ]
     },
     "metadata": {},
     "output_type": "display_data"
    }
   ],
   "source": [
    "plot_individ_top_grossing(top_3_roi_categories.index[0]);\n",
    "plt.savefig(\"total_gross_composers.png\", bbox_inches = 'tight');"
   ]
  },
  {
   "cell_type": "markdown",
   "metadata": {},
   "source": [
    "The above output shows the top 10 highest cumulative grossing composers who create dramas and comedies. More specifically, this barplot highlights the top 5 highest cumulative grossing composers: Danny Elfman, Alexandre Desplat, Marco Beltrami, Thomas Newman, Theodore Shapiro."
   ]
  },
  {
   "cell_type": "code",
   "execution_count": 109,
   "metadata": {},
   "outputs": [
    {
     "data": {
      "image/png": "[encoded data removed]",
      "text/plain": [
       "<Figure size 864x432 with 1 Axes>"
      ]
     },
     "metadata": {},
     "output_type": "display_data"
    }
   ],
   "source": [
    "plot_individ_top_grossing(top_3_roi_categories.index[1])\n",
    "plt.savefig(\"total_gross_directors.png\", bbox_inches = 'tight');"
   ]
  },
  {
   "cell_type": "markdown",
   "metadata": {},
   "source": [
    "The above output shows the top 10 highest cumulative grossing directors who create dramas and comedies. More specifically, this barplot highlights the top 3 highest cumulative grossing directors: David O. Russell, Steven Spielberg, Damien Chazelle."
   ]
  },
  {
   "cell_type": "code",
   "execution_count": 110,
   "metadata": {},
   "outputs": [
    {
     "data": {
      "image/png": "[encoded data removed]",
      "text/plain": [
       "<Figure size 864x432 with 1 Axes>"
      ]
     },
     "metadata": {},
     "output_type": "display_data"
    }
   ],
   "source": [
    "plot_individ_top_grossing(top_3_roi_categories.index[2])\n",
    "plt.savefig(\"total_gross_producers.png\", bbox_inches = 'tight');"
   ]
  },
  {
   "cell_type": "markdown",
   "metadata": {},
   "source": [
    "The above output shows the top 10 highest cumulative grossing producers who create dramas and comedies. More specifically, this barplot highlights the top 3 highest cumulative grossing producers: Simon Kinberg, Michael De Luca, Dana Brunetti."
   ]
  },
  {
   "cell_type": "markdown",
   "metadata": {},
   "source": [
    "## 5. <a name =\"Conclusions\"></a> Conclusions\n",
    " \n",
    "### Limitations\n",
    "While the datasets and tables provided a variety of data, there was a notable limitation in the availability of budget information for movies. This led to a significant discrepancy between the number of entries in the budgets table (~5,000) and other tables within the IMDB database, one of which contained over 1 million entries. Consequently, the analysis was restricted by the limited amount of budget data, reducing the number of movies that could be analyzed. A more comprehensive dataset that includes budget information for a wider range of movies would enable a more thorough analysis and yield more informed recommendations about the factors that influence a movie's return on investment.\n",
    "\n",
    "### Recommendations\n",
    "\n",
    "This analysis leads to three recommendations for movie creation:\n",
    "\n",
    "1. Focus on creating movies within the ***drama or comedy genres***.\n",
    "\n",
    "$\\;\\;\\;\\;\\;\\;$ - Over **one-third** of the movies with the highest ROI were classified as dramas and/or comedies. \n",
    "\n",
    "2. Create movies with ***runtimes between 87 and 113 minutes***.\n",
    "\n",
    "$\\;\\;\\;\\;\\;\\;$ - Half of all movies with the highest ROI had runtimes between 87 and 113 minutes.\n",
    "\n",
    "3. Focus on hiring high-quality ***composers, directors, and producers*** who specialize in comedy & drama, as these three film professions had the highest ROI.\n",
    "\n",
    "$\\;\\;\\;\\;\\;\\;$ - **Recommended drama & comedy composers** (top five highest cumulative grossing): Danny Elfman, Alexandre Desplat, Marco Beltrami, Thomas Newman, Theodore Shapiro\n",
    "\n",
    "$\\;\\;\\;\\;\\;\\;$ - **Recommended drama & comedy directors** (top three highest cumulative grossing): David O. Russell, Steven Spielberg, Damien Chazelle\n",
    "\n",
    "$\\;\\;\\;\\;\\;\\;$ - **Recommended drama & comedy producers** (top three highest cumulative grossing): Simon Kinberg, Michael De Luca, Dana Brunetti\n",
    "\n",
    "\n",
    "### Next Steps\n",
    "\n",
    "With these recommendations in mind, I am interested the following next steps:\n",
    "- gathering more budget data on a wider number of movies\n",
    "- performing regression analysis to answer the question:\n",
    "    Which factors most strongly correlate with a movie's ROI?"
   ]
  },
  {
   "cell_type": "markdown",
   "metadata": {},
   "source": [
    "### 6. <a name =\"Resources\"></a> Resources\n",
    "\n",
    "- got error when trying to read in reviews.tsv dataset: \"UnicodeDecodeError: 'utf8' codec can't decode byte 0xa5 in position 0: invalid start byte\". This resource helped: https://stackoverflow.com/questions/22216076/unicodedecodeerror-utf8-codec-cant-decode-byte-0xa5-in-position-0-invalid-s"
   ]
  },
  {
   "cell_type": "markdown",
   "metadata": {},
   "source": [
    "- Had trouble reading zipped data with pandas. This helped me with reading in the csv and tsv data: https://stackoverflow.com/questions/18885175/read-a-zipped-file-as-a-pandas-dataframe"
   ]
  },
  {
   "cell_type": "markdown",
   "metadata": {},
   "source": [
    "- for joining datasets: https://stackoverflow.com/questions/53645882/pandas-merging-101"
   ]
  },
  {
   "cell_type": "markdown",
   "metadata": {},
   "source": [
    "- the movie_info dataset had the word 'minutes' in each entry for runtime. Just wanted the numbers. this was helpful:\n",
    "https://saturncloud.io/blog/how-to-remove-characters-from-a-pandas-column-a-data-scientists-guide/"
   ]
  },
  {
   "cell_type": "markdown",
   "metadata": {},
   "source": [
    "- merging on more than one condition: https://stackoverflow.com/questions/53549492/joining-two-pandas-dataframes-based-on-multiple-conditions"
   ]
  },
  {
   "cell_type": "markdown",
   "metadata": {},
   "source": [
    "- dropping nulls in certain columns: https://saturncloud.io/blog/how-to-delete-rows-with-null-values-in-a-specific-column-in-pandas-dataframe/#:~:text=Deleting%20rows%20with%20null%20values%20in%20a%20specific%20column%20can,values%20in%20the%20specified%20column.&text=df%20is%20the%20Pandas%20DataFrame%20that%20you%20want%20to%20modify."
   ]
  },
  {
   "cell_type": "markdown",
   "metadata": {},
   "source": [
    "- for subsetting dataframe to only show entries with value count more than one https://stackoverflow.com/questions/48628417/how-to-select-rows-in-pandas-dataframe-where-value-appears-more-than-once"
   ]
  },
  {
   "cell_type": "markdown",
   "metadata": {},
   "source": [
    "- Finding rows with matching entries: https://stackoverflow.com/questions/22485375/efficiently-select-rows-that-match-one-of-several-values-in-pandas-dataframe"
   ]
  },
  {
   "cell_type": "markdown",
   "metadata": {},
   "source": [
    "For trying to split the genres column into new columns: \n",
    "- https://saturncloud.io/blog/how-to-split-one-column-into-multiple-columns-in-pandas-dataframe/#:~:text=Using%20the%20pd.&text=Series.-,str.,list%20as%20a%20new%20column.\n",
    "\n",
    "- https://www.reddit.com/r/learnpython/comments/krasnw/how_to_put_my_genres_in_their_own_df_with_their/"
   ]
  },
  {
   "cell_type": "markdown",
   "metadata": {},
   "source": [
    "For multi-indexing / using a pivot table to group people by the movies they've been in:\n",
    "- https://www.datacamp.com/tutorial/pandas-multi-index\n",
    "- https://stackoverflow.com/questions/35414625/pandas-how-to-run-a-pivot-with-a-multi-index\n",
    "- https://stackoverflow.com/questions/61623982/python-pandas-grouping-columns-without-aggregating"
   ]
  },
  {
   "cell_type": "markdown",
   "metadata": {},
   "source": [
    "https://www.reddit.com/r/SQL/comments/15z6ee7/cleaning_before_joining/"
   ]
  },
  {
   "cell_type": "markdown",
   "metadata": {},
   "source": [
    "return rows in the top x% of a given column: \n",
    "- https://stackoverflow.com/questions/52876391/pandas-based-on-top-x-value-of-each-column-mark-as-new-number"
   ]
  },
  {
   "cell_type": "markdown",
   "metadata": {},
   "source": [
    "For creating a dictionary that lists the number of rows for each table: \n",
    "- https://stackoverflow.com/questions/71432838/for-loop-to-create-a-dataframe-using-pandas-read-sql-in-python"
   ]
  },
  {
   "cell_type": "markdown",
   "metadata": {},
   "source": [
    "Use a for loop to create multiple bar plots: \n",
    "- https://stackoverflow.com/questions/43962735/creating-barplots-using-for-loop-using-pandas-matplotlib"
   ]
  },
  {
   "cell_type": "markdown",
   "metadata": {},
   "source": [
    "filer based on value counts:\n",
    "- https://stackoverflow.com/questions/49735683/python-removing-rows-on-count-condition"
   ]
  },
  {
   "cell_type": "markdown",
   "metadata": {},
   "source": [
    "for searching list within df col:\n",
    "- https://stackoverflow.com/questions/50355825/pandas-using-isin-to-return-if-column-contains-any-values-in-a-list-rather-th"
   ]
  },
  {
   "cell_type": "markdown",
   "metadata": {},
   "source": [
    "For more information about role of movie director vs producer: \n",
    "- https://www.linkedin.com/pulse/producer-vs-director-who-has-power-adam-snook-sczoc/"
   ]
  },
  {
   "cell_type": "markdown",
   "metadata": {},
   "source": [
    "For labeling points on scatterplot: \n",
    "- https://stackoverflow.com/questions/46027653/adding-labels-in-x-y-scatter-plot-with-seaborn"
   ]
  },
  {
   "cell_type": "markdown",
   "metadata": {},
   "source": [
    "For adjusting the tick marking colors: \n",
    "- https://stackoverflow.com/questions/39409530/every-tick-label-in-different-color"
   ]
  }
 ],
 "metadata": {
  "kernelspec": {
   "display_name": "Python 3",
   "language": "python",
   "name": "python3"
  },
  "language_info": {
   "codemirror_mode": {
    "name": "ipython",
    "version": 3
   },
   "file_extension": ".py",
   "mimetype": "text/x-python",
   "name": "python",
   "nbconvert_exporter": "python",
   "pygments_lexer": "ipython3",
   "version": "3.8.5"
  }
 },
 "nbformat": 4,
 "nbformat_minor": 4
}
